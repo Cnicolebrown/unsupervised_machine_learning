{
 "cells": [
  {
   "cell_type": "markdown",
   "metadata": {},
   "source": [
    "# Clustering Crypto"
   ]
  },
  {
   "cell_type": "code",
   "execution_count": 6,
   "metadata": {},
   "outputs": [
    {
     "name": "stdout",
     "output_type": "stream",
     "text": [
      "Collecting plotly==5.10.0\n",
      "  Downloading plotly-5.10.0-py2.py3-none-any.whl (15.2 MB)\n",
      "Collecting tenacity>=6.2.0\n",
      "  Downloading tenacity-8.0.1-py3-none-any.whl (24 kB)\n",
      "Installing collected packages: tenacity, plotly\n",
      "Successfully installed plotly-5.10.0 tenacity-8.0.1\n",
      "Note: you may need to restart the kernel to use updated packages.\n"
     ]
    }
   ],
   "source": [
    "pip install plotly==5.10.0"
   ]
  },
  {
   "cell_type": "code",
   "execution_count": 51,
   "metadata": {},
   "outputs": [],
   "source": [
    "# Initial imports\n",
    "import pandas as pd\n",
    "import hvplot.pandas\n",
    "from path import Path\n",
    "import plotly.express as px\n",
    "from sklearn.preprocessing import StandardScaler, MinMaxScaler\n",
    "from sklearn.decomposition import PCA\n",
    "from sklearn.cluster import KMeans\n",
    "import matplotlib.pyplot as plt"
   ]
  },
  {
   "cell_type": "markdown",
   "metadata": {},
   "source": [
    "### Deliverable 1: Preprocessing the Data for PCA"
   ]
  },
  {
   "cell_type": "code",
   "execution_count": 8,
   "metadata": {},
   "outputs": [
    {
     "data": {
      "text/html": [
       "<div>\n",
       "<style scoped>\n",
       "    .dataframe tbody tr th:only-of-type {\n",
       "        vertical-align: middle;\n",
       "    }\n",
       "\n",
       "    .dataframe tbody tr th {\n",
       "        vertical-align: top;\n",
       "    }\n",
       "\n",
       "    .dataframe thead th {\n",
       "        text-align: right;\n",
       "    }\n",
       "</style>\n",
       "<table border=\"1\" class=\"dataframe\">\n",
       "  <thead>\n",
       "    <tr style=\"text-align: right;\">\n",
       "      <th></th>\n",
       "      <th>Unnamed: 0</th>\n",
       "      <th>CoinName</th>\n",
       "      <th>Algorithm</th>\n",
       "      <th>IsTrading</th>\n",
       "      <th>ProofType</th>\n",
       "      <th>TotalCoinsMined</th>\n",
       "      <th>TotalCoinSupply</th>\n",
       "    </tr>\n",
       "  </thead>\n",
       "  <tbody>\n",
       "    <tr>\n",
       "      <th>0</th>\n",
       "      <td>42</td>\n",
       "      <td>42 Coin</td>\n",
       "      <td>Scrypt</td>\n",
       "      <td>True</td>\n",
       "      <td>PoW/PoS</td>\n",
       "      <td>4.199995e+01</td>\n",
       "      <td>42</td>\n",
       "    </tr>\n",
       "    <tr>\n",
       "      <th>1</th>\n",
       "      <td>365</td>\n",
       "      <td>365Coin</td>\n",
       "      <td>X11</td>\n",
       "      <td>True</td>\n",
       "      <td>PoW/PoS</td>\n",
       "      <td>NaN</td>\n",
       "      <td>2300000000</td>\n",
       "    </tr>\n",
       "    <tr>\n",
       "      <th>2</th>\n",
       "      <td>404</td>\n",
       "      <td>404Coin</td>\n",
       "      <td>Scrypt</td>\n",
       "      <td>True</td>\n",
       "      <td>PoW/PoS</td>\n",
       "      <td>1.055185e+09</td>\n",
       "      <td>532000000</td>\n",
       "    </tr>\n",
       "    <tr>\n",
       "      <th>3</th>\n",
       "      <td>611</td>\n",
       "      <td>SixEleven</td>\n",
       "      <td>SHA-256</td>\n",
       "      <td>True</td>\n",
       "      <td>PoW</td>\n",
       "      <td>NaN</td>\n",
       "      <td>611000</td>\n",
       "    </tr>\n",
       "    <tr>\n",
       "      <th>4</th>\n",
       "      <td>808</td>\n",
       "      <td>808</td>\n",
       "      <td>SHA-256</td>\n",
       "      <td>True</td>\n",
       "      <td>PoW/PoS</td>\n",
       "      <td>0.000000e+00</td>\n",
       "      <td>0</td>\n",
       "    </tr>\n",
       "  </tbody>\n",
       "</table>\n",
       "</div>"
      ],
      "text/plain": [
       "  Unnamed: 0   CoinName Algorithm  IsTrading ProofType  TotalCoinsMined  \\\n",
       "0         42    42 Coin    Scrypt       True   PoW/PoS     4.199995e+01   \n",
       "1        365    365Coin       X11       True   PoW/PoS              NaN   \n",
       "2        404    404Coin    Scrypt       True   PoW/PoS     1.055185e+09   \n",
       "3        611  SixEleven   SHA-256       True       PoW              NaN   \n",
       "4        808        808   SHA-256       True   PoW/PoS     0.000000e+00   \n",
       "\n",
       "  TotalCoinSupply  \n",
       "0              42  \n",
       "1      2300000000  \n",
       "2       532000000  \n",
       "3          611000  \n",
       "4               0  "
      ]
     },
     "execution_count": 8,
     "metadata": {},
     "output_type": "execute_result"
    }
   ],
   "source": [
    "# Load the crypto_data.csv dataset.\n",
    "crypto_df = pd.read_csv('E:\\module 18\\crypto_data.csv')\n",
    "crypto_df.head()"
   ]
  },
  {
   "cell_type": "code",
   "execution_count": 9,
   "metadata": {},
   "outputs": [
    {
     "data": {
      "text/plain": [
       "(1252, 7)"
      ]
     },
     "execution_count": 9,
     "metadata": {},
     "output_type": "execute_result"
    }
   ],
   "source": [
    "# Keep all the cryptocurrencies that are being traded.\n",
    "crypto_df.shape"
   ]
  },
  {
   "cell_type": "code",
   "execution_count": 10,
   "metadata": {},
   "outputs": [
    {
     "data": {
      "text/html": [
       "<div>\n",
       "<style scoped>\n",
       "    .dataframe tbody tr th:only-of-type {\n",
       "        vertical-align: middle;\n",
       "    }\n",
       "\n",
       "    .dataframe tbody tr th {\n",
       "        vertical-align: top;\n",
       "    }\n",
       "\n",
       "    .dataframe thead th {\n",
       "        text-align: right;\n",
       "    }\n",
       "</style>\n",
       "<table border=\"1\" class=\"dataframe\">\n",
       "  <thead>\n",
       "    <tr style=\"text-align: right;\">\n",
       "      <th></th>\n",
       "      <th>Unnamed: 0</th>\n",
       "      <th>CoinName</th>\n",
       "      <th>Algorithm</th>\n",
       "      <th>IsTrading</th>\n",
       "      <th>ProofType</th>\n",
       "      <th>TotalCoinsMined</th>\n",
       "      <th>TotalCoinSupply</th>\n",
       "    </tr>\n",
       "  </thead>\n",
       "  <tbody>\n",
       "    <tr>\n",
       "      <th>0</th>\n",
       "      <td>42</td>\n",
       "      <td>42 Coin</td>\n",
       "      <td>Scrypt</td>\n",
       "      <td>True</td>\n",
       "      <td>PoW/PoS</td>\n",
       "      <td>4.199995e+01</td>\n",
       "      <td>42</td>\n",
       "    </tr>\n",
       "    <tr>\n",
       "      <th>1</th>\n",
       "      <td>365</td>\n",
       "      <td>365Coin</td>\n",
       "      <td>X11</td>\n",
       "      <td>True</td>\n",
       "      <td>PoW/PoS</td>\n",
       "      <td>NaN</td>\n",
       "      <td>2300000000</td>\n",
       "    </tr>\n",
       "    <tr>\n",
       "      <th>2</th>\n",
       "      <td>404</td>\n",
       "      <td>404Coin</td>\n",
       "      <td>Scrypt</td>\n",
       "      <td>True</td>\n",
       "      <td>PoW/PoS</td>\n",
       "      <td>1.055185e+09</td>\n",
       "      <td>532000000</td>\n",
       "    </tr>\n",
       "    <tr>\n",
       "      <th>3</th>\n",
       "      <td>611</td>\n",
       "      <td>SixEleven</td>\n",
       "      <td>SHA-256</td>\n",
       "      <td>True</td>\n",
       "      <td>PoW</td>\n",
       "      <td>NaN</td>\n",
       "      <td>611000</td>\n",
       "    </tr>\n",
       "    <tr>\n",
       "      <th>4</th>\n",
       "      <td>808</td>\n",
       "      <td>808</td>\n",
       "      <td>SHA-256</td>\n",
       "      <td>True</td>\n",
       "      <td>PoW/PoS</td>\n",
       "      <td>0.000000e+00</td>\n",
       "      <td>0</td>\n",
       "    </tr>\n",
       "  </tbody>\n",
       "</table>\n",
       "</div>"
      ],
      "text/plain": [
       "  Unnamed: 0   CoinName Algorithm  IsTrading ProofType  TotalCoinsMined  \\\n",
       "0         42    42 Coin    Scrypt       True   PoW/PoS     4.199995e+01   \n",
       "1        365    365Coin       X11       True   PoW/PoS              NaN   \n",
       "2        404    404Coin    Scrypt       True   PoW/PoS     1.055185e+09   \n",
       "3        611  SixEleven   SHA-256       True       PoW              NaN   \n",
       "4        808        808   SHA-256       True   PoW/PoS     0.000000e+00   \n",
       "\n",
       "  TotalCoinSupply  \n",
       "0              42  \n",
       "1      2300000000  \n",
       "2       532000000  \n",
       "3          611000  \n",
       "4               0  "
      ]
     },
     "execution_count": 10,
     "metadata": {},
     "output_type": "execute_result"
    }
   ],
   "source": [
    "# Keep all the cryptocurrencies that have a working algorithm.\n",
    "crypto_df = crypto_df[crypto_df['IsTrading'] == True]\n",
    "crypto_df.head()"
   ]
  },
  {
   "cell_type": "code",
   "execution_count": 11,
   "metadata": {},
   "outputs": [],
   "source": [
    "# Remove the \"IsTrading\" column. \n",
    "crypto_df = crypto_df.drop(columns ='IsTrading')"
   ]
  },
  {
   "cell_type": "code",
   "execution_count": 12,
   "metadata": {},
   "outputs": [],
   "source": [
    "# Remove rows that have at least 1 null value.\n",
    "crypto_df = crypto_df.dropna()"
   ]
  },
  {
   "cell_type": "code",
   "execution_count": 13,
   "metadata": {},
   "outputs": [
    {
     "data": {
      "text/html": [
       "<div>\n",
       "<style scoped>\n",
       "    .dataframe tbody tr th:only-of-type {\n",
       "        vertical-align: middle;\n",
       "    }\n",
       "\n",
       "    .dataframe tbody tr th {\n",
       "        vertical-align: top;\n",
       "    }\n",
       "\n",
       "    .dataframe thead th {\n",
       "        text-align: right;\n",
       "    }\n",
       "</style>\n",
       "<table border=\"1\" class=\"dataframe\">\n",
       "  <thead>\n",
       "    <tr style=\"text-align: right;\">\n",
       "      <th></th>\n",
       "      <th>Unnamed: 0</th>\n",
       "      <th>CoinName</th>\n",
       "      <th>Algorithm</th>\n",
       "      <th>ProofType</th>\n",
       "      <th>TotalCoinsMined</th>\n",
       "      <th>TotalCoinSupply</th>\n",
       "    </tr>\n",
       "  </thead>\n",
       "  <tbody>\n",
       "    <tr>\n",
       "      <th>0</th>\n",
       "      <td>42</td>\n",
       "      <td>42 Coin</td>\n",
       "      <td>Scrypt</td>\n",
       "      <td>PoW/PoS</td>\n",
       "      <td>4.199995e+01</td>\n",
       "      <td>42</td>\n",
       "    </tr>\n",
       "    <tr>\n",
       "      <th>2</th>\n",
       "      <td>404</td>\n",
       "      <td>404Coin</td>\n",
       "      <td>Scrypt</td>\n",
       "      <td>PoW/PoS</td>\n",
       "      <td>1.055185e+09</td>\n",
       "      <td>532000000</td>\n",
       "    </tr>\n",
       "    <tr>\n",
       "      <th>5</th>\n",
       "      <td>1337</td>\n",
       "      <td>EliteCoin</td>\n",
       "      <td>X13</td>\n",
       "      <td>PoW/PoS</td>\n",
       "      <td>2.927942e+10</td>\n",
       "      <td>314159265359</td>\n",
       "    </tr>\n",
       "    <tr>\n",
       "      <th>7</th>\n",
       "      <td>BTC</td>\n",
       "      <td>Bitcoin</td>\n",
       "      <td>SHA-256</td>\n",
       "      <td>PoW</td>\n",
       "      <td>1.792718e+07</td>\n",
       "      <td>21000000</td>\n",
       "    </tr>\n",
       "    <tr>\n",
       "      <th>8</th>\n",
       "      <td>ETH</td>\n",
       "      <td>Ethereum</td>\n",
       "      <td>Ethash</td>\n",
       "      <td>PoW</td>\n",
       "      <td>1.076842e+08</td>\n",
       "      <td>0</td>\n",
       "    </tr>\n",
       "    <tr>\n",
       "      <th>...</th>\n",
       "      <td>...</td>\n",
       "      <td>...</td>\n",
       "      <td>...</td>\n",
       "      <td>...</td>\n",
       "      <td>...</td>\n",
       "      <td>...</td>\n",
       "    </tr>\n",
       "    <tr>\n",
       "      <th>1238</th>\n",
       "      <td>ZEPH</td>\n",
       "      <td>ZEPHYR</td>\n",
       "      <td>SHA-256</td>\n",
       "      <td>DPoS</td>\n",
       "      <td>2.000000e+09</td>\n",
       "      <td>2000000000</td>\n",
       "    </tr>\n",
       "    <tr>\n",
       "      <th>1242</th>\n",
       "      <td>GAP</td>\n",
       "      <td>Gapcoin</td>\n",
       "      <td>Scrypt</td>\n",
       "      <td>PoW/PoS</td>\n",
       "      <td>1.493105e+07</td>\n",
       "      <td>250000000</td>\n",
       "    </tr>\n",
       "    <tr>\n",
       "      <th>1245</th>\n",
       "      <td>BDX</td>\n",
       "      <td>Beldex</td>\n",
       "      <td>CryptoNight</td>\n",
       "      <td>PoW</td>\n",
       "      <td>9.802226e+08</td>\n",
       "      <td>1400222610</td>\n",
       "    </tr>\n",
       "    <tr>\n",
       "      <th>1246</th>\n",
       "      <td>ZEN</td>\n",
       "      <td>Horizen</td>\n",
       "      <td>Equihash</td>\n",
       "      <td>PoW</td>\n",
       "      <td>7.296538e+06</td>\n",
       "      <td>21000000</td>\n",
       "    </tr>\n",
       "    <tr>\n",
       "      <th>1247</th>\n",
       "      <td>XBC</td>\n",
       "      <td>BitcoinPlus</td>\n",
       "      <td>Scrypt</td>\n",
       "      <td>PoS</td>\n",
       "      <td>1.283270e+05</td>\n",
       "      <td>1000000</td>\n",
       "    </tr>\n",
       "  </tbody>\n",
       "</table>\n",
       "<p>532 rows × 6 columns</p>\n",
       "</div>"
      ],
      "text/plain": [
       "     Unnamed: 0     CoinName    Algorithm ProofType  TotalCoinsMined  \\\n",
       "0            42      42 Coin       Scrypt   PoW/PoS     4.199995e+01   \n",
       "2           404      404Coin       Scrypt   PoW/PoS     1.055185e+09   \n",
       "5          1337    EliteCoin          X13   PoW/PoS     2.927942e+10   \n",
       "7           BTC      Bitcoin      SHA-256       PoW     1.792718e+07   \n",
       "8           ETH     Ethereum       Ethash       PoW     1.076842e+08   \n",
       "...         ...          ...          ...       ...              ...   \n",
       "1238       ZEPH       ZEPHYR      SHA-256      DPoS     2.000000e+09   \n",
       "1242        GAP      Gapcoin       Scrypt   PoW/PoS     1.493105e+07   \n",
       "1245        BDX       Beldex  CryptoNight       PoW     9.802226e+08   \n",
       "1246        ZEN      Horizen     Equihash       PoW     7.296538e+06   \n",
       "1247        XBC  BitcoinPlus       Scrypt       PoS     1.283270e+05   \n",
       "\n",
       "     TotalCoinSupply  \n",
       "0                 42  \n",
       "2          532000000  \n",
       "5       314159265359  \n",
       "7           21000000  \n",
       "8                  0  \n",
       "...              ...  \n",
       "1238      2000000000  \n",
       "1242       250000000  \n",
       "1245      1400222610  \n",
       "1246        21000000  \n",
       "1247         1000000  \n",
       "\n",
       "[532 rows x 6 columns]"
      ]
     },
     "execution_count": 13,
     "metadata": {},
     "output_type": "execute_result"
    }
   ],
   "source": [
    "# Keep the rows where coins are mined.\n",
    "crypto_df = crypto_df[crypto_df[\"TotalCoinsMined\"]> 0]\n",
    "crypto_df"
   ]
  },
  {
   "cell_type": "code",
   "execution_count": 14,
   "metadata": {},
   "outputs": [
    {
     "data": {
      "text/html": [
       "<div>\n",
       "<style scoped>\n",
       "    .dataframe tbody tr th:only-of-type {\n",
       "        vertical-align: middle;\n",
       "    }\n",
       "\n",
       "    .dataframe tbody tr th {\n",
       "        vertical-align: top;\n",
       "    }\n",
       "\n",
       "    .dataframe thead th {\n",
       "        text-align: right;\n",
       "    }\n",
       "</style>\n",
       "<table border=\"1\" class=\"dataframe\">\n",
       "  <thead>\n",
       "    <tr style=\"text-align: right;\">\n",
       "      <th></th>\n",
       "      <th>CoinName</th>\n",
       "    </tr>\n",
       "  </thead>\n",
       "  <tbody>\n",
       "    <tr>\n",
       "      <th>0</th>\n",
       "      <td>42 Coin</td>\n",
       "    </tr>\n",
       "    <tr>\n",
       "      <th>1</th>\n",
       "      <td>404Coin</td>\n",
       "    </tr>\n",
       "    <tr>\n",
       "      <th>2</th>\n",
       "      <td>EliteCoin</td>\n",
       "    </tr>\n",
       "    <tr>\n",
       "      <th>3</th>\n",
       "      <td>Bitcoin</td>\n",
       "    </tr>\n",
       "    <tr>\n",
       "      <th>4</th>\n",
       "      <td>Ethereum</td>\n",
       "    </tr>\n",
       "    <tr>\n",
       "      <th>...</th>\n",
       "      <td>...</td>\n",
       "    </tr>\n",
       "    <tr>\n",
       "      <th>527</th>\n",
       "      <td>ZEPHYR</td>\n",
       "    </tr>\n",
       "    <tr>\n",
       "      <th>528</th>\n",
       "      <td>Gapcoin</td>\n",
       "    </tr>\n",
       "    <tr>\n",
       "      <th>529</th>\n",
       "      <td>Beldex</td>\n",
       "    </tr>\n",
       "    <tr>\n",
       "      <th>530</th>\n",
       "      <td>Horizen</td>\n",
       "    </tr>\n",
       "    <tr>\n",
       "      <th>531</th>\n",
       "      <td>BitcoinPlus</td>\n",
       "    </tr>\n",
       "  </tbody>\n",
       "</table>\n",
       "<p>532 rows × 1 columns</p>\n",
       "</div>"
      ],
      "text/plain": [
       "        CoinName\n",
       "0        42 Coin\n",
       "1        404Coin\n",
       "2      EliteCoin\n",
       "3        Bitcoin\n",
       "4       Ethereum\n",
       "..           ...\n",
       "527       ZEPHYR\n",
       "528      Gapcoin\n",
       "529       Beldex\n",
       "530      Horizen\n",
       "531  BitcoinPlus\n",
       "\n",
       "[532 rows x 1 columns]"
      ]
     },
     "execution_count": 14,
     "metadata": {},
     "output_type": "execute_result"
    }
   ],
   "source": [
    "# Create a new DataFrame that holds only the cryptocurrencies names.\n",
    "CoinName=pd.DataFrame(crypto_df['CoinName']).reset_index(drop=True)\n",
    "CoinName"
   ]
  },
  {
   "cell_type": "code",
   "execution_count": 15,
   "metadata": {},
   "outputs": [
    {
     "data": {
      "text/html": [
       "<div>\n",
       "<style scoped>\n",
       "    .dataframe tbody tr th:only-of-type {\n",
       "        vertical-align: middle;\n",
       "    }\n",
       "\n",
       "    .dataframe tbody tr th {\n",
       "        vertical-align: top;\n",
       "    }\n",
       "\n",
       "    .dataframe thead th {\n",
       "        text-align: right;\n",
       "    }\n",
       "</style>\n",
       "<table border=\"1\" class=\"dataframe\">\n",
       "  <thead>\n",
       "    <tr style=\"text-align: right;\">\n",
       "      <th></th>\n",
       "      <th>Unnamed: 0</th>\n",
       "      <th>Algorithm</th>\n",
       "      <th>ProofType</th>\n",
       "      <th>TotalCoinsMined</th>\n",
       "      <th>TotalCoinSupply</th>\n",
       "    </tr>\n",
       "  </thead>\n",
       "  <tbody>\n",
       "    <tr>\n",
       "      <th>0</th>\n",
       "      <td>42</td>\n",
       "      <td>Scrypt</td>\n",
       "      <td>PoW/PoS</td>\n",
       "      <td>4.199995e+01</td>\n",
       "      <td>42</td>\n",
       "    </tr>\n",
       "    <tr>\n",
       "      <th>2</th>\n",
       "      <td>404</td>\n",
       "      <td>Scrypt</td>\n",
       "      <td>PoW/PoS</td>\n",
       "      <td>1.055185e+09</td>\n",
       "      <td>532000000</td>\n",
       "    </tr>\n",
       "    <tr>\n",
       "      <th>5</th>\n",
       "      <td>1337</td>\n",
       "      <td>X13</td>\n",
       "      <td>PoW/PoS</td>\n",
       "      <td>2.927942e+10</td>\n",
       "      <td>314159265359</td>\n",
       "    </tr>\n",
       "    <tr>\n",
       "      <th>7</th>\n",
       "      <td>BTC</td>\n",
       "      <td>SHA-256</td>\n",
       "      <td>PoW</td>\n",
       "      <td>1.792718e+07</td>\n",
       "      <td>21000000</td>\n",
       "    </tr>\n",
       "    <tr>\n",
       "      <th>8</th>\n",
       "      <td>ETH</td>\n",
       "      <td>Ethash</td>\n",
       "      <td>PoW</td>\n",
       "      <td>1.076842e+08</td>\n",
       "      <td>0</td>\n",
       "    </tr>\n",
       "    <tr>\n",
       "      <th>...</th>\n",
       "      <td>...</td>\n",
       "      <td>...</td>\n",
       "      <td>...</td>\n",
       "      <td>...</td>\n",
       "      <td>...</td>\n",
       "    </tr>\n",
       "    <tr>\n",
       "      <th>1238</th>\n",
       "      <td>ZEPH</td>\n",
       "      <td>SHA-256</td>\n",
       "      <td>DPoS</td>\n",
       "      <td>2.000000e+09</td>\n",
       "      <td>2000000000</td>\n",
       "    </tr>\n",
       "    <tr>\n",
       "      <th>1242</th>\n",
       "      <td>GAP</td>\n",
       "      <td>Scrypt</td>\n",
       "      <td>PoW/PoS</td>\n",
       "      <td>1.493105e+07</td>\n",
       "      <td>250000000</td>\n",
       "    </tr>\n",
       "    <tr>\n",
       "      <th>1245</th>\n",
       "      <td>BDX</td>\n",
       "      <td>CryptoNight</td>\n",
       "      <td>PoW</td>\n",
       "      <td>9.802226e+08</td>\n",
       "      <td>1400222610</td>\n",
       "    </tr>\n",
       "    <tr>\n",
       "      <th>1246</th>\n",
       "      <td>ZEN</td>\n",
       "      <td>Equihash</td>\n",
       "      <td>PoW</td>\n",
       "      <td>7.296538e+06</td>\n",
       "      <td>21000000</td>\n",
       "    </tr>\n",
       "    <tr>\n",
       "      <th>1247</th>\n",
       "      <td>XBC</td>\n",
       "      <td>Scrypt</td>\n",
       "      <td>PoS</td>\n",
       "      <td>1.283270e+05</td>\n",
       "      <td>1000000</td>\n",
       "    </tr>\n",
       "  </tbody>\n",
       "</table>\n",
       "<p>532 rows × 5 columns</p>\n",
       "</div>"
      ],
      "text/plain": [
       "     Unnamed: 0    Algorithm ProofType  TotalCoinsMined TotalCoinSupply\n",
       "0            42       Scrypt   PoW/PoS     4.199995e+01              42\n",
       "2           404       Scrypt   PoW/PoS     1.055185e+09       532000000\n",
       "5          1337          X13   PoW/PoS     2.927942e+10    314159265359\n",
       "7           BTC      SHA-256       PoW     1.792718e+07        21000000\n",
       "8           ETH       Ethash       PoW     1.076842e+08               0\n",
       "...         ...          ...       ...              ...             ...\n",
       "1238       ZEPH      SHA-256      DPoS     2.000000e+09      2000000000\n",
       "1242        GAP       Scrypt   PoW/PoS     1.493105e+07       250000000\n",
       "1245        BDX  CryptoNight       PoW     9.802226e+08      1400222610\n",
       "1246        ZEN     Equihash       PoW     7.296538e+06        21000000\n",
       "1247        XBC       Scrypt       PoS     1.283270e+05         1000000\n",
       "\n",
       "[532 rows x 5 columns]"
      ]
     },
     "execution_count": 15,
     "metadata": {},
     "output_type": "execute_result"
    }
   ],
   "source": [
    "# Drop the 'CoinName' column since it's not going to be used on the clustering algorithm.\n",
    "crypto_df.drop(columns='CoinName', axis=1, inplace= True)\n",
    "crypto_df"
   ]
  },
  {
   "cell_type": "code",
   "execution_count": 21,
   "metadata": {
    "scrolled": true
   },
   "outputs": [
    {
     "data": {
      "text/html": [
       "<div>\n",
       "<style scoped>\n",
       "    .dataframe tbody tr th:only-of-type {\n",
       "        vertical-align: middle;\n",
       "    }\n",
       "\n",
       "    .dataframe tbody tr th {\n",
       "        vertical-align: top;\n",
       "    }\n",
       "\n",
       "    .dataframe thead th {\n",
       "        text-align: right;\n",
       "    }\n",
       "</style>\n",
       "<table border=\"1\" class=\"dataframe\">\n",
       "  <thead>\n",
       "    <tr style=\"text-align: right;\">\n",
       "      <th></th>\n",
       "      <th>Algorithm</th>\n",
       "      <th>ProofType</th>\n",
       "      <th>TotalCoinsMined</th>\n",
       "      <th>TotalCoinSupply</th>\n",
       "    </tr>\n",
       "  </thead>\n",
       "  <tbody>\n",
       "    <tr>\n",
       "      <th>0</th>\n",
       "      <td>Scrypt</td>\n",
       "      <td>PoW/PoS</td>\n",
       "      <td>4.199995e+01</td>\n",
       "      <td>42</td>\n",
       "    </tr>\n",
       "    <tr>\n",
       "      <th>2</th>\n",
       "      <td>Scrypt</td>\n",
       "      <td>PoW/PoS</td>\n",
       "      <td>1.055185e+09</td>\n",
       "      <td>532000000</td>\n",
       "    </tr>\n",
       "    <tr>\n",
       "      <th>5</th>\n",
       "      <td>X13</td>\n",
       "      <td>PoW/PoS</td>\n",
       "      <td>2.927942e+10</td>\n",
       "      <td>314159265359</td>\n",
       "    </tr>\n",
       "    <tr>\n",
       "      <th>7</th>\n",
       "      <td>SHA-256</td>\n",
       "      <td>PoW</td>\n",
       "      <td>1.792718e+07</td>\n",
       "      <td>21000000</td>\n",
       "    </tr>\n",
       "    <tr>\n",
       "      <th>8</th>\n",
       "      <td>Ethash</td>\n",
       "      <td>PoW</td>\n",
       "      <td>1.076842e+08</td>\n",
       "      <td>0</td>\n",
       "    </tr>\n",
       "    <tr>\n",
       "      <th>...</th>\n",
       "      <td>...</td>\n",
       "      <td>...</td>\n",
       "      <td>...</td>\n",
       "      <td>...</td>\n",
       "    </tr>\n",
       "    <tr>\n",
       "      <th>1238</th>\n",
       "      <td>SHA-256</td>\n",
       "      <td>DPoS</td>\n",
       "      <td>2.000000e+09</td>\n",
       "      <td>2000000000</td>\n",
       "    </tr>\n",
       "    <tr>\n",
       "      <th>1242</th>\n",
       "      <td>Scrypt</td>\n",
       "      <td>PoW/PoS</td>\n",
       "      <td>1.493105e+07</td>\n",
       "      <td>250000000</td>\n",
       "    </tr>\n",
       "    <tr>\n",
       "      <th>1245</th>\n",
       "      <td>CryptoNight</td>\n",
       "      <td>PoW</td>\n",
       "      <td>9.802226e+08</td>\n",
       "      <td>1400222610</td>\n",
       "    </tr>\n",
       "    <tr>\n",
       "      <th>1246</th>\n",
       "      <td>Equihash</td>\n",
       "      <td>PoW</td>\n",
       "      <td>7.296538e+06</td>\n",
       "      <td>21000000</td>\n",
       "    </tr>\n",
       "    <tr>\n",
       "      <th>1247</th>\n",
       "      <td>Scrypt</td>\n",
       "      <td>PoS</td>\n",
       "      <td>1.283270e+05</td>\n",
       "      <td>1000000</td>\n",
       "    </tr>\n",
       "  </tbody>\n",
       "</table>\n",
       "<p>532 rows × 4 columns</p>\n",
       "</div>"
      ],
      "text/plain": [
       "        Algorithm ProofType  TotalCoinsMined TotalCoinSupply\n",
       "0          Scrypt   PoW/PoS     4.199995e+01              42\n",
       "2          Scrypt   PoW/PoS     1.055185e+09       532000000\n",
       "5             X13   PoW/PoS     2.927942e+10    314159265359\n",
       "7         SHA-256       PoW     1.792718e+07        21000000\n",
       "8          Ethash       PoW     1.076842e+08               0\n",
       "...           ...       ...              ...             ...\n",
       "1238      SHA-256      DPoS     2.000000e+09      2000000000\n",
       "1242       Scrypt   PoW/PoS     1.493105e+07       250000000\n",
       "1245  CryptoNight       PoW     9.802226e+08      1400222610\n",
       "1246     Equihash       PoW     7.296538e+06        21000000\n",
       "1247       Scrypt       PoS     1.283270e+05         1000000\n",
       "\n",
       "[532 rows x 4 columns]"
      ]
     },
     "execution_count": 21,
     "metadata": {},
     "output_type": "execute_result"
    }
   ],
   "source": [
    "# Use get_dummies() to create variables for text features.\n",
    "crypto_df = crypto_df.drop(columns=['Unnamed: 0'])\n",
    "crypto_df"
   ]
  },
  {
   "cell_type": "code",
   "execution_count": 22,
   "metadata": {},
   "outputs": [
    {
     "data": {
      "text/html": [
       "<div>\n",
       "<style scoped>\n",
       "    .dataframe tbody tr th:only-of-type {\n",
       "        vertical-align: middle;\n",
       "    }\n",
       "\n",
       "    .dataframe tbody tr th {\n",
       "        vertical-align: top;\n",
       "    }\n",
       "\n",
       "    .dataframe thead th {\n",
       "        text-align: right;\n",
       "    }\n",
       "</style>\n",
       "<table border=\"1\" class=\"dataframe\">\n",
       "  <thead>\n",
       "    <tr style=\"text-align: right;\">\n",
       "      <th></th>\n",
       "      <th>TotalCoinsMined</th>\n",
       "      <th>TotalCoinSupply</th>\n",
       "      <th>Algorithm_1GB AES Pattern Search</th>\n",
       "      <th>Algorithm_536</th>\n",
       "      <th>Algorithm_Argon2d</th>\n",
       "      <th>Algorithm_BLAKE256</th>\n",
       "      <th>Algorithm_Blake</th>\n",
       "      <th>Algorithm_Blake2S</th>\n",
       "      <th>Algorithm_Blake2b</th>\n",
       "      <th>Algorithm_C11</th>\n",
       "      <th>...</th>\n",
       "      <th>ProofType_PoW/PoS</th>\n",
       "      <th>ProofType_PoW/PoS</th>\n",
       "      <th>ProofType_PoW/PoW</th>\n",
       "      <th>ProofType_PoW/nPoS</th>\n",
       "      <th>ProofType_Pos</th>\n",
       "      <th>ProofType_Proof of Authority</th>\n",
       "      <th>ProofType_Proof of Trust</th>\n",
       "      <th>ProofType_TPoS</th>\n",
       "      <th>ProofType_Zero-Knowledge Proof</th>\n",
       "      <th>ProofType_dPoW/PoW</th>\n",
       "    </tr>\n",
       "  </thead>\n",
       "  <tbody>\n",
       "    <tr>\n",
       "      <th>0</th>\n",
       "      <td>4.199995e+01</td>\n",
       "      <td>42</td>\n",
       "      <td>0</td>\n",
       "      <td>0</td>\n",
       "      <td>0</td>\n",
       "      <td>0</td>\n",
       "      <td>0</td>\n",
       "      <td>0</td>\n",
       "      <td>0</td>\n",
       "      <td>0</td>\n",
       "      <td>...</td>\n",
       "      <td>1</td>\n",
       "      <td>0</td>\n",
       "      <td>0</td>\n",
       "      <td>0</td>\n",
       "      <td>0</td>\n",
       "      <td>0</td>\n",
       "      <td>0</td>\n",
       "      <td>0</td>\n",
       "      <td>0</td>\n",
       "      <td>0</td>\n",
       "    </tr>\n",
       "    <tr>\n",
       "      <th>2</th>\n",
       "      <td>1.055185e+09</td>\n",
       "      <td>532000000</td>\n",
       "      <td>0</td>\n",
       "      <td>0</td>\n",
       "      <td>0</td>\n",
       "      <td>0</td>\n",
       "      <td>0</td>\n",
       "      <td>0</td>\n",
       "      <td>0</td>\n",
       "      <td>0</td>\n",
       "      <td>...</td>\n",
       "      <td>1</td>\n",
       "      <td>0</td>\n",
       "      <td>0</td>\n",
       "      <td>0</td>\n",
       "      <td>0</td>\n",
       "      <td>0</td>\n",
       "      <td>0</td>\n",
       "      <td>0</td>\n",
       "      <td>0</td>\n",
       "      <td>0</td>\n",
       "    </tr>\n",
       "    <tr>\n",
       "      <th>5</th>\n",
       "      <td>2.927942e+10</td>\n",
       "      <td>314159265359</td>\n",
       "      <td>0</td>\n",
       "      <td>0</td>\n",
       "      <td>0</td>\n",
       "      <td>0</td>\n",
       "      <td>0</td>\n",
       "      <td>0</td>\n",
       "      <td>0</td>\n",
       "      <td>0</td>\n",
       "      <td>...</td>\n",
       "      <td>1</td>\n",
       "      <td>0</td>\n",
       "      <td>0</td>\n",
       "      <td>0</td>\n",
       "      <td>0</td>\n",
       "      <td>0</td>\n",
       "      <td>0</td>\n",
       "      <td>0</td>\n",
       "      <td>0</td>\n",
       "      <td>0</td>\n",
       "    </tr>\n",
       "    <tr>\n",
       "      <th>7</th>\n",
       "      <td>1.792718e+07</td>\n",
       "      <td>21000000</td>\n",
       "      <td>0</td>\n",
       "      <td>0</td>\n",
       "      <td>0</td>\n",
       "      <td>0</td>\n",
       "      <td>0</td>\n",
       "      <td>0</td>\n",
       "      <td>0</td>\n",
       "      <td>0</td>\n",
       "      <td>...</td>\n",
       "      <td>0</td>\n",
       "      <td>0</td>\n",
       "      <td>0</td>\n",
       "      <td>0</td>\n",
       "      <td>0</td>\n",
       "      <td>0</td>\n",
       "      <td>0</td>\n",
       "      <td>0</td>\n",
       "      <td>0</td>\n",
       "      <td>0</td>\n",
       "    </tr>\n",
       "    <tr>\n",
       "      <th>8</th>\n",
       "      <td>1.076842e+08</td>\n",
       "      <td>0</td>\n",
       "      <td>0</td>\n",
       "      <td>0</td>\n",
       "      <td>0</td>\n",
       "      <td>0</td>\n",
       "      <td>0</td>\n",
       "      <td>0</td>\n",
       "      <td>0</td>\n",
       "      <td>0</td>\n",
       "      <td>...</td>\n",
       "      <td>0</td>\n",
       "      <td>0</td>\n",
       "      <td>0</td>\n",
       "      <td>0</td>\n",
       "      <td>0</td>\n",
       "      <td>0</td>\n",
       "      <td>0</td>\n",
       "      <td>0</td>\n",
       "      <td>0</td>\n",
       "      <td>0</td>\n",
       "    </tr>\n",
       "    <tr>\n",
       "      <th>...</th>\n",
       "      <td>...</td>\n",
       "      <td>...</td>\n",
       "      <td>...</td>\n",
       "      <td>...</td>\n",
       "      <td>...</td>\n",
       "      <td>...</td>\n",
       "      <td>...</td>\n",
       "      <td>...</td>\n",
       "      <td>...</td>\n",
       "      <td>...</td>\n",
       "      <td>...</td>\n",
       "      <td>...</td>\n",
       "      <td>...</td>\n",
       "      <td>...</td>\n",
       "      <td>...</td>\n",
       "      <td>...</td>\n",
       "      <td>...</td>\n",
       "      <td>...</td>\n",
       "      <td>...</td>\n",
       "      <td>...</td>\n",
       "      <td>...</td>\n",
       "    </tr>\n",
       "    <tr>\n",
       "      <th>1238</th>\n",
       "      <td>2.000000e+09</td>\n",
       "      <td>2000000000</td>\n",
       "      <td>0</td>\n",
       "      <td>0</td>\n",
       "      <td>0</td>\n",
       "      <td>0</td>\n",
       "      <td>0</td>\n",
       "      <td>0</td>\n",
       "      <td>0</td>\n",
       "      <td>0</td>\n",
       "      <td>...</td>\n",
       "      <td>0</td>\n",
       "      <td>0</td>\n",
       "      <td>0</td>\n",
       "      <td>0</td>\n",
       "      <td>0</td>\n",
       "      <td>0</td>\n",
       "      <td>0</td>\n",
       "      <td>0</td>\n",
       "      <td>0</td>\n",
       "      <td>0</td>\n",
       "    </tr>\n",
       "    <tr>\n",
       "      <th>1242</th>\n",
       "      <td>1.493105e+07</td>\n",
       "      <td>250000000</td>\n",
       "      <td>0</td>\n",
       "      <td>0</td>\n",
       "      <td>0</td>\n",
       "      <td>0</td>\n",
       "      <td>0</td>\n",
       "      <td>0</td>\n",
       "      <td>0</td>\n",
       "      <td>0</td>\n",
       "      <td>...</td>\n",
       "      <td>1</td>\n",
       "      <td>0</td>\n",
       "      <td>0</td>\n",
       "      <td>0</td>\n",
       "      <td>0</td>\n",
       "      <td>0</td>\n",
       "      <td>0</td>\n",
       "      <td>0</td>\n",
       "      <td>0</td>\n",
       "      <td>0</td>\n",
       "    </tr>\n",
       "    <tr>\n",
       "      <th>1245</th>\n",
       "      <td>9.802226e+08</td>\n",
       "      <td>1400222610</td>\n",
       "      <td>0</td>\n",
       "      <td>0</td>\n",
       "      <td>0</td>\n",
       "      <td>0</td>\n",
       "      <td>0</td>\n",
       "      <td>0</td>\n",
       "      <td>0</td>\n",
       "      <td>0</td>\n",
       "      <td>...</td>\n",
       "      <td>0</td>\n",
       "      <td>0</td>\n",
       "      <td>0</td>\n",
       "      <td>0</td>\n",
       "      <td>0</td>\n",
       "      <td>0</td>\n",
       "      <td>0</td>\n",
       "      <td>0</td>\n",
       "      <td>0</td>\n",
       "      <td>0</td>\n",
       "    </tr>\n",
       "    <tr>\n",
       "      <th>1246</th>\n",
       "      <td>7.296538e+06</td>\n",
       "      <td>21000000</td>\n",
       "      <td>0</td>\n",
       "      <td>0</td>\n",
       "      <td>0</td>\n",
       "      <td>0</td>\n",
       "      <td>0</td>\n",
       "      <td>0</td>\n",
       "      <td>0</td>\n",
       "      <td>0</td>\n",
       "      <td>...</td>\n",
       "      <td>0</td>\n",
       "      <td>0</td>\n",
       "      <td>0</td>\n",
       "      <td>0</td>\n",
       "      <td>0</td>\n",
       "      <td>0</td>\n",
       "      <td>0</td>\n",
       "      <td>0</td>\n",
       "      <td>0</td>\n",
       "      <td>0</td>\n",
       "    </tr>\n",
       "    <tr>\n",
       "      <th>1247</th>\n",
       "      <td>1.283270e+05</td>\n",
       "      <td>1000000</td>\n",
       "      <td>0</td>\n",
       "      <td>0</td>\n",
       "      <td>0</td>\n",
       "      <td>0</td>\n",
       "      <td>0</td>\n",
       "      <td>0</td>\n",
       "      <td>0</td>\n",
       "      <td>0</td>\n",
       "      <td>...</td>\n",
       "      <td>0</td>\n",
       "      <td>0</td>\n",
       "      <td>0</td>\n",
       "      <td>0</td>\n",
       "      <td>0</td>\n",
       "      <td>0</td>\n",
       "      <td>0</td>\n",
       "      <td>0</td>\n",
       "      <td>0</td>\n",
       "      <td>0</td>\n",
       "    </tr>\n",
       "  </tbody>\n",
       "</table>\n",
       "<p>532 rows × 98 columns</p>\n",
       "</div>"
      ],
      "text/plain": [
       "      TotalCoinsMined TotalCoinSupply  Algorithm_1GB AES Pattern Search  \\\n",
       "0        4.199995e+01              42                                 0   \n",
       "2        1.055185e+09       532000000                                 0   \n",
       "5        2.927942e+10    314159265359                                 0   \n",
       "7        1.792718e+07        21000000                                 0   \n",
       "8        1.076842e+08               0                                 0   \n",
       "...               ...             ...                               ...   \n",
       "1238     2.000000e+09      2000000000                                 0   \n",
       "1242     1.493105e+07       250000000                                 0   \n",
       "1245     9.802226e+08      1400222610                                 0   \n",
       "1246     7.296538e+06        21000000                                 0   \n",
       "1247     1.283270e+05         1000000                                 0   \n",
       "\n",
       "      Algorithm_536  Algorithm_Argon2d  Algorithm_BLAKE256  Algorithm_Blake  \\\n",
       "0                 0                  0                   0                0   \n",
       "2                 0                  0                   0                0   \n",
       "5                 0                  0                   0                0   \n",
       "7                 0                  0                   0                0   \n",
       "8                 0                  0                   0                0   \n",
       "...             ...                ...                 ...              ...   \n",
       "1238              0                  0                   0                0   \n",
       "1242              0                  0                   0                0   \n",
       "1245              0                  0                   0                0   \n",
       "1246              0                  0                   0                0   \n",
       "1247              0                  0                   0                0   \n",
       "\n",
       "      Algorithm_Blake2S  Algorithm_Blake2b  Algorithm_C11  ...  \\\n",
       "0                     0                  0              0  ...   \n",
       "2                     0                  0              0  ...   \n",
       "5                     0                  0              0  ...   \n",
       "7                     0                  0              0  ...   \n",
       "8                     0                  0              0  ...   \n",
       "...                 ...                ...            ...  ...   \n",
       "1238                  0                  0              0  ...   \n",
       "1242                  0                  0              0  ...   \n",
       "1245                  0                  0              0  ...   \n",
       "1246                  0                  0              0  ...   \n",
       "1247                  0                  0              0  ...   \n",
       "\n",
       "      ProofType_PoW/PoS  ProofType_PoW/PoS   ProofType_PoW/PoW  \\\n",
       "0                     1                   0                  0   \n",
       "2                     1                   0                  0   \n",
       "5                     1                   0                  0   \n",
       "7                     0                   0                  0   \n",
       "8                     0                   0                  0   \n",
       "...                 ...                 ...                ...   \n",
       "1238                  0                   0                  0   \n",
       "1242                  1                   0                  0   \n",
       "1245                  0                   0                  0   \n",
       "1246                  0                   0                  0   \n",
       "1247                  0                   0                  0   \n",
       "\n",
       "      ProofType_PoW/nPoS  ProofType_Pos  ProofType_Proof of Authority  \\\n",
       "0                      0              0                             0   \n",
       "2                      0              0                             0   \n",
       "5                      0              0                             0   \n",
       "7                      0              0                             0   \n",
       "8                      0              0                             0   \n",
       "...                  ...            ...                           ...   \n",
       "1238                   0              0                             0   \n",
       "1242                   0              0                             0   \n",
       "1245                   0              0                             0   \n",
       "1246                   0              0                             0   \n",
       "1247                   0              0                             0   \n",
       "\n",
       "      ProofType_Proof of Trust  ProofType_TPoS  \\\n",
       "0                            0               0   \n",
       "2                            0               0   \n",
       "5                            0               0   \n",
       "7                            0               0   \n",
       "8                            0               0   \n",
       "...                        ...             ...   \n",
       "1238                         0               0   \n",
       "1242                         0               0   \n",
       "1245                         0               0   \n",
       "1246                         0               0   \n",
       "1247                         0               0   \n",
       "\n",
       "      ProofType_Zero-Knowledge Proof  ProofType_dPoW/PoW  \n",
       "0                                  0                   0  \n",
       "2                                  0                   0  \n",
       "5                                  0                   0  \n",
       "7                                  0                   0  \n",
       "8                                  0                   0  \n",
       "...                              ...                 ...  \n",
       "1238                               0                   0  \n",
       "1242                               0                   0  \n",
       "1245                               0                   0  \n",
       "1246                               0                   0  \n",
       "1247                               0                   0  \n",
       "\n",
       "[532 rows x 98 columns]"
      ]
     },
     "execution_count": 22,
     "metadata": {},
     "output_type": "execute_result"
    }
   ],
   "source": [
    "X = pd.get_dummies(crypto_df, columns=['Algorithm', 'ProofType'])\n",
    "X"
   ]
  },
  {
   "cell_type": "code",
   "execution_count": 23,
   "metadata": {
    "scrolled": true
   },
   "outputs": [],
   "source": [
    "# Standardize the data with StandardScaler().\n",
    "# Standarize dataset\n",
    "scaler = StandardScaler()\n",
    "crypto_scaled = scaler.fit_transform(X)"
   ]
  },
  {
   "cell_type": "code",
   "execution_count": 17,
   "metadata": {
    "scrolled": true
   },
   "outputs": [
    {
     "data": {
      "text/plain": [
       "Index(['Unnamed: 0', 'TotalCoinsMined', 'TotalCoinSupply',\n",
       "       'Algorithm_1GB AES Pattern Search', 'Algorithm_536',\n",
       "       'Algorithm_Argon2d', 'Algorithm_BLAKE256', 'Algorithm_Blake',\n",
       "       'Algorithm_Blake2S', 'Algorithm_Blake2b', 'Algorithm_C11',\n",
       "       'Algorithm_Cloverhash', 'Algorithm_Counterparty',\n",
       "       'Algorithm_CryptoNight', 'Algorithm_CryptoNight Heavy',\n",
       "       'Algorithm_CryptoNight-V7', 'Algorithm_Cryptonight-GPU',\n",
       "       'Algorithm_DPoS', 'Algorithm_Dagger', 'Algorithm_Dagger-Hashimoto',\n",
       "       'Algorithm_ECC 256K1', 'Algorithm_Equihash',\n",
       "       'Algorithm_Equihash+Scrypt', 'Algorithm_Ethash', 'Algorithm_Exosis',\n",
       "       'Algorithm_Green Protocol', 'Algorithm_Groestl', 'Algorithm_HMQ1725',\n",
       "       'Algorithm_HybridScryptHash256', 'Algorithm_IMesh',\n",
       "       'Algorithm_Jump Consistent Hash', 'Algorithm_Keccak',\n",
       "       'Algorithm_Leased POS', 'Algorithm_Lyra2RE', 'Algorithm_Lyra2REv2',\n",
       "       'Algorithm_Lyra2Z', 'Algorithm_M7 POW', 'Algorithm_Multiple',\n",
       "       'Algorithm_NIST5', 'Algorithm_NeoScrypt', 'Algorithm_Ouroboros',\n",
       "       'Algorithm_PHI1612', 'Algorithm_POS 2.0', 'Algorithm_POS 3.0',\n",
       "       'Algorithm_PoS', 'Algorithm_Proof-of-Authority',\n",
       "       'Algorithm_Proof-of-BibleHash', 'Algorithm_QUAIT', 'Algorithm_QuBit',\n",
       "       'Algorithm_Quark', 'Algorithm_SHA-256', 'Algorithm_SHA-256 + Hive',\n",
       "       'Algorithm_SHA-256D', 'Algorithm_SHA-512', 'Algorithm_SHA3',\n",
       "       'Algorithm_Scrypt', 'Algorithm_Semux BFT consensus',\n",
       "       'Algorithm_Shabal256', 'Algorithm_Skein', 'Algorithm_SkunkHash',\n",
       "       'Algorithm_SkunkHash v2 Raptor', 'Algorithm_Stanford Folding',\n",
       "       'Algorithm_TRC10', 'Algorithm_Time Travel', 'Algorithm_Tribus',\n",
       "       'Algorithm_VBFT', 'Algorithm_VeChainThor Authority', 'Algorithm_X11',\n",
       "       'Algorithm_X11GOST', 'Algorithm_X13', 'Algorithm_X14', 'Algorithm_X15',\n",
       "       'Algorithm_X16R', 'Algorithm_XEVAN', 'ProofType_DPOS', 'ProofType_DPoS',\n",
       "       'ProofType_HPoW', 'ProofType_LPoS', 'ProofType_POBh', 'ProofType_PoA',\n",
       "       'ProofType_PoC', 'ProofType_PoS', 'ProofType_PoS/LPoS',\n",
       "       'ProofType_PoS/PoW', 'ProofType_PoS/PoW/PoT', 'ProofType_PoST',\n",
       "       'ProofType_PoW', 'ProofType_PoW + Hive', 'ProofType_PoW and PoS',\n",
       "       'ProofType_PoW/PoS', 'ProofType_PoW/PoS ', 'ProofType_PoW/PoW',\n",
       "       'ProofType_PoW/nPoS', 'ProofType_Pos', 'ProofType_Proof of Authority',\n",
       "       'ProofType_Proof of Trust', 'ProofType_TPoS',\n",
       "       'ProofType_Zero-Knowledge Proof', 'ProofType_dPoW/PoW'],\n",
       "      dtype='object')"
      ]
     },
     "execution_count": 17,
     "metadata": {},
     "output_type": "execute_result"
    }
   ],
   "source": [
    "X.columns"
   ]
  },
  {
   "cell_type": "code",
   "execution_count": 24,
   "metadata": {
    "scrolled": true
   },
   "outputs": [],
   "source": [
    "# Standarize dataset\n",
    "scaler = StandardScaler()\n",
    "crypto_scaled = scaler.fit_transform(X)"
   ]
  },
  {
   "cell_type": "code",
   "execution_count": 25,
   "metadata": {},
   "outputs": [
    {
     "data": {
      "text/plain": [
       "98"
      ]
     },
     "execution_count": 25,
     "metadata": {},
     "output_type": "execute_result"
    }
   ],
   "source": [
    "# Number of features in datast\n",
    "len(X.columns)"
   ]
  },
  {
   "cell_type": "markdown",
   "metadata": {},
   "source": [
    "### Deliverable 2: Reducing Data Dimensions Using PCA"
   ]
  },
  {
   "cell_type": "code",
   "execution_count": 26,
   "metadata": {},
   "outputs": [],
   "source": [
    "# Using PCA to reduce dimension to three principal components.\n",
    "pca = PCA(n_components=4)\n",
    "\n",
    "crypto_pca1 = pca.fit_transform(crypto_scaled)"
   ]
  },
  {
   "cell_type": "code",
   "execution_count": 27,
   "metadata": {
    "scrolled": true
   },
   "outputs": [
    {
     "data": {
      "text/html": [
       "<div>\n",
       "<style scoped>\n",
       "    .dataframe tbody tr th:only-of-type {\n",
       "        vertical-align: middle;\n",
       "    }\n",
       "\n",
       "    .dataframe tbody tr th {\n",
       "        vertical-align: top;\n",
       "    }\n",
       "\n",
       "    .dataframe thead th {\n",
       "        text-align: right;\n",
       "    }\n",
       "</style>\n",
       "<table border=\"1\" class=\"dataframe\">\n",
       "  <thead>\n",
       "    <tr style=\"text-align: right;\">\n",
       "      <th></th>\n",
       "      <th>PC 1</th>\n",
       "      <th>PC 2</th>\n",
       "      <th>PC 3</th>\n",
       "      <th>PC4</th>\n",
       "    </tr>\n",
       "  </thead>\n",
       "  <tbody>\n",
       "    <tr>\n",
       "      <th>0</th>\n",
       "      <td>-0.335851</td>\n",
       "      <td>1.024287</td>\n",
       "      <td>-0.522016</td>\n",
       "      <td>0.013971</td>\n",
       "    </tr>\n",
       "    <tr>\n",
       "      <th>1</th>\n",
       "      <td>-0.319191</td>\n",
       "      <td>1.024440</td>\n",
       "      <td>-0.522288</td>\n",
       "      <td>0.013928</td>\n",
       "    </tr>\n",
       "    <tr>\n",
       "      <th>2</th>\n",
       "      <td>2.294537</td>\n",
       "      <td>1.694150</td>\n",
       "      <td>-0.702300</td>\n",
       "      <td>0.023758</td>\n",
       "    </tr>\n",
       "    <tr>\n",
       "      <th>3</th>\n",
       "      <td>-0.150243</td>\n",
       "      <td>-1.294511</td>\n",
       "      <td>0.174782</td>\n",
       "      <td>-0.031341</td>\n",
       "    </tr>\n",
       "    <tr>\n",
       "      <th>4</th>\n",
       "      <td>-0.152136</td>\n",
       "      <td>-2.034129</td>\n",
       "      <td>0.338793</td>\n",
       "      <td>0.009346</td>\n",
       "    </tr>\n",
       "  </tbody>\n",
       "</table>\n",
       "</div>"
      ],
      "text/plain": [
       "       PC 1      PC 2      PC 3       PC4\n",
       "0 -0.335851  1.024287 -0.522016  0.013971\n",
       "1 -0.319191  1.024440 -0.522288  0.013928\n",
       "2  2.294537  1.694150 -0.702300  0.023758\n",
       "3 -0.150243 -1.294511  0.174782 -0.031341\n",
       "4 -0.152136 -2.034129  0.338793  0.009346"
      ]
     },
     "execution_count": 27,
     "metadata": {},
     "output_type": "execute_result"
    }
   ],
   "source": [
    "# Create a DataFrame with the three principal components.\n",
    "df_crypto_pca1 = pd.DataFrame(data=crypto_pca1, \n",
    "                             columns=[\"PC 1\", \"PC 2\", \"PC 3\", \"PC4\"])\n",
    "df_crypto_pca1.head()"
   ]
  },
  {
   "cell_type": "code",
   "execution_count": 28,
   "metadata": {},
   "outputs": [
    {
     "data": {
      "text/plain": [
       "array([0.02793129, 0.02141085, 0.02048263, 0.02044455])"
      ]
     },
     "execution_count": 28,
     "metadata": {},
     "output_type": "execute_result"
    }
   ],
   "source": [
    "pca.explained_variance_ratio_"
   ]
  },
  {
   "cell_type": "markdown",
   "metadata": {},
   "source": [
    "### Deliverable 3: Clustering Crytocurrencies Using K-Means\n",
    "\n",
    "#### Finding the Best Value for `k` Using the Elbow Curve"
   ]
  },
  {
   "cell_type": "code",
   "execution_count": null,
   "metadata": {
    "scrolled": false
   },
   "outputs": [],
   "source": [
    "# Create an elbow curve to find the best value for K.\n",
    "# cluster analysis w/k-means\n",
    "inertia = []\n",
    "k = list(range(1, 11))\n",
    "\n",
    "# calculate the inertia for the range of k values\n",
    "for i in k:\n",
    "    km = KMeans(n_clusters=i, random_state=0)\n",
    "    km.fit(df_crypto_pca1)\n",
    "    inertia.append(km.inertia_)\n",
    "\n",
    "# Create the Elbow Curve using hvPlot\n",
    "elbow_data = {\"k\": k, \"inertia\": inertia}\n",
    "df_elbow = pd.DataFrame(elbow_data)\n",
    "df_elbow.head()\n"
   ]
  },
  {
   "cell_type": "markdown",
   "metadata": {},
   "source": [
    "Running K-Means with `k=4`"
   ]
  },
  {
   "cell_type": "code",
   "execution_count": 36,
   "metadata": {
    "scrolled": true
   },
   "outputs": [
    {
     "data": {
      "image/png": "[encoded data removed]",
      "text/plain": [
       "<Figure size 432x288 with 1 Axes>"
      ]
     },
     "metadata": {
      "needs_background": "light"
     },
     "output_type": "display_data"
    }
   ],
   "source": [
    "plt.plot(df_elbow['k'], df_elbow['inertia'])\n",
    "plt.xticks(range(1,11))\n",
    "plt.xlabel('Number of clusters')\n",
    "plt.ylabel('Inertia')\n",
    "plt.title('Elbow curve for customer data')\n",
    "plt.show()"
   ]
  },
  {
   "cell_type": "code",
   "execution_count": 41,
   "metadata": {},
   "outputs": [
    {
     "name": "stdout",
     "output_type": "stream",
     "text": [
      "[2 2 2 0 0 0 2 0 0 0 2 0 2 2 0 2 0 0 2 2 0 0 0 0 0 2 0 0 0 2 0 2 0 0 2 2 0\n",
      " 0 0 0 0 0 2 2 0 0 0 0 0 2 2 0 2 0 0 0 0 2 0 0 2 0 2 2 2 0 0 0 2 2 2 2 2 0\n",
      " 0 0 2 2 0 2 0 2 2 0 0 0 0 2 2 0 2 0 0 2 2 0 2 2 0 0 2 2 0 2 2 0 2 0 2 0 2\n",
      " 0 2 2 0 0 2 0 0 0 2 0 0 0 0 0 2 2 0 0 0 2 0 2 0 0 2 0 2 0 2 2 0 0 2 0 0 2\n",
      " 2 0 2 0 2 2 2 0 0 0 0 2 2 2 2 2 0 0 2 2 2 2 2 0 2 2 2 2 2 0 2 0 2 2 0 2 0\n",
      " 2 2 0 2 0 2 0 2 0 2 2 2 2 0 2 2 2 2 2 0 0 2 2 0 0 2 2 2 2 2 0 2 2 2 2 2 2\n",
      " 2 2 0 2 2 2 2 2 2 0 0 0 2 2 2 2 0 2 0 2 2 0 2 0 0 2 0 0 2 0 2 2 2 0 2 2 0\n",
      " 2 2 2 2 2 2 2 0 2 0 2 2 2 2 0 2 0 2 0 0 0 0 2 0 2 2 0 2 0 0 0 2 0 2 0 0 0\n",
      " 2 0 2 0 2 2 2 0 2 0 0 0 0 0 2 2 0 2 2 2 0 2 0 2 0 2 0 2 2 2 2 0 2 2 0 2 2\n",
      " 2 0 0 0 0 2 2 2 2 0 2 0 0 0 2 2 0 0 2 2 0 2 0 0 0 2 0 0 2 2 2 0 0 0 2 2 2\n",
      " 0 0 2 0 0 0 0 2 1 2 0 0 0 2 2 2 2 2 2 0 0 0 0 2 2 2 0 2 0 2 2 2 2 0 2 2 0\n",
      " 2 2 0 0 2 0 2 0 0 0 0 2 2 0 2 0 2 2 2 2 2 2 0 0 0 2 2 2 2 2 2 0 2 0 0 0 0\n",
      " 2 2 2 2 0 2 2 0 2 2 0 1 0 2 0 0 2 2 0 2 0 0 2 0 0 2 0 2 0 2 2 0 2 2 2 2 2\n",
      " 0 0 0 2 2 2 0 2 0 2 0 2 2 2 2 0 2 2 2 0 2 0 2 0 2 2 2 0 0 2 2 2 2 2 2 0 2\n",
      " 0 2 0 2 2 2 2 3 2 2 2 0 0 2]\n"
     ]
    }
   ],
   "source": [
    "# Initialize the K-Means model.\n",
    "model = KMeans(n_clusters=4, random_state=0)\n",
    "\n",
    "# Fit the model\n",
    "model.fit(df_crypto_pca1)\n",
    "\n",
    "# Predict clusters\n",
    "predictions = model.predict(df_crypto_pca1)\n",
    "print(predictions)"
   ]
  },
  {
   "cell_type": "code",
   "execution_count": 45,
   "metadata": {
    "scrolled": true
   },
   "outputs": [
    {
     "data": {
      "text/html": [
       "<div>\n",
       "<style scoped>\n",
       "    .dataframe tbody tr th:only-of-type {\n",
       "        vertical-align: middle;\n",
       "    }\n",
       "\n",
       "    .dataframe tbody tr th {\n",
       "        vertical-align: top;\n",
       "    }\n",
       "\n",
       "    .dataframe thead th {\n",
       "        text-align: right;\n",
       "    }\n",
       "</style>\n",
       "<table border=\"1\" class=\"dataframe\">\n",
       "  <thead>\n",
       "    <tr style=\"text-align: right;\">\n",
       "      <th></th>\n",
       "      <th>PC 1</th>\n",
       "      <th>PC 2</th>\n",
       "      <th>PC 3</th>\n",
       "      <th>PC4</th>\n",
       "      <th>Class</th>\n",
       "      <th>Algorithm</th>\n",
       "      <th>ProofType</th>\n",
       "      <th>TotalCoinsMined</th>\n",
       "      <th>TotalCoinSupply</th>\n",
       "      <th>CoinName</th>\n",
       "    </tr>\n",
       "  </thead>\n",
       "  <tbody>\n",
       "    <tr>\n",
       "      <th>0</th>\n",
       "      <td>-0.335851</td>\n",
       "      <td>1.024287</td>\n",
       "      <td>-0.522016</td>\n",
       "      <td>0.013971</td>\n",
       "      <td>0.0</td>\n",
       "      <td>Scrypt</td>\n",
       "      <td>PoW/PoS</td>\n",
       "      <td>4.199995e+01</td>\n",
       "      <td>42</td>\n",
       "      <td>42 Coin</td>\n",
       "    </tr>\n",
       "    <tr>\n",
       "      <th>1</th>\n",
       "      <td>-0.319191</td>\n",
       "      <td>1.024440</td>\n",
       "      <td>-0.522288</td>\n",
       "      <td>0.013928</td>\n",
       "      <td>0.0</td>\n",
       "      <td>NaN</td>\n",
       "      <td>NaN</td>\n",
       "      <td>NaN</td>\n",
       "      <td>NaN</td>\n",
       "      <td>404Coin</td>\n",
       "    </tr>\n",
       "    <tr>\n",
       "      <th>2</th>\n",
       "      <td>2.294537</td>\n",
       "      <td>1.694150</td>\n",
       "      <td>-0.702300</td>\n",
       "      <td>0.023758</td>\n",
       "      <td>0.0</td>\n",
       "      <td>Scrypt</td>\n",
       "      <td>PoW/PoS</td>\n",
       "      <td>1.055185e+09</td>\n",
       "      <td>532000000</td>\n",
       "      <td>EliteCoin</td>\n",
       "    </tr>\n",
       "    <tr>\n",
       "      <th>3</th>\n",
       "      <td>-0.150243</td>\n",
       "      <td>-1.294511</td>\n",
       "      <td>0.174782</td>\n",
       "      <td>-0.031341</td>\n",
       "      <td>0.0</td>\n",
       "      <td>NaN</td>\n",
       "      <td>NaN</td>\n",
       "      <td>NaN</td>\n",
       "      <td>NaN</td>\n",
       "      <td>Bitcoin</td>\n",
       "    </tr>\n",
       "    <tr>\n",
       "      <th>4</th>\n",
       "      <td>-0.152136</td>\n",
       "      <td>-2.034129</td>\n",
       "      <td>0.338793</td>\n",
       "      <td>0.009346</td>\n",
       "      <td>0.0</td>\n",
       "      <td>NaN</td>\n",
       "      <td>NaN</td>\n",
       "      <td>NaN</td>\n",
       "      <td>NaN</td>\n",
       "      <td>Ethereum</td>\n",
       "    </tr>\n",
       "    <tr>\n",
       "      <th>5</th>\n",
       "      <td>-0.164549</td>\n",
       "      <td>-1.143765</td>\n",
       "      <td>0.014089</td>\n",
       "      <td>0.000606</td>\n",
       "      <td>0.0</td>\n",
       "      <td>X13</td>\n",
       "      <td>PoW/PoS</td>\n",
       "      <td>2.927942e+10</td>\n",
       "      <td>314159265359</td>\n",
       "      <td>Litecoin</td>\n",
       "    </tr>\n",
       "    <tr>\n",
       "      <th>6</th>\n",
       "      <td>-0.391395</td>\n",
       "      <td>1.231777</td>\n",
       "      <td>-0.550939</td>\n",
       "      <td>0.024278</td>\n",
       "      <td>0.0</td>\n",
       "      <td>NaN</td>\n",
       "      <td>NaN</td>\n",
       "      <td>NaN</td>\n",
       "      <td>NaN</td>\n",
       "      <td>Dash</td>\n",
       "    </tr>\n",
       "    <tr>\n",
       "      <th>7</th>\n",
       "      <td>-0.145994</td>\n",
       "      <td>-2.227302</td>\n",
       "      <td>0.450487</td>\n",
       "      <td>-0.020668</td>\n",
       "      <td>0.0</td>\n",
       "      <td>SHA-256</td>\n",
       "      <td>PoW</td>\n",
       "      <td>1.792718e+07</td>\n",
       "      <td>21000000</td>\n",
       "      <td>Monero</td>\n",
       "    </tr>\n",
       "    <tr>\n",
       "      <th>8</th>\n",
       "      <td>-0.150578</td>\n",
       "      <td>-2.034226</td>\n",
       "      <td>0.338780</td>\n",
       "      <td>0.009347</td>\n",
       "      <td>0.0</td>\n",
       "      <td>Ethash</td>\n",
       "      <td>PoW</td>\n",
       "      <td>1.076842e+08</td>\n",
       "      <td>0</td>\n",
       "      <td>Ethereum Classic</td>\n",
       "    </tr>\n",
       "    <tr>\n",
       "      <th>9</th>\n",
       "      <td>-0.165227</td>\n",
       "      <td>-1.978800</td>\n",
       "      <td>0.366935</td>\n",
       "      <td>0.001628</td>\n",
       "      <td>0.0</td>\n",
       "      <td>Scrypt</td>\n",
       "      <td>PoW</td>\n",
       "      <td>6.303924e+07</td>\n",
       "      <td>84000000</td>\n",
       "      <td>ZCash</td>\n",
       "    </tr>\n",
       "  </tbody>\n",
       "</table>\n",
       "</div>"
      ],
      "text/plain": [
       "       PC 1      PC 2      PC 3       PC4  Class Algorithm ProofType  \\\n",
       "0 -0.335851  1.024287 -0.522016  0.013971    0.0    Scrypt   PoW/PoS   \n",
       "1 -0.319191  1.024440 -0.522288  0.013928    0.0       NaN       NaN   \n",
       "2  2.294537  1.694150 -0.702300  0.023758    0.0    Scrypt   PoW/PoS   \n",
       "3 -0.150243 -1.294511  0.174782 -0.031341    0.0       NaN       NaN   \n",
       "4 -0.152136 -2.034129  0.338793  0.009346    0.0       NaN       NaN   \n",
       "5 -0.164549 -1.143765  0.014089  0.000606    0.0       X13   PoW/PoS   \n",
       "6 -0.391395  1.231777 -0.550939  0.024278    0.0       NaN       NaN   \n",
       "7 -0.145994 -2.227302  0.450487 -0.020668    0.0   SHA-256       PoW   \n",
       "8 -0.150578 -2.034226  0.338780  0.009347    0.0    Ethash       PoW   \n",
       "9 -0.165227 -1.978800  0.366935  0.001628    0.0    Scrypt       PoW   \n",
       "\n",
       "   TotalCoinsMined TotalCoinSupply          CoinName  \n",
       "0     4.199995e+01              42           42 Coin  \n",
       "1              NaN             NaN           404Coin  \n",
       "2     1.055185e+09       532000000         EliteCoin  \n",
       "3              NaN             NaN           Bitcoin  \n",
       "4              NaN             NaN          Ethereum  \n",
       "5     2.927942e+10    314159265359          Litecoin  \n",
       "6              NaN             NaN              Dash  \n",
       "7     1.792718e+07        21000000            Monero  \n",
       "8     1.076842e+08               0  Ethereum Classic  \n",
       "9     6.303924e+07        84000000             ZCash  "
      ]
     },
     "execution_count": 45,
     "metadata": {},
     "output_type": "execute_result"
    }
   ],
   "source": [
    "model = KMeans(n_clusters=3 , random_state=1)\n",
    "# Fit the model\n",
    "model.fit(df_crypto_pca1)\n",
    "# Predict clusters\n",
    "k_3 = model.predict(df_crypto_pca1)\n",
    "# Create a new DataFrame including predicted clusters and cryptocurrencies features\n",
    "clustered_df = df_crypto_pca1.copy()\n",
    "clustered_df['Class'] = k_3\n",
    "clustered_df = pd.concat([clustered_df,crypto_df , CoinName] , axis=1)\n",
    "clustered_df.head(10)"
   ]
  },
  {
   "cell_type": "markdown",
   "metadata": {},
   "source": [
    "### Deliverable 4: Visualizing Cryptocurrencies Results\n",
    "\n",
    "#### 3D-Scatter with Clusters"
   ]
  },
  {
   "cell_type": "code",
   "execution_count": 47,
   "metadata": {
    "scrolled": true
   },
   "outputs": [
    {
     "data": {},
     "metadata": {},
     "output_type": "display_data"
    },
    {
     "data": {
      "application/vnd.holoviews_exec.v0+json": "",
      "text/html": [
       "<div id='1002'>\n",
       "\n",
       "\n",
       "\n",
       "\n",
       "\n",
       "  <div class=\"bk-root\" id=\"b60ee4cc-06fd-4ead-9371-ab7563139ee2\" data-root-id=\"1002\"></div>\n",
       "</div>\n",
       "<script type=\"application/javascript\">(function(root) {\n",
       "  function embed_document(root) {\n",
       "    var docs_json = {\"aaa26c6e-2278-4d86-a8d1-27c09795855b\":{\"defs\":[{\"extends\":null,\"module\":null,\"name\":\"ReactiveHTML1\",\"overrides\":[],\"properties\":[]},{\"extends\":null,\"module\":null,\"name\":\"FlexBox1\",\"overrides\":[],\"properties\":[{\"default\":\"flex-start\",\"kind\":null,\"name\":\"align_content\"},{\"default\":\"flex-start\",\"kind\":null,\"name\":\"align_items\"},{\"default\":\"row\",\"kind\":null,\"name\":\"flex_direction\"},{\"default\":\"wrap\",\"kind\":null,\"name\":\"flex_wrap\"},{\"default\":\"flex-start\",\"kind\":null,\"name\":\"justify_content\"}]},{\"extends\":null,\"module\":null,\"name\":\"GridStack1\",\"overrides\":[],\"properties\":[{\"default\":\"warn\",\"kind\":null,\"name\":\"mode\"},{\"default\":null,\"kind\":null,\"name\":\"ncols\"},{\"default\":null,\"kind\":null,\"name\":\"nrows\"},{\"default\":true,\"kind\":null,\"name\":\"allow_resize\"},{\"default\":true,\"kind\":null,\"name\":\"allow_drag\"},{\"default\":[],\"kind\":null,\"name\":\"state\"}]},{\"extends\":null,\"module\":null,\"name\":\"click1\",\"overrides\":[],\"properties\":[{\"default\":\"\",\"kind\":null,\"name\":\"terminal_output\"},{\"default\":\"\",\"kind\":null,\"name\":\"debug_name\"},{\"default\":0,\"kind\":null,\"name\":\"clears\"}]},{\"extends\":null,\"module\":null,\"name\":\"NotificationAreaBase1\",\"overrides\":[],\"properties\":[{\"default\":\"bottom-right\",\"kind\":null,\"name\":\"position\"},{\"default\":0,\"kind\":null,\"name\":\"_clear\"}]},{\"extends\":null,\"module\":null,\"name\":\"NotificationArea1\",\"overrides\":[],\"properties\":[{\"default\":[],\"kind\":null,\"name\":\"notifications\"},{\"default\":\"bottom-right\",\"kind\":null,\"name\":\"position\"},{\"default\":0,\"kind\":null,\"name\":\"_clear\"},{\"default\":[{\"background\":\"#ffc107\",\"icon\":{\"className\":\"fas fa-exclamation-triangle\",\"color\":\"white\",\"tagName\":\"i\"},\"type\":\"warning\"},{\"background\":\"#007bff\",\"icon\":{\"className\":\"fas fa-info-circle\",\"color\":\"white\",\"tagName\":\"i\"},\"type\":\"info\"}],\"kind\":null,\"name\":\"types\"}]},{\"extends\":null,\"module\":null,\"name\":\"Notification\",\"overrides\":[],\"properties\":[{\"default\":null,\"kind\":null,\"name\":\"background\"},{\"default\":3000,\"kind\":null,\"name\":\"duration\"},{\"default\":null,\"kind\":null,\"name\":\"icon\"},{\"default\":\"\",\"kind\":null,\"name\":\"message\"},{\"default\":null,\"kind\":null,\"name\":\"notification_type\"},{\"default\":false,\"kind\":null,\"name\":\"_destroyed\"}]},{\"extends\":null,\"module\":null,\"name\":\"TemplateActions1\",\"overrides\":[],\"properties\":[{\"default\":0,\"kind\":null,\"name\":\"open_modal\"},{\"default\":0,\"kind\":null,\"name\":\"close_modal\"}]},{\"extends\":null,\"module\":null,\"name\":\"MaterialTemplateActions1\",\"overrides\":[],\"properties\":[{\"default\":0,\"kind\":null,\"name\":\"open_modal\"},{\"default\":0,\"kind\":null,\"name\":\"close_modal\"}]}],\"roots\":{\"references\":[{\"attributes\":{\"fill_color\":{\"value\":\"#30a2da\"},\"hatch_color\":{\"value\":\"#30a2da\"},\"line_color\":{\"value\":\"#30a2da\"},\"size\":{\"value\":5.477225575051661},\"x\":{\"field\":\"PC 1\"},\"y\":{\"field\":\"PC 3\"}},\"id\":\"1155\",\"type\":\"Scatter\"},{\"attributes\":{\"fill_alpha\":{\"value\":0.1},\"fill_color\":{\"value\":\"#30a2da\"},\"hatch_alpha\":{\"value\":0.1},\"hatch_color\":{\"value\":\"#30a2da\"},\"line_alpha\":{\"value\":0.1},\"line_color\":{\"value\":\"#30a2da\"},\"size\":{\"value\":5.477225575051661},\"x\":{\"field\":\"PC 1\"},\"y\":{\"field\":\"PC 3\"}},\"id\":\"1156\",\"type\":\"Scatter\"},{\"attributes\":{\"fill_alpha\":{\"value\":0.1},\"fill_color\":{\"value\":\"#fc4f30\"},\"hatch_alpha\":{\"value\":0.1},\"hatch_color\":{\"value\":\"#fc4f30\"},\"line_alpha\":{\"value\":0.1},\"line_color\":{\"value\":\"#fc4f30\"},\"size\":{\"value\":5.477225575051661},\"x\":{\"field\":\"PC 1\"},\"y\":{\"field\":\"PC 3\"}},\"id\":\"1177\",\"type\":\"Scatter\"},{\"attributes\":{\"angle\":{\"value\":0.0},\"fill_alpha\":{\"value\":1.0},\"fill_color\":{\"value\":\"#30a2da\"},\"hatch_alpha\":{\"value\":1.0},\"hatch_color\":{\"value\":\"#30a2da\"},\"hatch_scale\":{\"value\":12.0},\"hatch_weight\":{\"value\":1.0},\"line_alpha\":{\"value\":1.0},\"line_cap\":{\"value\":\"butt\"},\"line_color\":{\"value\":\"#30a2da\"},\"line_dash\":{\"value\":[]},\"line_dash_offset\":{\"value\":0},\"line_join\":{\"value\":\"bevel\"},\"line_width\":{\"value\":1},\"marker\":{\"value\":\"circle\"},\"size\":{\"value\":5.477225575051661},\"x\":{\"field\":\"PC 1\"},\"y\":{\"field\":\"PC 3\"}},\"id\":\"1172\",\"type\":\"Scatter\"},{\"attributes\":{\"source\":{\"id\":\"1258\"}},\"id\":\"1265\",\"type\":\"CDSView\"},{\"attributes\":{\"coordinates\":null,\"data_source\":{\"id\":\"1258\"},\"glyph\":{\"id\":\"1261\"},\"group\":null,\"hover_glyph\":null,\"muted_glyph\":{\"id\":\"1263\"},\"nonselection_glyph\":{\"id\":\"1262\"},\"selection_glyph\":{\"id\":\"1278\"},\"view\":{\"id\":\"1265\"}},\"id\":\"1264\",\"type\":\"GlyphRenderer\"},{\"attributes\":{\"fill_alpha\":{\"value\":0.2},\"fill_color\":{\"value\":\"#30a2da\"},\"hatch_alpha\":{\"value\":0.2},\"hatch_color\":{\"value\":\"#30a2da\"},\"line_alpha\":{\"value\":0.2},\"line_color\":{\"value\":\"#30a2da\"},\"size\":{\"value\":5.477225575051661},\"x\":{\"field\":\"PC 1\"},\"y\":{\"field\":\"PC 3\"}},\"id\":\"1157\",\"type\":\"Scatter\"},{\"attributes\":{\"coordinates\":null,\"data_source\":{\"id\":\"1152\"},\"glyph\":{\"id\":\"1155\"},\"group\":null,\"hover_glyph\":null,\"muted_glyph\":{\"id\":\"1157\"},\"nonselection_glyph\":{\"id\":\"1156\"},\"selection_glyph\":{\"id\":\"1172\"},\"view\":{\"id\":\"1159\"}},\"id\":\"1158\",\"type\":\"GlyphRenderer\"},{\"attributes\":{\"data\":{\"Class\":[0.0,0.0,0.0,0.0,0.0,0.0,0.0,0.0,0.0,0.0,0.0,0.0,0.0,0.0,0.0,0.0,0.0,0.0,0.0,0.0,0.0,0.0,0.0,0.0,0.0,0.0,0.0,0.0,0.0,0.0,0.0,0.0,0.0,0.0,0.0,0.0,0.0,0.0,0.0,0.0,0.0,0.0,0.0,0.0,0.0,0.0,0.0,0.0,0.0,0.0,0.0,0.0,0.0,0.0,0.0,0.0,0.0,0.0,0.0,0.0,0.0,0.0,0.0,0.0,0.0,0.0,0.0,0.0,0.0,0.0,0.0,0.0,0.0,0.0,0.0,0.0,0.0,0.0,0.0,0.0,0.0,0.0,0.0,0.0,0.0,0.0,0.0,0.0,0.0,0.0,0.0,0.0,0.0,0.0,0.0,0.0,0.0,0.0,0.0,0.0,0.0,0.0,0.0,0.0,0.0,0.0,0.0,0.0,0.0,0.0,0.0,0.0,0.0,0.0,0.0,0.0,0.0,0.0,0.0,0.0,0.0,0.0,0.0,0.0,0.0,0.0,0.0,0.0,0.0,0.0,0.0,0.0,0.0,0.0,0.0,0.0,0.0,0.0,0.0,0.0,0.0,0.0,0.0,0.0,0.0,0.0,0.0,0.0,0.0,0.0,0.0,0.0,0.0,0.0,0.0,0.0,0.0,0.0,0.0,0.0,0.0,0.0,0.0,0.0,0.0,0.0,0.0,0.0,0.0,0.0,0.0,0.0,0.0,0.0,0.0,0.0,0.0,0.0,0.0,0.0,0.0,0.0,0.0,0.0,0.0,0.0,0.0,0.0,0.0,0.0,0.0,0.0,0.0,0.0,0.0,0.0,0.0,0.0,0.0,0.0,0.0,0.0,0.0,0.0,0.0,0.0,0.0,0.0,0.0,0.0,0.0,0.0,0.0,0.0,0.0,0.0,0.0,0.0,0.0,0.0,0.0,0.0,0.0,0.0,0.0,0.0,0.0,0.0,0.0,0.0,0.0,0.0,0.0,0.0,0.0,0.0,0.0,0.0,0.0,0.0,0.0,0.0,0.0,0.0,0.0,0.0,0.0,0.0,0.0,0.0,0.0,0.0,0.0,0.0,0.0,0.0,0.0,0.0,0.0,0.0,0.0,0.0,0.0,0.0,0.0,0.0,0.0,0.0,0.0,0.0,0.0,0.0,0.0,0.0,0.0,0.0,0.0,0.0,0.0,0.0,0.0,0.0,0.0,0.0,0.0,0.0,0.0,0.0,0.0,0.0,0.0,0.0,0.0,0.0,0.0,0.0,0.0,0.0,0.0,0.0,0.0,0.0,0.0,0.0,0.0,0.0,0.0,0.0,0.0,0.0,0.0,0.0,0.0,0.0,0.0,0.0,0.0,0.0,0.0,0.0,0.0,0.0,0.0,0.0,0.0,0.0,0.0,0.0,0.0,0.0,0.0,0.0,0.0,0.0,0.0,0.0,0.0,0.0,0.0,0.0,0.0,0.0,0.0,0.0,0.0,0.0,0.0,0.0,0.0,0.0,0.0,0.0,0.0,0.0,0.0,0.0,0.0,0.0,0.0,0.0,0.0,0.0,0.0,0.0,0.0,0.0,0.0,0.0,0.0,0.0,0.0,0.0,0.0,0.0,0.0,0.0,0.0,0.0,0.0,0.0,0.0,0.0,0.0,0.0,0.0,0.0,0.0,0.0,0.0,0.0,0.0,0.0,0.0,0.0,0.0,0.0,0.0,0.0,0.0,0.0,0.0,0.0,0.0,0.0,0.0,0.0,0.0,0.0,0.0,0.0,0.0,0.0,0.0,0.0,0.0,0.0,0.0,0.0,0.0,0.0,0.0,0.0,0.0,0.0,0.0,0.0,0.0,0.0,0.0,0.0,0.0,0.0,0.0,0.0,0.0,0.0,0.0,0.0,0.0,0.0,0.0,0.0,0.0,0.0,0.0,0.0,0.0,0.0,0.0,0.0,0.0,0.0,0.0,0.0,0.0,0.0,0.0,0.0,0.0,0.0,0.0,0.0,0.0,0.0,0.0,0.0,0.0,0.0,0.0,0.0,0.0,0.0,0.0,0.0,0.0,0.0,0.0,0.0,0.0,0.0,0.0,0.0,0.0,0.0,0.0,0.0,0.0,0.0,0.0,0.0,0.0,0.0,0.0,0.0,0.0,0.0,0.0,0.0,0.0,0.0,0.0,0.0,0.0,0.0,0.0,0.0,0.0,0.0,0.0,0.0,0.0,0.0,0.0,0.0,0.0,0.0,0.0,0.0,0.0,0.0,0.0,0.0,0.0,0.0,0.0,0.0,0.0,0.0,0.0],\"CoinName\":[\"42 Coin\",\"404Coin\",\"EliteCoin\",\"Bitcoin\",\"Ethereum\",\"Litecoin\",\"Dash\",\"Monero\",\"Ethereum Classic\",\"ZCash\",\"Bitshares\",\"DigiByte\",\"BitcoinDark\",\"PayCoin\",\"ProsperCoin\",\"KoboCoin\",\"Spreadcoin\",\"Argentum\",\"Aurora Coin\",\"BlueCoin\",\"MyriadCoin\",\"MoonCoin\",\"ZetaCoin\",\"SexCoin\",\"Quatloo\",\"EnergyCoin\",\"QuarkCoin\",\"Riecoin\",\"Digitalcoin \",\"BitBar\",\"Catcoin\",\"CryptoBullion\",\"CannaCoin\",\"CryptCoin\",\"CasinoCoin\",\"Diamond\",\"Verge\",\"DevCoin\",\"EarthCoin\",\"E-Gulden\",\"Einsteinium\",\"Emerald\",\"Exclusive Coin\",\"FlutterCoin\",\"Franko\",\"FeatherCoin\",\"GrandCoin\",\"GlobalCoin\",\"GoldCoin\",\"HoboNickels\",\"HyperStake\",\"Infinite Coin\",\"IOCoin\",\"IXcoin\",\"KrugerCoin\",\"LuckyCoin\",\"Litebar \",\"MaxCoin\",\"MegaCoin\",\"MediterraneanCoin\",\"MintCoin\",\"MinCoin\",\"MazaCoin\",\"Nautilus Coin\",\"NavCoin\",\"NobleCoin\",\"Namecoin\",\"NyanCoin\",\"OpalCoin\",\"Orbitcoin\",\"PotCoin\",\"PhoenixCoin\",\"Reddcoin\",\"RonPaulCoin\",\"StableCoin\",\"SmartCoin\",\"SuperCoin\",\"SyncCoin\",\"SysCoin\",\"TeslaCoin\",\"TigerCoin\",\"TittieCoin\",\"TorCoin\",\"TerraCoin\",\"UnbreakableCoin\",\"Unobtanium\",\"UroCoin\",\"UnitaryStatus Dollar\",\"UltraCoin\",\"ViaCoin\",\"VeriCoin\",\"Vertcoin\",\"WorldCoin\",\"X11 Coin\",\"Crypti\",\"JouleCoin\",\"StealthCoin\",\"ZCC Coin\",\"ByteCoin\",\"DigitalNote \",\"BurstCoin\",\"StorjCoin\",\"MonaCoin\",\"Neutron\",\"FairCoin\",\"Gulden\",\"RubyCoin\",\"PesetaCoin\",\"Kore\",\"Wild Beast Coin\",\"Dnotes\",\"Flo\",\"8BIT Coin\",\"Sativa Coin\",\"ArtByte\",\"Folding Coin\",\"Ucoin\",\"Unitus\",\"CypherPunkCoin\",\"OmniCron\",\"Vtorrent\",\"GreenCoin\",\"Cryptonite\",\"MasterCoin\",\"SoonCoin\",\"1Credit\",\"IslaCoin\",\"Nexus\",\"MarsCoin \",\"Crypto\",\"Anarchists Prime\",\"Droidz\",\"BowsCoin\",\"Squall Coin\",\"Song Coin\",\"BitZeny\",\"Diggits\",\"Expanse\",\"Paycon\",\"Siacoin\",\"Emercoin\",\"EverGreenCoin\",\"MindCoin\",\"I0coin\",\"Decred\",\"Revolution VR\",\"HOdlcoin\",\"EDRCoin\",\"Hitcoin\",\"Gamecredits\",\"DubaiCoin\",\"CarpeDiemCoin\",\"PWR Coin\",\"BillaryCoin\",\"GPU Coin\",\"Adzcoin\",\"SoilCoin\",\"YoCoin\",\"SibCoin\",\"EuropeCoin\",\"ZeitCoin\",\"SwingCoin\",\"SafeExchangeCoin\",\"Nebuchadnezzar\",\"Francs\",\"BolivarCoin\",\"Ratecoin\",\"Revenu\",\"Clockcoin\",\"VIP Tokens\",\"BitSend\",\"Omni\",\"Let it Ride\",\"PutinCoin\",\"iBankCoin\",\"Frankywillcoin\",\"MudraCoin\",\"PizzaCoin\",\"Lutetium Coin\",\"Komodo\",\"GoldBlocks\",\"CarterCoin\",\"Karbo\",\"BitTokens\",\"ZayedCoin\",\"MustangCoin\",\"ZoneCoin\",\"Circuits of Value\",\"RootCoin\",\"DopeCoin\",\"BitCurrency\",\"DollarCoin\",\"Swiscoin\",\"Shilling\",\"BuzzCoin\",\"Opair\",\"PesoBit\",\"Halloween Coin\",\"ZCoin\",\"CoffeeCoin\",\"RoyalCoin\",\"GanjaCoin V2\",\"TeamUP\",\"LanaCoin\",\"Elementrem\",\"ZClassic\",\"ARK\",\"InsaneCoin\",\"KiloCoin\",\"ArtexCoin\",\"EmberCoin\",\"XenixCoin\",\"FreeCoin\",\"PLNCoin\",\"AquariusCoin\",\"Kurrent\",\"Creatio\",\"Eternity\",\"Eurocoin\",\"BitcoinFast\",\"Stakenet\",\"BitConnect Coin\",\"MoneyCoin\",\"Enigma\",\"Cannabis Industry Coin\",\"Russiacoin\",\"PandaCoin\",\"GameUnits\",\"GAKHcoin\",\"Allsafe\",\"LiteCreed\",\"OsmiumCoin\",\"Bikercoins\",\"HexxCoin\",\"Klingon Empire Darsek\",\"Internet of People\",\"KushCoin\",\"Printerium\",\"PacCoin\",\"Impeach\",\"Citadel\",\"Zilbercoin\",\"FirstCoin\",\"BeaverCoin\",\"FindCoin\",\"VaultCoin\",\"Zero\",\"OpenChat\",\"Canada eCoin\",\"Zoin\",\"RenosCoin\",\"DubaiCoin\",\"VirtacoinPlus\",\"TajCoin\",\"Impact\",\"EB3coin\",\"Atmos\",\"HappyCoin\",\"Coinonat\",\"MacronCoin\",\"Condensate\",\"Independent Money System\",\"ArgusCoin\",\"LomoCoin\",\"ProCurrency\",\"GoldReserve\",\"BenjiRolls\",\"GrowthCoin\",\"ILCoin\",\"Phreak\",\"Degas Coin\",\"HTML5 Coin\",\"Ultimate Secure Cash\",\"EquiTrader\",\"QTUM\",\"Quantum Resistant Ledger\",\"Espers\",\"Dynamic\",\"Nano\",\"ChanCoin\",\"Dinastycoin\",\"Denarius\",\"DigitalPrice\",\"Virta Unique Coin\",\"Bitcoin Planet\",\"Unify\",\"BritCoin\",\"SocialCoin\",\"ArcticCoin\",\"DAS\",\"Linda\",\"LeviarCoin\",\"DeepOnion\",\"Bitcore\",\"gCn Coin\",\"SmartCash\",\"Signatum\",\"Onix\",\"Cream\",\"Bitcoin Cash\",\"Monoeci\",\"Draftcoin\",\"Vechain\",\"Sojourn Coin\",\"Stakecoin\",\"NewYorkCoin\",\"FrazCoin\",\"Kronecoin\",\"AdCoin\",\"Linx\",\"CoinonatX\",\"Ethereum Dark\",\"Sumokoin\",\"Obsidian\",\"Cardano\",\"Regalcoin\",\"BitcoinZ\",\"TrezarCoin\",\"Elements\",\"TerraNovaCoin\",\"VIVO Coin\",\"Rupee\",\"Bitcoin Gold\",\"WomenCoin\",\"Theresa May Coin\",\"NamoCoin\",\"LUXCoin\",\"Pirl\",\"Xios\",\"Bitcloud 2.0\",\"eBoost\",\"KekCoin\",\"BlackholeCoin\",\"Infinity Economics\",\"Pura\",\"Innova\",\"Ellaism\",\"GoByte\",\"Magnet\",\"Lamden Tau\",\"Electra\",\"Bitcoin Diamond\",\"SHIELD\",\"Cash & Back Coin\",\"UltraNote\",\"BitCoal\",\"DaxxCoin\",\"Bulwark\",\"Kalkulus\",\"AC3\",\"Lethean\",\"GermanCoin\",\"LiteCoin Ultra\",\"PopularCoin\",\"PhantomX\",\"Photon\",\"Sucre\",\"SparksPay\",\"Digiwage\",\"GunCoin\",\"IrishCoin\",\"Trollcoin\",\"Litecoin Plus\",\"Monkey Project\",\"Pioneer Coin\",\"UnitedBitcoin\",\"Interzone\",\"TokenPay\",\"1717 Masonic Commemorative Token\",\"My Big Coin\",\"TurtleCoin\",\"MUNcoin\",\"Unified Society USDEX\",\"Niobio Cash\",\"ShareChain\",\"Travelflex\",\"KREDS\",\"Tokyo Coin\",\"LitecoinCash\",\"BitFlip\",\"LottoCoin\",\"Crypto Improvement Fund\",\"Stipend\",\"Poa Network\",\"Pushi\",\"Ellerium\",\"Velox\",\"Ontology\",\"Callisto Network\",\"BitTube\",\"Poseidon\",\"Aidos Kuneen\",\"Bitspace\",\"Briacoin\",\"Ignition\",\"Bitrolium\",\"MedicCoin\",\"Alpenschillling\",\"Bitcoin Green\",\"Deviant Coin\",\"Abjcoin\",\"Semux\",\"FuturoCoin\",\"Carebit\",\"Zealium\",\"Monero Classic\",\"Proton\",\"iDealCash\",\"Jumpcoin\",\"Infinex\",\"Bitcoin Incognito\",\"KEYCO\",\"HollyWoodCoin\",\"GINcoin\",\"PlatinCoin\",\"Loki\",\"Newton Coin\",\"Swisscoin\",\"Xt3ch\",\"MassGrid\",\"TheVig\",\"PluraCoin\",\"EmaratCoin\",\"Dekado\",\"Lynx\",\"Poseidon Quark\",\"BitcoinWSpectrum\",\"Muse\",\"Motion\",\"PlusOneCoin\",\"Axe\",\"Trivechain\",\"Dystem\",\"Giant\",\"Peony Coin\",\"Absolute Coin\",\"Vitae\",\"HexCoin\",\"TPCash\",\"Webchain\",\"Ryo\",\"Urals Coin\",\"Qwertycoin\",\"ARENON\",\"EUNO\",\"MMOCoin\",\"Ketan\",\"Project Pai\",\"XDNA\",\"PAXEX\",\"Azart\",\"ThunderStake\",\"Kcash\",\"Xchange\",\"CrypticCoin\",\"Bettex coin\",\"Actinium\",\"Bitcoin SV\",\"BitMoney\",\"Junson Ming Chan Coin\",\"FREDEnergy\",\"HerbCoin\",\"Universal Molecule\",\"Lithium\",\"PirateCash\",\"Exosis\",\"Block-Logic\",\"Oduwa\",\"Beam\",\"Galilel\",\"Bithereum\",\"Crypto Sports\",\"Credit\",\"SLICE\",\"Dash Platinum\",\"Nasdacoin\",\"Beetle Coin\",\"Titan Coin\",\"Award\",\"BLAST\",\"Bitcoin Rhodium\",\"GlobalToken\",\"Insane Coin\",\"ALAX\",\"LiteDoge\",\"SolarCoin\",\"TruckCoin\",\"UFO Coin\",\"OrangeCoin\",\"BlakeCoin\",\"BitstarCoin\",\"NeosCoin\",\"HyperCoin\",\"PinkCoin\",\"Crypto Escudo\",\"AudioCoin\",\"IncaKoin\",\"Piggy Coin\",\"Crown Coin\",\"Genstake\",\"SmileyCoin\",\"XiaoMiCoin\",\"Groestlcoin\",\"CapriCoin\",\" ClubCoin\",\"Radium\",\"Bata\",\"Pakcoin\",\"Creditbit \",\"OKCash\",\"Lisk\",\"HiCoin\",\"WhiteCoin\",\"FriendshipCoin\",\"JoinCoin\",\"Triangles Coin\",\"Vollar\",\"EOS\",\"Reality Clash\",\"Oxycoin\",\"TigerCash\",\"Waves\",\"Particl\",\"Nxt\",\"ZEPHYR\",\"Gapcoin\",\"Beldex\",\"Horizen\",\"BitcoinPlus\"],\"PC 2\":{\"__ndarray__\":\"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\",\"dtype\":\"float64\",\"order\":\"little\",\"shape\":[529]},\"PC 3\":{\"__ndarray__\":\"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\",\"dtype\":\"float64\",\"order\":\"little\",\"shape\":[529]},\"PC_2\":{\"__ndarray__\":\"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\",\"dtype\":\"float64\",\"order\":\"little\",\"shape\":[529]},\"PC_3\":{\"__ndarray__\":\"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\",\"dtype\":\"float64\",\"order\":\"little\",\"shape\":[529]}},\"selected\":{\"id\":\"1259\"},\"selection_policy\":{\"id\":\"1273\"}},\"id\":\"1258\",\"type\":\"ColumnDataSource\"},{\"attributes\":{\"fill_alpha\":{\"value\":0.1},\"fill_color\":{\"value\":\"#fc4f30\"},\"hatch_alpha\":{\"value\":0.1},\"hatch_color\":{\"value\":\"#fc4f30\"},\"line_alpha\":{\"value\":0.1},\"line_color\":{\"value\":\"#fc4f30\"},\"size\":{\"value\":5.477225575051661},\"x\":{\"field\":\"PC 1\"},\"y\":{\"field\":\"PC 2\"}},\"id\":\"1070\",\"type\":\"Scatter\"},{\"attributes\":{\"source\":{\"id\":\"1152\"}},\"id\":\"1159\",\"type\":\"CDSView\"},{\"attributes\":{\"fill_alpha\":{\"value\":0.2},\"fill_color\":{\"value\":\"#fc4f30\"},\"hatch_alpha\":{\"value\":0.2},\"hatch_color\":{\"value\":\"#fc4f30\"},\"line_alpha\":{\"value\":0.2},\"line_color\":{\"value\":\"#fc4f30\"},\"size\":{\"value\":5.477225575051661},\"x\":{\"field\":\"PC 1\"},\"y\":{\"field\":\"PC 3\"}},\"id\":\"1178\",\"type\":\"Scatter\"},{\"attributes\":{\"click_policy\":\"mute\",\"coordinates\":null,\"group\":null,\"items\":[{\"id\":\"1277\"},{\"id\":\"1299\"},{\"id\":\"1323\"}],\"location\":[0,0],\"title\":\"Class\"},\"id\":\"1276\",\"type\":\"Legend\"},{\"attributes\":{\"data\":{\"Class\":[2.0,2.0],\"CoinName\":[\"BiblePay\",\"Acute Angle Cloud\"],\"PC 1\":{\"__ndarray__\":\"RVr1Y0z7yb/mqajjtbTWvw==\",\"dtype\":\"float64\",\"order\":\"little\",\"shape\":[2]},\"PC 3\":{\"__ndarray__\":\"eSiZGjasNEBTCBM5PckhQA==\",\"dtype\":\"float64\",\"order\":\"little\",\"shape\":[2]},\"PC_1\":{\"__ndarray__\":\"RVr1Y0z7yb/mqajjtbTWvw==\",\"dtype\":\"float64\",\"order\":\"little\",\"shape\":[2]},\"PC_3\":{\"__ndarray__\":\"eSiZGjasNEBTCBM5PckhQA==\",\"dtype\":\"float64\",\"order\":\"little\",\"shape\":[2]}},\"selected\":{\"id\":\"1196\"},\"selection_policy\":{\"id\":\"1214\"}},\"id\":\"1195\",\"type\":\"ColumnDataSource\"},{\"attributes\":{\"fill_color\":{\"value\":\"#e5ae38\"},\"hatch_color\":{\"value\":\"#e5ae38\"},\"line_color\":{\"value\":\"#e5ae38\"},\"size\":{\"value\":5.477225575051661},\"x\":{\"field\":\"PC 1\"},\"y\":{\"field\":\"PC 2\"}},\"id\":\"1091\",\"type\":\"Scatter\"},{\"attributes\":{\"label\":{\"value\":\"0\"},\"renderers\":[{\"id\":\"1264\"}]},\"id\":\"1277\",\"type\":\"LegendItem\"},{\"attributes\":{\"click_policy\":\"mute\",\"coordinates\":null,\"group\":null,\"items\":[{\"id\":\"1171\"},{\"id\":\"1193\"},{\"id\":\"1217\"}],\"location\":[0,0],\"title\":\"Class\"},\"id\":\"1170\",\"type\":\"Legend\"},{\"attributes\":{\"data\":{\"Class\":[1.0],\"CoinName\":[\"BitTorrent\"],\"PC 1\":{\"__ndarray__\":\"bILsjXEHQUA=\",\"dtype\":\"float64\",\"order\":\"little\",\"shape\":[1]},\"PC 3\":{\"__ndarray__\":\"3oYt8oI9278=\",\"dtype\":\"float64\",\"order\":\"little\",\"shape\":[1]},\"PC_1\":{\"__ndarray__\":\"bILsjXEHQUA=\",\"dtype\":\"float64\",\"order\":\"little\",\"shape\":[1]},\"PC_3\":{\"__ndarray__\":\"3oYt8oI9278=\",\"dtype\":\"float64\",\"order\":\"little\",\"shape\":[1]}},\"selected\":{\"id\":\"1174\"},\"selection_policy\":{\"id\":\"1190\"}},\"id\":\"1173\",\"type\":\"ColumnDataSource\"},{\"attributes\":{\"fill_color\":{\"value\":\"#fc4f30\"},\"hatch_color\":{\"value\":\"#fc4f30\"},\"line_color\":{\"value\":\"#fc4f30\"},\"size\":{\"value\":5.477225575051661},\"x\":{\"field\":\"PC 1\"},\"y\":{\"field\":\"PC 3\"}},\"id\":\"1176\",\"type\":\"Scatter\"},{\"attributes\":{\"coordinates\":null,\"data_source\":{\"id\":\"1173\"},\"glyph\":{\"id\":\"1176\"},\"group\":null,\"hover_glyph\":null,\"muted_glyph\":{\"id\":\"1178\"},\"nonselection_glyph\":{\"id\":\"1177\"},\"selection_glyph\":{\"id\":\"1194\"},\"view\":{\"id\":\"1180\"}},\"id\":\"1179\",\"type\":\"GlyphRenderer\"},{\"attributes\":{\"children\":[{\"id\":\"1003\"},{\"id\":\"1373\"},{\"id\":\"1416\"}],\"margin\":[0,0,0,0],\"name\":\"Row01193\",\"tags\":[\"embedded\"]},\"id\":\"1002\",\"type\":\"Row\"},{\"attributes\":{\"margin\":[5,5,5,5],\"name\":\"HSpacer01197\",\"sizing_mode\":\"stretch_width\"},\"id\":\"1003\",\"type\":\"Spacer\"},{\"attributes\":{\"fill_alpha\":{\"value\":0.2},\"fill_color\":{\"value\":\"#fc4f30\"},\"hatch_alpha\":{\"value\":0.2},\"hatch_color\":{\"value\":\"#fc4f30\"},\"line_alpha\":{\"value\":0.2},\"line_color\":{\"value\":\"#fc4f30\"},\"size\":{\"value\":5.477225575051661},\"x\":{\"field\":\"PC 1\"},\"y\":{\"field\":\"PC 2\"}},\"id\":\"1071\",\"type\":\"Scatter\"},{\"attributes\":{\"coordinates\":null,\"data_source\":{\"id\":\"1066\"},\"glyph\":{\"id\":\"1069\"},\"group\":null,\"hover_glyph\":null,\"muted_glyph\":{\"id\":\"1071\"},\"nonselection_glyph\":{\"id\":\"1070\"},\"selection_glyph\":{\"id\":\"1087\"},\"view\":{\"id\":\"1073\"}},\"id\":\"1072\",\"type\":\"GlyphRenderer\"},{\"attributes\":{\"fill_color\":{\"value\":\"#fc4f30\"},\"hatch_color\":{\"value\":\"#fc4f30\"},\"line_color\":{\"value\":\"#fc4f30\"},\"size\":{\"value\":5.477225575051661},\"x\":{\"field\":\"PC 1\"},\"y\":{\"field\":\"PC 2\"}},\"id\":\"1069\",\"type\":\"Scatter\"},{\"attributes\":{},\"id\":\"1067\",\"type\":\"Selection\"},{\"attributes\":{},\"id\":\"1014\",\"type\":\"LinearScale\"},{\"attributes\":{\"source\":{\"id\":\"1066\"}},\"id\":\"1073\",\"type\":\"CDSView\"},{\"attributes\":{\"source\":{\"id\":\"1173\"}},\"id\":\"1180\",\"type\":\"CDSView\"},{\"attributes\":{},\"id\":\"1174\",\"type\":\"Selection\"},{\"attributes\":{},\"id\":\"1273\",\"type\":\"UnionRenderers\"},{\"attributes\":{},\"id\":\"1083\",\"type\":\"UnionRenderers\"},{\"attributes\":{\"label\":{\"value\":\"1\"},\"renderers\":[{\"id\":\"1072\"}]},\"id\":\"1086\",\"type\":\"LegendItem\"},{\"attributes\":{},\"id\":\"1190\",\"type\":\"UnionRenderers\"},{\"attributes\":{\"data\":{\"Class\":[0.0,0.0,0.0,0.0,0.0,0.0,0.0,0.0,0.0,0.0,0.0,0.0,0.0,0.0,0.0,0.0,0.0,0.0,0.0,0.0,0.0,0.0,0.0,0.0,0.0,0.0,0.0,0.0,0.0,0.0,0.0,0.0,0.0,0.0,0.0,0.0,0.0,0.0,0.0,0.0,0.0,0.0,0.0,0.0,0.0,0.0,0.0,0.0,0.0,0.0,0.0,0.0,0.0,0.0,0.0,0.0,0.0,0.0,0.0,0.0,0.0,0.0,0.0,0.0,0.0,0.0,0.0,0.0,0.0,0.0,0.0,0.0,0.0,0.0,0.0,0.0,0.0,0.0,0.0,0.0,0.0,0.0,0.0,0.0,0.0,0.0,0.0,0.0,0.0,0.0,0.0,0.0,0.0,0.0,0.0,0.0,0.0,0.0,0.0,0.0,0.0,0.0,0.0,0.0,0.0,0.0,0.0,0.0,0.0,0.0,0.0,0.0,0.0,0.0,0.0,0.0,0.0,0.0,0.0,0.0,0.0,0.0,0.0,0.0,0.0,0.0,0.0,0.0,0.0,0.0,0.0,0.0,0.0,0.0,0.0,0.0,0.0,0.0,0.0,0.0,0.0,0.0,0.0,0.0,0.0,0.0,0.0,0.0,0.0,0.0,0.0,0.0,0.0,0.0,0.0,0.0,0.0,0.0,0.0,0.0,0.0,0.0,0.0,0.0,0.0,0.0,0.0,0.0,0.0,0.0,0.0,0.0,0.0,0.0,0.0,0.0,0.0,0.0,0.0,0.0,0.0,0.0,0.0,0.0,0.0,0.0,0.0,0.0,0.0,0.0,0.0,0.0,0.0,0.0,0.0,0.0,0.0,0.0,0.0,0.0,0.0,0.0,0.0,0.0,0.0,0.0,0.0,0.0,0.0,0.0,0.0,0.0,0.0,0.0,0.0,0.0,0.0,0.0,0.0,0.0,0.0,0.0,0.0,0.0,0.0,0.0,0.0,0.0,0.0,0.0,0.0,0.0,0.0,0.0,0.0,0.0,0.0,0.0,0.0,0.0,0.0,0.0,0.0,0.0,0.0,0.0,0.0,0.0,0.0,0.0,0.0,0.0,0.0,0.0,0.0,0.0,0.0,0.0,0.0,0.0,0.0,0.0,0.0,0.0,0.0,0.0,0.0,0.0,0.0,0.0,0.0,0.0,0.0,0.0,0.0,0.0,0.0,0.0,0.0,0.0,0.0,0.0,0.0,0.0,0.0,0.0,0.0,0.0,0.0,0.0,0.0,0.0,0.0,0.0,0.0,0.0,0.0,0.0,0.0,0.0,0.0,0.0,0.0,0.0,0.0,0.0,0.0,0.0,0.0,0.0,0.0,0.0,0.0,0.0,0.0,0.0,0.0,0.0,0.0,0.0,0.0,0.0,0.0,0.0,0.0,0.0,0.0,0.0,0.0,0.0,0.0,0.0,0.0,0.0,0.0,0.0,0.0,0.0,0.0,0.0,0.0,0.0,0.0,0.0,0.0,0.0,0.0,0.0,0.0,0.0,0.0,0.0,0.0,0.0,0.0,0.0,0.0,0.0,0.0,0.0,0.0,0.0,0.0,0.0,0.0,0.0,0.0,0.0,0.0,0.0,0.0,0.0,0.0,0.0,0.0,0.0,0.0,0.0,0.0,0.0,0.0,0.0,0.0,0.0,0.0,0.0,0.0,0.0,0.0,0.0,0.0,0.0,0.0,0.0,0.0,0.0,0.0,0.0,0.0,0.0,0.0,0.0,0.0,0.0,0.0,0.0,0.0,0.0,0.0,0.0,0.0,0.0,0.0,0.0,0.0,0.0,0.0,0.0,0.0,0.0,0.0,0.0,0.0,0.0,0.0,0.0,0.0,0.0,0.0,0.0,0.0,0.0,0.0,0.0,0.0,0.0,0.0,0.0,0.0,0.0,0.0,0.0,0.0,0.0,0.0,0.0,0.0,0.0,0.0,0.0,0.0,0.0,0.0,0.0,0.0,0.0,0.0,0.0,0.0,0.0,0.0,0.0,0.0,0.0,0.0,0.0,0.0,0.0,0.0,0.0,0.0,0.0,0.0,0.0,0.0,0.0,0.0,0.0,0.0,0.0,0.0,0.0,0.0,0.0,0.0,0.0,0.0,0.0,0.0,0.0,0.0,0.0,0.0,0.0,0.0,0.0,0.0,0.0,0.0,0.0,0.0,0.0,0.0,0.0,0.0,0.0,0.0,0.0,0.0,0.0,0.0,0.0,0.0,0.0,0.0,0.0,0.0,0.0,0.0,0.0,0.0,0.0,0.0,0.0,0.0,0.0,0.0,0.0,0.0],\"CoinName\":[\"42 Coin\",\"404Coin\",\"EliteCoin\",\"Bitcoin\",\"Ethereum\",\"Litecoin\",\"Dash\",\"Monero\",\"Ethereum Classic\",\"ZCash\",\"Bitshares\",\"DigiByte\",\"BitcoinDark\",\"PayCoin\",\"ProsperCoin\",\"KoboCoin\",\"Spreadcoin\",\"Argentum\",\"Aurora Coin\",\"BlueCoin\",\"MyriadCoin\",\"MoonCoin\",\"ZetaCoin\",\"SexCoin\",\"Quatloo\",\"EnergyCoin\",\"QuarkCoin\",\"Riecoin\",\"Digitalcoin \",\"BitBar\",\"Catcoin\",\"CryptoBullion\",\"CannaCoin\",\"CryptCoin\",\"CasinoCoin\",\"Diamond\",\"Verge\",\"DevCoin\",\"EarthCoin\",\"E-Gulden\",\"Einsteinium\",\"Emerald\",\"Exclusive Coin\",\"FlutterCoin\",\"Franko\",\"FeatherCoin\",\"GrandCoin\",\"GlobalCoin\",\"GoldCoin\",\"HoboNickels\",\"HyperStake\",\"Infinite Coin\",\"IOCoin\",\"IXcoin\",\"KrugerCoin\",\"LuckyCoin\",\"Litebar \",\"MaxCoin\",\"MegaCoin\",\"MediterraneanCoin\",\"MintCoin\",\"MinCoin\",\"MazaCoin\",\"Nautilus Coin\",\"NavCoin\",\"NobleCoin\",\"Namecoin\",\"NyanCoin\",\"OpalCoin\",\"Orbitcoin\",\"PotCoin\",\"PhoenixCoin\",\"Reddcoin\",\"RonPaulCoin\",\"StableCoin\",\"SmartCoin\",\"SuperCoin\",\"SyncCoin\",\"SysCoin\",\"TeslaCoin\",\"TigerCoin\",\"TittieCoin\",\"TorCoin\",\"TerraCoin\",\"UnbreakableCoin\",\"Unobtanium\",\"UroCoin\",\"UnitaryStatus Dollar\",\"UltraCoin\",\"ViaCoin\",\"VeriCoin\",\"Vertcoin\",\"WorldCoin\",\"X11 Coin\",\"Crypti\",\"JouleCoin\",\"StealthCoin\",\"ZCC Coin\",\"ByteCoin\",\"DigitalNote \",\"BurstCoin\",\"StorjCoin\",\"MonaCoin\",\"Neutron\",\"FairCoin\",\"Gulden\",\"RubyCoin\",\"PesetaCoin\",\"Kore\",\"Wild Beast Coin\",\"Dnotes\",\"Flo\",\"8BIT Coin\",\"Sativa Coin\",\"ArtByte\",\"Folding Coin\",\"Ucoin\",\"Unitus\",\"CypherPunkCoin\",\"OmniCron\",\"Vtorrent\",\"GreenCoin\",\"Cryptonite\",\"MasterCoin\",\"SoonCoin\",\"1Credit\",\"IslaCoin\",\"Nexus\",\"MarsCoin \",\"Crypto\",\"Anarchists Prime\",\"Droidz\",\"BowsCoin\",\"Squall Coin\",\"Song Coin\",\"BitZeny\",\"Diggits\",\"Expanse\",\"Paycon\",\"Siacoin\",\"Emercoin\",\"EverGreenCoin\",\"MindCoin\",\"I0coin\",\"Decred\",\"Revolution VR\",\"HOdlcoin\",\"EDRCoin\",\"Hitcoin\",\"Gamecredits\",\"DubaiCoin\",\"CarpeDiemCoin\",\"PWR Coin\",\"BillaryCoin\",\"GPU Coin\",\"Adzcoin\",\"SoilCoin\",\"YoCoin\",\"SibCoin\",\"EuropeCoin\",\"ZeitCoin\",\"SwingCoin\",\"SafeExchangeCoin\",\"Nebuchadnezzar\",\"Francs\",\"BolivarCoin\",\"Ratecoin\",\"Revenu\",\"Clockcoin\",\"VIP Tokens\",\"BitSend\",\"Omni\",\"Let it Ride\",\"PutinCoin\",\"iBankCoin\",\"Frankywillcoin\",\"MudraCoin\",\"PizzaCoin\",\"Lutetium Coin\",\"Komodo\",\"GoldBlocks\",\"CarterCoin\",\"Karbo\",\"BitTokens\",\"ZayedCoin\",\"MustangCoin\",\"ZoneCoin\",\"Circuits of Value\",\"RootCoin\",\"DopeCoin\",\"BitCurrency\",\"DollarCoin\",\"Swiscoin\",\"Shilling\",\"BuzzCoin\",\"Opair\",\"PesoBit\",\"Halloween Coin\",\"ZCoin\",\"CoffeeCoin\",\"RoyalCoin\",\"GanjaCoin V2\",\"TeamUP\",\"LanaCoin\",\"Elementrem\",\"ZClassic\",\"ARK\",\"InsaneCoin\",\"KiloCoin\",\"ArtexCoin\",\"EmberCoin\",\"XenixCoin\",\"FreeCoin\",\"PLNCoin\",\"AquariusCoin\",\"Kurrent\",\"Creatio\",\"Eternity\",\"Eurocoin\",\"BitcoinFast\",\"Stakenet\",\"BitConnect Coin\",\"MoneyCoin\",\"Enigma\",\"Cannabis Industry Coin\",\"Russiacoin\",\"PandaCoin\",\"GameUnits\",\"GAKHcoin\",\"Allsafe\",\"LiteCreed\",\"OsmiumCoin\",\"Bikercoins\",\"HexxCoin\",\"Klingon Empire Darsek\",\"Internet of People\",\"KushCoin\",\"Printerium\",\"PacCoin\",\"Impeach\",\"Citadel\",\"Zilbercoin\",\"FirstCoin\",\"BeaverCoin\",\"FindCoin\",\"VaultCoin\",\"Zero\",\"OpenChat\",\"Canada eCoin\",\"Zoin\",\"RenosCoin\",\"DubaiCoin\",\"VirtacoinPlus\",\"TajCoin\",\"Impact\",\"EB3coin\",\"Atmos\",\"HappyCoin\",\"Coinonat\",\"MacronCoin\",\"Condensate\",\"Independent Money System\",\"ArgusCoin\",\"LomoCoin\",\"ProCurrency\",\"GoldReserve\",\"BenjiRolls\",\"GrowthCoin\",\"ILCoin\",\"Phreak\",\"Degas Coin\",\"HTML5 Coin\",\"Ultimate Secure Cash\",\"EquiTrader\",\"QTUM\",\"Quantum Resistant Ledger\",\"Espers\",\"Dynamic\",\"Nano\",\"ChanCoin\",\"Dinastycoin\",\"Denarius\",\"DigitalPrice\",\"Virta Unique Coin\",\"Bitcoin Planet\",\"Unify\",\"BritCoin\",\"SocialCoin\",\"ArcticCoin\",\"DAS\",\"Linda\",\"LeviarCoin\",\"DeepOnion\",\"Bitcore\",\"gCn Coin\",\"SmartCash\",\"Signatum\",\"Onix\",\"Cream\",\"Bitcoin Cash\",\"Monoeci\",\"Draftcoin\",\"Vechain\",\"Sojourn Coin\",\"Stakecoin\",\"NewYorkCoin\",\"FrazCoin\",\"Kronecoin\",\"AdCoin\",\"Linx\",\"CoinonatX\",\"Ethereum Dark\",\"Sumokoin\",\"Obsidian\",\"Cardano\",\"Regalcoin\",\"BitcoinZ\",\"TrezarCoin\",\"Elements\",\"TerraNovaCoin\",\"VIVO Coin\",\"Rupee\",\"Bitcoin Gold\",\"WomenCoin\",\"Theresa May Coin\",\"NamoCoin\",\"LUXCoin\",\"Pirl\",\"Xios\",\"Bitcloud 2.0\",\"eBoost\",\"KekCoin\",\"BlackholeCoin\",\"Infinity Economics\",\"Pura\",\"Innova\",\"Ellaism\",\"GoByte\",\"Magnet\",\"Lamden Tau\",\"Electra\",\"Bitcoin Diamond\",\"SHIELD\",\"Cash & Back Coin\",\"UltraNote\",\"BitCoal\",\"DaxxCoin\",\"Bulwark\",\"Kalkulus\",\"AC3\",\"Lethean\",\"GermanCoin\",\"LiteCoin Ultra\",\"PopularCoin\",\"PhantomX\",\"Photon\",\"Sucre\",\"SparksPay\",\"Digiwage\",\"GunCoin\",\"IrishCoin\",\"Trollcoin\",\"Litecoin Plus\",\"Monkey Project\",\"Pioneer Coin\",\"UnitedBitcoin\",\"Interzone\",\"TokenPay\",\"1717 Masonic Commemorative Token\",\"My Big Coin\",\"TurtleCoin\",\"MUNcoin\",\"Unified Society USDEX\",\"Niobio Cash\",\"ShareChain\",\"Travelflex\",\"KREDS\",\"Tokyo Coin\",\"LitecoinCash\",\"BitFlip\",\"LottoCoin\",\"Crypto Improvement Fund\",\"Stipend\",\"Poa Network\",\"Pushi\",\"Ellerium\",\"Velox\",\"Ontology\",\"Callisto Network\",\"BitTube\",\"Poseidon\",\"Aidos Kuneen\",\"Bitspace\",\"Briacoin\",\"Ignition\",\"Bitrolium\",\"MedicCoin\",\"Alpenschillling\",\"Bitcoin Green\",\"Deviant Coin\",\"Abjcoin\",\"Semux\",\"FuturoCoin\",\"Carebit\",\"Zealium\",\"Monero Classic\",\"Proton\",\"iDealCash\",\"Jumpcoin\",\"Infinex\",\"Bitcoin Incognito\",\"KEYCO\",\"HollyWoodCoin\",\"GINcoin\",\"PlatinCoin\",\"Loki\",\"Newton Coin\",\"Swisscoin\",\"Xt3ch\",\"MassGrid\",\"TheVig\",\"PluraCoin\",\"EmaratCoin\",\"Dekado\",\"Lynx\",\"Poseidon Quark\",\"BitcoinWSpectrum\",\"Muse\",\"Motion\",\"PlusOneCoin\",\"Axe\",\"Trivechain\",\"Dystem\",\"Giant\",\"Peony Coin\",\"Absolute Coin\",\"Vitae\",\"HexCoin\",\"TPCash\",\"Webchain\",\"Ryo\",\"Urals Coin\",\"Qwertycoin\",\"ARENON\",\"EUNO\",\"MMOCoin\",\"Ketan\",\"Project Pai\",\"XDNA\",\"PAXEX\",\"Azart\",\"ThunderStake\",\"Kcash\",\"Xchange\",\"CrypticCoin\",\"Bettex coin\",\"Actinium\",\"Bitcoin SV\",\"BitMoney\",\"Junson Ming Chan Coin\",\"FREDEnergy\",\"HerbCoin\",\"Universal Molecule\",\"Lithium\",\"PirateCash\",\"Exosis\",\"Block-Logic\",\"Oduwa\",\"Beam\",\"Galilel\",\"Bithereum\",\"Crypto Sports\",\"Credit\",\"SLICE\",\"Dash Platinum\",\"Nasdacoin\",\"Beetle Coin\",\"Titan Coin\",\"Award\",\"BLAST\",\"Bitcoin Rhodium\",\"GlobalToken\",\"Insane Coin\",\"ALAX\",\"LiteDoge\",\"SolarCoin\",\"TruckCoin\",\"UFO Coin\",\"OrangeCoin\",\"BlakeCoin\",\"BitstarCoin\",\"NeosCoin\",\"HyperCoin\",\"PinkCoin\",\"Crypto Escudo\",\"AudioCoin\",\"IncaKoin\",\"Piggy Coin\",\"Crown Coin\",\"Genstake\",\"SmileyCoin\",\"XiaoMiCoin\",\"Groestlcoin\",\"CapriCoin\",\" ClubCoin\",\"Radium\",\"Bata\",\"Pakcoin\",\"Creditbit \",\"OKCash\",\"Lisk\",\"HiCoin\",\"WhiteCoin\",\"FriendshipCoin\",\"JoinCoin\",\"Triangles Coin\",\"Vollar\",\"EOS\",\"Reality Clash\",\"Oxycoin\",\"TigerCash\",\"Waves\",\"Particl\",\"Nxt\",\"ZEPHYR\",\"Gapcoin\",\"Beldex\",\"Horizen\",\"BitcoinPlus\"],\"PC 1\":{\"__ndarray__\":\"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\",\"dtype\":\"float64\",\"order\":\"little\",\"shape\":[529]},\"PC 3\":{\"__ndarray__\":\"XKoX91q04L8ybz9Tlrbgv1zeUEw+eea/H75KG0Jfxj/h6b+Qx67VP6igblvQ2ow/F9Q+60mh4b8MnKbIyNTcP6Vd4giUrtU/chr4Stx71z/nYHOpRS+Wv3+mDFoGAtA/6zToIisg17+ZoC3k9I2xv4+RRFKA44w/mhvrBCq35b8VWG3gKVeOvzdFL4GK4Yw/I0LMnmW04L/b4Ozvj7Xgv8znTuszN9A/KqK11DZgeL8T5Da62F3GP6VfdKVBzow/4OfA9yThjD8Vdc3NlrTgvxsrZ6pobaS/FGr8oXYftT8wyyCgZN+MP8emaApbtOC/DQuDJVPjjD82p3qUW7Tgv9yt+o3Y44w/YV3lYVxWjr8eCrY7GqjKv/IBfRPAB92/lQEbwkrpzz82PgIW2azFP0DZqIrIfoU/lXH1GanhjD8qJNHp9cGMP5s0pviH4Yw/bWm07a5LpL8J2UuNNFa9vzklLLpU5Iw/rRI0Z+0E0D/4CtcQZVKMPxoMy4/g2ow/HZWoILzdjD8wtVWEk7Tgv+xrJlYwjNC/sqpAqX7Rh79ErzQcTqHhv8H4y/Q7X8Y/FgYHIBnLjD/H30dp4eGMP38c3Dub5Iw/rFNcrCkLxr8HFlZQ/d6MP4f22Ib1B9M/hxY2rcf5zb/eDgFUzOOMP4GVC45YKNe/ofvB7iVYzb8iFtAEUbvlv2WdxOlWKoo/lCwHUEhfxj+1z5833LKMP85/A0E4u+W/oEO3KN5J0r9KWZpA9bTgv8lG3amJtOC/UklPhwns4L8yb+x3EeSMP/HmqK782ow/LxqrnkPgjD9PWrJNAYbQv11nOR5DoeG/p9hoX6FZxj9uwusTQnmFP7Hs1uUEX8Y/KFggck+6xL8DMLzoRKHhv1/e1ikvX8Y/boOOsEZfxj/rdzWtbV/GP03JAz9oVY6/NcN8myC34L/lZs9YfrTgvzEfnVtV4Yw/WE1pKs8Wm7+0OS6boo61P7V5tP/3zow/QGCHGUeh4b96vyzqmHmFP1r6BTkOX8Y/B/nV+UC75b+LZcR5ELXgv11q5bdQZNQ/xER5l6Ga1z9n7+8uEU2ov+KXRttOrMW/9qIH2JvZjD9qGtMBWiDXv+mGJqLvB92/AncJd1CEjD+HNv0+NFjNv97mH/uAz4w/q0WpLjO75b/bkKL6ruSMP0jtdCguWs2/cIg3peLNjD+wG82tW7Tgv+kKOW41u+W/30L0RgxpjD+0vTAOj93bPwN3Ff3WhdC/HxrdnBQ/0D8I7dZnerbRP9tfkd9z44w/P3CHzGK04L8jdFAFdqKJP1gZJmZMadc/TnvRca/kjD/bmi28TF/GPxVQFroYDYM/Ekx52kOh4b+fI42PoAPkPzO3zMUUWo6/ZesrYNKV1j/iXqHvOV/GP1F8+V1P0ee/4ubnlsNXjr/y/3QhiceCvyRNtpgP24w/E2BzJr3UjD+G4faw7VjNv3DwZ2Air9U/2l7vkEG75b9QbJ3JdDbaP5pdLAoqIde/ZTVztwC35b8RnDqnoFeOv7iTiiI8X8Y/Q/RPcHJB3b/z0uqPf8WMP5SggCaGz9g/bwyicy0g1787MJGagsHhv6S4Rtf82Yw/MSvoWSwg17/sHL+bPZXFPzu9/Lc48eO/J2Ah8WO04L+JOUP3rljNvxwA4HALXY6/yNdls4mW2T9QDL3nFuCMP3fh8SN9A9Y/6RnTPnKh4b+4pRrqWRrPv38zXRUyINe/+XxXqrhHyb+fs0tlQUykv3on71tu44w/VFgY3ppXjr8R7KvCjKHhv0KAWAZXINe/FRyrS6gg178jOF7uSt7jv4t0EDReoeG/CU5lj6/kjD8YtCyx/eW2v13Q8G3BtuC/uN3YBWK04L9iXXmLlrTgv8QFETXcudi/i8c41hxWjr9lJAPe3ojQv8bMB/71Zd0/sY6sKVCh4b97klTQebTgvyRg3Wdjvdc/xHcuPiog17+phjPEXV/GPzzsC8RDoeG/yqduhV604L9qDY2FgDrQP7Gqj+hbtOC/puzjnxjRjD95lS09SVnNvxglg81XX8Y/cudEw9Qiyb+Mzq6zmuKMP+zEOdS1kOW/VZZCbUROpL94PvxDa7Tgvy6xdSRoouG/dwfBcbat1D/g5QHcTVCkv+XC7ICuudi/VT0wpqSX37+z30j3HE6kv8snga87aOW/90WgDxGv1T9MWoAD3nvXPzeDay6WOsE/m1uxUk+h4b/Ip8PDCbuLP/uBgfIex46/X4KdWapq5r/LJsZpRaHhvzYhwmBfTaS/3DM8f2e04L+C0OXBYLTgv2KhmuX2Yo6/n7NLZUFMpL/A/UWkTKHhv9o5DYU1INe/A1eGbGi04L/nI0Nupmvbv2mSqWtjtOC/29t4jae04L9rIq8PRKHhv7b3z6Znvdc/DBNw0G604L84vc17jZDOv1f8+xNetOC/6LLS8Fy04L/cd134rR/Sv0GLeTmKmdC/na+oNpjkjD9QIHOgXr3XPw4hqiPqldY/3+/HZJ204L/L4tQeLCDXvw0d0uRGoeG/1a2K52K04L+2GUGGp6SUvxuWkYRdtOC/n7lzT6bU3D/vTYgoHVjNv4ZiEcbr/dC/E3zoj07kjD/AgQrVvLnYv2YaUYVXdI6/4/Mynt171z/XavfCrrbgv0LSi9fm1Yw/j1ClhNeV1j8ci2eTVFjNvz23VMaoJNA/p0MJeVSh4b9aIdd52W/iv+F/JfaEoeG/j+yoY29vjD8lWgewpE+kvyh0gIlYoeG/kUIRBKWxtb8QTHDlclqkv/6xVg21oeG/L51M5l+04L8vpx2oXrTgv7jtWcLItOC/ql5l7ASQsr/JHVPZT6HhvxgWcAlX4Yw/1zQe0Kldzb/VIDysI1HGPzYuvvAPTKS/5jmH2nC04L8sijcatSrmv19LRt2SjrG/p3UxviThjD9jZErbJue2v1sFgV5/1Nw/QGbDyR1r5r8jiKdy7cHVP6JkDXJks9o/gnHquo5U1D+6clJP17TXP65JNJ4b3uO/HlLEUEVcjr+Fmt0+RN7jv3w3omlWAea/9qWJnAvijD+ZMiWDPrvlv1Om6GYY4ow/JY4EyBFajr9xAKzPGFaOvxZZBZHu2uC/DdmqmVO91z+gf5KcPbvlvz4fFi2RxdU/sRzTCn57ob9tMRIWEn67P1iLKwAU+tG/N5TCdkaCjr9zanEeagHmv9osOvlBX8Y/8+pJRUqh4b9CGcBMK1jNvzSRNRzw8dM/x9f9xSXFiz9+YHbVDUykvzVzCMangZO/sSuQ2gzjjD9d3/T2WuCMP3mju/sR3ow/X/4NsfDdjD8whZTAabTgv6qzr3ddtOC/JYIZB1G91z+r7fJVGlqVvysTV7CkQ9O/k+ZHm0mh4b/h43u/IlbXP+6rt3TjStK/YKz1Bx/Pj7+cPFM+XbTgv5K0qPv3BdA/U6PaXatexL/ppGC+0nvXPyqjW/AYG+G/nLTQfZQg179lvs2GrN/jvyDg6Y7REd2/+kMYhVKW2T+6TZ9PXrTgv+aScTFQbuK/p6uwR+LVjD8LrrOmnhavv3lOnYpktOC/+5S7nUw1sr/CmjlIJXSOv0qXBOTxBdA/s4OOiOau1T92KJRP9QXQP+Nic3dloeG/jreh+ZM4wT/iPvj63yDkv25r7SGhu+W/fItZ2e480D9kF9Tup7TgvwT0vSduK9c/i+zIFma91z+fwAa1pqTVPz1ZIbON/9S/+GeaU7Uf0r/fdY5IFm6OvyAQZGlR0tw/iRJOtBTT4L+6oeB9b7Tgv0GT1PnxeYo/3A+Jj16h4b9GiZIxjTyxP28YuxpRVo6/WYyst/UF0D+yQ85L1R/Sv/fkM9lwBNA/bVMP7X7djD/gqXHx3LXgv0uPBZ9ctOC/cGu+4NiF0L/BeiTF61aOv+zLGh4+X8Y/LKKzSFxiyT9Mkc+pr+W2v2CSBs8hcLg/je+VECMPwb/dQ/BssZvTP3/SOoLPJds/phvtkua04L8sRnFWobzXP3MXZF1JE4c/v+w1iReW2T8T88LlJoK1P+pxAMU6u9i/EswC20ObMEAePOxLK+KMP0HPU8oaC4Q/WSZD06N8jr/kW3mPrJ7Vv+uAPu/VnSRABiIG6Uah4b8iydh285bGv5jkcnFnWM2/+TuTBlC0v7+NzDNTr6jVP3oOVUFEvNc/ktlpKrXjjD/liTJfg4/XPwCDDa0k3uO/OTJ8tFu04L8R23YWXLTgv9wZIViTe9c/lCMZXeJazb+dcp4sZq3UP2cJCwlk/pS/h1bPL8dMpL/NtVkOY7Tgv64eKOzf4as/Vjb5c91bjr8+QyE1hW7iv+g0ciFlTKS/wDekmFm91z9H8JhqlLKNPwHfQtg2ueC/eCRQtrextb9ZjX1w45XWP6lEm+LOYNc/Cf34TOGk0z9D588MVljNv+jd/2W5rdQ/UEssqem81z+0iyHpXqDaP2CInO0Tg9Y/FJ+qFhjM4L8hcG5+IVjNv0kusYsPlNY/TQMhURJj5b9+73NscbrXPy9+h6tutOC/2S1ucGmx2L+pUQ/ptITQv6FpTYMxINK/voQtB/SOsb+GllczR5N7P2G7wPK7gNA/K0CG3GuByT/JXQdLcVaOvy4gD3VJz9G/Jhak8asf0r9Co8/KLm7ivye6Y0bmdM2/PIM7zAfs3L8dNCma9h/Sv1k4fP7/44w/YGDFJMu04L8fX5vuStPcP32Azw4/pNk/HEH7njME1z/du+kwgojYPxAY4cfuhdC/1s2njleh4b9Sy4fnQlnNv2RmbmU7TaS/GP+xfOFLxj/F6qJ+4WPbvxRoGkjqhdC/1UCZDI5Wjr8lsGtHEr7gv3C1bo0sjMo/DA6zSqmA0D/nz+BKUGXXPzo6MQrixL0/Wp4y1KKt1D9gIsL6QV/GP96eafruJuc/dCbSfDDH0L/YEOYqa6/XP+w6jW9CbuK/Eehz4UrCzz/lAy4jUsLPP1p2OTl4or8/myb9eWPh1z8rUzKqM92MPwIlhnNktOC/B7zHyYt71z84/fhQNm7iv6KaDNnIe9c/hdodRKUf0r8RQxc86g7hv/TFix1ettE/xL3GANWF0L8l/HkobrTgvwivsmM2mca/3eFQzs5m5b+rInSgeKHhv8RX22vsXsY/aoFabg5Nwr9K1N38f17GP+s3AfdRoeG/OablOFAywT9l74H8beDgvyTmb6NJX4I/FH5lEbmh4b+NzW0kHOjPP7Q+ZJhytOC/jEI/KVO2zz9MHgvqarTgv+Wf3MPejbG/+X73pV+04L8iqlwRTqLhv58UOeCLaow/46tRILa64L8g5APqdGTXv/Jmlv2gouG/byIuEC9fxj+yIX7IebTgv/Oh8O49/nI/j7nyYUu14L9HptHXBx+1Px0RBNG7oeG/4soF4Z604L8rMcQ+sEukv+y+iMYG5Iw/5xP5dFLXjD9mrcquu4fcv4n3sLCEINe/rXzc6G86wT+xEqSTG7XNv30w9V32tOC/TdM4eehJ0r8OZ4MUUD/QP7aMQfcwu+W/inatX26t1T9Ax5B33jPBP+MVkxsTr9U/OXn5ZBgzwT81D2WlWaCxvwai4mFGCiVA+47WGNpLpL/FSTjAs63bP8/kjnJ3Fa4/8ifxnH204L+hnbAngbjXP+I3gmDce9c/EgF9DwBYzb8=\",\"dtype\":\"float64\",\"order\":\"little\",\"shape\":[529]},\"PC_1\":{\"__ndarray__\":\"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\",\"dtype\":\"float64\",\"order\":\"little\",\"shape\":[529]},\"PC_3\":{\"__ndarray__\":\"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\",\"dtype\":\"float64\",\"order\":\"little\",\"shape\":[529]}},\"selected\":{\"id\":\"1153\"},\"selection_policy\":{\"id\":\"1167\"}},\"id\":\"1152\",\"type\":\"ColumnDataSource\"},{\"attributes\":{},\"id\":\"1167\",\"type\":\"UnionRenderers\"},{\"attributes\":{\"label\":{\"value\":\"1\"},\"renderers\":[{\"id\":\"1179\"}]},\"id\":\"1193\",\"type\":\"LegendItem\"},{\"attributes\":{\"children\":[[{\"id\":\"1009\"},0,0],[{\"id\":\"1116\"},0,1],[{\"id\":\"1222\"},0,2]]},\"id\":\"1370\",\"type\":\"GridBox\"},{\"attributes\":{\"fill_color\":{\"value\":\"#e5ae38\"},\"hatch_color\":{\"value\":\"#e5ae38\"},\"line_color\":{\"value\":\"#e5ae38\"},\"size\":{\"value\":5.477225575051661},\"x\":{\"field\":\"PC 2\"},\"y\":{\"field\":\"PC 3\"}},\"id\":\"1304\",\"type\":\"Scatter\"},{\"attributes\":{\"end\":3.993006145837664,\"reset_end\":3.993006145837664,\"reset_start\":-3.3491734709039447,\"start\":-3.3491734709039447,\"tags\":[[[\"PC 2\",\"PC 2\",null]]]},\"id\":\"1005\",\"type\":\"Range1d\"},{\"attributes\":{\"angle\":{\"value\":0.0},\"fill_alpha\":{\"value\":1.0},\"fill_color\":{\"value\":\"#fc4f30\"},\"hatch_alpha\":{\"value\":1.0},\"hatch_color\":{\"value\":\"#fc4f30\"},\"hatch_scale\":{\"value\":12.0},\"hatch_weight\":{\"value\":1.0},\"line_alpha\":{\"value\":1.0},\"line_cap\":{\"value\":\"butt\"},\"line_color\":{\"value\":\"#fc4f30\"},\"line_dash\":{\"value\":[]},\"line_dash_offset\":{\"value\":0},\"line_join\":{\"value\":\"bevel\"},\"line_width\":{\"value\":1},\"marker\":{\"value\":\"circle\"},\"size\":{\"value\":5.477225575051661},\"x\":{\"field\":\"PC 1\"},\"y\":{\"field\":\"PC 2\"}},\"id\":\"1087\",\"type\":\"Scatter\"},{\"attributes\":{\"fill_alpha\":{\"value\":0.1},\"fill_color\":{\"value\":\"#e5ae38\"},\"hatch_alpha\":{\"value\":0.1},\"hatch_color\":{\"value\":\"#e5ae38\"},\"line_alpha\":{\"value\":0.1},\"line_color\":{\"value\":\"#e5ae38\"},\"size\":{\"value\":5.477225575051661},\"x\":{\"field\":\"PC 1\"},\"y\":{\"field\":\"PC 2\"}},\"id\":\"1092\",\"type\":\"Scatter\"},{\"attributes\":{\"angle\":{\"value\":0.0},\"fill_alpha\":{\"value\":1.0},\"fill_color\":{\"value\":\"#fc4f30\"},\"hatch_alpha\":{\"value\":1.0},\"hatch_color\":{\"value\":\"#fc4f30\"},\"hatch_scale\":{\"value\":12.0},\"hatch_weight\":{\"value\":1.0},\"line_alpha\":{\"value\":1.0},\"line_cap\":{\"value\":\"butt\"},\"line_color\":{\"value\":\"#fc4f30\"},\"line_dash\":{\"value\":[]},\"line_dash_offset\":{\"value\":0},\"line_join\":{\"value\":\"bevel\"},\"line_width\":{\"value\":1},\"marker\":{\"value\":\"circle\"},\"size\":{\"value\":5.477225575051661},\"x\":{\"field\":\"PC 1\"},\"y\":{\"field\":\"PC 3\"}},\"id\":\"1194\",\"type\":\"Scatter\"},{\"attributes\":{},\"id\":\"1196\",\"type\":\"Selection\"},{\"attributes\":{\"tools\":[{\"id\":\"1113\"},{\"id\":\"1133\"},{\"id\":\"1134\"},{\"id\":\"1135\"},{\"id\":\"1136\"},{\"id\":\"1137\"}]},\"id\":\"1139\",\"type\":\"Toolbar\"},{\"attributes\":{},\"id\":\"1089\",\"type\":\"Selection\"},{\"attributes\":{\"fill_color\":{\"value\":\"#e5ae38\"},\"hatch_color\":{\"value\":\"#e5ae38\"},\"line_color\":{\"value\":\"#e5ae38\"},\"size\":{\"value\":5.477225575051661},\"x\":{\"field\":\"PC 1\"},\"y\":{\"field\":\"PC 3\"}},\"id\":\"1198\",\"type\":\"Scatter\"},{\"attributes\":{\"angle\":{\"value\":0.0},\"fill_alpha\":{\"value\":1.0},\"fill_color\":{\"value\":\"#30a2da\"},\"hatch_alpha\":{\"value\":1.0},\"hatch_color\":{\"value\":\"#30a2da\"},\"hatch_scale\":{\"value\":12.0},\"hatch_weight\":{\"value\":1.0},\"line_alpha\":{\"value\":1.0},\"line_cap\":{\"value\":\"butt\"},\"line_color\":{\"value\":\"#30a2da\"},\"line_dash\":{\"value\":[]},\"line_dash_offset\":{\"value\":0},\"line_join\":{\"value\":\"bevel\"},\"line_width\":{\"value\":1},\"marker\":{\"value\":\"circle\"},\"size\":{\"value\":5.477225575051661},\"x\":{\"field\":\"PC 1\"},\"y\":{\"field\":\"PC 2\"}},\"id\":\"1065\",\"type\":\"Scatter\"},{\"attributes\":{\"end\":35.53652364396417,\"reset_end\":35.53652364396417,\"reset_start\":-1.9155350771898558,\"start\":-1.9155350771898558,\"tags\":[[[\"PC 1\",\"PC 1\",null]]]},\"id\":\"1004\",\"type\":\"Range1d\"},{\"attributes\":{\"data\":{\"Class\":[2.0,2.0],\"CoinName\":[\"BiblePay\",\"Acute Angle Cloud\"],\"PC 1\":{\"__ndarray__\":\"RVr1Y0z7yb/mqajjtbTWvw==\",\"dtype\":\"float64\",\"order\":\"little\",\"shape\":[2]},\"PC 2\":{\"__ndarray__\":\"eHgBF++sBkB4qznwXj4KQA==\",\"dtype\":\"float64\",\"order\":\"little\",\"shape\":[2]},\"PC_1\":{\"__ndarray__\":\"RVr1Y0z7yb/mqajjtbTWvw==\",\"dtype\":\"float64\",\"order\":\"little\",\"shape\":[2]},\"PC_2\":{\"__ndarray__\":\"eHgBF++sBkB4qznwXj4KQA==\",\"dtype\":\"float64\",\"order\":\"little\",\"shape\":[2]}},\"selected\":{\"id\":\"1089\"},\"selection_policy\":{\"id\":\"1107\"}},\"id\":\"1088\",\"type\":\"ColumnDataSource\"},{\"attributes\":{\"label\":{\"value\":\"0\"},\"renderers\":[{\"id\":\"1158\"}]},\"id\":\"1171\",\"type\":\"LegendItem\"},{\"attributes\":{\"source\":{\"id\":\"1301\"}},\"id\":\"1308\",\"type\":\"CDSView\"},{\"attributes\":{\"axis_label\":\"PC 1\",\"coordinates\":null,\"formatter\":{\"id\":\"1040\"},\"group\":null,\"major_label_policy\":{\"id\":\"1041\"},\"ticker\":{\"id\":\"1019\"}},\"id\":\"1018\",\"type\":\"LinearAxis\"},{\"attributes\":{\"source\":{\"id\":\"1195\"}},\"id\":\"1202\",\"type\":\"CDSView\"},{\"attributes\":{\"fill_color\":{\"value\":\"#fc4f30\"},\"hatch_color\":{\"value\":\"#fc4f30\"},\"line_color\":{\"value\":\"#fc4f30\"},\"size\":{\"value\":5.477225575051661},\"x\":{\"field\":\"PC 2\"},\"y\":{\"field\":\"PC 3\"}},\"id\":\"1282\",\"type\":\"Scatter\"},{\"attributes\":{\"coordinates\":null,\"data_source\":{\"id\":\"1279\"},\"glyph\":{\"id\":\"1282\"},\"group\":null,\"hover_glyph\":null,\"muted_glyph\":{\"id\":\"1284\"},\"nonselection_glyph\":{\"id\":\"1283\"},\"selection_glyph\":{\"id\":\"1300\"},\"view\":{\"id\":\"1286\"}},\"id\":\"1285\",\"type\":\"GlyphRenderer\"},{\"attributes\":{\"callback\":null,\"renderers\":[{\"id\":\"1051\"},{\"id\":\"1072\"},{\"id\":\"1094\"}],\"tags\":[\"hv_created\"],\"tooltips\":[[\"Class\",\"@{Class}\"],[\"PC 1\",\"@{PC_1}\"],[\"PC 2\",\"@{PC_2}\"],[\"CoinName\",\"@{CoinName}\"]]},\"id\":\"1006\",\"type\":\"HoverTool\"},{\"attributes\":{\"axis\":{\"id\":\"1018\"},\"coordinates\":null,\"grid_line_color\":null,\"group\":null,\"ticker\":null},\"id\":\"1021\",\"type\":\"Grid\"},{\"attributes\":{\"fill_alpha\":{\"value\":0.2},\"fill_color\":{\"value\":\"#e5ae38\"},\"hatch_alpha\":{\"value\":0.2},\"hatch_color\":{\"value\":\"#e5ae38\"},\"line_alpha\":{\"value\":0.2},\"line_color\":{\"value\":\"#e5ae38\"},\"size\":{\"value\":5.477225575051661},\"x\":{\"field\":\"PC 1\"},\"y\":{\"field\":\"PC 3\"}},\"id\":\"1200\",\"type\":\"Scatter\"},{\"attributes\":{\"fill_alpha\":{\"value\":0.2},\"fill_color\":{\"value\":\"#e5ae38\"},\"hatch_alpha\":{\"value\":0.2},\"hatch_color\":{\"value\":\"#e5ae38\"},\"line_alpha\":{\"value\":0.2},\"line_color\":{\"value\":\"#e5ae38\"},\"size\":{\"value\":5.477225575051661},\"x\":{\"field\":\"PC 2\"},\"y\":{\"field\":\"PC 3\"}},\"id\":\"1306\",\"type\":\"Scatter\"},{\"attributes\":{\"below\":[{\"id\":\"1018\"}],\"center\":[{\"id\":\"1021\"},{\"id\":\"1025\"}],\"height\":300,\"left\":[{\"id\":\"1022\"}],\"margin\":null,\"min_border_bottom\":10,\"min_border_left\":10,\"min_border_right\":10,\"min_border_top\":10,\"renderers\":[{\"id\":\"1051\"},{\"id\":\"1072\"},{\"id\":\"1094\"}],\"right\":[{\"id\":\"1063\"}],\"sizing_mode\":\"fixed\",\"title\":{\"id\":\"1010\"},\"toolbar\":{\"id\":\"1032\"},\"toolbar_location\":null,\"width\":700,\"x_range\":{\"id\":\"1004\"},\"x_scale\":{\"id\":\"1014\"},\"y_range\":{\"id\":\"1005\"},\"y_scale\":{\"id\":\"1016\"}},\"id\":\"1009\",\"subtype\":\"Figure\",\"type\":\"Plot\"},{\"attributes\":{},\"id\":\"1148\",\"type\":\"AllLabels\"},{\"attributes\":{\"angle\":{\"value\":0.0},\"fill_alpha\":{\"value\":1.0},\"fill_color\":{\"value\":\"#30a2da\"},\"hatch_alpha\":{\"value\":1.0},\"hatch_color\":{\"value\":\"#30a2da\"},\"hatch_scale\":{\"value\":12.0},\"hatch_weight\":{\"value\":1.0},\"line_alpha\":{\"value\":1.0},\"line_cap\":{\"value\":\"butt\"},\"line_color\":{\"value\":\"#30a2da\"},\"line_dash\":{\"value\":[]},\"line_dash_offset\":{\"value\":0},\"line_join\":{\"value\":\"bevel\"},\"line_width\":{\"value\":1},\"marker\":{\"value\":\"circle\"},\"size\":{\"value\":5.477225575051661},\"x\":{\"field\":\"PC 2\"},\"y\":{\"field\":\"PC 3\"}},\"id\":\"1278\",\"type\":\"Scatter\"},{\"attributes\":{\"children\":[{\"id\":\"1372\"},{\"id\":\"1370\"}]},\"id\":\"1373\",\"type\":\"Column\"},{\"attributes\":{\"callback\":null,\"renderers\":[{\"id\":\"1264\"},{\"id\":\"1285\"},{\"id\":\"1307\"}],\"tags\":[\"hv_created\"],\"tooltips\":[[\"Class\",\"@{Class}\"],[\"PC 2\",\"@{PC_2}\"],[\"PC 3\",\"@{PC_3}\"],[\"CoinName\",\"@{CoinName}\"]]},\"id\":\"1219\",\"type\":\"HoverTool\"},{\"attributes\":{\"data\":{\"Class\":[2.0,2.0],\"CoinName\":[\"BiblePay\",\"Acute Angle Cloud\"],\"PC 2\":{\"__ndarray__\":\"eHgBF++sBkB4qznwXj4KQA==\",\"dtype\":\"float64\",\"order\":\"little\",\"shape\":[2]},\"PC 3\":{\"__ndarray__\":\"eSiZGjasNEBTCBM5PckhQA==\",\"dtype\":\"float64\",\"order\":\"little\",\"shape\":[2]},\"PC_2\":{\"__ndarray__\":\"eHgBF++sBkB4qznwXj4KQA==\",\"dtype\":\"float64\",\"order\":\"little\",\"shape\":[2]},\"PC_3\":{\"__ndarray__\":\"eSiZGjasNEBTCBM5PckhQA==\",\"dtype\":\"float64\",\"order\":\"little\",\"shape\":[2]}},\"selected\":{\"id\":\"1302\"},\"selection_policy\":{\"id\":\"1320\"}},\"id\":\"1301\",\"type\":\"ColumnDataSource\"},{\"attributes\":{\"callback\":null,\"renderers\":[{\"id\":\"1158\"},{\"id\":\"1179\"},{\"id\":\"1201\"}],\"tags\":[\"hv_created\"],\"tooltips\":[[\"Class\",\"@{Class}\"],[\"PC 1\",\"@{PC_1}\"],[\"PC 3\",\"@{PC_3}\"],[\"CoinName\",\"@{CoinName}\"]]},\"id\":\"1113\",\"type\":\"HoverTool\"},{\"attributes\":{\"margin\":[5,5,5,5],\"name\":\"HSpacer01198\",\"sizing_mode\":\"stretch_width\"},\"id\":\"1416\",\"type\":\"Spacer\"},{\"attributes\":{},\"id\":\"1016\",\"type\":\"LinearScale\"},{\"attributes\":{},\"id\":\"1121\",\"type\":\"LinearScale\"},{\"attributes\":{},\"id\":\"1028\",\"type\":\"WheelZoomTool\"},{\"attributes\":{},\"id\":\"1123\",\"type\":\"LinearScale\"},{\"attributes\":{},\"id\":\"1229\",\"type\":\"LinearScale\"},{\"attributes\":{\"axis\":{\"id\":\"1022\"},\"coordinates\":null,\"dimension\":1,\"grid_line_color\":null,\"group\":null,\"ticker\":null},\"id\":\"1025\",\"type\":\"Grid\"},{\"attributes\":{\"below\":[{\"id\":\"1125\"}],\"center\":[{\"id\":\"1128\"},{\"id\":\"1132\"}],\"height\":300,\"left\":[{\"id\":\"1129\"}],\"margin\":null,\"min_border_bottom\":10,\"min_border_left\":10,\"min_border_right\":10,\"min_border_top\":10,\"renderers\":[{\"id\":\"1158\"},{\"id\":\"1179\"},{\"id\":\"1201\"}],\"right\":[{\"id\":\"1170\"}],\"sizing_mode\":\"fixed\",\"title\":{\"id\":\"1117\"},\"toolbar\":{\"id\":\"1139\"},\"toolbar_location\":null,\"width\":700,\"x_range\":{\"id\":\"1004\"},\"x_scale\":{\"id\":\"1121\"},\"y_range\":{\"id\":\"1112\"},\"y_scale\":{\"id\":\"1123\"}},\"id\":\"1116\",\"subtype\":\"Figure\",\"type\":\"Plot\"},{\"attributes\":{},\"id\":\"1019\",\"type\":\"BasicTicker\"},{\"attributes\":{\"coordinates\":null,\"group\":null,\"text\":\"PC 1&3 Clusters\",\"text_color\":\"black\",\"text_font_size\":\"12pt\"},\"id\":\"1117\",\"type\":\"Title\"},{\"attributes\":{\"coordinates\":null,\"group\":null,\"text\":\"PC 2&3 Clusters\",\"text_color\":\"black\",\"text_font_size\":\"12pt\"},\"id\":\"1223\",\"type\":\"Title\"},{\"attributes\":{\"data\":{\"Class\":[0.0,0.0,0.0,0.0,0.0,0.0,0.0,0.0,0.0,0.0,0.0,0.0,0.0,0.0,0.0,0.0,0.0,0.0,0.0,0.0,0.0,0.0,0.0,0.0,0.0,0.0,0.0,0.0,0.0,0.0,0.0,0.0,0.0,0.0,0.0,0.0,0.0,0.0,0.0,0.0,0.0,0.0,0.0,0.0,0.0,0.0,0.0,0.0,0.0,0.0,0.0,0.0,0.0,0.0,0.0,0.0,0.0,0.0,0.0,0.0,0.0,0.0,0.0,0.0,0.0,0.0,0.0,0.0,0.0,0.0,0.0,0.0,0.0,0.0,0.0,0.0,0.0,0.0,0.0,0.0,0.0,0.0,0.0,0.0,0.0,0.0,0.0,0.0,0.0,0.0,0.0,0.0,0.0,0.0,0.0,0.0,0.0,0.0,0.0,0.0,0.0,0.0,0.0,0.0,0.0,0.0,0.0,0.0,0.0,0.0,0.0,0.0,0.0,0.0,0.0,0.0,0.0,0.0,0.0,0.0,0.0,0.0,0.0,0.0,0.0,0.0,0.0,0.0,0.0,0.0,0.0,0.0,0.0,0.0,0.0,0.0,0.0,0.0,0.0,0.0,0.0,0.0,0.0,0.0,0.0,0.0,0.0,0.0,0.0,0.0,0.0,0.0,0.0,0.0,0.0,0.0,0.0,0.0,0.0,0.0,0.0,0.0,0.0,0.0,0.0,0.0,0.0,0.0,0.0,0.0,0.0,0.0,0.0,0.0,0.0,0.0,0.0,0.0,0.0,0.0,0.0,0.0,0.0,0.0,0.0,0.0,0.0,0.0,0.0,0.0,0.0,0.0,0.0,0.0,0.0,0.0,0.0,0.0,0.0,0.0,0.0,0.0,0.0,0.0,0.0,0.0,0.0,0.0,0.0,0.0,0.0,0.0,0.0,0.0,0.0,0.0,0.0,0.0,0.0,0.0,0.0,0.0,0.0,0.0,0.0,0.0,0.0,0.0,0.0,0.0,0.0,0.0,0.0,0.0,0.0,0.0,0.0,0.0,0.0,0.0,0.0,0.0,0.0,0.0,0.0,0.0,0.0,0.0,0.0,0.0,0.0,0.0,0.0,0.0,0.0,0.0,0.0,0.0,0.0,0.0,0.0,0.0,0.0,0.0,0.0,0.0,0.0,0.0,0.0,0.0,0.0,0.0,0.0,0.0,0.0,0.0,0.0,0.0,0.0,0.0,0.0,0.0,0.0,0.0,0.0,0.0,0.0,0.0,0.0,0.0,0.0,0.0,0.0,0.0,0.0,0.0,0.0,0.0,0.0,0.0,0.0,0.0,0.0,0.0,0.0,0.0,0.0,0.0,0.0,0.0,0.0,0.0,0.0,0.0,0.0,0.0,0.0,0.0,0.0,0.0,0.0,0.0,0.0,0.0,0.0,0.0,0.0,0.0,0.0,0.0,0.0,0.0,0.0,0.0,0.0,0.0,0.0,0.0,0.0,0.0,0.0,0.0,0.0,0.0,0.0,0.0,0.0,0.0,0.0,0.0,0.0,0.0,0.0,0.0,0.0,0.0,0.0,0.0,0.0,0.0,0.0,0.0,0.0,0.0,0.0,0.0,0.0,0.0,0.0,0.0,0.0,0.0,0.0,0.0,0.0,0.0,0.0,0.0,0.0,0.0,0.0,0.0,0.0,0.0,0.0,0.0,0.0,0.0,0.0,0.0,0.0,0.0,0.0,0.0,0.0,0.0,0.0,0.0,0.0,0.0,0.0,0.0,0.0,0.0,0.0,0.0,0.0,0.0,0.0,0.0,0.0,0.0,0.0,0.0,0.0,0.0,0.0,0.0,0.0,0.0,0.0,0.0,0.0,0.0,0.0,0.0,0.0,0.0,0.0,0.0,0.0,0.0,0.0,0.0,0.0,0.0,0.0,0.0,0.0,0.0,0.0,0.0,0.0,0.0,0.0,0.0,0.0,0.0,0.0,0.0,0.0,0.0,0.0,0.0,0.0,0.0,0.0,0.0,0.0,0.0,0.0,0.0,0.0,0.0,0.0,0.0,0.0,0.0,0.0,0.0,0.0,0.0,0.0,0.0,0.0,0.0,0.0,0.0,0.0,0.0,0.0,0.0,0.0,0.0,0.0,0.0,0.0,0.0,0.0,0.0,0.0,0.0,0.0,0.0,0.0,0.0,0.0,0.0,0.0,0.0,0.0,0.0,0.0,0.0,0.0,0.0,0.0,0.0,0.0,0.0,0.0,0.0,0.0,0.0,0.0,0.0,0.0,0.0,0.0,0.0,0.0,0.0,0.0,0.0,0.0,0.0,0.0,0.0,0.0],\"CoinName\":[\"42 Coin\",\"404Coin\",\"EliteCoin\",\"Bitcoin\",\"Ethereum\",\"Litecoin\",\"Dash\",\"Monero\",\"Ethereum Classic\",\"ZCash\",\"Bitshares\",\"DigiByte\",\"BitcoinDark\",\"PayCoin\",\"ProsperCoin\",\"KoboCoin\",\"Spreadcoin\",\"Argentum\",\"Aurora Coin\",\"BlueCoin\",\"MyriadCoin\",\"MoonCoin\",\"ZetaCoin\",\"SexCoin\",\"Quatloo\",\"EnergyCoin\",\"QuarkCoin\",\"Riecoin\",\"Digitalcoin \",\"BitBar\",\"Catcoin\",\"CryptoBullion\",\"CannaCoin\",\"CryptCoin\",\"CasinoCoin\",\"Diamond\",\"Verge\",\"DevCoin\",\"EarthCoin\",\"E-Gulden\",\"Einsteinium\",\"Emerald\",\"Exclusive Coin\",\"FlutterCoin\",\"Franko\",\"FeatherCoin\",\"GrandCoin\",\"GlobalCoin\",\"GoldCoin\",\"HoboNickels\",\"HyperStake\",\"Infinite Coin\",\"IOCoin\",\"IXcoin\",\"KrugerCoin\",\"LuckyCoin\",\"Litebar \",\"MaxCoin\",\"MegaCoin\",\"MediterraneanCoin\",\"MintCoin\",\"MinCoin\",\"MazaCoin\",\"Nautilus Coin\",\"NavCoin\",\"NobleCoin\",\"Namecoin\",\"NyanCoin\",\"OpalCoin\",\"Orbitcoin\",\"PotCoin\",\"PhoenixCoin\",\"Reddcoin\",\"RonPaulCoin\",\"StableCoin\",\"SmartCoin\",\"SuperCoin\",\"SyncCoin\",\"SysCoin\",\"TeslaCoin\",\"TigerCoin\",\"TittieCoin\",\"TorCoin\",\"TerraCoin\",\"UnbreakableCoin\",\"Unobtanium\",\"UroCoin\",\"UnitaryStatus Dollar\",\"UltraCoin\",\"ViaCoin\",\"VeriCoin\",\"Vertcoin\",\"WorldCoin\",\"X11 Coin\",\"Crypti\",\"JouleCoin\",\"StealthCoin\",\"ZCC Coin\",\"ByteCoin\",\"DigitalNote \",\"BurstCoin\",\"StorjCoin\",\"MonaCoin\",\"Neutron\",\"FairCoin\",\"Gulden\",\"RubyCoin\",\"PesetaCoin\",\"Kore\",\"Wild Beast Coin\",\"Dnotes\",\"Flo\",\"8BIT Coin\",\"Sativa Coin\",\"ArtByte\",\"Folding Coin\",\"Ucoin\",\"Unitus\",\"CypherPunkCoin\",\"OmniCron\",\"Vtorrent\",\"GreenCoin\",\"Cryptonite\",\"MasterCoin\",\"SoonCoin\",\"1Credit\",\"IslaCoin\",\"Nexus\",\"MarsCoin \",\"Crypto\",\"Anarchists Prime\",\"Droidz\",\"BowsCoin\",\"Squall Coin\",\"Song Coin\",\"BitZeny\",\"Diggits\",\"Expanse\",\"Paycon\",\"Siacoin\",\"Emercoin\",\"EverGreenCoin\",\"MindCoin\",\"I0coin\",\"Decred\",\"Revolution VR\",\"HOdlcoin\",\"EDRCoin\",\"Hitcoin\",\"Gamecredits\",\"DubaiCoin\",\"CarpeDiemCoin\",\"PWR Coin\",\"BillaryCoin\",\"GPU Coin\",\"Adzcoin\",\"SoilCoin\",\"YoCoin\",\"SibCoin\",\"EuropeCoin\",\"ZeitCoin\",\"SwingCoin\",\"SafeExchangeCoin\",\"Nebuchadnezzar\",\"Francs\",\"BolivarCoin\",\"Ratecoin\",\"Revenu\",\"Clockcoin\",\"VIP Tokens\",\"BitSend\",\"Omni\",\"Let it Ride\",\"PutinCoin\",\"iBankCoin\",\"Frankywillcoin\",\"MudraCoin\",\"PizzaCoin\",\"Lutetium Coin\",\"Komodo\",\"GoldBlocks\",\"CarterCoin\",\"Karbo\",\"BitTokens\",\"ZayedCoin\",\"MustangCoin\",\"ZoneCoin\",\"Circuits of Value\",\"RootCoin\",\"DopeCoin\",\"BitCurrency\",\"DollarCoin\",\"Swiscoin\",\"Shilling\",\"BuzzCoin\",\"Opair\",\"PesoBit\",\"Halloween Coin\",\"ZCoin\",\"CoffeeCoin\",\"RoyalCoin\",\"GanjaCoin V2\",\"TeamUP\",\"LanaCoin\",\"Elementrem\",\"ZClassic\",\"ARK\",\"InsaneCoin\",\"KiloCoin\",\"ArtexCoin\",\"EmberCoin\",\"XenixCoin\",\"FreeCoin\",\"PLNCoin\",\"AquariusCoin\",\"Kurrent\",\"Creatio\",\"Eternity\",\"Eurocoin\",\"BitcoinFast\",\"Stakenet\",\"BitConnect Coin\",\"MoneyCoin\",\"Enigma\",\"Cannabis Industry Coin\",\"Russiacoin\",\"PandaCoin\",\"GameUnits\",\"GAKHcoin\",\"Allsafe\",\"LiteCreed\",\"OsmiumCoin\",\"Bikercoins\",\"HexxCoin\",\"Klingon Empire Darsek\",\"Internet of People\",\"KushCoin\",\"Printerium\",\"PacCoin\",\"Impeach\",\"Citadel\",\"Zilbercoin\",\"FirstCoin\",\"BeaverCoin\",\"FindCoin\",\"VaultCoin\",\"Zero\",\"OpenChat\",\"Canada eCoin\",\"Zoin\",\"RenosCoin\",\"DubaiCoin\",\"VirtacoinPlus\",\"TajCoin\",\"Impact\",\"EB3coin\",\"Atmos\",\"HappyCoin\",\"Coinonat\",\"MacronCoin\",\"Condensate\",\"Independent Money System\",\"ArgusCoin\",\"LomoCoin\",\"ProCurrency\",\"GoldReserve\",\"BenjiRolls\",\"GrowthCoin\",\"ILCoin\",\"Phreak\",\"Degas Coin\",\"HTML5 Coin\",\"Ultimate Secure Cash\",\"EquiTrader\",\"QTUM\",\"Quantum Resistant Ledger\",\"Espers\",\"Dynamic\",\"Nano\",\"ChanCoin\",\"Dinastycoin\",\"Denarius\",\"DigitalPrice\",\"Virta Unique Coin\",\"Bitcoin Planet\",\"Unify\",\"BritCoin\",\"SocialCoin\",\"ArcticCoin\",\"DAS\",\"Linda\",\"LeviarCoin\",\"DeepOnion\",\"Bitcore\",\"gCn Coin\",\"SmartCash\",\"Signatum\",\"Onix\",\"Cream\",\"Bitcoin Cash\",\"Monoeci\",\"Draftcoin\",\"Vechain\",\"Sojourn Coin\",\"Stakecoin\",\"NewYorkCoin\",\"FrazCoin\",\"Kronecoin\",\"AdCoin\",\"Linx\",\"CoinonatX\",\"Ethereum Dark\",\"Sumokoin\",\"Obsidian\",\"Cardano\",\"Regalcoin\",\"BitcoinZ\",\"TrezarCoin\",\"Elements\",\"TerraNovaCoin\",\"VIVO Coin\",\"Rupee\",\"Bitcoin Gold\",\"WomenCoin\",\"Theresa May Coin\",\"NamoCoin\",\"LUXCoin\",\"Pirl\",\"Xios\",\"Bitcloud 2.0\",\"eBoost\",\"KekCoin\",\"BlackholeCoin\",\"Infinity Economics\",\"Pura\",\"Innova\",\"Ellaism\",\"GoByte\",\"Magnet\",\"Lamden Tau\",\"Electra\",\"Bitcoin Diamond\",\"SHIELD\",\"Cash & Back Coin\",\"UltraNote\",\"BitCoal\",\"DaxxCoin\",\"Bulwark\",\"Kalkulus\",\"AC3\",\"Lethean\",\"GermanCoin\",\"LiteCoin Ultra\",\"PopularCoin\",\"PhantomX\",\"Photon\",\"Sucre\",\"SparksPay\",\"Digiwage\",\"GunCoin\",\"IrishCoin\",\"Trollcoin\",\"Litecoin Plus\",\"Monkey Project\",\"Pioneer Coin\",\"UnitedBitcoin\",\"Interzone\",\"TokenPay\",\"1717 Masonic Commemorative Token\",\"My Big Coin\",\"TurtleCoin\",\"MUNcoin\",\"Unified Society USDEX\",\"Niobio Cash\",\"ShareChain\",\"Travelflex\",\"KREDS\",\"Tokyo Coin\",\"LitecoinCash\",\"BitFlip\",\"LottoCoin\",\"Crypto Improvement Fund\",\"Stipend\",\"Poa Network\",\"Pushi\",\"Ellerium\",\"Velox\",\"Ontology\",\"Callisto Network\",\"BitTube\",\"Poseidon\",\"Aidos Kuneen\",\"Bitspace\",\"Briacoin\",\"Ignition\",\"Bitrolium\",\"MedicCoin\",\"Alpenschillling\",\"Bitcoin Green\",\"Deviant Coin\",\"Abjcoin\",\"Semux\",\"FuturoCoin\",\"Carebit\",\"Zealium\",\"Monero Classic\",\"Proton\",\"iDealCash\",\"Jumpcoin\",\"Infinex\",\"Bitcoin Incognito\",\"KEYCO\",\"HollyWoodCoin\",\"GINcoin\",\"PlatinCoin\",\"Loki\",\"Newton Coin\",\"Swisscoin\",\"Xt3ch\",\"MassGrid\",\"TheVig\",\"PluraCoin\",\"EmaratCoin\",\"Dekado\",\"Lynx\",\"Poseidon Quark\",\"BitcoinWSpectrum\",\"Muse\",\"Motion\",\"PlusOneCoin\",\"Axe\",\"Trivechain\",\"Dystem\",\"Giant\",\"Peony Coin\",\"Absolute Coin\",\"Vitae\",\"HexCoin\",\"TPCash\",\"Webchain\",\"Ryo\",\"Urals Coin\",\"Qwertycoin\",\"ARENON\",\"EUNO\",\"MMOCoin\",\"Ketan\",\"Project Pai\",\"XDNA\",\"PAXEX\",\"Azart\",\"ThunderStake\",\"Kcash\",\"Xchange\",\"CrypticCoin\",\"Bettex coin\",\"Actinium\",\"Bitcoin SV\",\"BitMoney\",\"Junson Ming Chan Coin\",\"FREDEnergy\",\"HerbCoin\",\"Universal Molecule\",\"Lithium\",\"PirateCash\",\"Exosis\",\"Block-Logic\",\"Oduwa\",\"Beam\",\"Galilel\",\"Bithereum\",\"Crypto Sports\",\"Credit\",\"SLICE\",\"Dash Platinum\",\"Nasdacoin\",\"Beetle Coin\",\"Titan Coin\",\"Award\",\"BLAST\",\"Bitcoin Rhodium\",\"GlobalToken\",\"Insane Coin\",\"ALAX\",\"LiteDoge\",\"SolarCoin\",\"TruckCoin\",\"UFO Coin\",\"OrangeCoin\",\"BlakeCoin\",\"BitstarCoin\",\"NeosCoin\",\"HyperCoin\",\"PinkCoin\",\"Crypto Escudo\",\"AudioCoin\",\"IncaKoin\",\"Piggy Coin\",\"Crown Coin\",\"Genstake\",\"SmileyCoin\",\"XiaoMiCoin\",\"Groestlcoin\",\"CapriCoin\",\" ClubCoin\",\"Radium\",\"Bata\",\"Pakcoin\",\"Creditbit \",\"OKCash\",\"Lisk\",\"HiCoin\",\"WhiteCoin\",\"FriendshipCoin\",\"JoinCoin\",\"Triangles Coin\",\"Vollar\",\"EOS\",\"Reality Clash\",\"Oxycoin\",\"TigerCash\",\"Waves\",\"Particl\",\"Nxt\",\"ZEPHYR\",\"Gapcoin\",\"Beldex\",\"Horizen\",\"BitcoinPlus\"],\"PC 1\":{\"__ndarray__\":\"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\",\"dtype\":\"float64\",\"order\":\"little\",\"shape\":[529]},\"PC 2\":{\"__ndarray__\":\"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\",\"dtype\":\"float64\",\"order\":\"little\",\"shape\":[529]},\"PC_1\":{\"__ndarray__\":\"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\",\"dtype\":\"float64\",\"order\":\"little\",\"shape\":[529]},\"PC_2\":{\"__ndarray__\":\"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\",\"dtype\":\"float64\",\"order\":\"little\",\"shape\":[529]}},\"selected\":{\"id\":\"1046\"},\"selection_policy\":{\"id\":\"1060\"}},\"id\":\"1045\",\"type\":\"ColumnDataSource\"},{\"attributes\":{},\"id\":\"1023\",\"type\":\"BasicTicker\"},{\"attributes\":{},\"id\":\"1030\",\"type\":\"ResetTool\"},{\"attributes\":{\"coordinates\":null,\"data_source\":{\"id\":\"1088\"},\"glyph\":{\"id\":\"1091\"},\"group\":null,\"hover_glyph\":null,\"muted_glyph\":{\"id\":\"1093\"},\"nonselection_glyph\":{\"id\":\"1092\"},\"selection_glyph\":{\"id\":\"1111\"},\"view\":{\"id\":\"1095\"}},\"id\":\"1094\",\"type\":\"GlyphRenderer\"},{\"attributes\":{\"axis_label\":\"PC 2\",\"coordinates\":null,\"formatter\":{\"id\":\"1043\"},\"group\":null,\"major_label_policy\":{\"id\":\"1044\"},\"ticker\":{\"id\":\"1023\"}},\"id\":\"1022\",\"type\":\"LinearAxis\"},{\"attributes\":{},\"id\":\"1026\",\"type\":\"SaveTool\"},{\"attributes\":{},\"id\":\"1227\",\"type\":\"LinearScale\"},{\"attributes\":{\"axis_label\":\"PC 1\",\"coordinates\":null,\"formatter\":{\"id\":\"1147\"},\"group\":null,\"major_label_policy\":{\"id\":\"1148\"},\"ticker\":{\"id\":\"1126\"}},\"id\":\"1125\",\"type\":\"LinearAxis\"},{\"attributes\":{\"axis_label\":\"PC 2\",\"coordinates\":null,\"formatter\":{\"id\":\"1253\"},\"group\":null,\"major_label_policy\":{\"id\":\"1254\"},\"ticker\":{\"id\":\"1232\"}},\"id\":\"1231\",\"type\":\"LinearAxis\"},{\"attributes\":{},\"id\":\"1107\",\"type\":\"UnionRenderers\"},{\"attributes\":{},\"id\":\"1126\",\"type\":\"BasicTicker\"},{\"attributes\":{},\"id\":\"1232\",\"type\":\"BasicTicker\"},{\"attributes\":{},\"id\":\"1214\",\"type\":\"UnionRenderers\"},{\"attributes\":{},\"id\":\"1134\",\"type\":\"PanTool\"},{\"attributes\":{},\"id\":\"1240\",\"type\":\"PanTool\"},{\"attributes\":{\"label\":{\"value\":\"2\"},\"renderers\":[{\"id\":\"1201\"}]},\"id\":\"1217\",\"type\":\"LegendItem\"},{\"attributes\":{\"overlay\":{\"id\":\"1031\"}},\"id\":\"1029\",\"type\":\"BoxZoomTool\"},{\"attributes\":{\"axis\":{\"id\":\"1125\"},\"coordinates\":null,\"grid_line_color\":null,\"group\":null,\"ticker\":null},\"id\":\"1128\",\"type\":\"Grid\"},{\"attributes\":{\"axis\":{\"id\":\"1231\"},\"coordinates\":null,\"grid_line_color\":null,\"group\":null,\"ticker\":null},\"id\":\"1234\",\"type\":\"Grid\"},{\"attributes\":{\"coordinates\":null,\"data_source\":{\"id\":\"1195\"},\"glyph\":{\"id\":\"1198\"},\"group\":null,\"hover_glyph\":null,\"muted_glyph\":{\"id\":\"1200\"},\"nonselection_glyph\":{\"id\":\"1199\"},\"selection_glyph\":{\"id\":\"1218\"},\"view\":{\"id\":\"1202\"}},\"id\":\"1201\",\"type\":\"GlyphRenderer\"},{\"attributes\":{\"coordinates\":null,\"data_source\":{\"id\":\"1301\"},\"glyph\":{\"id\":\"1304\"},\"group\":null,\"hover_glyph\":null,\"muted_glyph\":{\"id\":\"1306\"},\"nonselection_glyph\":{\"id\":\"1305\"},\"selection_glyph\":{\"id\":\"1324\"},\"view\":{\"id\":\"1308\"}},\"id\":\"1307\",\"type\":\"GlyphRenderer\"},{\"attributes\":{\"label\":{\"value\":\"2\"},\"renderers\":[{\"id\":\"1307\"}]},\"id\":\"1323\",\"type\":\"LegendItem\"},{\"attributes\":{\"axis_label\":\"PC 3\",\"coordinates\":null,\"formatter\":{\"id\":\"1150\"},\"group\":null,\"major_label_policy\":{\"id\":\"1151\"},\"ticker\":{\"id\":\"1130\"}},\"id\":\"1129\",\"type\":\"LinearAxis\"},{\"attributes\":{\"axis_label\":\"PC 3\",\"coordinates\":null,\"formatter\":{\"id\":\"1256\"},\"group\":null,\"major_label_policy\":{\"id\":\"1257\"},\"ticker\":{\"id\":\"1236\"}},\"id\":\"1235\",\"type\":\"LinearAxis\"},{\"attributes\":{},\"id\":\"1254\",\"type\":\"AllLabels\"},{\"attributes\":{},\"id\":\"1027\",\"type\":\"PanTool\"},{\"attributes\":{\"axis\":{\"id\":\"1129\"},\"coordinates\":null,\"dimension\":1,\"grid_line_color\":null,\"group\":null,\"ticker\":null},\"id\":\"1132\",\"type\":\"Grid\"},{\"attributes\":{\"axis\":{\"id\":\"1235\"},\"coordinates\":null,\"dimension\":1,\"grid_line_color\":null,\"group\":null,\"ticker\":null},\"id\":\"1238\",\"type\":\"Grid\"},{\"attributes\":{\"source\":{\"id\":\"1088\"}},\"id\":\"1095\",\"type\":\"CDSView\"},{\"attributes\":{\"label\":{\"value\":\"2\"},\"renderers\":[{\"id\":\"1094\"}]},\"id\":\"1110\",\"type\":\"LegendItem\"},{\"attributes\":{},\"id\":\"1130\",\"type\":\"BasicTicker\"},{\"attributes\":{},\"id\":\"1135\",\"type\":\"WheelZoomTool\"},{\"attributes\":{},\"id\":\"1241\",\"type\":\"WheelZoomTool\"},{\"attributes\":{\"coordinates\":null,\"group\":null,\"text\":\"PC 1&2 Clusters\",\"text_color\":\"black\",\"text_font_size\":\"12pt\"},\"id\":\"1010\",\"type\":\"Title\"},{\"attributes\":{\"fill_alpha\":{\"value\":0.2},\"fill_color\":{\"value\":\"#e5ae38\"},\"hatch_alpha\":{\"value\":0.2},\"hatch_color\":{\"value\":\"#e5ae38\"},\"line_alpha\":{\"value\":0.2},\"line_color\":{\"value\":\"#e5ae38\"},\"size\":{\"value\":5.477225575051661},\"x\":{\"field\":\"PC 1\"},\"y\":{\"field\":\"PC 2\"}},\"id\":\"1093\",\"type\":\"Scatter\"},{\"attributes\":{},\"id\":\"1236\",\"type\":\"BasicTicker\"},{\"attributes\":{\"bottom_units\":\"screen\",\"coordinates\":null,\"fill_alpha\":0.5,\"fill_color\":\"lightgrey\",\"group\":null,\"left_units\":\"screen\",\"level\":\"overlay\",\"line_alpha\":1.0,\"line_color\":\"black\",\"line_dash\":[4,4],\"line_width\":2,\"right_units\":\"screen\",\"syncable\":false,\"top_units\":\"screen\"},\"id\":\"1138\",\"type\":\"BoxAnnotation\"},{\"attributes\":{},\"id\":\"1133\",\"type\":\"SaveTool\"},{\"attributes\":{},\"id\":\"1239\",\"type\":\"SaveTool\"},{\"attributes\":{\"label\":{\"value\":\"0\"},\"renderers\":[{\"id\":\"1051\"}]},\"id\":\"1064\",\"type\":\"LegendItem\"},{\"attributes\":{\"fill_alpha\":{\"value\":0.1},\"fill_color\":{\"value\":\"#e5ae38\"},\"hatch_alpha\":{\"value\":0.1},\"hatch_color\":{\"value\":\"#e5ae38\"},\"line_alpha\":{\"value\":0.1},\"line_color\":{\"value\":\"#e5ae38\"},\"size\":{\"value\":5.477225575051661},\"x\":{\"field\":\"PC 1\"},\"y\":{\"field\":\"PC 3\"}},\"id\":\"1199\",\"type\":\"Scatter\"},{\"attributes\":{\"fill_alpha\":{\"value\":0.1},\"fill_color\":{\"value\":\"#e5ae38\"},\"hatch_alpha\":{\"value\":0.1},\"hatch_color\":{\"value\":\"#e5ae38\"},\"line_alpha\":{\"value\":0.1},\"line_color\":{\"value\":\"#e5ae38\"},\"size\":{\"value\":5.477225575051661},\"x\":{\"field\":\"PC 2\"},\"y\":{\"field\":\"PC 3\"}},\"id\":\"1305\",\"type\":\"Scatter\"},{\"attributes\":{},\"id\":\"1296\",\"type\":\"UnionRenderers\"},{\"attributes\":{\"overlay\":{\"id\":\"1138\"}},\"id\":\"1136\",\"type\":\"BoxZoomTool\"},{\"attributes\":{\"overlay\":{\"id\":\"1244\"}},\"id\":\"1242\",\"type\":\"BoxZoomTool\"},{\"attributes\":{},\"id\":\"1137\",\"type\":\"ResetTool\"},{\"attributes\":{},\"id\":\"1243\",\"type\":\"ResetTool\"},{\"attributes\":{\"bottom_units\":\"screen\",\"coordinates\":null,\"fill_alpha\":0.5,\"fill_color\":\"lightgrey\",\"group\":null,\"left_units\":\"screen\",\"level\":\"overlay\",\"line_alpha\":1.0,\"line_color\":\"black\",\"line_dash\":[4,4],\"line_width\":2,\"right_units\":\"screen\",\"syncable\":false,\"top_units\":\"screen\"},\"id\":\"1031\",\"type\":\"BoxAnnotation\"},{\"attributes\":{\"bottom_units\":\"screen\",\"coordinates\":null,\"fill_alpha\":0.5,\"fill_color\":\"lightgrey\",\"group\":null,\"left_units\":\"screen\",\"level\":\"overlay\",\"line_alpha\":1.0,\"line_color\":\"black\",\"line_dash\":[4,4],\"line_width\":2,\"right_units\":\"screen\",\"syncable\":false,\"top_units\":\"screen\"},\"id\":\"1244\",\"type\":\"BoxAnnotation\"},{\"attributes\":{\"label\":{\"value\":\"1\"},\"renderers\":[{\"id\":\"1285\"}]},\"id\":\"1299\",\"type\":\"LegendItem\"},{\"attributes\":{\"source\":{\"id\":\"1045\"}},\"id\":\"1052\",\"type\":\"CDSView\"},{\"attributes\":{},\"id\":\"1151\",\"type\":\"AllLabels\"},{\"attributes\":{\"data\":{\"Class\":[1.0],\"CoinName\":[\"BitTorrent\"],\"PC 2\":{\"__ndarray__\":\"nBV8G6jn+j8=\",\"dtype\":\"float64\",\"order\":\"little\",\"shape\":[1]},\"PC 3\":{\"__ndarray__\":\"3oYt8oI9278=\",\"dtype\":\"float64\",\"order\":\"little\",\"shape\":[1]},\"PC_2\":{\"__ndarray__\":\"nBV8G6jn+j8=\",\"dtype\":\"float64\",\"order\":\"little\",\"shape\":[1]},\"PC_3\":{\"__ndarray__\":\"3oYt8oI9278=\",\"dtype\":\"float64\",\"order\":\"little\",\"shape\":[1]}},\"selected\":{\"id\":\"1280\"},\"selection_policy\":{\"id\":\"1296\"}},\"id\":\"1279\",\"type\":\"ColumnDataSource\"},{\"attributes\":{},\"id\":\"1257\",\"type\":\"AllLabels\"},{\"attributes\":{\"fill_alpha\":{\"value\":0.2},\"fill_color\":{\"value\":\"#30a2da\"},\"hatch_alpha\":{\"value\":0.2},\"hatch_color\":{\"value\":\"#30a2da\"},\"line_alpha\":{\"value\":0.2},\"line_color\":{\"value\":\"#30a2da\"},\"size\":{\"value\":5.477225575051661},\"x\":{\"field\":\"PC 1\"},\"y\":{\"field\":\"PC 2\"}},\"id\":\"1050\",\"type\":\"Scatter\"},{\"attributes\":{\"data\":{\"Class\":[1.0],\"CoinName\":[\"BitTorrent\"],\"PC 1\":{\"__ndarray__\":\"bILsjXEHQUA=\",\"dtype\":\"float64\",\"order\":\"little\",\"shape\":[1]},\"PC 2\":{\"__ndarray__\":\"nBV8G6jn+j8=\",\"dtype\":\"float64\",\"order\":\"little\",\"shape\":[1]},\"PC_1\":{\"__ndarray__\":\"bILsjXEHQUA=\",\"dtype\":\"float64\",\"order\":\"little\",\"shape\":[1]},\"PC_2\":{\"__ndarray__\":\"nBV8G6jn+j8=\",\"dtype\":\"float64\",\"order\":\"little\",\"shape\":[1]}},\"selected\":{\"id\":\"1067\"},\"selection_policy\":{\"id\":\"1083\"}},\"id\":\"1066\",\"type\":\"ColumnDataSource\"},{\"attributes\":{\"fill_alpha\":{\"value\":0.1},\"fill_color\":{\"value\":\"#fc4f30\"},\"hatch_alpha\":{\"value\":0.1},\"hatch_color\":{\"value\":\"#fc4f30\"},\"line_alpha\":{\"value\":0.1},\"line_color\":{\"value\":\"#fc4f30\"},\"size\":{\"value\":5.477225575051661},\"x\":{\"field\":\"PC 2\"},\"y\":{\"field\":\"PC 3\"}},\"id\":\"1283\",\"type\":\"Scatter\"},{\"attributes\":{\"fill_alpha\":{\"value\":0.2},\"fill_color\":{\"value\":\"#fc4f30\"},\"hatch_alpha\":{\"value\":0.2},\"hatch_color\":{\"value\":\"#fc4f30\"},\"line_alpha\":{\"value\":0.2},\"line_color\":{\"value\":\"#fc4f30\"},\"size\":{\"value\":5.477225575051661},\"x\":{\"field\":\"PC 2\"},\"y\":{\"field\":\"PC 3\"}},\"id\":\"1284\",\"type\":\"Scatter\"},{\"attributes\":{\"fill_color\":{\"value\":\"#30a2da\"},\"hatch_color\":{\"value\":\"#30a2da\"},\"line_color\":{\"value\":\"#30a2da\"},\"size\":{\"value\":5.477225575051661},\"x\":{\"field\":\"PC 1\"},\"y\":{\"field\":\"PC 2\"}},\"id\":\"1048\",\"type\":\"Scatter\"},{\"attributes\":{\"source\":{\"id\":\"1279\"}},\"id\":\"1286\",\"type\":\"CDSView\"},{\"attributes\":{\"click_policy\":\"mute\",\"coordinates\":null,\"group\":null,\"items\":[{\"id\":\"1064\"},{\"id\":\"1086\"},{\"id\":\"1110\"}],\"location\":[0,0],\"title\":\"Class\"},\"id\":\"1063\",\"type\":\"Legend\"},{\"attributes\":{},\"id\":\"1320\",\"type\":\"UnionRenderers\"},{\"attributes\":{},\"id\":\"1060\",\"type\":\"UnionRenderers\"},{\"attributes\":{\"angle\":{\"value\":0.0},\"fill_alpha\":{\"value\":1.0},\"fill_color\":{\"value\":\"#e5ae38\"},\"hatch_alpha\":{\"value\":1.0},\"hatch_color\":{\"value\":\"#e5ae38\"},\"hatch_scale\":{\"value\":12.0},\"hatch_weight\":{\"value\":1.0},\"line_alpha\":{\"value\":1.0},\"line_cap\":{\"value\":\"butt\"},\"line_color\":{\"value\":\"#e5ae38\"},\"line_dash\":{\"value\":[]},\"line_dash_offset\":{\"value\":0},\"line_join\":{\"value\":\"bevel\"},\"line_width\":{\"value\":1},\"marker\":{\"value\":\"circle\"},\"size\":{\"value\":5.477225575051661},\"x\":{\"field\":\"PC 1\"},\"y\":{\"field\":\"PC 2\"}},\"id\":\"1111\",\"type\":\"Scatter\"},{\"attributes\":{},\"id\":\"1150\",\"type\":\"BasicTickFormatter\"},{\"attributes\":{},\"id\":\"1256\",\"type\":\"BasicTickFormatter\"},{\"attributes\":{\"fill_color\":{\"value\":\"#30a2da\"},\"hatch_color\":{\"value\":\"#30a2da\"},\"line_color\":{\"value\":\"#30a2da\"},\"size\":{\"value\":5.477225575051661},\"x\":{\"field\":\"PC 2\"},\"y\":{\"field\":\"PC 3\"}},\"id\":\"1261\",\"type\":\"Scatter\"},{\"attributes\":{\"angle\":{\"value\":0.0},\"fill_alpha\":{\"value\":1.0},\"fill_color\":{\"value\":\"#e5ae38\"},\"hatch_alpha\":{\"value\":1.0},\"hatch_color\":{\"value\":\"#e5ae38\"},\"hatch_scale\":{\"value\":12.0},\"hatch_weight\":{\"value\":1.0},\"line_alpha\":{\"value\":1.0},\"line_cap\":{\"value\":\"butt\"},\"line_color\":{\"value\":\"#e5ae38\"},\"line_dash\":{\"value\":[]},\"line_dash_offset\":{\"value\":0},\"line_join\":{\"value\":\"bevel\"},\"line_width\":{\"value\":1},\"marker\":{\"value\":\"circle\"},\"size\":{\"value\":5.477225575051661},\"x\":{\"field\":\"PC 1\"},\"y\":{\"field\":\"PC 3\"}},\"id\":\"1218\",\"type\":\"Scatter\"},{\"attributes\":{\"fill_alpha\":{\"value\":0.1},\"fill_color\":{\"value\":\"#30a2da\"},\"hatch_alpha\":{\"value\":0.1},\"hatch_color\":{\"value\":\"#30a2da\"},\"line_alpha\":{\"value\":0.1},\"line_color\":{\"value\":\"#30a2da\"},\"size\":{\"value\":5.477225575051661},\"x\":{\"field\":\"PC 2\"},\"y\":{\"field\":\"PC 3\"}},\"id\":\"1262\",\"type\":\"Scatter\"},{\"attributes\":{\"fill_alpha\":{\"value\":0.1},\"fill_color\":{\"value\":\"#30a2da\"},\"hatch_alpha\":{\"value\":0.1},\"hatch_color\":{\"value\":\"#30a2da\"},\"line_alpha\":{\"value\":0.1},\"line_color\":{\"value\":\"#30a2da\"},\"size\":{\"value\":5.477225575051661},\"x\":{\"field\":\"PC 1\"},\"y\":{\"field\":\"PC 2\"}},\"id\":\"1049\",\"type\":\"Scatter\"},{\"attributes\":{\"angle\":{\"value\":0.0},\"fill_alpha\":{\"value\":1.0},\"fill_color\":{\"value\":\"#e5ae38\"},\"hatch_alpha\":{\"value\":1.0},\"hatch_color\":{\"value\":\"#e5ae38\"},\"hatch_scale\":{\"value\":12.0},\"hatch_weight\":{\"value\":1.0},\"line_alpha\":{\"value\":1.0},\"line_cap\":{\"value\":\"butt\"},\"line_color\":{\"value\":\"#e5ae38\"},\"line_dash\":{\"value\":[]},\"line_dash_offset\":{\"value\":0},\"line_join\":{\"value\":\"bevel\"},\"line_width\":{\"value\":1},\"marker\":{\"value\":\"circle\"},\"size\":{\"value\":5.477225575051661},\"x\":{\"field\":\"PC 2\"},\"y\":{\"field\":\"PC 3\"}},\"id\":\"1324\",\"type\":\"Scatter\"},{\"attributes\":{},\"id\":\"1044\",\"type\":\"AllLabels\"},{\"attributes\":{},\"id\":\"1147\",\"type\":\"BasicTickFormatter\"},{\"attributes\":{\"tools\":[{\"id\":\"1219\"},{\"id\":\"1239\"},{\"id\":\"1240\"},{\"id\":\"1241\"},{\"id\":\"1242\"},{\"id\":\"1243\"}]},\"id\":\"1245\",\"type\":\"Toolbar\"},{\"attributes\":{},\"id\":\"1043\",\"type\":\"BasicTickFormatter\"},{\"attributes\":{\"fill_alpha\":{\"value\":0.2},\"fill_color\":{\"value\":\"#30a2da\"},\"hatch_alpha\":{\"value\":0.2},\"hatch_color\":{\"value\":\"#30a2da\"},\"line_alpha\":{\"value\":0.2},\"line_color\":{\"value\":\"#30a2da\"},\"size\":{\"value\":5.477225575051661},\"x\":{\"field\":\"PC 2\"},\"y\":{\"field\":\"PC 3\"}},\"id\":\"1263\",\"type\":\"Scatter\"},{\"attributes\":{},\"id\":\"1046\",\"type\":\"Selection\"},{\"attributes\":{\"toolbar\":{\"id\":\"1371\"},\"toolbar_location\":\"above\"},\"id\":\"1372\",\"type\":\"ToolbarBox\"},{\"attributes\":{},\"id\":\"1253\",\"type\":\"BasicTickFormatter\"},{\"attributes\":{},\"id\":\"1280\",\"type\":\"Selection\"},{\"attributes\":{},\"id\":\"1259\",\"type\":\"Selection\"},{\"attributes\":{},\"id\":\"1153\",\"type\":\"Selection\"},{\"attributes\":{\"angle\":{\"value\":0.0},\"fill_alpha\":{\"value\":1.0},\"fill_color\":{\"value\":\"#fc4f30\"},\"hatch_alpha\":{\"value\":1.0},\"hatch_color\":{\"value\":\"#fc4f30\"},\"hatch_scale\":{\"value\":12.0},\"hatch_weight\":{\"value\":1.0},\"line_alpha\":{\"value\":1.0},\"line_cap\":{\"value\":\"butt\"},\"line_color\":{\"value\":\"#fc4f30\"},\"line_dash\":{\"value\":[]},\"line_dash_offset\":{\"value\":0},\"line_join\":{\"value\":\"bevel\"},\"line_width\":{\"value\":1},\"marker\":{\"value\":\"circle\"},\"size\":{\"value\":5.477225575051661},\"x\":{\"field\":\"PC 2\"},\"y\":{\"field\":\"PC 3\"}},\"id\":\"1300\",\"type\":\"Scatter\"},{\"attributes\":{},\"id\":\"1302\",\"type\":\"Selection\"},{\"attributes\":{\"coordinates\":null,\"data_source\":{\"id\":\"1045\"},\"glyph\":{\"id\":\"1048\"},\"group\":null,\"hover_glyph\":null,\"muted_glyph\":{\"id\":\"1050\"},\"nonselection_glyph\":{\"id\":\"1049\"},\"selection_glyph\":{\"id\":\"1065\"},\"view\":{\"id\":\"1052\"}},\"id\":\"1051\",\"type\":\"GlyphRenderer\"},{\"attributes\":{},\"id\":\"1041\",\"type\":\"AllLabels\"},{\"attributes\":{\"tools\":[{\"id\":\"1006\"},{\"id\":\"1026\"},{\"id\":\"1027\"},{\"id\":\"1028\"},{\"id\":\"1029\"},{\"id\":\"1030\"}]},\"id\":\"1032\",\"type\":\"Toolbar\"},{\"attributes\":{},\"id\":\"1040\",\"type\":\"BasicTickFormatter\"},{\"attributes\":{\"end\":22.814400670037966,\"reset_end\":22.814400670037966,\"reset_start\":-2.886000650537172,\"start\":-2.886000650537172,\"tags\":[[[\"PC 3\",\"PC 3\",null]]]},\"id\":\"1112\",\"type\":\"Range1d\"},{\"attributes\":{\"toolbars\":[{\"id\":\"1032\"},{\"id\":\"1139\"},{\"id\":\"1245\"}],\"tools\":[{\"id\":\"1006\"},{\"id\":\"1026\"},{\"id\":\"1027\"},{\"id\":\"1028\"},{\"id\":\"1029\"},{\"id\":\"1030\"},{\"id\":\"1113\"},{\"id\":\"1133\"},{\"id\":\"1134\"},{\"id\":\"1135\"},{\"id\":\"1136\"},{\"id\":\"1137\"},{\"id\":\"1219\"},{\"id\":\"1239\"},{\"id\":\"1240\"},{\"id\":\"1241\"},{\"id\":\"1242\"},{\"id\":\"1243\"}]},\"id\":\"1371\",\"type\":\"ProxyToolbar\"},{\"attributes\":{\"below\":[{\"id\":\"1231\"}],\"center\":[{\"id\":\"1234\"},{\"id\":\"1238\"}],\"height\":300,\"left\":[{\"id\":\"1235\"}],\"margin\":null,\"min_border_bottom\":10,\"min_border_left\":10,\"min_border_right\":10,\"min_border_top\":10,\"renderers\":[{\"id\":\"1264\"},{\"id\":\"1285\"},{\"id\":\"1307\"}],\"right\":[{\"id\":\"1276\"}],\"sizing_mode\":\"fixed\",\"title\":{\"id\":\"1223\"},\"toolbar\":{\"id\":\"1245\"},\"toolbar_location\":null,\"width\":700,\"x_range\":{\"id\":\"1005\"},\"x_scale\":{\"id\":\"1227\"},\"y_range\":{\"id\":\"1112\"},\"y_scale\":{\"id\":\"1229\"}},\"id\":\"1222\",\"subtype\":\"Figure\",\"type\":\"Plot\"}],\"root_ids\":[\"1002\"]},\"title\":\"Bokeh Application\",\"version\":\"2.4.1\"}};\n",
       "    var render_items = [{\"docid\":\"aaa26c6e-2278-4d86-a8d1-27c09795855b\",\"root_ids\":[\"1002\"],\"roots\":{\"1002\":\"b60ee4cc-06fd-4ead-9371-ab7563139ee2\"}}];\n",
       "    root.Bokeh.embed.embed_items_notebook(docs_json, render_items);\n",
       "  }\n",
       "  if (root.Bokeh !== undefined && root.Bokeh.Panel !== undefined) {\n",
       "    embed_document(root);\n",
       "  } else {\n",
       "    var attempts = 0;\n",
       "    var timer = setInterval(function(root) {\n",
       "      if (root.Bokeh !== undefined && root.Bokeh.Panel !== undefined) {\n",
       "        clearInterval(timer);\n",
       "        embed_document(root);\n",
       "      } else if (document.readyState == \"complete\") {\n",
       "        attempts++;\n",
       "        if (attempts > 200) {\n",
       "          clearInterval(timer);\n",
       "          console.log(\"Bokeh: ERROR: Unable to run BokehJS code because BokehJS library is missing\");\n",
       "        }\n",
       "      }\n",
       "    }, 25, root)\n",
       "  }\n",
       "})(window);</script>"
      ],
      "text/plain": [
       ":Layout\n",
       "   .NdOverlay.I   :NdOverlay   [Class]\n",
       "      :Scatter   [PC 1]   (PC 2,CoinName)\n",
       "   .NdOverlay.II  :NdOverlay   [Class]\n",
       "      :Scatter   [PC 1]   (PC 3,CoinName)\n",
       "   .NdOverlay.III :NdOverlay   [Class]\n",
       "      :Scatter   [PC 2]   (PC 3,CoinName)"
      ]
     },
     "execution_count": 47,
     "metadata": {
      "application/vnd.holoviews_exec.v0+json": {
       "id": "1002"
      }
     },
     "output_type": "execute_result"
    }
   ],
   "source": [
    "# Creating a 3D-Scatter with the PCA data and the clusters\n",
    "clustered_df.hvplot.scatter(\n",
    "    x=\"PC 1\",\n",
    "    y=\"PC 2\" ,\n",
    "    by='Class',\n",
    "    hover_cols=[\"CoinName\"] ,\n",
    "    title = \"PC 1&2 Clusters\"\n",
    ") + clustered_df.hvplot.scatter(\n",
    "    x=\"PC 1\",\n",
    "    y=\"PC 3\" ,\n",
    "    by='Class',\n",
    "    hover_cols=[\"CoinName\"],\n",
    "    title = \"PC 1&3 Clusters\"\n",
    ") + clustered_df.hvplot.scatter(\n",
    "    x=\"PC 2\",\n",
    "    y=\"PC 3\" ,\n",
    "    by='Class',\n",
    "    hover_cols=[\"CoinName\"],\n",
    "    title = \"PC 2&3 Clusters\"\n",
    ")"
   ]
  },
  {
   "cell_type": "code",
   "execution_count": 56,
   "metadata": {},
   "outputs": [
    {
     "data": {
      "application/vnd.plotly.v1+json": {
       "config": {
        "plotlyServerURL": "https://plot.ly"
       },
       "data": [
        {
         "customdata": [
          [
           "Scrypt"
          ],
          [
           null
          ],
          [
           "Scrypt"
          ],
          [
           null
          ],
          [
           null
          ],
          [
           "X13"
          ],
          [
           null
          ],
          [
           "SHA-256"
          ],
          [
           "Ethash"
          ],
          [
           "Scrypt"
          ],
          [
           "X11"
          ],
          [
           "CryptoNight-V7"
          ],
          [
           "Ethash"
          ],
          [
           "Equihash"
          ],
          [
           "SHA-512"
          ],
          [
           "Multiple"
          ],
          [
           "SHA-256"
          ],
          [
           null
          ],
          [
           null
          ],
          [
           "SHA-256"
          ],
          [
           "Scrypt"
          ],
          [
           null
          ],
          [
           null
          ],
          [
           null
          ],
          [
           "X15"
          ],
          [
           null
          ],
          [
           null
          ],
          [
           "X11"
          ],
          [
           null
          ],
          [
           null
          ],
          [
           null
          ],
          [
           null
          ],
          [
           null
          ],
          [
           null
          ],
          [
           null
          ],
          [
           null
          ],
          [
           null
          ],
          [
           "Scrypt"
          ],
          [
           null
          ],
          [
           "Scrypt"
          ],
          [
           null
          ],
          [
           null
          ],
          [
           "Scrypt"
          ],
          [
           null
          ],
          [
           "Multiple"
          ],
          [
           "Scrypt"
          ],
          [
           "SHA-256"
          ],
          [
           "Scrypt"
          ],
          [
           "Scrypt"
          ],
          [
           "Scrypt"
          ],
          [
           "Quark"
          ],
          [
           "Groestl"
          ],
          [
           "Scrypt"
          ],
          [
           null
          ],
          [
           "Scrypt"
          ],
          [
           null
          ],
          [
           null
          ],
          [
           null
          ],
          [
           null
          ],
          [
           null
          ],
          [
           null
          ],
          [
           "Scrypt"
          ],
          [
           "Scrypt"
          ],
          [
           "Scrypt"
          ],
          [
           null
          ],
          [
           null
          ],
          [
           null
          ],
          [
           null
          ],
          [
           null
          ],
          [
           null
          ],
          [
           null
          ],
          [
           null
          ],
          [
           null
          ],
          [
           "X11"
          ],
          [
           "Scrypt"
          ],
          [
           null
          ],
          [
           "Groestl"
          ],
          [
           "Multiple"
          ],
          [
           null
          ],
          [
           null
          ],
          [
           "SHA-256"
          ],
          [
           "Scrypt"
          ],
          [
           "Scrypt"
          ],
          [
           null
          ],
          [
           "Scrypt"
          ],
          [
           "Scrypt"
          ],
          [
           "PoS"
          ],
          [
           null
          ],
          [
           null
          ],
          [
           null
          ],
          [
           null
          ],
          [
           null
          ],
          [
           null
          ],
          [
           null
          ],
          [
           "Scrypt"
          ],
          [
           "Scrypt"
          ],
          [
           null
          ],
          [
           null
          ],
          [
           "NeoScrypt"
          ],
          [
           "Scrypt"
          ],
          [
           "Scrypt"
          ],
          [
           "Scrypt"
          ],
          [
           null
          ],
          [
           null
          ],
          [
           null
          ],
          [
           null
          ],
          [
           null
          ],
          [
           "Scrypt"
          ],
          [
           null
          ],
          [
           null
          ],
          [
           "X11"
          ],
          [
           null
          ],
          [
           "Scrypt"
          ],
          [
           "X11"
          ],
          [
           "SHA-256"
          ],
          [
           null
          ],
          [
           null
          ],
          [
           null
          ],
          [
           null
          ],
          [
           null
          ],
          [
           "Scrypt"
          ],
          [
           null
          ],
          [
           "Scrypt"
          ],
          [
           null
          ],
          [
           "Scrypt"
          ],
          [
           null
          ],
          [
           null
          ],
          [
           null
          ],
          [
           null
          ],
          [
           "SHA3"
          ],
          [
           "Scrypt"
          ],
          [
           "HybridScryptHash256"
          ],
          [
           null
          ],
          [
           "Scrypt"
          ],
          [
           null
          ],
          [
           "Scrypt"
          ],
          [
           null
          ],
          [
           "SHA-256"
          ],
          [
           null
          ],
          [
           "Scrypt"
          ],
          [
           "X13"
          ],
          [
           null
          ],
          [
           null
          ],
          [
           null
          ],
          [
           "Scrypt"
          ],
          [
           null
          ],
          [
           "SHA-256"
          ],
          [
           "Scrypt"
          ],
          [
           "X13"
          ],
          [
           "NeoScrypt"
          ],
          [
           null
          ],
          [
           "Scrypt"
          ],
          [
           null
          ],
          [
           "Scrypt"
          ],
          [
           null
          ],
          [
           "Scrypt"
          ],
          [
           null
          ],
          [
           "Scrypt"
          ],
          [
           null
          ],
          [
           null
          ],
          [
           null
          ],
          [
           null
          ],
          [
           "Scrypt"
          ],
          [
           null
          ],
          [
           null
          ],
          [
           null
          ],
          [
           null
          ],
          [
           null
          ],
          [
           "Scrypt"
          ],
          [
           null
          ],
          [
           null
          ],
          [
           null
          ],
          [
           null
          ],
          [
           null
          ],
          [
           "X11"
          ],
          [
           "X11"
          ],
          [
           "SHA-256"
          ],
          [
           null
          ],
          [
           null
          ],
          [
           "Multiple"
          ],
          [
           "SHA-256"
          ],
          [
           "PHI1612"
          ],
          [
           "X11"
          ],
          [
           "SHA-256"
          ],
          [
           null
          ],
          [
           null
          ],
          [
           "SHA-256"
          ],
          [
           "SHA-256"
          ],
          [
           "X11"
          ],
          [
           "Scrypt"
          ],
          [
           "Scrypt"
          ],
          [
           null
          ],
          [
           null
          ],
          [
           "Scrypt"
          ],
          [
           null
          ],
          [
           "Scrypt"
          ],
          [
           "Lyra2REv2"
          ],
          [
           "Scrypt"
          ],
          [
           null
          ],
          [
           null
          ],
          [
           "X11"
          ],
          [
           null
          ],
          [
           "Multiple"
          ],
          [
           "SHA-256"
          ],
          [
           null
          ],
          [
           "X13"
          ],
          [
           null
          ],
          [
           null
          ],
          [
           "Scrypt"
          ],
          [
           null
          ],
          [
           "CryptoNight"
          ],
          [
           null
          ],
          [
           "CryptoNight"
          ],
          [
           null
          ],
          [
           "Shabal256"
          ],
          [
           "Counterparty"
          ],
          [
           null
          ],
          [
           null
          ],
          [
           "Scrypt"
          ],
          [
           null
          ],
          [
           "SHA-256"
          ],
          [
           null
          ],
          [
           null
          ],
          [
           null
          ],
          [
           "Groestl"
          ],
          [
           "Scrypt"
          ],
          [
           "Scrypt"
          ],
          [
           "Scrypt"
          ],
          [
           "X13"
          ],
          [
           "Scrypt"
          ],
          [
           null
          ],
          [
           "Scrypt"
          ],
          [
           "Scrypt"
          ],
          [
           null
          ],
          [
           "Scrypt"
          ],
          [
           "X13"
          ],
          [
           null
          ],
          [
           null
          ],
          [
           null
          ],
          [
           "Scrypt"
          ],
          [
           null
          ],
          [
           null
          ],
          [
           null
          ],
          [
           null
          ],
          [
           "Stanford Folding"
          ],
          [
           null
          ],
          [
           "X11"
          ],
          [
           "Multiple"
          ],
          [
           "QuBit"
          ],
          [
           null
          ],
          [
           null
          ],
          [
           "Scrypt"
          ],
          [
           null
          ],
          [
           null
          ],
          [
           "Scrypt"
          ],
          [
           null
          ],
          [
           "Scrypt"
          ],
          [
           null
          ],
          [
           null
          ],
          [
           null
          ],
          [
           null
          ],
          [
           null
          ],
          [
           null
          ],
          [
           "M7 POW"
          ],
          [
           null
          ],
          [
           null
          ],
          [
           null
          ],
          [
           "Scrypt"
          ],
          [
           null
          ],
          [
           null
          ],
          [
           null
          ],
          [
           null
          ],
          [
           null
          ],
          [
           "SHA-256"
          ],
          [
           null
          ],
          [
           null
          ],
          [
           "Scrypt"
          ],
          [
           null
          ],
          [
           null
          ],
          [
           null
          ],
          [
           null
          ],
          [
           "X11"
          ],
          [
           null
          ],
          [
           null
          ],
          [
           null
          ],
          [
           null
          ],
          [
           "SHA3"
          ],
          [
           null
          ],
          [
           null
          ],
          [
           "X11"
          ],
          [
           null
          ],
          [
           null
          ],
          [
           null
          ],
          [
           null
          ],
          [
           "Lyra2RE"
          ],
          [
           null
          ],
          [
           null
          ],
          [
           null
          ],
          [
           null
          ],
          [
           null
          ],
          [
           null
          ],
          [
           "SHA-256"
          ],
          [
           "QUAIT"
          ],
          [
           "X11"
          ],
          [
           null
          ],
          [
           null
          ],
          [
           null
          ],
          [
           "X11"
          ],
          [
           null
          ],
          [
           null
          ],
          [
           null
          ],
          [
           null
          ],
          [
           null
          ],
          [
           null
          ],
          [
           null
          ],
          [
           "Scrypt"
          ],
          [
           null
          ],
          [
           null
          ],
          [
           null
          ],
          [
           null
          ],
          [
           "Scrypt"
          ],
          [
           "Scrypt"
          ],
          [
           "Ethash"
          ],
          [
           null
          ],
          [
           "X13"
          ],
          [
           "Blake2b"
          ],
          [
           null
          ],
          [
           "SHA-256"
          ],
          [
           null
          ],
          [
           null
          ],
          [
           "X15"
          ],
          [
           "X11"
          ],
          [
           "SHA-256"
          ],
          [
           "BLAKE256"
          ],
          [
           null
          ],
          [
           "Scrypt"
          ],
          [
           "1GB AES Pattern Search"
          ],
          [
           "SHA-256"
          ],
          [
           "X11"
          ],
          [
           "Scrypt"
          ],
          [
           null
          ],
          [
           "SHA-256"
          ],
          [
           null
          ],
          [
           "SHA-256"
          ],
          [
           null
          ],
          [
           "NIST5"
          ],
          [
           null
          ],
          [
           "Scrypt"
          ],
          [
           null
          ],
          [
           null
          ],
          [
           null
          ],
          [
           null
          ],
          [
           "Scrypt"
          ],
          [
           null
          ],
          [
           null
          ],
          [
           "X11"
          ],
          [
           null
          ],
          [
           null
          ],
          [
           "Dagger"
          ],
          [
           "Scrypt"
          ],
          [
           null
          ],
          [
           null
          ],
          [
           "X11GOST"
          ],
          [
           "X11"
          ],
          [
           null
          ],
          [
           null
          ],
          [
           null
          ],
          [
           null
          ],
          [
           null
          ],
          [
           "Scrypt"
          ],
          [
           null
          ],
          [
           "SHA-256"
          ],
          [
           "Scrypt"
          ],
          [
           "PoS"
          ],
          [
           null
          ],
          [
           "Scrypt"
          ],
          [
           null
          ],
          [
           null
          ],
          [
           null
          ],
          [
           null
          ],
          [
           null
          ],
          [
           null
          ],
          [
           null
          ],
          [
           null
          ],
          [
           "X11"
          ],
          [
           null
          ],
          [
           null
          ],
          [
           null
          ],
          [
           null
          ],
          [
           null
          ],
          [
           "X11"
          ],
          [
           null
          ],
          [
           null
          ],
          [
           null
          ],
          [
           null
          ],
          [
           null
          ],
          [
           "SHA-256"
          ],
          [
           null
          ],
          [
           null
          ],
          [
           null
          ],
          [
           null
          ],
          [
           null
          ],
          [
           "SHA-256"
          ],
          [
           "NIST5"
          ],
          [
           null
          ],
          [
           null
          ],
          [
           null
          ],
          [
           null
          ],
          [
           null
          ],
          [
           null
          ],
          [
           null
          ],
          [
           null
          ],
          [
           "X11"
          ],
          [
           null
          ],
          [
           null
          ],
          [
           null
          ],
          [
           null
          ],
          [
           null
          ],
          [
           null
          ],
          [
           "Scrypt"
          ],
          [
           null
          ],
          [
           "POS 3.0"
          ],
          [
           null
          ],
          [
           null
          ],
          [
           null
          ],
          [
           "Scrypt"
          ],
          [
           null
          ],
          [
           "Scrypt"
          ],
          [
           null
          ],
          [
           null
          ],
          [
           "Scrypt"
          ],
          [
           null
          ],
          [
           null
          ],
          [
           null
          ],
          [
           null
          ],
          [
           "X13"
          ],
          [
           "X11"
          ],
          [
           "X11"
          ],
          [
           null
          ],
          [
           "Equihash"
          ],
          [
           "X11"
          ],
          [
           null
          ],
          [
           null
          ],
          [
           null
          ],
          [
           null
          ],
          [
           "Scrypt"
          ],
          [
           null
          ],
          [
           null
          ],
          [
           null
          ],
          [
           null
          ],
          [
           null
          ],
          [
           "CryptoNight"
          ],
          [
           null
          ],
          [
           "SHA-256"
          ],
          [
           "X11"
          ],
          [
           null
          ],
          [
           "Scrypt"
          ],
          [
           "Multiple"
          ],
          [
           null
          ],
          [
           null
          ],
          [
           "Scrypt"
          ],
          [
           "Scrypt"
          ],
          [
           null
          ],
          [
           null
          ],
          [
           null
          ],
          [
           null
          ],
          [
           null
          ],
          [
           null
          ],
          [
           null
          ],
          [
           null
          ],
          [
           "Scrypt"
          ],
          [
           null
          ],
          [
           null
          ],
          [
           "SHA-256"
          ],
          [
           "Scrypt"
          ],
          [
           null
          ],
          [
           "Scrypt"
          ],
          [
           "SHA-256D"
          ],
          [
           null
          ],
          [
           null
          ],
          [
           "PoS"
          ],
          [
           "Scrypt"
          ],
          [
           null
          ],
          [
           null
          ],
          [
           null
          ],
          [
           null
          ],
          [
           null
          ],
          [
           null
          ],
          [
           null
          ],
          [
           "X11"
          ],
          [
           null
          ],
          [
           null
          ],
          [
           null
          ],
          [
           null
          ],
          [
           null
          ],
          [
           null
          ],
          [
           null
          ],
          [
           null
          ],
          [
           null
          ],
          [
           null
          ],
          [
           null
          ],
          [
           null
          ],
          [
           "Lyra2Z"
          ],
          [
           null
          ],
          [
           null
          ],
          [
           null
          ],
          [
           null
          ],
          [
           "PoS"
          ],
          [
           null
          ],
          [
           null
          ],
          [
           null
          ],
          [
           null
          ],
          [
           null
          ],
          [
           null
          ],
          [
           "X13"
          ],
          [
           null
          ],
          [
           null
          ],
          [
           null
          ],
          [
           null
          ],
          [
           null
          ],
          [
           "X14"
          ],
          [
           "PoS"
          ],
          [
           null
          ],
          [
           "Ethash"
          ],
          [
           null
          ],
          [
           null
          ],
          [
           null
          ],
          [
           null
          ],
          [
           null
          ]
         ],
         "hovertemplate": "<b>%{hovertext}</b><br><br>Class=%{marker.color}<br>PC 1=%{x}<br>PC 2=%{y}<br>PC 3=%{z}<br>Algorithm=%{customdata[0]}<extra></extra>",
         "hovertext": [
          "42 Coin",
          "404Coin",
          "EliteCoin",
          "Bitcoin",
          "Ethereum",
          "Litecoin",
          "Dash",
          "Monero",
          "Ethereum Classic",
          "ZCash",
          "Bitshares",
          "DigiByte",
          "BitcoinDark",
          "PayCoin",
          "ProsperCoin",
          "KoboCoin",
          "Spreadcoin",
          "Argentum",
          "Aurora Coin",
          "BlueCoin",
          "MyriadCoin",
          "MoonCoin",
          "ZetaCoin",
          "SexCoin",
          "Quatloo",
          "EnergyCoin",
          "QuarkCoin",
          "Riecoin",
          "Digitalcoin ",
          "BitBar",
          "Catcoin",
          "CryptoBullion",
          "CannaCoin",
          "CryptCoin",
          "CasinoCoin",
          "Diamond",
          "Verge",
          "DevCoin",
          "EarthCoin",
          "E-Gulden",
          "Einsteinium",
          "Emerald",
          "Exclusive Coin",
          "FlutterCoin",
          "Franko",
          "FeatherCoin",
          "GrandCoin",
          "GlobalCoin",
          "GoldCoin",
          "HoboNickels",
          "HyperStake",
          "Infinite Coin",
          "IOCoin",
          "IXcoin",
          "KrugerCoin",
          "LuckyCoin",
          "Litebar ",
          "MaxCoin",
          "MegaCoin",
          "MediterraneanCoin",
          "MintCoin",
          "MinCoin",
          "MazaCoin",
          "Nautilus Coin",
          "NavCoin",
          "NobleCoin",
          "Namecoin",
          "NyanCoin",
          "OpalCoin",
          "Orbitcoin",
          "PotCoin",
          "PhoenixCoin",
          "Reddcoin",
          "RonPaulCoin",
          "StableCoin",
          "SmartCoin",
          "SuperCoin",
          "SyncCoin",
          "SysCoin",
          "TeslaCoin",
          "TigerCoin",
          "TittieCoin",
          "TorCoin",
          "TerraCoin",
          "UnbreakableCoin",
          "Unobtanium",
          "UroCoin",
          "UnitaryStatus Dollar",
          "UltraCoin",
          "ViaCoin",
          "VeriCoin",
          "Vertcoin",
          "WorldCoin",
          "X11 Coin",
          "Crypti",
          "JouleCoin",
          "StealthCoin",
          "ZCC Coin",
          "ByteCoin",
          "DigitalNote ",
          "BurstCoin",
          "StorjCoin",
          "MonaCoin",
          "Neutron",
          "FairCoin",
          "Gulden",
          "RubyCoin",
          "PesetaCoin",
          "Kore",
          "Wild Beast Coin",
          "Dnotes",
          "Flo",
          "8BIT Coin",
          "Sativa Coin",
          "ArtByte",
          "Folding Coin",
          "Ucoin",
          "Unitus",
          "CypherPunkCoin",
          "OmniCron",
          "Vtorrent",
          "GreenCoin",
          "Cryptonite",
          "MasterCoin",
          "SoonCoin",
          "1Credit",
          "IslaCoin",
          "Nexus",
          "MarsCoin ",
          "Crypto",
          "Anarchists Prime",
          "Droidz",
          "BowsCoin",
          "Squall Coin",
          "Song Coin",
          "BitZeny",
          "Diggits",
          "Expanse",
          "Paycon",
          "Siacoin",
          "Emercoin",
          "EverGreenCoin",
          "MindCoin",
          "I0coin",
          "Decred",
          "Revolution VR",
          "HOdlcoin",
          "EDRCoin",
          "Hitcoin",
          "Gamecredits",
          "DubaiCoin",
          "CarpeDiemCoin",
          "PWR Coin",
          "BillaryCoin",
          "GPU Coin",
          "Adzcoin",
          "SoilCoin",
          "YoCoin",
          "SibCoin",
          "EuropeCoin",
          "ZeitCoin",
          "SwingCoin",
          "SafeExchangeCoin",
          "Nebuchadnezzar",
          "Francs",
          "BolivarCoin",
          "Ratecoin",
          "Revenu",
          "Clockcoin",
          "VIP Tokens",
          "BitSend",
          "Omni",
          "Let it Ride",
          "PutinCoin",
          "iBankCoin",
          "Frankywillcoin",
          "MudraCoin",
          "PizzaCoin",
          "Lutetium Coin",
          "Komodo",
          "GoldBlocks",
          "CarterCoin",
          "Karbo",
          "BitTokens",
          "ZayedCoin",
          "MustangCoin",
          "ZoneCoin",
          "Circuits of Value",
          "RootCoin",
          "DopeCoin",
          "BitCurrency",
          "DollarCoin",
          "Swiscoin",
          "Shilling",
          "BuzzCoin",
          "Opair",
          "PesoBit",
          "Halloween Coin",
          "ZCoin",
          "CoffeeCoin",
          "RoyalCoin",
          "GanjaCoin V2",
          "TeamUP",
          "LanaCoin",
          "Elementrem",
          "ZClassic",
          "ARK",
          "InsaneCoin",
          "KiloCoin",
          "ArtexCoin",
          "EmberCoin",
          "XenixCoin",
          "FreeCoin",
          "PLNCoin",
          "AquariusCoin",
          "Kurrent",
          "Creatio",
          "Eternity",
          "Eurocoin",
          "BitcoinFast",
          "Stakenet",
          "BitConnect Coin",
          "MoneyCoin",
          "Enigma",
          "Cannabis Industry Coin",
          "Russiacoin",
          "PandaCoin",
          "GameUnits",
          "GAKHcoin",
          "Allsafe",
          "LiteCreed",
          "OsmiumCoin",
          "Bikercoins",
          "HexxCoin",
          "Klingon Empire Darsek",
          "Internet of People",
          "KushCoin",
          "Printerium",
          "PacCoin",
          "Impeach",
          "Citadel",
          "Zilbercoin",
          "FirstCoin",
          "BeaverCoin",
          "FindCoin",
          "VaultCoin",
          "Zero",
          "OpenChat",
          "Canada eCoin",
          "Zoin",
          "RenosCoin",
          "DubaiCoin",
          "VirtacoinPlus",
          "TajCoin",
          "Impact",
          "EB3coin",
          "Atmos",
          "HappyCoin",
          "Coinonat",
          "MacronCoin",
          "Condensate",
          "Independent Money System",
          "ArgusCoin",
          "LomoCoin",
          "ProCurrency",
          "GoldReserve",
          "BenjiRolls",
          "GrowthCoin",
          "ILCoin",
          "Phreak",
          "Degas Coin",
          "HTML5 Coin",
          "Ultimate Secure Cash",
          "EquiTrader",
          "QTUM",
          "Quantum Resistant Ledger",
          "Espers",
          "Dynamic",
          "Nano",
          "ChanCoin",
          "Dinastycoin",
          "Denarius",
          "DigitalPrice",
          "Virta Unique Coin",
          "Bitcoin Planet",
          "Unify",
          "BritCoin",
          "SocialCoin",
          "ArcticCoin",
          "DAS",
          "Linda",
          "LeviarCoin",
          "DeepOnion",
          "Bitcore",
          "gCn Coin",
          "SmartCash",
          "Signatum",
          "Onix",
          "Cream",
          "Bitcoin Cash",
          "Monoeci",
          "Draftcoin",
          "Vechain",
          "Sojourn Coin",
          "Stakecoin",
          "NewYorkCoin",
          "FrazCoin",
          "Kronecoin",
          "AdCoin",
          "Linx",
          "CoinonatX",
          "Ethereum Dark",
          "Sumokoin",
          "Obsidian",
          "Cardano",
          "Regalcoin",
          "BitcoinZ",
          "TrezarCoin",
          "Elements",
          "TerraNovaCoin",
          "VIVO Coin",
          "Rupee",
          "Bitcoin Gold",
          "WomenCoin",
          "Theresa May Coin",
          "NamoCoin",
          "LUXCoin",
          "Pirl",
          "Xios",
          "Bitcloud 2.0",
          "eBoost",
          "KekCoin",
          "BlackholeCoin",
          "Infinity Economics",
          "Pura",
          "Innova",
          "Ellaism",
          "GoByte",
          "Magnet",
          "Lamden Tau",
          "Electra",
          "Bitcoin Diamond",
          "SHIELD",
          "Cash & Back Coin",
          "UltraNote",
          "BitCoal",
          "DaxxCoin",
          "Bulwark",
          "Kalkulus",
          "AC3",
          "Lethean",
          "GermanCoin",
          "LiteCoin Ultra",
          "PopularCoin",
          "PhantomX",
          "Photon",
          "Sucre",
          "SparksPay",
          "Digiwage",
          "GunCoin",
          "IrishCoin",
          "Trollcoin",
          "Litecoin Plus",
          "Monkey Project",
          "Pioneer Coin",
          "UnitedBitcoin",
          "Interzone",
          "TokenPay",
          "1717 Masonic Commemorative Token",
          "My Big Coin",
          "TurtleCoin",
          "MUNcoin",
          "Unified Society USDEX",
          "Niobio Cash",
          "ShareChain",
          "Travelflex",
          "KREDS",
          "Tokyo Coin",
          "LitecoinCash",
          "BitFlip",
          "LottoCoin",
          "Crypto Improvement Fund",
          "Stipend",
          "Poa Network",
          "Pushi",
          "Ellerium",
          "Velox",
          "Ontology",
          "Callisto Network",
          "BitTube",
          "Poseidon",
          "Aidos Kuneen",
          "Bitspace",
          "Briacoin",
          "Ignition",
          "Bitrolium",
          "MedicCoin",
          "Alpenschillling",
          "Bitcoin Green",
          "Deviant Coin",
          "Abjcoin",
          "Semux",
          "FuturoCoin",
          "Carebit",
          "Zealium",
          "Monero Classic",
          "Proton",
          "iDealCash",
          "Jumpcoin",
          "Infinex",
          "Bitcoin Incognito",
          "KEYCO",
          "HollyWoodCoin",
          "GINcoin",
          "PlatinCoin",
          "Loki",
          "Newton Coin",
          "Swisscoin",
          "Xt3ch",
          "MassGrid",
          "TheVig",
          "PluraCoin",
          "EmaratCoin",
          "Dekado",
          "Lynx",
          "Poseidon Quark",
          "BitcoinWSpectrum",
          "Muse",
          "Motion",
          "PlusOneCoin",
          "Axe",
          "Trivechain",
          "Dystem",
          "Giant",
          "Peony Coin",
          "Absolute Coin",
          "Vitae",
          "HexCoin",
          "TPCash",
          "Webchain",
          "Ryo",
          "Urals Coin",
          "Qwertycoin",
          "ARENON",
          "EUNO",
          "MMOCoin",
          "Ketan",
          "Project Pai",
          "XDNA",
          "PAXEX",
          "Azart",
          "ThunderStake",
          "Kcash",
          "Xchange",
          "CrypticCoin",
          "Bettex coin",
          "Actinium",
          "Bitcoin SV",
          "BitMoney",
          "Junson Ming Chan Coin",
          "FREDEnergy",
          "HerbCoin",
          "Universal Molecule",
          "Lithium",
          "PirateCash",
          "Exosis",
          "Block-Logic",
          "Oduwa",
          "Beam",
          "Galilel",
          "Bithereum",
          "Crypto Sports",
          "Credit",
          "SLICE",
          "Dash Platinum",
          "Nasdacoin",
          "Beetle Coin",
          "Titan Coin",
          "Award",
          "BLAST",
          "Bitcoin Rhodium",
          "GlobalToken",
          "Insane Coin",
          "ALAX",
          "LiteDoge",
          "SolarCoin",
          "TruckCoin",
          "UFO Coin",
          "OrangeCoin",
          "BlakeCoin",
          "BitstarCoin",
          "NeosCoin",
          "HyperCoin",
          "PinkCoin",
          "Crypto Escudo",
          "AudioCoin",
          "IncaKoin",
          "Piggy Coin",
          "Crown Coin",
          "Genstake",
          "SmileyCoin",
          "XiaoMiCoin",
          "Groestlcoin",
          "CapriCoin",
          " ClubCoin",
          "Radium",
          "Bata",
          "Pakcoin",
          "Creditbit ",
          "OKCash",
          "Lisk",
          "HiCoin",
          "WhiteCoin",
          "FriendshipCoin",
          "JoinCoin",
          "Triangles Coin",
          "Vollar",
          "EOS",
          "Reality Clash",
          "Oxycoin",
          "TigerCash",
          "Waves",
          "Particl",
          "Nxt",
          "ZEPHYR",
          "Gapcoin",
          "Beldex",
          "Horizen",
          "BitcoinPlus"
         ],
         "legendgroup": "0.0",
         "marker": {
          "color": [
           0,
           0,
           0,
           0,
           0,
           0,
           0,
           0,
           0,
           0,
           0,
           0,
           0,
           0,
           0,
           0,
           0,
           0,
           0,
           0,
           0,
           0,
           0,
           0,
           0,
           0,
           0,
           0,
           0,
           0,
           0,
           0,
           0,
           0,
           0,
           0,
           0,
           0,
           0,
           0,
           0,
           0,
           0,
           0,
           0,
           0,
           0,
           0,
           0,
           0,
           0,
           0,
           0,
           0,
           0,
           0,
           0,
           0,
           0,
           0,
           0,
           0,
           0,
           0,
           0,
           0,
           0,
           0,
           0,
           0,
           0,
           0,
           0,
           0,
           0,
           0,
           0,
           0,
           0,
           0,
           0,
           0,
           0,
           0,
           0,
           0,
           0,
           0,
           0,
           0,
           0,
           0,
           0,
           0,
           0,
           0,
           0,
           0,
           0,
           0,
           0,
           0,
           0,
           0,
           0,
           0,
           0,
           0,
           0,
           0,
           0,
           0,
           0,
           0,
           0,
           0,
           0,
           0,
           0,
           0,
           0,
           0,
           0,
           0,
           0,
           0,
           0,
           0,
           0,
           0,
           0,
           0,
           0,
           0,
           0,
           0,
           0,
           0,
           0,
           0,
           0,
           0,
           0,
           0,
           0,
           0,
           0,
           0,
           0,
           0,
           0,
           0,
           0,
           0,
           0,
           0,
           0,
           0,
           0,
           0,
           0,
           0,
           0,
           0,
           0,
           0,
           0,
           0,
           0,
           0,
           0,
           0,
           0,
           0,
           0,
           0,
           0,
           0,
           0,
           0,
           0,
           0,
           0,
           0,
           0,
           0,
           0,
           0,
           0,
           0,
           0,
           0,
           0,
           0,
           0,
           0,
           0,
           0,
           0,
           0,
           0,
           0,
           0,
           0,
           0,
           0,
           0,
           0,
           0,
           0,
           0,
           0,
           0,
           0,
           0,
           0,
           0,
           0,
           0,
           0,
           0,
           0,
           0,
           0,
           0,
           0,
           0,
           0,
           0,
           0,
           0,
           0,
           0,
           0,
           0,
           0,
           0,
           0,
           0,
           0,
           0,
           0,
           0,
           0,
           0,
           0,
           0,
           0,
           0,
           0,
           0,
           0,
           0,
           0,
           0,
           0,
           0,
           0,
           0,
           0,
           0,
           0,
           0,
           0,
           0,
           0,
           0,
           0,
           0,
           0,
           0,
           0,
           0,
           0,
           0,
           0,
           0,
           0,
           0,
           0,
           0,
           0,
           0,
           0,
           0,
           0,
           0,
           0,
           0,
           0,
           0,
           0,
           0,
           0,
           0,
           0,
           0,
           0,
           0,
           0,
           0,
           0,
           0,
           0,
           0,
           0,
           0,
           0,
           0,
           0,
           0,
           0,
           0,
           0,
           0,
           0,
           0,
           0,
           0,
           0,
           0,
           0,
           0,
           0,
           0,
           0,
           0,
           0,
           0,
           0,
           0,
           0,
           0,
           0,
           0,
           0,
           0,
           0,
           0,
           0,
           0,
           0,
           0,
           0,
           0,
           0,
           0,
           0,
           0,
           0,
           0,
           0,
           0,
           0,
           0,
           0,
           0,
           0,
           0,
           0,
           0,
           0,
           0,
           0,
           0,
           0,
           0,
           0,
           0,
           0,
           0,
           0,
           0,
           0,
           0,
           0,
           0,
           0,
           0,
           0,
           0,
           0,
           0,
           0,
           0,
           0,
           0,
           0,
           0,
           0,
           0,
           0,
           0,
           0,
           0,
           0,
           0,
           0,
           0,
           0,
           0,
           0,
           0,
           0,
           0,
           0,
           0,
           0,
           0,
           0,
           0,
           0,
           0,
           0,
           0,
           0,
           0,
           0,
           0,
           0,
           0,
           0,
           0,
           0,
           0,
           0,
           0,
           0,
           0,
           0,
           0,
           0,
           0,
           0,
           0,
           0,
           0,
           0,
           0,
           0,
           0,
           0,
           0,
           0,
           0,
           0,
           0,
           0,
           0,
           0,
           0,
           0,
           0,
           0,
           0,
           0,
           0,
           0,
           0,
           0,
           0,
           0,
           0,
           0,
           0,
           0,
           0,
           0,
           0,
           0,
           0,
           0,
           0,
           0,
           0,
           0,
           0,
           0,
           0,
           0,
           0,
           0,
           0,
           0,
           0,
           0,
           0,
           0,
           0,
           0,
           0,
           0,
           0,
           0,
           0,
           0,
           0,
           0,
           0,
           0,
           0,
           0,
           0,
           0,
           0,
           0,
           0,
           0,
           0,
           0,
           0,
           0,
           0,
           0,
           0,
           0,
           0,
           0,
           0,
           0,
           0,
           0,
           0,
           0,
           0,
           0,
           0,
           0,
           0
          ],
          "coloraxis": "coloraxis",
          "symbol": "circle"
         },
         "mode": "markers",
         "name": "0.0",
         "scene": "scene",
         "showlegend": true,
         "type": "scatter3d",
         "x": [
          -0.3358511985791076,
          -0.3191913855939568,
          2.294536818478482,
          -0.15024304651921358,
          -0.1521360334002482,
          -0.16454889237712658,
          -0.39139544754202304,
          -0.1459938271408653,
          -0.1505780548578113,
          -0.16522658582173488,
          -0.25935571754755565,
          0.1544931664347945,
          -0.32037603848456375,
          -0.27405738520160644,
          -0.16569502467453118,
          -0.24531227005615902,
          -0.22144689737032605,
          -0.16531157410845787,
          -0.33551081852536185,
          -0.32808981569367474,
          -0.09889476200941642,
          2.556198388602648,
          -0.14732826943756586,
          -0.16256718947394927,
          -0.16511559193186834,
          -0.33434804910184757,
          -0.23279030058773667,
          -0.2104164199235716,
          -0.1651644170842375,
          -0.3358471348853045,
          -0.16567729354006666,
          -0.3358314182667627,
          -0.16576374440312644,
          -0.22153622776390486,
          0.6795322696976073,
          -0.3814825335686903,
          0.1782332715291163,
          0.22756789390452686,
          0.08294269940777763,
          -0.16551007069011617,
          -0.1611157576276758,
          -0.16544936104598956,
          -0.3526117447580375,
          -0.25915885099149033,
          -0.16582074049701162,
          -0.16905473014665723,
          -0.14504472724055642,
          -0.16461596947002013,
          -0.1648933699030659,
          -0.33391018841373804,
          -0.32490421200420044,
          1.582915733183862,
          -0.39129016321919513,
          -0.1502044221525189,
          -0.1621829659473254,
          -0.16553650923974528,
          -0.16589128828580216,
          -0.4068035294288219,
          -0.1651506086309228,
          -0.1514847105725985,
          -0.02950137529038107,
          -0.165772563424223,
          -0.2836862282762291,
          -0.2892836484339852,
          -0.2893126957471616,
          -0.03068150732885985,
          -0.1502820202327664,
          -0.1594371047410529,
          -0.2899347890490106,
          -0.3438561559714052,
          -0.3301539981453656,
          -0.3342531181538836,
          0.02222372519227112,
          -0.16575199495496545,
          -0.1638463621327691,
          -0.1652387842180811,
          -0.3447871229980042,
          -0.39166169317555327,
          -0.13743512496919708,
          -0.2556860143438346,
          -0.14974584326073476,
          -0.3082365291356326,
          -0.39157333694779345,
          -0.15003300807568956,
          -0.15001595021782846,
          -0.15060665724985114,
          -0.2217101157892342,
          -0.3110859091994958,
          -0.3345287179996663,
          -0.16546852749601182,
          -0.2865819791493498,
          -0.20115574040772005,
          -0.16257188420827667,
          -0.3915378251373004,
          -0.2561537893503193,
          -0.14981312964511506,
          -0.28971569319527923,
          -0.32695473773773714,
          3.8614724970502503,
          0.4607782142559603,
          0.04064672170252397,
          -0.33484430363367357,
          -0.16433620517020595,
          -0.31958784302786725,
          -0.3809042094040673,
          -0.14893569151426894,
          -0.2892639314668902,
          -0.16305515522331318,
          -0.2900101470091722,
          -0.16589349571212403,
          -0.2839183441979048,
          -0.1629202239146296,
          -0.3358332704494867,
          -0.28996234381035607,
          -0.1491450676452191,
          -0.12514005660239436,
          -0.34523186020318475,
          -0.1328982837030237,
          -0.1861280607345246,
          -0.1657665928223333,
          -0.3355676768359912,
          -0.03871300010140645,
          -0.10410276429208996,
          -0.16590238923329526,
          -0.15030979331310015,
          0.4862595729549425,
          -0.3916432255069898,
          -0.38872799056039425,
          -0.2210973605631314,
          -0.15205335772852588,
          -0.15004965807350662,
          -0.4371643381969334,
          -0.2213822281292031,
          -0.3198693807434211,
          -0.16402622172262057,
          -0.16321854528349114,
          -0.28766564307547815,
          -0.15320330086809897,
          -0.2894840208312255,
          0.38124639868563215,
          -0.31293294665510324,
          -0.24775366049384487,
          -0.22141762518801236,
          -0.15020554432447805,
          -0.08988439943840895,
          -0.16186064732727024,
          -0.15346992934959522,
          -0.32034695784415673,
          -0.06913863790341465,
          -0.16446587218733436,
          -0.3204106545625462,
          0.2682370871921786,
          -0.2411572087986525,
          -0.3354435531818359,
          -0.28753456393817856,
          -0.22057840036974216,
          -0.1466151656061655,
          -0.16471315852363527,
          -0.15137257403391444,
          -0.38881248233433846,
          0.8637837867195142,
          -0.32021071839913945,
          -0.05114741925102735,
          -0.3522950528443146,
          -0.16569231140408203,
          -0.22138086383535624,
          -0.38948653099272207,
          -0.31895427209422206,
          -0.31662256918248594,
          -0.362493169828796,
          -0.39037848273937203,
          -0.16590244772239374,
          -0.33730605359389876,
          -0.3117420144851003,
          -0.3354816409226731,
          -0.33392086610601485,
          -0.24238585385678021,
          -0.22153081102927494,
          -0.33272420193554575,
          -0.32911105317231487,
          -0.3911171679892409,
          -0.33468595932184997,
          0.30569579949368775,
          -0.3203915972555189,
          -0.15046560122665198,
          -0.39163241543755356,
          -0.33567079638331754,
          -0.11297251008582199,
          -0.3358275046203274,
          -0.1630693744179742,
          -0.2875244144726449,
          -0.1504242364172086,
          -0.22727062607920384,
          -0.16556586672429272,
          0.036337836047988674,
          -0.3512522599380302,
          -0.33544173331230726,
          -0.3777955473794257,
          -0.1579663302957747,
          -0.35058106562341523,
          -0.24381643266837857,
          -0.425215479775671,
          -0.3503297338414157,
          -0.2781448339426068,
          -0.15294548783737758,
          -0.16524819945156385,
          3.7281986061082217,
          -0.3912250013382385,
          -0.09262831366183093,
          -0.20811569883550038,
          0.8419946046445225,
          -0.39158733259153927,
          -0.3517159528591653,
          -0.3353692548013955,
          -0.3355235479520425,
          -0.21935906767746788,
          -0.3522950528443146,
          -0.3911622488518331,
          -0.32025429698792357,
          -0.3353699972486998,
          -0.3509591592422662,
          -0.3355173665461508,
          -0.3311054648996581,
          -0.391616319667651,
          0.30569017714547647,
          -0.33472807560473344,
          0.3539074763672393,
          -0.3357166237891489,
          -0.3357871936111572,
          -0.36115843055690916,
          -0.35521459513533965,
          -0.1658841860186249,
          0.3058208770655566,
          -0.1525937819280647,
          -0.33201405678789714,
          -0.3203680153421532,
          -0.3915262826497987,
          -0.3355650262167269,
          0.4937176284500263,
          -0.3356919533541434,
          -0.1447585112270532,
          -0.28917039215951057,
          -0.2678001660781832,
          -0.16585247742554807,
          -0.24358431535149,
          -0.21426488312242548,
          -0.16526057696061716,
          -0.316547866551536,
          -0.1639859266282332,
          -0.15231219380916095,
          -0.2889115960220599,
          -0.16389762218579843,
          -0.39079205474917034,
          -0.4188172692088816,
          -0.3895306481577566,
          -0.13677610516354213,
          -0.3505418232370351,
          -0.39068995898032,
          -0.19374791730058621,
          -0.34494242466666564,
          -0.38663121465139794,
          -0.33563525132743044,
          -0.3356344325010565,
          -0.32875625689430255,
          0.2585982466349654,
          -0.39116842142689945,
          -0.16541488659562525,
          -0.2718133744227521,
          -0.11679317171335021,
          -0.3523293285559483,
          -0.33484598511750063,
          0.8865193224406239,
          -0.2727478127731453,
          -0.1652369372956109,
          -0.33608455141584126,
          -0.14461636250012255,
          0.5825133098355855,
          -0.1492970555092461,
          -0.018992897925044203,
          -0.16077121330164865,
          0.34180876660922793,
          -0.3640286300596019,
          -0.22058677402413926,
          -0.3625310036943565,
          -0.4168265850720213,
          -0.1655562092973759,
          -0.2896474723087107,
          -0.16531956280451793,
          -0.22098143796259728,
          -0.22155884625342798,
          0.12906985016961706,
          0.30608514046750807,
          -0.28971824492193504,
          -0.1585734104261933,
          3.2434887978319096,
          -0.13226964293173726,
          -0.3472408084465166,
          -0.21243116531276257,
          -0.41633156274791755,
          -0.15024221086867381,
          -0.3914407919361141,
          -0.2892446260637705,
          4.384086652369227,
          -0.0914756504872308,
          -0.35219558950762403,
          1.5808402759138604,
          -0.1656540405207429,
          -0.16510569628252644,
          -0.16480670028069866,
          -0.16479363327301758,
          -0.3352704826609536,
          -0.33577012539192497,
          0.30626876160936783,
          -0.3174132651712752,
          0.6336571390403541,
          -0.39138160949693107,
          0.04705641321532378,
          -0.33885584869444546,
          -0.1759509349726319,
          -0.33572573488043267,
          -0.17374308317096734,
          -0.3255946130426309,
          -0.16510664794642824,
          0.4332777913566058,
          -0.31871449786221095,
          -0.3487968693507562,
          -0.39008519525676105,
          -0.14537431175363788,
          -0.3356760764907655,
          -0.40585556221661406,
          -0.1639841360662182,
          -0.3411592028269695,
          -0.3355465074713655,
          -0.10056251720860658,
          -0.21710359645020078,
          -0.17358849875124746,
          -0.15131065559581391,
          -0.17368870326441627,
          -0.3901743457207169,
          3.7330541667741373,
          0.195395939472998,
          -0.28638948511782086,
          -0.12313088186552347,
          -0.33300701596616,
          1.1435981212451332,
          0.30567293973529436,
          -0.07620055821915105,
          -0.31753696406694354,
          -0.3610443495409073,
          -0.21684498097164542,
          -0.13372912075042798,
          0.07858207115920124,
          -0.3346850353334613,
          -0.08204944438985995,
          -0.3907554925490934,
          1.0853023759949563,
          -0.22153284793138595,
          -0.17374064912323836,
          -0.3602091202901816,
          -0.16677906792529323,
          -0.1649051091709053,
          -0.32225220173576835,
          -0.3357922530078623,
          -0.34520379370119425,
          -0.22145826347860798,
          -0.1502216124852391,
          -0.20368165809427846,
          -0.33758792789203385,
          -0.27710173778535346,
          -0.27448785048105845,
          8.043441000037781,
          -0.13880735014419243,
          -0.33133806046481673,
          0.30954713050351407,
          0.027118981159783694,
          -0.14487767058704604,
          -0.18671490151236994,
          -0.2353806395319376,
          -0.37890985582915426,
          -0.16547877095493704,
          0.14157016099724834,
          -0.21559955035438066,
          -0.37365257683157055,
          -0.40158055811627524,
          -0.39145801484079146,
          -0.2928779640210939,
          -0.2884046359248612,
          -0.33075943847906836,
          -0.104349451264233,
          0.31359595863265444,
          -0.16571576608663868,
          -0.15384671598198738,
          -0.36362761626798057,
          -0.33581960384306936,
          -0.33580131580253353,
          -0.16409784191546709,
          -0.282786651912386,
          -0.15574987305755175,
          -0.32308849246606863,
          -0.351790090481939,
          -0.33551784896001974,
          3.923199916957525,
          -0.22062754007857252,
          -0.40452383941161174,
          -0.35197873401689617,
          0.3058554365708405,
          -0.3214257065829767,
          -0.28239145228762164,
          -0.1938074005616955,
          -0.1524390261506808,
          -0.22123803830378502,
          -0.1318147034300389,
          -0.2889388824118876,
          -0.15805070599069734,
          0.30978369855776006,
          0.5982260078051375,
          2.1142668647494767,
          -0.13895720443908496,
          -0.2891908709916406,
          -0.1275466325822858,
          -0.34345683297043567,
          0.3194593678190102,
          -0.3349919121467062,
          -0.20084222718558803,
          2.2288427299862126,
          -0.3567523116732888,
          -0.27287563804603854,
          1.0215540969223889,
          -0.19786112087859542,
          -0.1717437039361911,
          -0.22151500957271222,
          -0.3670175610438363,
          -0.36115785899217107,
          -0.40753963724206593,
          -0.1699237097356207,
          -0.37177810098109865,
          -0.35987753394155547,
          -0.16574034282821454,
          -0.32869635941052666,
          -0.13360816447364007,
          -0.13571525932062403,
          -0.12170279095419095,
          3.1205973972803123,
          -0.3447812382889915,
          -0.3909314190343902,
          -0.2864365976900169,
          -0.35107853787283494,
          -0.11007388453480571,
          -0.3623718860784464,
          -0.34464258618342447,
          -0.22148637512220085,
          -0.19530535838575622,
          -0.28185194210439074,
          -0.19728884451286438,
          -0.059860724543813144,
          -0.24661584583691834,
          -0.157448469119937,
          -0.15024224842825376,
          0.5882183714206528,
          -0.13519591967970013,
          0.3856122901023107,
          -0.4068343377148943,
          -0.15016573399095745,
          -0.1505577877304106,
          -0.28823833152740197,
          -0.14543354223157204,
          -0.16463270190076537,
          -0.3355218335081809,
          -0.16316678065476659,
          -0.40729041442936403,
          -0.16493948168592498,
          -0.3612748232591999,
          0.5709142376204355,
          -0.1853390439321649,
          -0.3452581001354192,
          -0.33500477170983173,
          -0.2873340682654476,
          -0.2981789266486938,
          -0.38849605341958093,
          -0.14951845509792083,
          -0.12015388316915268,
          -0.14838645266763828,
          -0.3911586381733748,
          3.745294200446268,
          0.09937054360278817,
          0.5301790899743232,
          -0.3886987938168202,
          -0.09891342006899201,
          -0.33439022783034034,
          -0.10102305209134492,
          -0.33521525470057,
          -0.2740899978632955,
          -0.3357335591207264,
          -0.3827874567220719,
          -0.14929563026050646,
          -0.249439274185806,
          -0.10007612860538374,
          -0.3785359779692465,
          -0.1500323786249417,
          -0.33501199700565076,
          0.549880981447692,
          -0.32807714267436766,
          -0.20997746472241544,
          -0.38772767281713877,
          -0.3334512965934906,
          -0.35257064538695376,
          -0.16581718861496772,
          -0.16377301859528182,
          -0.3598806473851954,
          -0.3188912773454133,
          3.7285903907934723,
          -0.0964970250002152,
          -0.33064642745893114,
          -0.34348201208311874,
          -0.13363305126094135,
          -0.29011734623486524,
          -0.1238335298431113,
          3.7384563062271052,
          -0.1529786431441736,
          3.7397002033049933,
          -0.25498917979294056,
          -0.413711222477851,
          -0.3525065246438051,
          -0.3504464679840661,
          2.4691013446192476,
          -0.33389661535086324,
          0.3274282379724315,
          -0.16522764260479847,
          -0.2895873200742747
         ],
         "y": [
          1.0242865748393901,
          1.0244396292474731,
          1.6941504954480933,
          -1.2945113894321028,
          -2.0341293991112965,
          -1.1437654955805219,
          1.2317767027758602,
          -2.227302294923664,
          -2.034226037048394,
          -1.9788000811118218,
          1.491058891170106,
          -1.8768652949997164,
          0.8735184252134314,
          0.6439698874781238,
          -1.1437577463540531,
          1.9100966091559024,
          -0.9362581918866356,
          -1.1437755175028552,
          1.0242856175497401,
          1.024529479077711,
          -1.8716404657052568,
          -1.324426659552701,
          -1.2945231883461021,
          -1.1438184082416187,
          -1.1437943091839258,
          1.024333618203471,
          -0.4838939966654466,
          -1.2403893105849992,
          -1.14375994905016,
          1.024286355864029,
          -1.1437571914313984,
          1.0242865015554805,
          -1.1437544550312047,
          -0.9362596028808025,
          0.3621173132794557,
          0.9276671192962724,
          -1.873044737812361,
          -1.2972124082992704,
          -1.1453086780458435,
          -1.1437519579395408,
          -1.1438074581808955,
          -1.1437576739848723,
          1.6214444991411452,
          0.37101562586330966,
          -1.1437549204124196,
          -1.6104251761625785,
          -1.1440805086613501,
          -1.143757901710831,
          -1.1437681382269813,
          1.0242642375838074,
          1.0028681510914594,
          -1.1517463092975941,
          1.2317799978078874,
          -1.2945101806241621,
          -1.1438170602503988,
          -1.1437520930061504,
          -1.1437502836938587,
          2.127486965491623,
          -1.143755247754105,
          -2.1503747528458153,
          0.8028695281589305,
          -1.1437525570010192,
          0.873006944277632,
          0.7947280467324938,
          1.8307987675308035,
          -1.1499032709930386,
          -1.2945126091733787,
          -1.1437806835040956,
          1.830779298180587,
          0.5576892504988802,
          1.0241740829066008,
          1.0242687371700503,
          1.0354930708616725,
          -1.143759529325094,
          -1.1438584418835303,
          -1.1437643771258221,
          1.0022458853375817,
          1.2317836016147643,
          -1.2947108290190972,
          0.06711836247221989,
          -1.2945138385527093,
          1.6453148838085756,
          1.2317794438711902,
          -1.2945193556845815,
          -1.2945451318081904,
          -1.2945084025484228,
          -0.9362525823496352,
          1.023953853610589,
          1.02425872712076,
          -1.1437520425180154,
          0.2828608907965078,
          -1.351407220819372,
          -1.1438292320352506,
          1.2317836709219183,
          0.06717295952278032,
          -1.2945145513600294,
          1.8307861551165077,
          1.023872635293475,
          -2.303557740103481,
          -2.289191976117145,
          0.6616037708545353,
          1.5107877400730383,
          -1.1437734620200797,
          0.8735112440644859,
          0.9276882513959881,
          -1.1443818758114606,
          0.7947398663152141,
          -1.1437757882290671,
          1.8307686313261404,
          -1.1437512376246055,
          0.7945609806666974,
          -1.1437671438892596,
          1.024287135956387,
          1.8307715121350343,
          -1.1439176184740287,
          -2.1765869054039784,
          1.0022181192592041,
          -1.8713199217859917,
          -1.4908935433681882,
          -1.1437477806694247,
          1.0242816007546915,
          -1.1466927898764252,
          -2.168770456705262,
          -1.1437501253249063,
          -1.2945134783739087,
          -1.187037136370261,
          1.2317841802807346,
          2.4499374124062374,
          -0.9362562533848466,
          -2.2187961050298655,
          -1.2945280190163422,
          1.9730485573341343,
          -0.9362568603327479,
          0.7465225769715117,
          -1.1438365423189436,
          -1.1438387934062455,
          0.7947206503898798,
          -2.0341745063042476,
          1.8307587872650979,
          -2.215542762444648,
          0.8730742323491659,
          1.9102443229819734,
          -0.9362545062983851,
          -1.2945102157442299,
          0.9245373749303548,
          -1.1437686012265693,
          -2.226386765778697,
          0.8735193353360301,
          1.2234950846862198,
          -1.1437628973381924,
          0.8735253040802392,
          -1.2963732205047966,
          1.5424968565619042,
          1.0242702533012478,
          0.794640939769398,
          -0.9362753224971474,
          -2.2300626705073987,
          -1.1438290386588992,
          -2.1716966425201623,
          1.2316069034455663,
          0.7622818288666736,
          0.8735111365356337,
          0.365457450075707,
          1.621440563137994,
          -1.1437569690703886,
          -0.936259587106168,
          1.2317997497131987,
          0.8734239460221582,
          0.8732876347232553,
          1.5386371511553738,
          1.2317275231981084,
          -1.1437501250575368,
          1.458343211835382,
          1.0236563726980852,
          1.0242674457632726,
          1.0242777507645797,
          1.6011242129305958,
          -0.9362642799302566,
          1.0021685270647795,
          -1.133147510049319,
          1.231766025657693,
          1.0242607296935473,
          -2.2871287607359183,
          0.8735186306459403,
          -1.2945105557875765,
          1.2317824414949041,
          1.0242776811048209,
          -1.8715271558990596,
          1.024287316406726,
          -1.1437995064902968,
          0.7947943071289434,
          -1.294509885935388,
          0.2296801202437708,
          -1.1437599354706516,
          1.982246705994655,
          1.6214358110589573,
          1.024299389702929,
          1.2311790126524949,
          -2.2630891413962106,
          1.6214803576742054,
          1.6012161833519298,
          2.056838390324661,
          1.6213075154250431,
          1.9810549383271399,
          -2.034172876081909,
          -1.978800757543039,
          1.8483996299442258,
          1.231776498205331,
          -1.1483801511108382,
          -0.9361733084045195,
          1.8656162269419627,
          1.231783261614763,
          1.6214379159144379,
          1.0242749741738362,
          1.0242677497439967,
          -0.9363368625955454,
          1.621440563137994,
          1.2317576911063093,
          0.8735236200331179,
          1.0242787866552414,
          0.6258909857222332,
          1.0242776363491428,
          1.0239846038833607,
          1.231781560500824,
          -2.2871365527412153,
          1.0242220237415243,
          0.792356607390019,
          1.0242817858090019,
          1.024286282255273,
          1.4545995066584942,
          0.6771151311651833,
          -1.1437510060053202,
          -2.287135231760713,
          -2.2187743918469285,
          1.0240604801386128,
          0.8735193686775647,
          1.2317813637761474,
          1.0242816837098279,
          -0.9830989661388095,
          1.0242763727557562,
          -2.2273917218813337,
          0.7947047135421754,
          0.25712919906127146,
          -1.1437504607085287,
          1.6012151222805362,
          -0.9367119403039806,
          -1.9787983754448357,
          1.0241983340579166,
          -1.143758954600685,
          -2.2187731951672114,
          0.7947270574400019,
          -2.159015054832446,
          1.2317415821797406,
          2.0286975877895372,
          1.2317741361280714,
          -1.1456076163905007,
          1.6214329192024375,
          1.2317447774211507,
          -0.629407882291831,
          1.6214075750002412,
          1.2315948548541389,
          1.0242786466753313,
          1.0242735571724717,
          1.0238162540283557,
          0.6087212228716039,
          1.2317713452815344,
          -1.1437590324663163,
          0.7939012723463501,
          -1.2951809047268417,
          1.6214325667501428,
          1.024245335927914,
          1.8834482195834588,
          0.6438809952735468,
          -1.1437787205730958,
          1.458335398136078,
          -2.227331883700888,
          2.0084697159793867,
          -2.2384144446834275,
          -2.228304456761852,
          -2.145947659105691,
          -2.287376362694493,
          1.53864448602767,
          -0.9362866624475527,
          1.538615196054424,
          1.947811393911721,
          -1.1437522088288645,
          1.8307675191593347,
          -1.143783383566585,
          -0.9362713193414829,
          -0.9362609338916095,
          1.004218593617183,
          -2.2871470399032714,
          1.830772990760446,
          -2.261924945315522,
          -1.175521198622671,
          -1.2662204741269993,
          1.4666289871158669,
          -0.9367237881098037,
          1.9478268863836126,
          -1.2945113632791547,
          1.2317839332173575,
          0.7947284192290067,
          2.8213156045766126,
          -1.148690260656769,
          1.621414873518686,
          -1.0890827443962123,
          -1.1437557713252458,
          -1.1437829216003876,
          -1.1437846419527924,
          -1.1437842330010355,
          1.024271341121542,
          1.0242862042317997,
          -2.287165449143475,
          1.4916715366489677,
          1.3718017838527325,
          1.2317736740195757,
          -1.986681547111049,
          0.5575714057940336,
          -0.9360667415942724,
          1.0242796081919685,
          -1.6103579636179637,
          0.5870901672966621,
          -1.9787963274747213,
          1.0310484350822193,
          0.8735164209530956,
          1.5382972693629722,
          1.8753089373726572,
          -2.2301112868206348,
          1.0242775158558775,
          1.6840772818213485,
          -1.1437588985623404,
          1.5232472292600925,
          1.0242858717116583,
          0.6431770163364086,
          -0.9363507430814775,
          -1.6103655882846466,
          -2.0342974306393864,
          -1.6103595850818593,
          1.2317304501358513,
          1.8482919541430354,
          1.535388414277479,
          1.8307448565955056,
          -1.8714711989060606,
          1.0242301906319438,
          -2.3197496773466524,
          -2.287131207086023,
          -2.038676561280164,
          1.3090825194217746,
          1.4545996151575071,
          -0.9364811228720844,
          -2.22761046118127,
          1.0026385022574569,
          1.0242192165452844,
          -1.144587230582564,
          1.2317773448372886,
          -1.274337013816488,
          -0.936260743365811,
          -1.6103537332341737,
          1.4545565181429518,
          -1.6104675041869452,
          -1.1437627965682367,
          1.02408904504231,
          1.024285650188165,
          1.0022183052750437,
          -0.9362606247094689,
          -1.2945101411868938,
          -1.1494311928512528,
          1.45834027527915,
          -0.09569116133099423,
          0.2696527373102541,
          -2.7373251695088108,
          -2.195863617767132,
          1.0242671910262728,
          -2.287233939401691,
          -1.1446324785134911,
          -2.2300567587179607,
          -1.3516587185867108,
          1.6009280310429665,
          3.38115784444253,
          -1.1437641333545445,
          -1.146871277678957,
          -0.9364075268501363,
          1.018606920143453,
          2.7833265245219265,
          1.231772667534377,
          1.479274903347034,
          0.7946809056652716,
          1.4406743446671617,
          -2.0371342362607696,
          -2.2875669574010216,
          -1.143758395487897,
          -2.2402369763324117,
          1.538629341649853,
          1.024285486570199,
          1.0242846741865423,
          -1.9787986813855718,
          0.7945963986874002,
          -2.2632126676758424,
          1.5178818127929845,
          1.6214092856904148,
          1.0242762365157418,
          1.811446357350509,
          -0.936287938282847,
          1.6841189600995177,
          1.621408920747958,
          -2.28712958054151,
          0.6844700875650408,
          1.02241340451994,
          -0.6293908755040791,
          -2.218780820278851,
          0.9940361111816514,
          -2.2181933441982897,
          0.7947320376548433,
          -2.2630842352524896,
          -2.2874093210953483,
          -2.216738610493428,
          -2.3579155404856724,
          1.023386518834252,
          0.7947116886715794,
          -2.1812752537384537,
          1.984138576258901,
          -2.287383453147605,
          1.0242553086440138,
          1.6806636544884783,
          0.2389347324011341,
          1.4542977492785665,
          0.6439461083199525,
          1.6625036694396516,
          -1.2539972485698034,
          -2.1824278898365446,
          -0.9362610159287302,
          0.914021953031268,
          1.4545953703398888,
          1.6841594833144038,
          0.7867876310782326,
          0.8166297802482089,
          1.4545807429942388,
          -1.143759929902647,
          1.0238181286106496,
          -2.228126310476821,
          -2.2102081731423513,
          -0.6888268421980557,
          -2.265414411502965,
          1.0022079892813924,
          1.2317718389520065,
          0.7946483363806628,
          1.6213470859375916,
          -1.2946936673720995,
          0.9031416367443242,
          1.0021811720592102,
          -0.936262889241377,
          1.0162225496185808,
          1.573998330559359,
          -1.254033290589304,
          -1.9807499525037007,
          1.249724942444236,
          -2.2631162763699977,
          -1.2945113644546384,
          1.1884718276828825,
          1.0088053588563042,
          -2.290215061223712,
          1.6841477352562793,
          -2.2565317071865763,
          -2.256488663008414,
          -0.040357729859445336,
          -2.16500640248881,
          -1.1437930437657744,
          1.024282343123166,
          -1.9789030309210744,
          1.684157669593325,
          -1.9787979405016367,
          1.4545969925323963,
          1.0008760610369072,
          -1.4909380866711686,
          1.0022175057511908,
          1.0242549061845474,
          1.4791437661282403,
          1.9821630147311726,
          1.2315918813272309,
          -1.2945184840621826,
          -0.3372636818712619,
          -1.2945550625825506,
          1.231778575140888,
          1.8483288406161142,
          1.0136746253948992,
          -1.189886052062036,
          1.2318763307211809,
          -1.6107668333300376,
          1.0241938246034843,
          -2.259767505326005,
          1.0242689125055924,
          0.6439629816895808,
          1.0242902565731409,
          1.2317151510686295,
          -1.143922330558659,
          1.0197211051312365,
          0.8802967261064347,
          1.231502023640283,
          -1.294519335984969,
          1.0243024534337515,
          -1.1559665621098423,
          1.0242529285931619,
          -1.2403901125415269,
          1.23176271092574,
          1.0242509045863828,
          1.6214395540982056,
          -1.143750491774994,
          -1.143809065478667,
          0.6646750393712979,
          0.8735074265331322,
          1.8483877150636077,
          0.7938430028779617,
          1.0242417557186467,
          0.5576619116398255,
          -1.8713448560771067,
          1.830773501693377,
          -2.211956410490828,
          1.848807206145211,
          -2.034172724519941,
          1.8488461357844956,
          0.6438829426216791,
          2.9617033321061546,
          1.6214418141634566,
          2.1548118254914344,
          0.8297065614899255,
          1.024174654563927,
          -2.2874111565445165,
          -1.9788001141854459,
          0.7947290530121581
         ],
         "z": [
          -0.5220160318397791,
          -0.5222884775098235,
          -0.7023002138657364,
          0.17478205044379622,
          0.3387926972933695,
          0.014089229383742755,
          -0.5509385676037962,
          0.4504873237114573,
          0.3387804114113016,
          0.3669348461266174,
          -0.021664703814935484,
          0.2501235846890281,
          -0.361338409508632,
          -0.06857233591802227,
          0.014105799208274287,
          -0.6786089035093597,
          -0.014814688836548165,
          0.014102060382273336,
          -0.5220211125870872,
          -0.5221633611718305,
          0.2533693120891456,
          -0.005951131995381812,
          0.1747389706850134,
          0.014065277921460348,
          0.01410130387386127,
          -0.522044565160885,
          -0.03989722328295483,
          0.08251134352432415,
          0.014097963463517965,
          -0.5220160678192877,
          0.014105462629577592,
          -0.5220163249952978,
          0.014106456597196386,
          -0.0148131577849841,
          -0.20825508037167223,
          -0.4535980406108414,
          0.24930700757796545,
          0.16933740210196085,
          0.01049572632937823,
          0.01410228834600317,
          0.014041825483348164,
          0.014102041507408727,
          -0.03963991786641228,
          -0.11459663819900724,
          0.014107381755382608,
          0.25030074194391255,
          0.013829030586639743,
          0.014089350116938393,
          0.014094800707491967,
          -0.5220429978050216,
          -0.25855644620031515,
          -0.011630048313312134,
          -0.5509405661482352,
          0.17478131726233495,
          0.014059253969096946,
          0.014102707887090461,
          0.01410790707042353,
          -0.17221566120192955,
          0.014097193731468683,
          0.29736078423216167,
          -0.2341851802595338,
          0.014106365502932258,
          -0.3618375193749089,
          -0.22925256879895264,
          -0.6791157812119233,
          0.012776068696054474,
          0.1747827902566753,
          0.014013023803251071,
          -0.6791039724157544,
          -0.28575853325042466,
          -0.5220896016860845,
          -0.5220382993377025,
          -0.5288131373184035,
          0.014106880638386696,
          0.014089559631531997,
          0.014099624900507283,
          -0.25817902171676094,
          -0.5509353246991214,
          0.17461030157727928,
          0.01048518775266524,
          0.17477475378641352,
          -0.1619357402093453,
          -0.550936178742177,
          0.17477979224144044,
          0.17478259678776048,
          0.17478724439109725,
          -0.014811338828142917,
          -0.5223544155943275,
          -0.5220329031537544,
          0.014101664408044808,
          -0.026454197848875566,
          0.08420769013012014,
          0.014066636553761261,
          -0.550937223301851,
          0.010485834738204625,
          0.1747758654054959,
          -0.6791081313711239,
          -0.522102582766068,
          0.31862276037796794,
          0.3688129405246168,
          -0.047462975482601526,
          -0.16932092387031533,
          0.014086930780608391,
          -0.3613495843714306,
          -0.45360937914857274,
          0.01392424453041086,
          -0.2292542750896482,
          0.014067657149996856,
          -0.6791015540458621,
          0.014108054183744325,
          -0.22931458449770958,
          0.01406457010938686,
          -0.5220163721613655,
          -0.6791026261128909,
          0.013872238078449893,
          0.4353978766038964,
          -0.2581689330598779,
          0.2538501293060182,
          0.27676258221227146,
          0.014105706463098435,
          -0.5220197672565589,
          0.012516901051691736,
          0.3658019063517677,
          0.01410805765243386,
          0.1747833174551577,
          0.009302323512010028,
          -0.5509356753412951,
          0.6254427722679913,
          -0.014820253645293135,
          0.35289439574960674,
          0.17478107643795854,
          -0.7443005404892437,
          -0.014815834086209848,
          -0.009169646581199207,
          0.014089700553802383,
          0.014077642188951278,
          -0.22927638188208393,
          0.33881434836053526,
          -0.6791084128153344,
          0.40957374276121516,
          -0.36139918321119924,
          -0.678589208889815,
          -0.014815573790953026,
          0.17478133856380196,
          -0.45711956947326743,
          0.014048573092944027,
          0.3876662612915507,
          -0.3613389615276849,
          -0.554871847046804,
          0.014087653464994361,
          -0.3613386991498145,
          0.1686169634324196,
          -0.6231959908963413,
          -0.5220203122689825,
          -0.2292689044320009,
          -0.01482590616433304,
          0.39981310386008007,
          0.014099291751000248,
          0.34396294126738475,
          -0.5509577967684979,
          -0.24299167567123248,
          -0.361340065825793,
          -0.19750126187771125,
          -0.03964428292770283,
          0.014105665379151356,
          -0.014815530684284685,
          -0.5509704401187056,
          -0.36134887332628207,
          -0.3613682497929756,
          -0.6208853393197881,
          -0.5509482399826465,
          0.014108058513250492,
          -0.08944688392212219,
          -0.5223090312270063,
          -0.5220193971826381,
          -0.5220444416144512,
          -0.3863440054156764,
          -0.014812684333353384,
          -0.25835391693960325,
          0.4593481999174397,
          -0.5509415449091276,
          -0.5220307415916773,
          0.3709343447021658,
          -0.3613381964913709,
          0.1747853477491408,
          -0.5509356335672986,
          -0.5220177274798001,
          0.25357068101967306,
          -0.5220164816103844,
          0.014070694331613186,
          -0.22928729521951732,
          0.174784636829181,
          -0.1963754609549216,
          0.014104088409886438,
          -0.6739148278267328,
          -0.03965963205091031,
          -0.5220238044584695,
          -0.5510750496010013,
          0.3231025801543334,
          -0.03967517195355774,
          -0.38633310880963584,
          -0.4936305640157646,
          -0.039658456026188026,
          -0.6689737727949646,
          0.3388102200125042,
          0.36693525640422275,
          0.13460042254066604,
          -0.5509411444753484,
          0.013540340697051692,
          -0.01502823045319789,
          -0.7005206823633435,
          -0.5509364190958989,
          -0.03965280586368396,
          -0.5220220074712603,
          -0.5220187937798217,
          -0.014837197191199084,
          -0.03964428292770283,
          -0.550939865919581,
          -0.36134088509871065,
          -0.5220224494575806,
          -0.42844544189261885,
          -0.5220200636654911,
          -0.5220525515677495,
          -0.5509357744532059,
          0.37093535700102664,
          -0.522025496583042,
          -0.2387863974104023,
          -0.5220175161665662,
          -0.5220169738364264,
          -0.2831835675659684,
          -0.2593713341977271,
          0.014107884567316204,
          0.37093320530812424,
          0.352900061443976,
          -0.5220477074030859,
          -0.36133864413163214,
          -0.550937125125445,
          -0.5220198175715561,
          -0.02015935666011056,
          -0.5220172490341527,
          0.45047910460461965,
          -0.22925152281878478,
          -0.2654981073624544,
          0.014107335821846012,
          -0.38633652500905313,
          -0.01487034202194799,
          0.366935162059063,
          -0.5223001296938844,
          0.014079860165545747,
          0.352895621811748,
          -0.22925812909587584,
          0.25223750465635303,
          -0.5509436000812585,
          -0.5761535052961719,
          -0.5509667213009345,
          0.013884420613172103,
          -0.039670130241280334,
          -0.5509455380994313,
          -0.08474189137747092,
          -0.03975256968274021,
          -0.5509896526833129,
          -0.5220183847458538,
          -0.5220177920830106,
          -0.5220683856891162,
          -0.07251005908380628,
          -0.5509413952467465,
          0.014101676917571956,
          -0.22942087804805197,
          0.17435117635637334,
          -0.03964280904537214,
          -0.5220264690522611,
          -0.6927133094835134,
          -0.06858175184451686,
          0.014101302198634992,
          -0.08946459630750918,
          0.4504698202982433,
          -0.7005757275284807,
          0.33996139713974766,
          0.41719924104615747,
          0.3176609826421314,
          0.37041266199393486,
          -0.620862778656649,
          -0.014824430014905462,
          -0.6208821513981354,
          -0.6876632750661282,
          0.01410302230324854,
          -0.6791069566184716,
          0.014103117599989867,
          -0.014820231358107236,
          -0.014812654340403438,
          -0.5267250854911107,
          0.3709305763872102,
          -0.6791065271427108,
          0.3401835384652151,
          -0.034145296880120475,
          0.10739243544430162,
          -0.2808885575924953,
          -0.01489691781928047,
          -0.6876726717558327,
          0.17478203458117642,
          -0.5509387353225449,
          -0.22925320861413395,
          0.3116417193871428,
          0.013559622864459343,
          -0.03964274626486118,
          -0.019049283468223172,
          0.014104938907640948,
          0.014099798833384797,
          0.014095440382748002,
          0.014095192340163707,
          -0.5220230828601071,
          -0.5220172250388846,
          0.3709299630482142,
          -0.02085152768698399,
          -0.30100362034527234,
          -0.5509384186581933,
          0.36463230800251095,
          -0.2858208312815681,
          -0.01553177111664733,
          -0.5220171181953392,
          0.2503642995460008,
          -0.15913908083646308,
          0.36693256942324,
          -0.5345577902308822,
          -0.36136352812429506,
          -0.6210539467701436,
          -0.4542125602379219,
          0.39979994771516625,
          -0.5220176272509243,
          -0.5759659734436269,
          0.014079826176461042,
          -0.06071944985327712,
          -0.5220205981554066,
          -0.07112578249833128,
          -0.014869967714913005,
          0.25036284701706235,
          0.33880008063902806,
          0.2503636624466091,
          -0.5509517033597969,
          0.13453912438438603,
          -0.6290130521537913,
          -0.6791539824147159,
          0.25371905541958717,
          -0.5220527329081333,
          0.36202577477507725,
          0.37093498444637224,
          0.33817451170308205,
          -0.32809774869146563,
          -0.2831853214680673,
          -0.014858411874054176,
          0.4503367928703046,
          -0.5257667085248424,
          -0.5220258196396153,
          0.012927904545514958,
          -0.5509484103608844,
          0.06733019314063879,
          -0.014813073757420107,
          0.25036375939288785,
          -0.28319294360067737,
          0.25027104579164877,
          0.014094344720356944,
          -0.522200080461797,
          -0.5220168214695858,
          -0.2581693835033354,
          -0.014814226106463992,
          0.17478157491640844,
          0.19831422376525276,
          -0.08944223304530857,
          0.09546099953019782,
          -0.1332744437203214,
          0.30637775076416834,
          0.4241827747130528,
          -0.5220826024677663,
          0.3708880752720656,
          0.011267254984442343,
          0.3997858848521893,
          0.0840172110501494,
          -0.3864275859685039,
          16.606504142935655,
          0.014103258375625368,
          0.009786805438558257,
          -0.014886169323648323,
          -0.3378096963037349,
          10.308272816066582,
          -0.5509371329545167,
          -0.1764816599184736,
          -0.22926037826053824,
          -0.12384510193372468,
          0.3384207069895602,
          0.3708658826837802,
          0.014106192929131098,
          0.36813434883711543,
          -0.6208670978486168,
          -0.5220163846111695,
          -0.5220165671115372,
          0.3669174538266853,
          -0.22933606668291573,
          0.32308344228094105,
          -0.020501673747966544,
          -0.03964827021233668,
          -0.5220198898584215,
          0.05445766217968405,
          -0.014823656179170513,
          -0.5759912526792517,
          -0.039645347912576956,
          0.37093200594324216,
          0.014500770094962102,
          -0.5226091598369466,
          -0.08474300576212268,
          0.35289846406359043,
          0.3652837002710592,
          0.3069384814916281,
          -0.22925830484001083,
          0.3231032844628019,
          0.3709053184585871,
          0.41603825346663403,
          0.3517503567146658,
          -0.5249138300614242,
          -0.22925203965576293,
          0.3527869095021044,
          -0.6683436951208052,
          0.3707545813665475,
          -0.5220254278355635,
          -0.3858283613160132,
          -0.2580997730231283,
          -0.2832149297952587,
          -0.06858754325141356,
          0.0067322522422493866,
          0.2578573103555098,
          0.19926212566179066,
          -0.014813313581654068,
          -0.2782767909197926,
          -0.2831830844664601,
          -0.5759500466493608,
          -0.23012998997678943,
          -0.45190615601136463,
          -0.2832008843877832,
          0.01410675044419578,
          -0.5220695226844434,
          0.45039628316361474,
          0.400649799788887,
          0.3596314480355589,
          0.38333182121908554,
          -0.2581746055551557,
          -0.55094507086181,
          -0.22928654008100097,
          -0.03965173352407872,
          0.17419069851529723,
          -0.4279712425883811,
          -0.2581735328800516,
          -0.014813527831535481,
          -0.523202075475187,
          0.20740277200585977,
          0.2578528623091365,
          0.36555869400331037,
          0.11628544567904778,
          0.3230979034655995,
          0.17478203529414582,
          0.7235026255484305,
          -0.26215755643406813,
          0.3700817030842365,
          -0.5759594134086377,
          0.24811683662829911,
          0.2481177016998394,
          0.1235728397091064,
          0.37313162720656984,
          0.01409378398083446,
          -0.5220205551460426,
          0.3669156523237124,
          -0.5759536344047893,
          0.3669302100774222,
          -0.28318149234784357,
          -0.5330706761979817,
          0.27675583730078235,
          -0.25816845966161517,
          -0.5220251837307656,
          -0.17655067318025197,
          -0.6687997846229866,
          -0.5509608396397047,
          0.17477183596082402,
          -0.1429765738330489,
          0.1747589096736724,
          -0.5509424042045316,
          0.1343479421441758,
          -0.5273961955822243,
          0.00897080926914657,
          -0.5509915675901902,
          0.24927093294864414,
          -0.5220272995374757,
          0.24775161279696467,
          -0.5220236369286311,
          -0.06857101709158504,
          -0.5220182649172492,
          -0.551062616262531,
          0.013875096111528427,
          -0.5227919226866756,
          -0.36550639012381403,
          -0.5511021569138548,
          0.17477978029298266,
          -0.5220307269929008,
          0.0046369952461095985,
          -0.5221306717920003,
          0.08250473994271444,
          -0.5509928781835104,
          -0.5220484156583007,
          -0.03963995710555176,
          0.014106800969869458,
          0.01408256930802483,
          -0.44578449315550583,
          -0.3613597608090165,
          0.13459586019687234,
          -0.23208946904209918,
          -0.5220901332009046,
          -0.28576099241336267,
          0.25386430743456934,
          -0.6791004971713821,
          0.33871039718165064,
          0.1343954166236987,
          0.33881070797755636,
          0.13437180452724265,
          -0.0688529995723542,
          10.520068224826002,
          -0.03964120438766191,
          0.43247693797561865,
          0.058757527097847644,
          -0.5220325532220598,
          0.3706362617108088,
          0.3669348661868509,
          -0.2292480540873006
         ]
        },
        {
         "customdata": [
          [
           null
          ],
          [
           "SHA-256"
          ]
         ],
         "hovertemplate": "<b>%{hovertext}</b><br><br>Class=%{marker.color}<br>PC 1=%{x}<br>PC 2=%{y}<br>PC 3=%{z}<br>Algorithm=%{customdata[0]}<extra></extra>",
         "hovertext": [
          "BiblePay",
          "Acute Angle Cloud"
         ],
         "legendgroup": "2.0",
         "marker": {
          "color": [
           2,
           2
          ],
          "coloraxis": "coloraxis",
          "symbol": "diamond"
         },
         "mode": "markers",
         "name": "2.0",
         "scene": "scene",
         "showlegend": true,
         "type": "scatter3d",
         "x": [
          -0.2029815185621421,
          -0.35477969391163666
         ],
         "y": [
          2.8344404027293955,
          3.2804545180892397
         ],
         "z": [
          20.672700559990037,
          8.893045219014459
         ]
        },
        {
         "customdata": [
          [
           "SHA-256D"
          ]
         ],
         "hovertemplate": "<b>%{hovertext}</b><br><br>Class=%{marker.color}<br>PC 1=%{x}<br>PC 2=%{y}<br>PC 3=%{z}<br>Algorithm=%{customdata[0]}<extra></extra>",
         "hovertext": [
          "BitTorrent"
         ],
         "legendgroup": "1.0",
         "marker": {
          "color": [
           1
          ],
          "coloraxis": "coloraxis",
          "symbol": "square"
         },
         "mode": "markers",
         "name": "1.0",
         "scene": "scene",
         "showlegend": true,
         "type": "scatter3d",
         "x": [
          34.05815290497125
         ],
         "y": [
          1.6815568040486601
         ],
         "z": [
          -0.4256293644922219
         ]
        }
       ],
       "layout": {
        "coloraxis": {
         "colorbar": {
          "title": {
           "text": "Class"
          }
         },
         "colorscale": [
          [
           0,
           "#0d0887"
          ],
          [
           0.1111111111111111,
           "#46039f"
          ],
          [
           0.2222222222222222,
           "#7201a8"
          ],
          [
           0.3333333333333333,
           "#9c179e"
          ],
          [
           0.4444444444444444,
           "#bd3786"
          ],
          [
           0.5555555555555556,
           "#d8576b"
          ],
          [
           0.6666666666666666,
           "#ed7953"
          ],
          [
           0.7777777777777778,
           "#fb9f3a"
          ],
          [
           0.8888888888888888,
           "#fdca26"
          ],
          [
           1,
           "#f0f921"
          ]
         ]
        },
        "legend": {
         "title": {
          "text": "Class"
         },
         "tracegroupgap": 0,
         "x": 0,
         "y": 1
        },
        "margin": {
         "t": 60
        },
        "scene": {
         "domain": {
          "x": [
           0,
           1
          ],
          "y": [
           0,
           1
          ]
         },
         "xaxis": {
          "title": {
           "text": "PC 1"
          }
         },
         "yaxis": {
          "title": {
           "text": "PC 2"
          }
         },
         "zaxis": {
          "title": {
           "text": "PC 3"
          }
         }
        },
        "template": {
         "data": {
          "bar": [
           {
            "error_x": {
             "color": "#2a3f5f"
            },
            "error_y": {
             "color": "#2a3f5f"
            },
            "marker": {
             "line": {
              "color": "#E5ECF6",
              "width": 0.5
             },
             "pattern": {
              "fillmode": "overlay",
              "size": 10,
              "solidity": 0.2
             }
            },
            "type": "bar"
           }
          ],
          "barpolar": [
           {
            "marker": {
             "line": {
              "color": "#E5ECF6",
              "width": 0.5
             },
             "pattern": {
              "fillmode": "overlay",
              "size": 10,
              "solidity": 0.2
             }
            },
            "type": "barpolar"
           }
          ],
          "carpet": [
           {
            "aaxis": {
             "endlinecolor": "#2a3f5f",
             "gridcolor": "white",
             "linecolor": "white",
             "minorgridcolor": "white",
             "startlinecolor": "#2a3f5f"
            },
            "baxis": {
             "endlinecolor": "#2a3f5f",
             "gridcolor": "white",
             "linecolor": "white",
             "minorgridcolor": "white",
             "startlinecolor": "#2a3f5f"
            },
            "type": "carpet"
           }
          ],
          "choropleth": [
           {
            "colorbar": {
             "outlinewidth": 0,
             "ticks": ""
            },
            "type": "choropleth"
           }
          ],
          "contour": [
           {
            "colorbar": {
             "outlinewidth": 0,
             "ticks": ""
            },
            "colorscale": [
             [
              0,
              "#0d0887"
             ],
             [
              0.1111111111111111,
              "#46039f"
             ],
             [
              0.2222222222222222,
              "#7201a8"
             ],
             [
              0.3333333333333333,
              "#9c179e"
             ],
             [
              0.4444444444444444,
              "#bd3786"
             ],
             [
              0.5555555555555556,
              "#d8576b"
             ],
             [
              0.6666666666666666,
              "#ed7953"
             ],
             [
              0.7777777777777778,
              "#fb9f3a"
             ],
             [
              0.8888888888888888,
              "#fdca26"
             ],
             [
              1,
              "#f0f921"
             ]
            ],
            "type": "contour"
           }
          ],
          "contourcarpet": [
           {
            "colorbar": {
             "outlinewidth": 0,
             "ticks": ""
            },
            "type": "contourcarpet"
           }
          ],
          "heatmap": [
           {
            "colorbar": {
             "outlinewidth": 0,
             "ticks": ""
            },
            "colorscale": [
             [
              0,
              "#0d0887"
             ],
             [
              0.1111111111111111,
              "#46039f"
             ],
             [
              0.2222222222222222,
              "#7201a8"
             ],
             [
              0.3333333333333333,
              "#9c179e"
             ],
             [
              0.4444444444444444,
              "#bd3786"
             ],
             [
              0.5555555555555556,
              "#d8576b"
             ],
             [
              0.6666666666666666,
              "#ed7953"
             ],
             [
              0.7777777777777778,
              "#fb9f3a"
             ],
             [
              0.8888888888888888,
              "#fdca26"
             ],
             [
              1,
              "#f0f921"
             ]
            ],
            "type": "heatmap"
           }
          ],
          "heatmapgl": [
           {
            "colorbar": {
             "outlinewidth": 0,
             "ticks": ""
            },
            "colorscale": [
             [
              0,
              "#0d0887"
             ],
             [
              0.1111111111111111,
              "#46039f"
             ],
             [
              0.2222222222222222,
              "#7201a8"
             ],
             [
              0.3333333333333333,
              "#9c179e"
             ],
             [
              0.4444444444444444,
              "#bd3786"
             ],
             [
              0.5555555555555556,
              "#d8576b"
             ],
             [
              0.6666666666666666,
              "#ed7953"
             ],
             [
              0.7777777777777778,
              "#fb9f3a"
             ],
             [
              0.8888888888888888,
              "#fdca26"
             ],
             [
              1,
              "#f0f921"
             ]
            ],
            "type": "heatmapgl"
           }
          ],
          "histogram": [
           {
            "marker": {
             "pattern": {
              "fillmode": "overlay",
              "size": 10,
              "solidity": 0.2
             }
            },
            "type": "histogram"
           }
          ],
          "histogram2d": [
           {
            "colorbar": {
             "outlinewidth": 0,
             "ticks": ""
            },
            "colorscale": [
             [
              0,
              "#0d0887"
             ],
             [
              0.1111111111111111,
              "#46039f"
             ],
             [
              0.2222222222222222,
              "#7201a8"
             ],
             [
              0.3333333333333333,
              "#9c179e"
             ],
             [
              0.4444444444444444,
              "#bd3786"
             ],
             [
              0.5555555555555556,
              "#d8576b"
             ],
             [
              0.6666666666666666,
              "#ed7953"
             ],
             [
              0.7777777777777778,
              "#fb9f3a"
             ],
             [
              0.8888888888888888,
              "#fdca26"
             ],
             [
              1,
              "#f0f921"
             ]
            ],
            "type": "histogram2d"
           }
          ],
          "histogram2dcontour": [
           {
            "colorbar": {
             "outlinewidth": 0,
             "ticks": ""
            },
            "colorscale": [
             [
              0,
              "#0d0887"
             ],
             [
              0.1111111111111111,
              "#46039f"
             ],
             [
              0.2222222222222222,
              "#7201a8"
             ],
             [
              0.3333333333333333,
              "#9c179e"
             ],
             [
              0.4444444444444444,
              "#bd3786"
             ],
             [
              0.5555555555555556,
              "#d8576b"
             ],
             [
              0.6666666666666666,
              "#ed7953"
             ],
             [
              0.7777777777777778,
              "#fb9f3a"
             ],
             [
              0.8888888888888888,
              "#fdca26"
             ],
             [
              1,
              "#f0f921"
             ]
            ],
            "type": "histogram2dcontour"
           }
          ],
          "mesh3d": [
           {
            "colorbar": {
             "outlinewidth": 0,
             "ticks": ""
            },
            "type": "mesh3d"
           }
          ],
          "parcoords": [
           {
            "line": {
             "colorbar": {
              "outlinewidth": 0,
              "ticks": ""
             }
            },
            "type": "parcoords"
           }
          ],
          "pie": [
           {
            "automargin": true,
            "type": "pie"
           }
          ],
          "scatter": [
           {
            "fillpattern": {
             "fillmode": "overlay",
             "size": 10,
             "solidity": 0.2
            },
            "type": "scatter"
           }
          ],
          "scatter3d": [
           {
            "line": {
             "colorbar": {
              "outlinewidth": 0,
              "ticks": ""
             }
            },
            "marker": {
             "colorbar": {
              "outlinewidth": 0,
              "ticks": ""
             }
            },
            "type": "scatter3d"
           }
          ],
          "scattercarpet": [
           {
            "marker": {
             "colorbar": {
              "outlinewidth": 0,
              "ticks": ""
             }
            },
            "type": "scattercarpet"
           }
          ],
          "scattergeo": [
           {
            "marker": {
             "colorbar": {
              "outlinewidth": 0,
              "ticks": ""
             }
            },
            "type": "scattergeo"
           }
          ],
          "scattergl": [
           {
            "marker": {
             "colorbar": {
              "outlinewidth": 0,
              "ticks": ""
             }
            },
            "type": "scattergl"
           }
          ],
          "scattermapbox": [
           {
            "marker": {
             "colorbar": {
              "outlinewidth": 0,
              "ticks": ""
             }
            },
            "type": "scattermapbox"
           }
          ],
          "scatterpolar": [
           {
            "marker": {
             "colorbar": {
              "outlinewidth": 0,
              "ticks": ""
             }
            },
            "type": "scatterpolar"
           }
          ],
          "scatterpolargl": [
           {
            "marker": {
             "colorbar": {
              "outlinewidth": 0,
              "ticks": ""
             }
            },
            "type": "scatterpolargl"
           }
          ],
          "scatterternary": [
           {
            "marker": {
             "colorbar": {
              "outlinewidth": 0,
              "ticks": ""
             }
            },
            "type": "scatterternary"
           }
          ],
          "surface": [
           {
            "colorbar": {
             "outlinewidth": 0,
             "ticks": ""
            },
            "colorscale": [
             [
              0,
              "#0d0887"
             ],
             [
              0.1111111111111111,
              "#46039f"
             ],
             [
              0.2222222222222222,
              "#7201a8"
             ],
             [
              0.3333333333333333,
              "#9c179e"
             ],
             [
              0.4444444444444444,
              "#bd3786"
             ],
             [
              0.5555555555555556,
              "#d8576b"
             ],
             [
              0.6666666666666666,
              "#ed7953"
             ],
             [
              0.7777777777777778,
              "#fb9f3a"
             ],
             [
              0.8888888888888888,
              "#fdca26"
             ],
             [
              1,
              "#f0f921"
             ]
            ],
            "type": "surface"
           }
          ],
          "table": [
           {
            "cells": {
             "fill": {
              "color": "#EBF0F8"
             },
             "line": {
              "color": "white"
             }
            },
            "header": {
             "fill": {
              "color": "#C8D4E3"
             },
             "line": {
              "color": "white"
             }
            },
            "type": "table"
           }
          ]
         },
         "layout": {
          "annotationdefaults": {
           "arrowcolor": "#2a3f5f",
           "arrowhead": 0,
           "arrowwidth": 1
          },
          "autotypenumbers": "strict",
          "coloraxis": {
           "colorbar": {
            "outlinewidth": 0,
            "ticks": ""
           }
          },
          "colorscale": {
           "diverging": [
            [
             0,
             "#8e0152"
            ],
            [
             0.1,
             "#c51b7d"
            ],
            [
             0.2,
             "#de77ae"
            ],
            [
             0.3,
             "#f1b6da"
            ],
            [
             0.4,
             "#fde0ef"
            ],
            [
             0.5,
             "#f7f7f7"
            ],
            [
             0.6,
             "#e6f5d0"
            ],
            [
             0.7,
             "#b8e186"
            ],
            [
             0.8,
             "#7fbc41"
            ],
            [
             0.9,
             "#4d9221"
            ],
            [
             1,
             "#276419"
            ]
           ],
           "sequential": [
            [
             0,
             "#0d0887"
            ],
            [
             0.1111111111111111,
             "#46039f"
            ],
            [
             0.2222222222222222,
             "#7201a8"
            ],
            [
             0.3333333333333333,
             "#9c179e"
            ],
            [
             0.4444444444444444,
             "#bd3786"
            ],
            [
             0.5555555555555556,
             "#d8576b"
            ],
            [
             0.6666666666666666,
             "#ed7953"
            ],
            [
             0.7777777777777778,
             "#fb9f3a"
            ],
            [
             0.8888888888888888,
             "#fdca26"
            ],
            [
             1,
             "#f0f921"
            ]
           ],
           "sequentialminus": [
            [
             0,
             "#0d0887"
            ],
            [
             0.1111111111111111,
             "#46039f"
            ],
            [
             0.2222222222222222,
             "#7201a8"
            ],
            [
             0.3333333333333333,
             "#9c179e"
            ],
            [
             0.4444444444444444,
             "#bd3786"
            ],
            [
             0.5555555555555556,
             "#d8576b"
            ],
            [
             0.6666666666666666,
             "#ed7953"
            ],
            [
             0.7777777777777778,
             "#fb9f3a"
            ],
            [
             0.8888888888888888,
             "#fdca26"
            ],
            [
             1,
             "#f0f921"
            ]
           ]
          },
          "colorway": [
           "#636efa",
           "#EF553B",
           "#00cc96",
           "#ab63fa",
           "#FFA15A",
           "#19d3f3",
           "#FF6692",
           "#B6E880",
           "#FF97FF",
           "#FECB52"
          ],
          "font": {
           "color": "#2a3f5f"
          },
          "geo": {
           "bgcolor": "white",
           "lakecolor": "white",
           "landcolor": "#E5ECF6",
           "showlakes": true,
           "showland": true,
           "subunitcolor": "white"
          },
          "hoverlabel": {
           "align": "left"
          },
          "hovermode": "closest",
          "mapbox": {
           "style": "light"
          },
          "paper_bgcolor": "white",
          "plot_bgcolor": "#E5ECF6",
          "polar": {
           "angularaxis": {
            "gridcolor": "white",
            "linecolor": "white",
            "ticks": ""
           },
           "bgcolor": "#E5ECF6",
           "radialaxis": {
            "gridcolor": "white",
            "linecolor": "white",
            "ticks": ""
           }
          },
          "scene": {
           "xaxis": {
            "backgroundcolor": "#E5ECF6",
            "gridcolor": "white",
            "gridwidth": 2,
            "linecolor": "white",
            "showbackground": true,
            "ticks": "",
            "zerolinecolor": "white"
           },
           "yaxis": {
            "backgroundcolor": "#E5ECF6",
            "gridcolor": "white",
            "gridwidth": 2,
            "linecolor": "white",
            "showbackground": true,
            "ticks": "",
            "zerolinecolor": "white"
           },
           "zaxis": {
            "backgroundcolor": "#E5ECF6",
            "gridcolor": "white",
            "gridwidth": 2,
            "linecolor": "white",
            "showbackground": true,
            "ticks": "",
            "zerolinecolor": "white"
           }
          },
          "shapedefaults": {
           "line": {
            "color": "#2a3f5f"
           }
          },
          "ternary": {
           "aaxis": {
            "gridcolor": "white",
            "linecolor": "white",
            "ticks": ""
           },
           "baxis": {
            "gridcolor": "white",
            "linecolor": "white",
            "ticks": ""
           },
           "bgcolor": "#E5ECF6",
           "caxis": {
            "gridcolor": "white",
            "linecolor": "white",
            "ticks": ""
           }
          },
          "title": {
           "x": 0.05
          },
          "xaxis": {
           "automargin": true,
           "gridcolor": "white",
           "linecolor": "white",
           "ticks": "",
           "title": {
            "standoff": 15
           },
           "zerolinecolor": "white",
           "zerolinewidth": 2
          },
          "yaxis": {
           "automargin": true,
           "gridcolor": "white",
           "linecolor": "white",
           "ticks": "",
           "title": {
            "standoff": 15
           },
           "zerolinecolor": "white",
           "zerolinewidth": 2
          }
         }
        }
       }
      },
      "text/html": [
       "<div>                            <div id=\"1e03ad48-b624-4e4f-9e0a-ce7921faef12\" class=\"plotly-graph-div\" style=\"height:525px; width:100%;\"></div>            <script type=\"text/javascript\">                require([\"plotly\"], function(Plotly) {                    window.PLOTLYENV=window.PLOTLYENV || {};                                    if (document.getElementById(\"1e03ad48-b624-4e4f-9e0a-ce7921faef12\")) {                    Plotly.newPlot(                        \"1e03ad48-b624-4e4f-9e0a-ce7921faef12\",                        [{\"customdata\":[[\"Scrypt\"],[null],[\"Scrypt\"],[null],[null],[\"X13\"],[null],[\"SHA-256\"],[\"Ethash\"],[\"Scrypt\"],[\"X11\"],[\"CryptoNight-V7\"],[\"Ethash\"],[\"Equihash\"],[\"SHA-512\"],[\"Multiple\"],[\"SHA-256\"],[null],[null],[\"SHA-256\"],[\"Scrypt\"],[null],[null],[null],[\"X15\"],[null],[null],[\"X11\"],[null],[null],[null],[null],[null],[null],[null],[null],[null],[\"Scrypt\"],[null],[\"Scrypt\"],[null],[null],[\"Scrypt\"],[null],[\"Multiple\"],[\"Scrypt\"],[\"SHA-256\"],[\"Scrypt\"],[\"Scrypt\"],[\"Scrypt\"],[\"Quark\"],[\"Groestl\"],[\"Scrypt\"],[null],[\"Scrypt\"],[null],[null],[null],[null],[null],[null],[\"Scrypt\"],[\"Scrypt\"],[\"Scrypt\"],[null],[null],[null],[null],[null],[null],[null],[null],[null],[\"X11\"],[\"Scrypt\"],[null],[\"Groestl\"],[\"Multiple\"],[null],[null],[\"SHA-256\"],[\"Scrypt\"],[\"Scrypt\"],[null],[\"Scrypt\"],[\"Scrypt\"],[\"PoS\"],[null],[null],[null],[null],[null],[null],[null],[\"Scrypt\"],[\"Scrypt\"],[null],[null],[\"NeoScrypt\"],[\"Scrypt\"],[\"Scrypt\"],[\"Scrypt\"],[null],[null],[null],[null],[null],[\"Scrypt\"],[null],[null],[\"X11\"],[null],[\"Scrypt\"],[\"X11\"],[\"SHA-256\"],[null],[null],[null],[null],[null],[\"Scrypt\"],[null],[\"Scrypt\"],[null],[\"Scrypt\"],[null],[null],[null],[null],[\"SHA3\"],[\"Scrypt\"],[\"HybridScryptHash256\"],[null],[\"Scrypt\"],[null],[\"Scrypt\"],[null],[\"SHA-256\"],[null],[\"Scrypt\"],[\"X13\"],[null],[null],[null],[\"Scrypt\"],[null],[\"SHA-256\"],[\"Scrypt\"],[\"X13\"],[\"NeoScrypt\"],[null],[\"Scrypt\"],[null],[\"Scrypt\"],[null],[\"Scrypt\"],[null],[\"Scrypt\"],[null],[null],[null],[null],[\"Scrypt\"],[null],[null],[null],[null],[null],[\"Scrypt\"],[null],[null],[null],[null],[null],[\"X11\"],[\"X11\"],[\"SHA-256\"],[null],[null],[\"Multiple\"],[\"SHA-256\"],[\"PHI1612\"],[\"X11\"],[\"SHA-256\"],[null],[null],[\"SHA-256\"],[\"SHA-256\"],[\"X11\"],[\"Scrypt\"],[\"Scrypt\"],[null],[null],[\"Scrypt\"],[null],[\"Scrypt\"],[\"Lyra2REv2\"],[\"Scrypt\"],[null],[null],[\"X11\"],[null],[\"Multiple\"],[\"SHA-256\"],[null],[\"X13\"],[null],[null],[\"Scrypt\"],[null],[\"CryptoNight\"],[null],[\"CryptoNight\"],[null],[\"Shabal256\"],[\"Counterparty\"],[null],[null],[\"Scrypt\"],[null],[\"SHA-256\"],[null],[null],[null],[\"Groestl\"],[\"Scrypt\"],[\"Scrypt\"],[\"Scrypt\"],[\"X13\"],[\"Scrypt\"],[null],[\"Scrypt\"],[\"Scrypt\"],[null],[\"Scrypt\"],[\"X13\"],[null],[null],[null],[\"Scrypt\"],[null],[null],[null],[null],[\"Stanford Folding\"],[null],[\"X11\"],[\"Multiple\"],[\"QuBit\"],[null],[null],[\"Scrypt\"],[null],[null],[\"Scrypt\"],[null],[\"Scrypt\"],[null],[null],[null],[null],[null],[null],[\"M7 POW\"],[null],[null],[null],[\"Scrypt\"],[null],[null],[null],[null],[null],[\"SHA-256\"],[null],[null],[\"Scrypt\"],[null],[null],[null],[null],[\"X11\"],[null],[null],[null],[null],[\"SHA3\"],[null],[null],[\"X11\"],[null],[null],[null],[null],[\"Lyra2RE\"],[null],[null],[null],[null],[null],[null],[\"SHA-256\"],[\"QUAIT\"],[\"X11\"],[null],[null],[null],[\"X11\"],[null],[null],[null],[null],[null],[null],[null],[\"Scrypt\"],[null],[null],[null],[null],[\"Scrypt\"],[\"Scrypt\"],[\"Ethash\"],[null],[\"X13\"],[\"Blake2b\"],[null],[\"SHA-256\"],[null],[null],[\"X15\"],[\"X11\"],[\"SHA-256\"],[\"BLAKE256\"],[null],[\"Scrypt\"],[\"1GB AES Pattern Search\"],[\"SHA-256\"],[\"X11\"],[\"Scrypt\"],[null],[\"SHA-256\"],[null],[\"SHA-256\"],[null],[\"NIST5\"],[null],[\"Scrypt\"],[null],[null],[null],[null],[\"Scrypt\"],[null],[null],[\"X11\"],[null],[null],[\"Dagger\"],[\"Scrypt\"],[null],[null],[\"X11GOST\"],[\"X11\"],[null],[null],[null],[null],[null],[\"Scrypt\"],[null],[\"SHA-256\"],[\"Scrypt\"],[\"PoS\"],[null],[\"Scrypt\"],[null],[null],[null],[null],[null],[null],[null],[null],[\"X11\"],[null],[null],[null],[null],[null],[\"X11\"],[null],[null],[null],[null],[null],[\"SHA-256\"],[null],[null],[null],[null],[null],[\"SHA-256\"],[\"NIST5\"],[null],[null],[null],[null],[null],[null],[null],[null],[\"X11\"],[null],[null],[null],[null],[null],[null],[\"Scrypt\"],[null],[\"POS 3.0\"],[null],[null],[null],[\"Scrypt\"],[null],[\"Scrypt\"],[null],[null],[\"Scrypt\"],[null],[null],[null],[null],[\"X13\"],[\"X11\"],[\"X11\"],[null],[\"Equihash\"],[\"X11\"],[null],[null],[null],[null],[\"Scrypt\"],[null],[null],[null],[null],[null],[\"CryptoNight\"],[null],[\"SHA-256\"],[\"X11\"],[null],[\"Scrypt\"],[\"Multiple\"],[null],[null],[\"Scrypt\"],[\"Scrypt\"],[null],[null],[null],[null],[null],[null],[null],[null],[\"Scrypt\"],[null],[null],[\"SHA-256\"],[\"Scrypt\"],[null],[\"Scrypt\"],[\"SHA-256D\"],[null],[null],[\"PoS\"],[\"Scrypt\"],[null],[null],[null],[null],[null],[null],[null],[\"X11\"],[null],[null],[null],[null],[null],[null],[null],[null],[null],[null],[null],[null],[\"Lyra2Z\"],[null],[null],[null],[null],[\"PoS\"],[null],[null],[null],[null],[null],[null],[\"X13\"],[null],[null],[null],[null],[null],[\"X14\"],[\"PoS\"],[null],[\"Ethash\"],[null],[null],[null],[null],[null]],\"hovertemplate\":\"<b>%{hovertext}</b><br><br>Class=%{marker.color}<br>PC 1=%{x}<br>PC 2=%{y}<br>PC 3=%{z}<br>Algorithm=%{customdata[0]}<extra></extra>\",\"hovertext\":[\"42 Coin\",\"404Coin\",\"EliteCoin\",\"Bitcoin\",\"Ethereum\",\"Litecoin\",\"Dash\",\"Monero\",\"Ethereum Classic\",\"ZCash\",\"Bitshares\",\"DigiByte\",\"BitcoinDark\",\"PayCoin\",\"ProsperCoin\",\"KoboCoin\",\"Spreadcoin\",\"Argentum\",\"Aurora Coin\",\"BlueCoin\",\"MyriadCoin\",\"MoonCoin\",\"ZetaCoin\",\"SexCoin\",\"Quatloo\",\"EnergyCoin\",\"QuarkCoin\",\"Riecoin\",\"Digitalcoin \",\"BitBar\",\"Catcoin\",\"CryptoBullion\",\"CannaCoin\",\"CryptCoin\",\"CasinoCoin\",\"Diamond\",\"Verge\",\"DevCoin\",\"EarthCoin\",\"E-Gulden\",\"Einsteinium\",\"Emerald\",\"Exclusive Coin\",\"FlutterCoin\",\"Franko\",\"FeatherCoin\",\"GrandCoin\",\"GlobalCoin\",\"GoldCoin\",\"HoboNickels\",\"HyperStake\",\"Infinite Coin\",\"IOCoin\",\"IXcoin\",\"KrugerCoin\",\"LuckyCoin\",\"Litebar \",\"MaxCoin\",\"MegaCoin\",\"MediterraneanCoin\",\"MintCoin\",\"MinCoin\",\"MazaCoin\",\"Nautilus Coin\",\"NavCoin\",\"NobleCoin\",\"Namecoin\",\"NyanCoin\",\"OpalCoin\",\"Orbitcoin\",\"PotCoin\",\"PhoenixCoin\",\"Reddcoin\",\"RonPaulCoin\",\"StableCoin\",\"SmartCoin\",\"SuperCoin\",\"SyncCoin\",\"SysCoin\",\"TeslaCoin\",\"TigerCoin\",\"TittieCoin\",\"TorCoin\",\"TerraCoin\",\"UnbreakableCoin\",\"Unobtanium\",\"UroCoin\",\"UnitaryStatus Dollar\",\"UltraCoin\",\"ViaCoin\",\"VeriCoin\",\"Vertcoin\",\"WorldCoin\",\"X11 Coin\",\"Crypti\",\"JouleCoin\",\"StealthCoin\",\"ZCC Coin\",\"ByteCoin\",\"DigitalNote \",\"BurstCoin\",\"StorjCoin\",\"MonaCoin\",\"Neutron\",\"FairCoin\",\"Gulden\",\"RubyCoin\",\"PesetaCoin\",\"Kore\",\"Wild Beast Coin\",\"Dnotes\",\"Flo\",\"8BIT Coin\",\"Sativa Coin\",\"ArtByte\",\"Folding Coin\",\"Ucoin\",\"Unitus\",\"CypherPunkCoin\",\"OmniCron\",\"Vtorrent\",\"GreenCoin\",\"Cryptonite\",\"MasterCoin\",\"SoonCoin\",\"1Credit\",\"IslaCoin\",\"Nexus\",\"MarsCoin \",\"Crypto\",\"Anarchists Prime\",\"Droidz\",\"BowsCoin\",\"Squall Coin\",\"Song Coin\",\"BitZeny\",\"Diggits\",\"Expanse\",\"Paycon\",\"Siacoin\",\"Emercoin\",\"EverGreenCoin\",\"MindCoin\",\"I0coin\",\"Decred\",\"Revolution VR\",\"HOdlcoin\",\"EDRCoin\",\"Hitcoin\",\"Gamecredits\",\"DubaiCoin\",\"CarpeDiemCoin\",\"PWR Coin\",\"BillaryCoin\",\"GPU Coin\",\"Adzcoin\",\"SoilCoin\",\"YoCoin\",\"SibCoin\",\"EuropeCoin\",\"ZeitCoin\",\"SwingCoin\",\"SafeExchangeCoin\",\"Nebuchadnezzar\",\"Francs\",\"BolivarCoin\",\"Ratecoin\",\"Revenu\",\"Clockcoin\",\"VIP Tokens\",\"BitSend\",\"Omni\",\"Let it Ride\",\"PutinCoin\",\"iBankCoin\",\"Frankywillcoin\",\"MudraCoin\",\"PizzaCoin\",\"Lutetium Coin\",\"Komodo\",\"GoldBlocks\",\"CarterCoin\",\"Karbo\",\"BitTokens\",\"ZayedCoin\",\"MustangCoin\",\"ZoneCoin\",\"Circuits of Value\",\"RootCoin\",\"DopeCoin\",\"BitCurrency\",\"DollarCoin\",\"Swiscoin\",\"Shilling\",\"BuzzCoin\",\"Opair\",\"PesoBit\",\"Halloween Coin\",\"ZCoin\",\"CoffeeCoin\",\"RoyalCoin\",\"GanjaCoin V2\",\"TeamUP\",\"LanaCoin\",\"Elementrem\",\"ZClassic\",\"ARK\",\"InsaneCoin\",\"KiloCoin\",\"ArtexCoin\",\"EmberCoin\",\"XenixCoin\",\"FreeCoin\",\"PLNCoin\",\"AquariusCoin\",\"Kurrent\",\"Creatio\",\"Eternity\",\"Eurocoin\",\"BitcoinFast\",\"Stakenet\",\"BitConnect Coin\",\"MoneyCoin\",\"Enigma\",\"Cannabis Industry Coin\",\"Russiacoin\",\"PandaCoin\",\"GameUnits\",\"GAKHcoin\",\"Allsafe\",\"LiteCreed\",\"OsmiumCoin\",\"Bikercoins\",\"HexxCoin\",\"Klingon Empire Darsek\",\"Internet of People\",\"KushCoin\",\"Printerium\",\"PacCoin\",\"Impeach\",\"Citadel\",\"Zilbercoin\",\"FirstCoin\",\"BeaverCoin\",\"FindCoin\",\"VaultCoin\",\"Zero\",\"OpenChat\",\"Canada eCoin\",\"Zoin\",\"RenosCoin\",\"DubaiCoin\",\"VirtacoinPlus\",\"TajCoin\",\"Impact\",\"EB3coin\",\"Atmos\",\"HappyCoin\",\"Coinonat\",\"MacronCoin\",\"Condensate\",\"Independent Money System\",\"ArgusCoin\",\"LomoCoin\",\"ProCurrency\",\"GoldReserve\",\"BenjiRolls\",\"GrowthCoin\",\"ILCoin\",\"Phreak\",\"Degas Coin\",\"HTML5 Coin\",\"Ultimate Secure Cash\",\"EquiTrader\",\"QTUM\",\"Quantum Resistant Ledger\",\"Espers\",\"Dynamic\",\"Nano\",\"ChanCoin\",\"Dinastycoin\",\"Denarius\",\"DigitalPrice\",\"Virta Unique Coin\",\"Bitcoin Planet\",\"Unify\",\"BritCoin\",\"SocialCoin\",\"ArcticCoin\",\"DAS\",\"Linda\",\"LeviarCoin\",\"DeepOnion\",\"Bitcore\",\"gCn Coin\",\"SmartCash\",\"Signatum\",\"Onix\",\"Cream\",\"Bitcoin Cash\",\"Monoeci\",\"Draftcoin\",\"Vechain\",\"Sojourn Coin\",\"Stakecoin\",\"NewYorkCoin\",\"FrazCoin\",\"Kronecoin\",\"AdCoin\",\"Linx\",\"CoinonatX\",\"Ethereum Dark\",\"Sumokoin\",\"Obsidian\",\"Cardano\",\"Regalcoin\",\"BitcoinZ\",\"TrezarCoin\",\"Elements\",\"TerraNovaCoin\",\"VIVO Coin\",\"Rupee\",\"Bitcoin Gold\",\"WomenCoin\",\"Theresa May Coin\",\"NamoCoin\",\"LUXCoin\",\"Pirl\",\"Xios\",\"Bitcloud 2.0\",\"eBoost\",\"KekCoin\",\"BlackholeCoin\",\"Infinity Economics\",\"Pura\",\"Innova\",\"Ellaism\",\"GoByte\",\"Magnet\",\"Lamden Tau\",\"Electra\",\"Bitcoin Diamond\",\"SHIELD\",\"Cash & Back Coin\",\"UltraNote\",\"BitCoal\",\"DaxxCoin\",\"Bulwark\",\"Kalkulus\",\"AC3\",\"Lethean\",\"GermanCoin\",\"LiteCoin Ultra\",\"PopularCoin\",\"PhantomX\",\"Photon\",\"Sucre\",\"SparksPay\",\"Digiwage\",\"GunCoin\",\"IrishCoin\",\"Trollcoin\",\"Litecoin Plus\",\"Monkey Project\",\"Pioneer Coin\",\"UnitedBitcoin\",\"Interzone\",\"TokenPay\",\"1717 Masonic Commemorative Token\",\"My Big Coin\",\"TurtleCoin\",\"MUNcoin\",\"Unified Society USDEX\",\"Niobio Cash\",\"ShareChain\",\"Travelflex\",\"KREDS\",\"Tokyo Coin\",\"LitecoinCash\",\"BitFlip\",\"LottoCoin\",\"Crypto Improvement Fund\",\"Stipend\",\"Poa Network\",\"Pushi\",\"Ellerium\",\"Velox\",\"Ontology\",\"Callisto Network\",\"BitTube\",\"Poseidon\",\"Aidos Kuneen\",\"Bitspace\",\"Briacoin\",\"Ignition\",\"Bitrolium\",\"MedicCoin\",\"Alpenschillling\",\"Bitcoin Green\",\"Deviant Coin\",\"Abjcoin\",\"Semux\",\"FuturoCoin\",\"Carebit\",\"Zealium\",\"Monero Classic\",\"Proton\",\"iDealCash\",\"Jumpcoin\",\"Infinex\",\"Bitcoin Incognito\",\"KEYCO\",\"HollyWoodCoin\",\"GINcoin\",\"PlatinCoin\",\"Loki\",\"Newton Coin\",\"Swisscoin\",\"Xt3ch\",\"MassGrid\",\"TheVig\",\"PluraCoin\",\"EmaratCoin\",\"Dekado\",\"Lynx\",\"Poseidon Quark\",\"BitcoinWSpectrum\",\"Muse\",\"Motion\",\"PlusOneCoin\",\"Axe\",\"Trivechain\",\"Dystem\",\"Giant\",\"Peony Coin\",\"Absolute Coin\",\"Vitae\",\"HexCoin\",\"TPCash\",\"Webchain\",\"Ryo\",\"Urals Coin\",\"Qwertycoin\",\"ARENON\",\"EUNO\",\"MMOCoin\",\"Ketan\",\"Project Pai\",\"XDNA\",\"PAXEX\",\"Azart\",\"ThunderStake\",\"Kcash\",\"Xchange\",\"CrypticCoin\",\"Bettex coin\",\"Actinium\",\"Bitcoin SV\",\"BitMoney\",\"Junson Ming Chan Coin\",\"FREDEnergy\",\"HerbCoin\",\"Universal Molecule\",\"Lithium\",\"PirateCash\",\"Exosis\",\"Block-Logic\",\"Oduwa\",\"Beam\",\"Galilel\",\"Bithereum\",\"Crypto Sports\",\"Credit\",\"SLICE\",\"Dash Platinum\",\"Nasdacoin\",\"Beetle Coin\",\"Titan Coin\",\"Award\",\"BLAST\",\"Bitcoin Rhodium\",\"GlobalToken\",\"Insane Coin\",\"ALAX\",\"LiteDoge\",\"SolarCoin\",\"TruckCoin\",\"UFO Coin\",\"OrangeCoin\",\"BlakeCoin\",\"BitstarCoin\",\"NeosCoin\",\"HyperCoin\",\"PinkCoin\",\"Crypto Escudo\",\"AudioCoin\",\"IncaKoin\",\"Piggy Coin\",\"Crown Coin\",\"Genstake\",\"SmileyCoin\",\"XiaoMiCoin\",\"Groestlcoin\",\"CapriCoin\",\" ClubCoin\",\"Radium\",\"Bata\",\"Pakcoin\",\"Creditbit \",\"OKCash\",\"Lisk\",\"HiCoin\",\"WhiteCoin\",\"FriendshipCoin\",\"JoinCoin\",\"Triangles Coin\",\"Vollar\",\"EOS\",\"Reality Clash\",\"Oxycoin\",\"TigerCash\",\"Waves\",\"Particl\",\"Nxt\",\"ZEPHYR\",\"Gapcoin\",\"Beldex\",\"Horizen\",\"BitcoinPlus\"],\"legendgroup\":\"0.0\",\"marker\":{\"color\":[0.0,0.0,0.0,0.0,0.0,0.0,0.0,0.0,0.0,0.0,0.0,0.0,0.0,0.0,0.0,0.0,0.0,0.0,0.0,0.0,0.0,0.0,0.0,0.0,0.0,0.0,0.0,0.0,0.0,0.0,0.0,0.0,0.0,0.0,0.0,0.0,0.0,0.0,0.0,0.0,0.0,0.0,0.0,0.0,0.0,0.0,0.0,0.0,0.0,0.0,0.0,0.0,0.0,0.0,0.0,0.0,0.0,0.0,0.0,0.0,0.0,0.0,0.0,0.0,0.0,0.0,0.0,0.0,0.0,0.0,0.0,0.0,0.0,0.0,0.0,0.0,0.0,0.0,0.0,0.0,0.0,0.0,0.0,0.0,0.0,0.0,0.0,0.0,0.0,0.0,0.0,0.0,0.0,0.0,0.0,0.0,0.0,0.0,0.0,0.0,0.0,0.0,0.0,0.0,0.0,0.0,0.0,0.0,0.0,0.0,0.0,0.0,0.0,0.0,0.0,0.0,0.0,0.0,0.0,0.0,0.0,0.0,0.0,0.0,0.0,0.0,0.0,0.0,0.0,0.0,0.0,0.0,0.0,0.0,0.0,0.0,0.0,0.0,0.0,0.0,0.0,0.0,0.0,0.0,0.0,0.0,0.0,0.0,0.0,0.0,0.0,0.0,0.0,0.0,0.0,0.0,0.0,0.0,0.0,0.0,0.0,0.0,0.0,0.0,0.0,0.0,0.0,0.0,0.0,0.0,0.0,0.0,0.0,0.0,0.0,0.0,0.0,0.0,0.0,0.0,0.0,0.0,0.0,0.0,0.0,0.0,0.0,0.0,0.0,0.0,0.0,0.0,0.0,0.0,0.0,0.0,0.0,0.0,0.0,0.0,0.0,0.0,0.0,0.0,0.0,0.0,0.0,0.0,0.0,0.0,0.0,0.0,0.0,0.0,0.0,0.0,0.0,0.0,0.0,0.0,0.0,0.0,0.0,0.0,0.0,0.0,0.0,0.0,0.0,0.0,0.0,0.0,0.0,0.0,0.0,0.0,0.0,0.0,0.0,0.0,0.0,0.0,0.0,0.0,0.0,0.0,0.0,0.0,0.0,0.0,0.0,0.0,0.0,0.0,0.0,0.0,0.0,0.0,0.0,0.0,0.0,0.0,0.0,0.0,0.0,0.0,0.0,0.0,0.0,0.0,0.0,0.0,0.0,0.0,0.0,0.0,0.0,0.0,0.0,0.0,0.0,0.0,0.0,0.0,0.0,0.0,0.0,0.0,0.0,0.0,0.0,0.0,0.0,0.0,0.0,0.0,0.0,0.0,0.0,0.0,0.0,0.0,0.0,0.0,0.0,0.0,0.0,0.0,0.0,0.0,0.0,0.0,0.0,0.0,0.0,0.0,0.0,0.0,0.0,0.0,0.0,0.0,0.0,0.0,0.0,0.0,0.0,0.0,0.0,0.0,0.0,0.0,0.0,0.0,0.0,0.0,0.0,0.0,0.0,0.0,0.0,0.0,0.0,0.0,0.0,0.0,0.0,0.0,0.0,0.0,0.0,0.0,0.0,0.0,0.0,0.0,0.0,0.0,0.0,0.0,0.0,0.0,0.0,0.0,0.0,0.0,0.0,0.0,0.0,0.0,0.0,0.0,0.0,0.0,0.0,0.0,0.0,0.0,0.0,0.0,0.0,0.0,0.0,0.0,0.0,0.0,0.0,0.0,0.0,0.0,0.0,0.0,0.0,0.0,0.0,0.0,0.0,0.0,0.0,0.0,0.0,0.0,0.0,0.0,0.0,0.0,0.0,0.0,0.0,0.0,0.0,0.0,0.0,0.0,0.0,0.0,0.0,0.0,0.0,0.0,0.0,0.0,0.0,0.0,0.0,0.0,0.0,0.0,0.0,0.0,0.0,0.0,0.0,0.0,0.0,0.0,0.0,0.0,0.0,0.0,0.0,0.0,0.0,0.0,0.0,0.0,0.0,0.0,0.0,0.0,0.0,0.0,0.0,0.0,0.0,0.0,0.0,0.0,0.0,0.0,0.0,0.0,0.0,0.0,0.0,0.0,0.0,0.0,0.0,0.0,0.0,0.0,0.0,0.0,0.0,0.0,0.0,0.0,0.0,0.0,0.0,0.0,0.0,0.0,0.0,0.0,0.0,0.0,0.0,0.0,0.0,0.0,0.0,0.0,0.0,0.0,0.0,0.0,0.0,0.0,0.0,0.0,0.0,0.0,0.0,0.0,0.0,0.0,0.0,0.0,0.0,0.0,0.0,0.0,0.0,0.0,0.0,0.0,0.0,0.0,0.0,0.0,0.0,0.0,0.0,0.0,0.0,0.0,0.0],\"coloraxis\":\"coloraxis\",\"symbol\":\"circle\"},\"mode\":\"markers\",\"name\":\"0.0\",\"scene\":\"scene\",\"showlegend\":true,\"x\":[-0.3358511985791076,-0.3191913855939568,2.294536818478482,-0.15024304651921358,-0.1521360334002482,-0.16454889237712658,-0.39139544754202304,-0.1459938271408653,-0.1505780548578113,-0.16522658582173488,-0.25935571754755565,0.1544931664347945,-0.32037603848456375,-0.27405738520160644,-0.16569502467453118,-0.24531227005615902,-0.22144689737032605,-0.16531157410845787,-0.33551081852536185,-0.32808981569367474,-0.09889476200941642,2.556198388602648,-0.14732826943756586,-0.16256718947394927,-0.16511559193186834,-0.33434804910184757,-0.23279030058773667,-0.2104164199235716,-0.1651644170842375,-0.3358471348853045,-0.16567729354006666,-0.3358314182667627,-0.16576374440312644,-0.22153622776390486,0.6795322696976073,-0.3814825335686903,0.1782332715291163,0.22756789390452686,0.08294269940777763,-0.16551007069011617,-0.1611157576276758,-0.16544936104598956,-0.3526117447580375,-0.25915885099149033,-0.16582074049701162,-0.16905473014665723,-0.14504472724055642,-0.16461596947002013,-0.1648933699030659,-0.33391018841373804,-0.32490421200420044,1.582915733183862,-0.39129016321919513,-0.1502044221525189,-0.1621829659473254,-0.16553650923974528,-0.16589128828580216,-0.4068035294288219,-0.1651506086309228,-0.1514847105725985,-0.02950137529038107,-0.165772563424223,-0.2836862282762291,-0.2892836484339852,-0.2893126957471616,-0.03068150732885985,-0.1502820202327664,-0.1594371047410529,-0.2899347890490106,-0.3438561559714052,-0.3301539981453656,-0.3342531181538836,0.02222372519227112,-0.16575199495496545,-0.1638463621327691,-0.1652387842180811,-0.3447871229980042,-0.39166169317555327,-0.13743512496919708,-0.2556860143438346,-0.14974584326073476,-0.3082365291356326,-0.39157333694779345,-0.15003300807568956,-0.15001595021782846,-0.15060665724985114,-0.2217101157892342,-0.3110859091994958,-0.3345287179996663,-0.16546852749601182,-0.2865819791493498,-0.20115574040772005,-0.16257188420827667,-0.3915378251373004,-0.2561537893503193,-0.14981312964511506,-0.28971569319527923,-0.32695473773773714,3.8614724970502503,0.4607782142559603,0.04064672170252397,-0.33484430363367357,-0.16433620517020595,-0.31958784302786725,-0.3809042094040673,-0.14893569151426894,-0.2892639314668902,-0.16305515522331318,-0.2900101470091722,-0.16589349571212403,-0.2839183441979048,-0.1629202239146296,-0.3358332704494867,-0.28996234381035607,-0.1491450676452191,-0.12514005660239436,-0.34523186020318475,-0.1328982837030237,-0.1861280607345246,-0.1657665928223333,-0.3355676768359912,-0.03871300010140645,-0.10410276429208996,-0.16590238923329526,-0.15030979331310015,0.4862595729549425,-0.3916432255069898,-0.38872799056039425,-0.2210973605631314,-0.15205335772852588,-0.15004965807350662,-0.4371643381969334,-0.2213822281292031,-0.3198693807434211,-0.16402622172262057,-0.16321854528349114,-0.28766564307547815,-0.15320330086809897,-0.2894840208312255,0.38124639868563215,-0.31293294665510324,-0.24775366049384487,-0.22141762518801236,-0.15020554432447805,-0.08988439943840895,-0.16186064732727024,-0.15346992934959522,-0.32034695784415673,-0.06913863790341465,-0.16446587218733436,-0.3204106545625462,0.2682370871921786,-0.2411572087986525,-0.3354435531818359,-0.28753456393817856,-0.22057840036974216,-0.1466151656061655,-0.16471315852363527,-0.15137257403391444,-0.38881248233433846,0.8637837867195142,-0.32021071839913945,-0.05114741925102735,-0.3522950528443146,-0.16569231140408203,-0.22138086383535624,-0.38948653099272207,-0.31895427209422206,-0.31662256918248594,-0.362493169828796,-0.39037848273937203,-0.16590244772239374,-0.33730605359389876,-0.3117420144851003,-0.3354816409226731,-0.33392086610601485,-0.24238585385678021,-0.22153081102927494,-0.33272420193554575,-0.32911105317231487,-0.3911171679892409,-0.33468595932184997,0.30569579949368775,-0.3203915972555189,-0.15046560122665198,-0.39163241543755356,-0.33567079638331754,-0.11297251008582199,-0.3358275046203274,-0.1630693744179742,-0.2875244144726449,-0.1504242364172086,-0.22727062607920384,-0.16556586672429272,0.036337836047988674,-0.3512522599380302,-0.33544173331230726,-0.3777955473794257,-0.1579663302957747,-0.35058106562341523,-0.24381643266837857,-0.425215479775671,-0.3503297338414157,-0.2781448339426068,-0.15294548783737758,-0.16524819945156385,3.7281986061082217,-0.3912250013382385,-0.09262831366183093,-0.20811569883550038,0.8419946046445225,-0.39158733259153927,-0.3517159528591653,-0.3353692548013955,-0.3355235479520425,-0.21935906767746788,-0.3522950528443146,-0.3911622488518331,-0.32025429698792357,-0.3353699972486998,-0.3509591592422662,-0.3355173665461508,-0.3311054648996581,-0.391616319667651,0.30569017714547647,-0.33472807560473344,0.3539074763672393,-0.3357166237891489,-0.3357871936111572,-0.36115843055690916,-0.35521459513533965,-0.1658841860186249,0.3058208770655566,-0.1525937819280647,-0.33201405678789714,-0.3203680153421532,-0.3915262826497987,-0.3355650262167269,0.4937176284500263,-0.3356919533541434,-0.1447585112270532,-0.28917039215951057,-0.2678001660781832,-0.16585247742554807,-0.24358431535149,-0.21426488312242548,-0.16526057696061716,-0.316547866551536,-0.1639859266282332,-0.15231219380916095,-0.2889115960220599,-0.16389762218579843,-0.39079205474917034,-0.4188172692088816,-0.3895306481577566,-0.13677610516354213,-0.3505418232370351,-0.39068995898032,-0.19374791730058621,-0.34494242466666564,-0.38663121465139794,-0.33563525132743044,-0.3356344325010565,-0.32875625689430255,0.2585982466349654,-0.39116842142689945,-0.16541488659562525,-0.2718133744227521,-0.11679317171335021,-0.3523293285559483,-0.33484598511750063,0.8865193224406239,-0.2727478127731453,-0.1652369372956109,-0.33608455141584126,-0.14461636250012255,0.5825133098355855,-0.1492970555092461,-0.018992897925044203,-0.16077121330164865,0.34180876660922793,-0.3640286300596019,-0.22058677402413926,-0.3625310036943565,-0.4168265850720213,-0.1655562092973759,-0.2896474723087107,-0.16531956280451793,-0.22098143796259728,-0.22155884625342798,0.12906985016961706,0.30608514046750807,-0.28971824492193504,-0.1585734104261933,3.2434887978319096,-0.13226964293173726,-0.3472408084465166,-0.21243116531276257,-0.41633156274791755,-0.15024221086867381,-0.3914407919361141,-0.2892446260637705,4.384086652369227,-0.0914756504872308,-0.35219558950762403,1.5808402759138604,-0.1656540405207429,-0.16510569628252644,-0.16480670028069866,-0.16479363327301758,-0.3352704826609536,-0.33577012539192497,0.30626876160936783,-0.3174132651712752,0.6336571390403541,-0.39138160949693107,0.04705641321532378,-0.33885584869444546,-0.1759509349726319,-0.33572573488043267,-0.17374308317096734,-0.3255946130426309,-0.16510664794642824,0.4332777913566058,-0.31871449786221095,-0.3487968693507562,-0.39008519525676105,-0.14537431175363788,-0.3356760764907655,-0.40585556221661406,-0.1639841360662182,-0.3411592028269695,-0.3355465074713655,-0.10056251720860658,-0.21710359645020078,-0.17358849875124746,-0.15131065559581391,-0.17368870326441627,-0.3901743457207169,3.7330541667741373,0.195395939472998,-0.28638948511782086,-0.12313088186552347,-0.33300701596616,1.1435981212451332,0.30567293973529436,-0.07620055821915105,-0.31753696406694354,-0.3610443495409073,-0.21684498097164542,-0.13372912075042798,0.07858207115920124,-0.3346850353334613,-0.08204944438985995,-0.3907554925490934,1.0853023759949563,-0.22153284793138595,-0.17374064912323836,-0.3602091202901816,-0.16677906792529323,-0.1649051091709053,-0.32225220173576835,-0.3357922530078623,-0.34520379370119425,-0.22145826347860798,-0.1502216124852391,-0.20368165809427846,-0.33758792789203385,-0.27710173778535346,-0.27448785048105845,8.043441000037781,-0.13880735014419243,-0.33133806046481673,0.30954713050351407,0.027118981159783694,-0.14487767058704604,-0.18671490151236994,-0.2353806395319376,-0.37890985582915426,-0.16547877095493704,0.14157016099724834,-0.21559955035438066,-0.37365257683157055,-0.40158055811627524,-0.39145801484079146,-0.2928779640210939,-0.2884046359248612,-0.33075943847906836,-0.104349451264233,0.31359595863265444,-0.16571576608663868,-0.15384671598198738,-0.36362761626798057,-0.33581960384306936,-0.33580131580253353,-0.16409784191546709,-0.282786651912386,-0.15574987305755175,-0.32308849246606863,-0.351790090481939,-0.33551784896001974,3.923199916957525,-0.22062754007857252,-0.40452383941161174,-0.35197873401689617,0.3058554365708405,-0.3214257065829767,-0.28239145228762164,-0.1938074005616955,-0.1524390261506808,-0.22123803830378502,-0.1318147034300389,-0.2889388824118876,-0.15805070599069734,0.30978369855776006,0.5982260078051375,2.1142668647494767,-0.13895720443908496,-0.2891908709916406,-0.1275466325822858,-0.34345683297043567,0.3194593678190102,-0.3349919121467062,-0.20084222718558803,2.2288427299862126,-0.3567523116732888,-0.27287563804603854,1.0215540969223889,-0.19786112087859542,-0.1717437039361911,-0.22151500957271222,-0.3670175610438363,-0.36115785899217107,-0.40753963724206593,-0.1699237097356207,-0.37177810098109865,-0.35987753394155547,-0.16574034282821454,-0.32869635941052666,-0.13360816447364007,-0.13571525932062403,-0.12170279095419095,3.1205973972803123,-0.3447812382889915,-0.3909314190343902,-0.2864365976900169,-0.35107853787283494,-0.11007388453480571,-0.3623718860784464,-0.34464258618342447,-0.22148637512220085,-0.19530535838575622,-0.28185194210439074,-0.19728884451286438,-0.059860724543813144,-0.24661584583691834,-0.157448469119937,-0.15024224842825376,0.5882183714206528,-0.13519591967970013,0.3856122901023107,-0.4068343377148943,-0.15016573399095745,-0.1505577877304106,-0.28823833152740197,-0.14543354223157204,-0.16463270190076537,-0.3355218335081809,-0.16316678065476659,-0.40729041442936403,-0.16493948168592498,-0.3612748232591999,0.5709142376204355,-0.1853390439321649,-0.3452581001354192,-0.33500477170983173,-0.2873340682654476,-0.2981789266486938,-0.38849605341958093,-0.14951845509792083,-0.12015388316915268,-0.14838645266763828,-0.3911586381733748,3.745294200446268,0.09937054360278817,0.5301790899743232,-0.3886987938168202,-0.09891342006899201,-0.33439022783034034,-0.10102305209134492,-0.33521525470057,-0.2740899978632955,-0.3357335591207264,-0.3827874567220719,-0.14929563026050646,-0.249439274185806,-0.10007612860538374,-0.3785359779692465,-0.1500323786249417,-0.33501199700565076,0.549880981447692,-0.32807714267436766,-0.20997746472241544,-0.38772767281713877,-0.3334512965934906,-0.35257064538695376,-0.16581718861496772,-0.16377301859528182,-0.3598806473851954,-0.3188912773454133,3.7285903907934723,-0.0964970250002152,-0.33064642745893114,-0.34348201208311874,-0.13363305126094135,-0.29011734623486524,-0.1238335298431113,3.7384563062271052,-0.1529786431441736,3.7397002033049933,-0.25498917979294056,-0.413711222477851,-0.3525065246438051,-0.3504464679840661,2.4691013446192476,-0.33389661535086324,0.3274282379724315,-0.16522764260479847,-0.2895873200742747],\"y\":[1.0242865748393901,1.0244396292474731,1.6941504954480933,-1.2945113894321028,-2.0341293991112965,-1.1437654955805219,1.2317767027758602,-2.227302294923664,-2.034226037048394,-1.9788000811118218,1.491058891170106,-1.8768652949997164,0.8735184252134314,0.6439698874781238,-1.1437577463540531,1.9100966091559024,-0.9362581918866356,-1.1437755175028552,1.0242856175497401,1.024529479077711,-1.8716404657052568,-1.324426659552701,-1.2945231883461021,-1.1438184082416187,-1.1437943091839258,1.024333618203471,-0.4838939966654466,-1.2403893105849992,-1.14375994905016,1.024286355864029,-1.1437571914313984,1.0242865015554805,-1.1437544550312047,-0.9362596028808025,0.3621173132794557,0.9276671192962724,-1.873044737812361,-1.2972124082992704,-1.1453086780458435,-1.1437519579395408,-1.1438074581808955,-1.1437576739848723,1.6214444991411452,0.37101562586330966,-1.1437549204124196,-1.6104251761625785,-1.1440805086613501,-1.143757901710831,-1.1437681382269813,1.0242642375838074,1.0028681510914594,-1.1517463092975941,1.2317799978078874,-1.2945101806241621,-1.1438170602503988,-1.1437520930061504,-1.1437502836938587,2.127486965491623,-1.143755247754105,-2.1503747528458153,0.8028695281589305,-1.1437525570010192,0.873006944277632,0.7947280467324938,1.8307987675308035,-1.1499032709930386,-1.2945126091733787,-1.1437806835040956,1.830779298180587,0.5576892504988802,1.0241740829066008,1.0242687371700503,1.0354930708616725,-1.143759529325094,-1.1438584418835303,-1.1437643771258221,1.0022458853375817,1.2317836016147643,-1.2947108290190972,0.06711836247221989,-1.2945138385527093,1.6453148838085756,1.2317794438711902,-1.2945193556845815,-1.2945451318081904,-1.2945084025484228,-0.9362525823496352,1.023953853610589,1.02425872712076,-1.1437520425180154,0.2828608907965078,-1.351407220819372,-1.1438292320352506,1.2317836709219183,0.06717295952278032,-1.2945145513600294,1.8307861551165077,1.023872635293475,-2.303557740103481,-2.289191976117145,0.6616037708545353,1.5107877400730383,-1.1437734620200797,0.8735112440644859,0.9276882513959881,-1.1443818758114606,0.7947398663152141,-1.1437757882290671,1.8307686313261404,-1.1437512376246055,0.7945609806666974,-1.1437671438892596,1.024287135956387,1.8307715121350343,-1.1439176184740287,-2.1765869054039784,1.0022181192592041,-1.8713199217859917,-1.4908935433681882,-1.1437477806694247,1.0242816007546915,-1.1466927898764252,-2.168770456705262,-1.1437501253249063,-1.2945134783739087,-1.187037136370261,1.2317841802807346,2.4499374124062374,-0.9362562533848466,-2.2187961050298655,-1.2945280190163422,1.9730485573341343,-0.9362568603327479,0.7465225769715117,-1.1438365423189436,-1.1438387934062455,0.7947206503898798,-2.0341745063042476,1.8307587872650979,-2.215542762444648,0.8730742323491659,1.9102443229819734,-0.9362545062983851,-1.2945102157442299,0.9245373749303548,-1.1437686012265693,-2.226386765778697,0.8735193353360301,1.2234950846862198,-1.1437628973381924,0.8735253040802392,-1.2963732205047966,1.5424968565619042,1.0242702533012478,0.794640939769398,-0.9362753224971474,-2.2300626705073987,-1.1438290386588992,-2.1716966425201623,1.2316069034455663,0.7622818288666736,0.8735111365356337,0.365457450075707,1.621440563137994,-1.1437569690703886,-0.936259587106168,1.2317997497131987,0.8734239460221582,0.8732876347232553,1.5386371511553738,1.2317275231981084,-1.1437501250575368,1.458343211835382,1.0236563726980852,1.0242674457632726,1.0242777507645797,1.6011242129305958,-0.9362642799302566,1.0021685270647795,-1.133147510049319,1.231766025657693,1.0242607296935473,-2.2871287607359183,0.8735186306459403,-1.2945105557875765,1.2317824414949041,1.0242776811048209,-1.8715271558990596,1.024287316406726,-1.1437995064902968,0.7947943071289434,-1.294509885935388,0.2296801202437708,-1.1437599354706516,1.982246705994655,1.6214358110589573,1.024299389702929,1.2311790126524949,-2.2630891413962106,1.6214803576742054,1.6012161833519298,2.056838390324661,1.6213075154250431,1.9810549383271399,-2.034172876081909,-1.978800757543039,1.8483996299442258,1.231776498205331,-1.1483801511108382,-0.9361733084045195,1.8656162269419627,1.231783261614763,1.6214379159144379,1.0242749741738362,1.0242677497439967,-0.9363368625955454,1.621440563137994,1.2317576911063093,0.8735236200331179,1.0242787866552414,0.6258909857222332,1.0242776363491428,1.0239846038833607,1.231781560500824,-2.2871365527412153,1.0242220237415243,0.792356607390019,1.0242817858090019,1.024286282255273,1.4545995066584942,0.6771151311651833,-1.1437510060053202,-2.287135231760713,-2.2187743918469285,1.0240604801386128,0.8735193686775647,1.2317813637761474,1.0242816837098279,-0.9830989661388095,1.0242763727557562,-2.2273917218813337,0.7947047135421754,0.25712919906127146,-1.1437504607085287,1.6012151222805362,-0.9367119403039806,-1.9787983754448357,1.0241983340579166,-1.143758954600685,-2.2187731951672114,0.7947270574400019,-2.159015054832446,1.2317415821797406,2.0286975877895372,1.2317741361280714,-1.1456076163905007,1.6214329192024375,1.2317447774211507,-0.629407882291831,1.6214075750002412,1.2315948548541389,1.0242786466753313,1.0242735571724717,1.0238162540283557,0.6087212228716039,1.2317713452815344,-1.1437590324663163,0.7939012723463501,-1.2951809047268417,1.6214325667501428,1.024245335927914,1.8834482195834588,0.6438809952735468,-1.1437787205730958,1.458335398136078,-2.227331883700888,2.0084697159793867,-2.2384144446834275,-2.228304456761852,-2.145947659105691,-2.287376362694493,1.53864448602767,-0.9362866624475527,1.538615196054424,1.947811393911721,-1.1437522088288645,1.8307675191593347,-1.143783383566585,-0.9362713193414829,-0.9362609338916095,1.004218593617183,-2.2871470399032714,1.830772990760446,-2.261924945315522,-1.175521198622671,-1.2662204741269993,1.4666289871158669,-0.9367237881098037,1.9478268863836126,-1.2945113632791547,1.2317839332173575,0.7947284192290067,2.8213156045766126,-1.148690260656769,1.621414873518686,-1.0890827443962123,-1.1437557713252458,-1.1437829216003876,-1.1437846419527924,-1.1437842330010355,1.024271341121542,1.0242862042317997,-2.287165449143475,1.4916715366489677,1.3718017838527325,1.2317736740195757,-1.986681547111049,0.5575714057940336,-0.9360667415942724,1.0242796081919685,-1.6103579636179637,0.5870901672966621,-1.9787963274747213,1.0310484350822193,0.8735164209530956,1.5382972693629722,1.8753089373726572,-2.2301112868206348,1.0242775158558775,1.6840772818213485,-1.1437588985623404,1.5232472292600925,1.0242858717116583,0.6431770163364086,-0.9363507430814775,-1.6103655882846466,-2.0342974306393864,-1.6103595850818593,1.2317304501358513,1.8482919541430354,1.535388414277479,1.8307448565955056,-1.8714711989060606,1.0242301906319438,-2.3197496773466524,-2.287131207086023,-2.038676561280164,1.3090825194217746,1.4545996151575071,-0.9364811228720844,-2.22761046118127,1.0026385022574569,1.0242192165452844,-1.144587230582564,1.2317773448372886,-1.274337013816488,-0.936260743365811,-1.6103537332341737,1.4545565181429518,-1.6104675041869452,-1.1437627965682367,1.02408904504231,1.024285650188165,1.0022183052750437,-0.9362606247094689,-1.2945101411868938,-1.1494311928512528,1.45834027527915,-0.09569116133099423,0.2696527373102541,-2.7373251695088108,-2.195863617767132,1.0242671910262728,-2.287233939401691,-1.1446324785134911,-2.2300567587179607,-1.3516587185867108,1.6009280310429665,3.38115784444253,-1.1437641333545445,-1.146871277678957,-0.9364075268501363,1.018606920143453,2.7833265245219265,1.231772667534377,1.479274903347034,0.7946809056652716,1.4406743446671617,-2.0371342362607696,-2.2875669574010216,-1.143758395487897,-2.2402369763324117,1.538629341649853,1.024285486570199,1.0242846741865423,-1.9787986813855718,0.7945963986874002,-2.2632126676758424,1.5178818127929845,1.6214092856904148,1.0242762365157418,1.811446357350509,-0.936287938282847,1.6841189600995177,1.621408920747958,-2.28712958054151,0.6844700875650408,1.02241340451994,-0.6293908755040791,-2.218780820278851,0.9940361111816514,-2.2181933441982897,0.7947320376548433,-2.2630842352524896,-2.2874093210953483,-2.216738610493428,-2.3579155404856724,1.023386518834252,0.7947116886715794,-2.1812752537384537,1.984138576258901,-2.287383453147605,1.0242553086440138,1.6806636544884783,0.2389347324011341,1.4542977492785665,0.6439461083199525,1.6625036694396516,-1.2539972485698034,-2.1824278898365446,-0.9362610159287302,0.914021953031268,1.4545953703398888,1.6841594833144038,0.7867876310782326,0.8166297802482089,1.4545807429942388,-1.143759929902647,1.0238181286106496,-2.228126310476821,-2.2102081731423513,-0.6888268421980557,-2.265414411502965,1.0022079892813924,1.2317718389520065,0.7946483363806628,1.6213470859375916,-1.2946936673720995,0.9031416367443242,1.0021811720592102,-0.936262889241377,1.0162225496185808,1.573998330559359,-1.254033290589304,-1.9807499525037007,1.249724942444236,-2.2631162763699977,-1.2945113644546384,1.1884718276828825,1.0088053588563042,-2.290215061223712,1.6841477352562793,-2.2565317071865763,-2.256488663008414,-0.040357729859445336,-2.16500640248881,-1.1437930437657744,1.024282343123166,-1.9789030309210744,1.684157669593325,-1.9787979405016367,1.4545969925323963,1.0008760610369072,-1.4909380866711686,1.0022175057511908,1.0242549061845474,1.4791437661282403,1.9821630147311726,1.2315918813272309,-1.2945184840621826,-0.3372636818712619,-1.2945550625825506,1.231778575140888,1.8483288406161142,1.0136746253948992,-1.189886052062036,1.2318763307211809,-1.6107668333300376,1.0241938246034843,-2.259767505326005,1.0242689125055924,0.6439629816895808,1.0242902565731409,1.2317151510686295,-1.143922330558659,1.0197211051312365,0.8802967261064347,1.231502023640283,-1.294519335984969,1.0243024534337515,-1.1559665621098423,1.0242529285931619,-1.2403901125415269,1.23176271092574,1.0242509045863828,1.6214395540982056,-1.143750491774994,-1.143809065478667,0.6646750393712979,0.8735074265331322,1.8483877150636077,0.7938430028779617,1.0242417557186467,0.5576619116398255,-1.8713448560771067,1.830773501693377,-2.211956410490828,1.848807206145211,-2.034172724519941,1.8488461357844956,0.6438829426216791,2.9617033321061546,1.6214418141634566,2.1548118254914344,0.8297065614899255,1.024174654563927,-2.2874111565445165,-1.9788001141854459,0.7947290530121581],\"z\":[-0.5220160318397791,-0.5222884775098235,-0.7023002138657364,0.17478205044379622,0.3387926972933695,0.014089229383742755,-0.5509385676037962,0.4504873237114573,0.3387804114113016,0.3669348461266174,-0.021664703814935484,0.2501235846890281,-0.361338409508632,-0.06857233591802227,0.014105799208274287,-0.6786089035093597,-0.014814688836548165,0.014102060382273336,-0.5220211125870872,-0.5221633611718305,0.2533693120891456,-0.005951131995381812,0.1747389706850134,0.014065277921460348,0.01410130387386127,-0.522044565160885,-0.03989722328295483,0.08251134352432415,0.014097963463517965,-0.5220160678192877,0.014105462629577592,-0.5220163249952978,0.014106456597196386,-0.0148131577849841,-0.20825508037167223,-0.4535980406108414,0.24930700757796545,0.16933740210196085,0.01049572632937823,0.01410228834600317,0.014041825483348164,0.014102041507408727,-0.03963991786641228,-0.11459663819900724,0.014107381755382608,0.25030074194391255,0.013829030586639743,0.014089350116938393,0.014094800707491967,-0.5220429978050216,-0.25855644620031515,-0.011630048313312134,-0.5509405661482352,0.17478131726233495,0.014059253969096946,0.014102707887090461,0.01410790707042353,-0.17221566120192955,0.014097193731468683,0.29736078423216167,-0.2341851802595338,0.014106365502932258,-0.3618375193749089,-0.22925256879895264,-0.6791157812119233,0.012776068696054474,0.1747827902566753,0.014013023803251071,-0.6791039724157544,-0.28575853325042466,-0.5220896016860845,-0.5220382993377025,-0.5288131373184035,0.014106880638386696,0.014089559631531997,0.014099624900507283,-0.25817902171676094,-0.5509353246991214,0.17461030157727928,0.01048518775266524,0.17477475378641352,-0.1619357402093453,-0.550936178742177,0.17477979224144044,0.17478259678776048,0.17478724439109725,-0.014811338828142917,-0.5223544155943275,-0.5220329031537544,0.014101664408044808,-0.026454197848875566,0.08420769013012014,0.014066636553761261,-0.550937223301851,0.010485834738204625,0.1747758654054959,-0.6791081313711239,-0.522102582766068,0.31862276037796794,0.3688129405246168,-0.047462975482601526,-0.16932092387031533,0.014086930780608391,-0.3613495843714306,-0.45360937914857274,0.01392424453041086,-0.2292542750896482,0.014067657149996856,-0.6791015540458621,0.014108054183744325,-0.22931458449770958,0.01406457010938686,-0.5220163721613655,-0.6791026261128909,0.013872238078449893,0.4353978766038964,-0.2581689330598779,0.2538501293060182,0.27676258221227146,0.014105706463098435,-0.5220197672565589,0.012516901051691736,0.3658019063517677,0.01410805765243386,0.1747833174551577,0.009302323512010028,-0.5509356753412951,0.6254427722679913,-0.014820253645293135,0.35289439574960674,0.17478107643795854,-0.7443005404892437,-0.014815834086209848,-0.009169646581199207,0.014089700553802383,0.014077642188951278,-0.22927638188208393,0.33881434836053526,-0.6791084128153344,0.40957374276121516,-0.36139918321119924,-0.678589208889815,-0.014815573790953026,0.17478133856380196,-0.45711956947326743,0.014048573092944027,0.3876662612915507,-0.3613389615276849,-0.554871847046804,0.014087653464994361,-0.3613386991498145,0.1686169634324196,-0.6231959908963413,-0.5220203122689825,-0.2292689044320009,-0.01482590616433304,0.39981310386008007,0.014099291751000248,0.34396294126738475,-0.5509577967684979,-0.24299167567123248,-0.361340065825793,-0.19750126187771125,-0.03964428292770283,0.014105665379151356,-0.014815530684284685,-0.5509704401187056,-0.36134887332628207,-0.3613682497929756,-0.6208853393197881,-0.5509482399826465,0.014108058513250492,-0.08944688392212219,-0.5223090312270063,-0.5220193971826381,-0.5220444416144512,-0.3863440054156764,-0.014812684333353384,-0.25835391693960325,0.4593481999174397,-0.5509415449091276,-0.5220307415916773,0.3709343447021658,-0.3613381964913709,0.1747853477491408,-0.5509356335672986,-0.5220177274798001,0.25357068101967306,-0.5220164816103844,0.014070694331613186,-0.22928729521951732,0.174784636829181,-0.1963754609549216,0.014104088409886438,-0.6739148278267328,-0.03965963205091031,-0.5220238044584695,-0.5510750496010013,0.3231025801543334,-0.03967517195355774,-0.38633310880963584,-0.4936305640157646,-0.039658456026188026,-0.6689737727949646,0.3388102200125042,0.36693525640422275,0.13460042254066604,-0.5509411444753484,0.013540340697051692,-0.01502823045319789,-0.7005206823633435,-0.5509364190958989,-0.03965280586368396,-0.5220220074712603,-0.5220187937798217,-0.014837197191199084,-0.03964428292770283,-0.550939865919581,-0.36134088509871065,-0.5220224494575806,-0.42844544189261885,-0.5220200636654911,-0.5220525515677495,-0.5509357744532059,0.37093535700102664,-0.522025496583042,-0.2387863974104023,-0.5220175161665662,-0.5220169738364264,-0.2831835675659684,-0.2593713341977271,0.014107884567316204,0.37093320530812424,0.352900061443976,-0.5220477074030859,-0.36133864413163214,-0.550937125125445,-0.5220198175715561,-0.02015935666011056,-0.5220172490341527,0.45047910460461965,-0.22925152281878478,-0.2654981073624544,0.014107335821846012,-0.38633652500905313,-0.01487034202194799,0.366935162059063,-0.5223001296938844,0.014079860165545747,0.352895621811748,-0.22925812909587584,0.25223750465635303,-0.5509436000812585,-0.5761535052961719,-0.5509667213009345,0.013884420613172103,-0.039670130241280334,-0.5509455380994313,-0.08474189137747092,-0.03975256968274021,-0.5509896526833129,-0.5220183847458538,-0.5220177920830106,-0.5220683856891162,-0.07251005908380628,-0.5509413952467465,0.014101676917571956,-0.22942087804805197,0.17435117635637334,-0.03964280904537214,-0.5220264690522611,-0.6927133094835134,-0.06858175184451686,0.014101302198634992,-0.08946459630750918,0.4504698202982433,-0.7005757275284807,0.33996139713974766,0.41719924104615747,0.3176609826421314,0.37041266199393486,-0.620862778656649,-0.014824430014905462,-0.6208821513981354,-0.6876632750661282,0.01410302230324854,-0.6791069566184716,0.014103117599989867,-0.014820231358107236,-0.014812654340403438,-0.5267250854911107,0.3709305763872102,-0.6791065271427108,0.3401835384652151,-0.034145296880120475,0.10739243544430162,-0.2808885575924953,-0.01489691781928047,-0.6876726717558327,0.17478203458117642,-0.5509387353225449,-0.22925320861413395,0.3116417193871428,0.013559622864459343,-0.03964274626486118,-0.019049283468223172,0.014104938907640948,0.014099798833384797,0.014095440382748002,0.014095192340163707,-0.5220230828601071,-0.5220172250388846,0.3709299630482142,-0.02085152768698399,-0.30100362034527234,-0.5509384186581933,0.36463230800251095,-0.2858208312815681,-0.01553177111664733,-0.5220171181953392,0.2503642995460008,-0.15913908083646308,0.36693256942324,-0.5345577902308822,-0.36136352812429506,-0.6210539467701436,-0.4542125602379219,0.39979994771516625,-0.5220176272509243,-0.5759659734436269,0.014079826176461042,-0.06071944985327712,-0.5220205981554066,-0.07112578249833128,-0.014869967714913005,0.25036284701706235,0.33880008063902806,0.2503636624466091,-0.5509517033597969,0.13453912438438603,-0.6290130521537913,-0.6791539824147159,0.25371905541958717,-0.5220527329081333,0.36202577477507725,0.37093498444637224,0.33817451170308205,-0.32809774869146563,-0.2831853214680673,-0.014858411874054176,0.4503367928703046,-0.5257667085248424,-0.5220258196396153,0.012927904545514958,-0.5509484103608844,0.06733019314063879,-0.014813073757420107,0.25036375939288785,-0.28319294360067737,0.25027104579164877,0.014094344720356944,-0.522200080461797,-0.5220168214695858,-0.2581693835033354,-0.014814226106463992,0.17478157491640844,0.19831422376525276,-0.08944223304530857,0.09546099953019782,-0.1332744437203214,0.30637775076416834,0.4241827747130528,-0.5220826024677663,0.3708880752720656,0.011267254984442343,0.3997858848521893,0.0840172110501494,-0.3864275859685039,16.606504142935655,0.014103258375625368,0.009786805438558257,-0.014886169323648323,-0.3378096963037349,10.308272816066582,-0.5509371329545167,-0.1764816599184736,-0.22926037826053824,-0.12384510193372468,0.3384207069895602,0.3708658826837802,0.014106192929131098,0.36813434883711543,-0.6208670978486168,-0.5220163846111695,-0.5220165671115372,0.3669174538266853,-0.22933606668291573,0.32308344228094105,-0.020501673747966544,-0.03964827021233668,-0.5220198898584215,0.05445766217968405,-0.014823656179170513,-0.5759912526792517,-0.039645347912576956,0.37093200594324216,0.014500770094962102,-0.5226091598369466,-0.08474300576212268,0.35289846406359043,0.3652837002710592,0.3069384814916281,-0.22925830484001083,0.3231032844628019,0.3709053184585871,0.41603825346663403,0.3517503567146658,-0.5249138300614242,-0.22925203965576293,0.3527869095021044,-0.6683436951208052,0.3707545813665475,-0.5220254278355635,-0.3858283613160132,-0.2580997730231283,-0.2832149297952587,-0.06858754325141356,0.0067322522422493866,0.2578573103555098,0.19926212566179066,-0.014813313581654068,-0.2782767909197926,-0.2831830844664601,-0.5759500466493608,-0.23012998997678943,-0.45190615601136463,-0.2832008843877832,0.01410675044419578,-0.5220695226844434,0.45039628316361474,0.400649799788887,0.3596314480355589,0.38333182121908554,-0.2581746055551557,-0.55094507086181,-0.22928654008100097,-0.03965173352407872,0.17419069851529723,-0.4279712425883811,-0.2581735328800516,-0.014813527831535481,-0.523202075475187,0.20740277200585977,0.2578528623091365,0.36555869400331037,0.11628544567904778,0.3230979034655995,0.17478203529414582,0.7235026255484305,-0.26215755643406813,0.3700817030842365,-0.5759594134086377,0.24811683662829911,0.2481177016998394,0.1235728397091064,0.37313162720656984,0.01409378398083446,-0.5220205551460426,0.3669156523237124,-0.5759536344047893,0.3669302100774222,-0.28318149234784357,-0.5330706761979817,0.27675583730078235,-0.25816845966161517,-0.5220251837307656,-0.17655067318025197,-0.6687997846229866,-0.5509608396397047,0.17477183596082402,-0.1429765738330489,0.1747589096736724,-0.5509424042045316,0.1343479421441758,-0.5273961955822243,0.00897080926914657,-0.5509915675901902,0.24927093294864414,-0.5220272995374757,0.24775161279696467,-0.5220236369286311,-0.06857101709158504,-0.5220182649172492,-0.551062616262531,0.013875096111528427,-0.5227919226866756,-0.36550639012381403,-0.5511021569138548,0.17477978029298266,-0.5220307269929008,0.0046369952461095985,-0.5221306717920003,0.08250473994271444,-0.5509928781835104,-0.5220484156583007,-0.03963995710555176,0.014106800969869458,0.01408256930802483,-0.44578449315550583,-0.3613597608090165,0.13459586019687234,-0.23208946904209918,-0.5220901332009046,-0.28576099241336267,0.25386430743456934,-0.6791004971713821,0.33871039718165064,0.1343954166236987,0.33881070797755636,0.13437180452724265,-0.0688529995723542,10.520068224826002,-0.03964120438766191,0.43247693797561865,0.058757527097847644,-0.5220325532220598,0.3706362617108088,0.3669348661868509,-0.2292480540873006],\"type\":\"scatter3d\"},{\"customdata\":[[null],[\"SHA-256\"]],\"hovertemplate\":\"<b>%{hovertext}</b><br><br>Class=%{marker.color}<br>PC 1=%{x}<br>PC 2=%{y}<br>PC 3=%{z}<br>Algorithm=%{customdata[0]}<extra></extra>\",\"hovertext\":[\"BiblePay\",\"Acute Angle Cloud\"],\"legendgroup\":\"2.0\",\"marker\":{\"color\":[2.0,2.0],\"coloraxis\":\"coloraxis\",\"symbol\":\"diamond\"},\"mode\":\"markers\",\"name\":\"2.0\",\"scene\":\"scene\",\"showlegend\":true,\"x\":[-0.2029815185621421,-0.35477969391163666],\"y\":[2.8344404027293955,3.2804545180892397],\"z\":[20.672700559990037,8.893045219014459],\"type\":\"scatter3d\"},{\"customdata\":[[\"SHA-256D\"]],\"hovertemplate\":\"<b>%{hovertext}</b><br><br>Class=%{marker.color}<br>PC 1=%{x}<br>PC 2=%{y}<br>PC 3=%{z}<br>Algorithm=%{customdata[0]}<extra></extra>\",\"hovertext\":[\"BitTorrent\"],\"legendgroup\":\"1.0\",\"marker\":{\"color\":[1.0],\"coloraxis\":\"coloraxis\",\"symbol\":\"square\"},\"mode\":\"markers\",\"name\":\"1.0\",\"scene\":\"scene\",\"showlegend\":true,\"x\":[34.05815290497125],\"y\":[1.6815568040486601],\"z\":[-0.4256293644922219],\"type\":\"scatter3d\"}],                        {\"template\":{\"data\":{\"histogram2dcontour\":[{\"type\":\"histogram2dcontour\",\"colorbar\":{\"outlinewidth\":0,\"ticks\":\"\"},\"colorscale\":[[0.0,\"#0d0887\"],[0.1111111111111111,\"#46039f\"],[0.2222222222222222,\"#7201a8\"],[0.3333333333333333,\"#9c179e\"],[0.4444444444444444,\"#bd3786\"],[0.5555555555555556,\"#d8576b\"],[0.6666666666666666,\"#ed7953\"],[0.7777777777777778,\"#fb9f3a\"],[0.8888888888888888,\"#fdca26\"],[1.0,\"#f0f921\"]]}],\"choropleth\":[{\"type\":\"choropleth\",\"colorbar\":{\"outlinewidth\":0,\"ticks\":\"\"}}],\"histogram2d\":[{\"type\":\"histogram2d\",\"colorbar\":{\"outlinewidth\":0,\"ticks\":\"\"},\"colorscale\":[[0.0,\"#0d0887\"],[0.1111111111111111,\"#46039f\"],[0.2222222222222222,\"#7201a8\"],[0.3333333333333333,\"#9c179e\"],[0.4444444444444444,\"#bd3786\"],[0.5555555555555556,\"#d8576b\"],[0.6666666666666666,\"#ed7953\"],[0.7777777777777778,\"#fb9f3a\"],[0.8888888888888888,\"#fdca26\"],[1.0,\"#f0f921\"]]}],\"heatmap\":[{\"type\":\"heatmap\",\"colorbar\":{\"outlinewidth\":0,\"ticks\":\"\"},\"colorscale\":[[0.0,\"#0d0887\"],[0.1111111111111111,\"#46039f\"],[0.2222222222222222,\"#7201a8\"],[0.3333333333333333,\"#9c179e\"],[0.4444444444444444,\"#bd3786\"],[0.5555555555555556,\"#d8576b\"],[0.6666666666666666,\"#ed7953\"],[0.7777777777777778,\"#fb9f3a\"],[0.8888888888888888,\"#fdca26\"],[1.0,\"#f0f921\"]]}],\"heatmapgl\":[{\"type\":\"heatmapgl\",\"colorbar\":{\"outlinewidth\":0,\"ticks\":\"\"},\"colorscale\":[[0.0,\"#0d0887\"],[0.1111111111111111,\"#46039f\"],[0.2222222222222222,\"#7201a8\"],[0.3333333333333333,\"#9c179e\"],[0.4444444444444444,\"#bd3786\"],[0.5555555555555556,\"#d8576b\"],[0.6666666666666666,\"#ed7953\"],[0.7777777777777778,\"#fb9f3a\"],[0.8888888888888888,\"#fdca26\"],[1.0,\"#f0f921\"]]}],\"contourcarpet\":[{\"type\":\"contourcarpet\",\"colorbar\":{\"outlinewidth\":0,\"ticks\":\"\"}}],\"contour\":[{\"type\":\"contour\",\"colorbar\":{\"outlinewidth\":0,\"ticks\":\"\"},\"colorscale\":[[0.0,\"#0d0887\"],[0.1111111111111111,\"#46039f\"],[0.2222222222222222,\"#7201a8\"],[0.3333333333333333,\"#9c179e\"],[0.4444444444444444,\"#bd3786\"],[0.5555555555555556,\"#d8576b\"],[0.6666666666666666,\"#ed7953\"],[0.7777777777777778,\"#fb9f3a\"],[0.8888888888888888,\"#fdca26\"],[1.0,\"#f0f921\"]]}],\"surface\":[{\"type\":\"surface\",\"colorbar\":{\"outlinewidth\":0,\"ticks\":\"\"},\"colorscale\":[[0.0,\"#0d0887\"],[0.1111111111111111,\"#46039f\"],[0.2222222222222222,\"#7201a8\"],[0.3333333333333333,\"#9c179e\"],[0.4444444444444444,\"#bd3786\"],[0.5555555555555556,\"#d8576b\"],[0.6666666666666666,\"#ed7953\"],[0.7777777777777778,\"#fb9f3a\"],[0.8888888888888888,\"#fdca26\"],[1.0,\"#f0f921\"]]}],\"mesh3d\":[{\"type\":\"mesh3d\",\"colorbar\":{\"outlinewidth\":0,\"ticks\":\"\"}}],\"scatter\":[{\"fillpattern\":{\"fillmode\":\"overlay\",\"size\":10,\"solidity\":0.2},\"type\":\"scatter\"}],\"parcoords\":[{\"type\":\"parcoords\",\"line\":{\"colorbar\":{\"outlinewidth\":0,\"ticks\":\"\"}}}],\"scatterpolargl\":[{\"type\":\"scatterpolargl\",\"marker\":{\"colorbar\":{\"outlinewidth\":0,\"ticks\":\"\"}}}],\"bar\":[{\"error_x\":{\"color\":\"#2a3f5f\"},\"error_y\":{\"color\":\"#2a3f5f\"},\"marker\":{\"line\":{\"color\":\"#E5ECF6\",\"width\":0.5},\"pattern\":{\"fillmode\":\"overlay\",\"size\":10,\"solidity\":0.2}},\"type\":\"bar\"}],\"scattergeo\":[{\"type\":\"scattergeo\",\"marker\":{\"colorbar\":{\"outlinewidth\":0,\"ticks\":\"\"}}}],\"scatterpolar\":[{\"type\":\"scatterpolar\",\"marker\":{\"colorbar\":{\"outlinewidth\":0,\"ticks\":\"\"}}}],\"histogram\":[{\"marker\":{\"pattern\":{\"fillmode\":\"overlay\",\"size\":10,\"solidity\":0.2}},\"type\":\"histogram\"}],\"scattergl\":[{\"type\":\"scattergl\",\"marker\":{\"colorbar\":{\"outlinewidth\":0,\"ticks\":\"\"}}}],\"scatter3d\":[{\"type\":\"scatter3d\",\"line\":{\"colorbar\":{\"outlinewidth\":0,\"ticks\":\"\"}},\"marker\":{\"colorbar\":{\"outlinewidth\":0,\"ticks\":\"\"}}}],\"scattermapbox\":[{\"type\":\"scattermapbox\",\"marker\":{\"colorbar\":{\"outlinewidth\":0,\"ticks\":\"\"}}}],\"scatterternary\":[{\"type\":\"scatterternary\",\"marker\":{\"colorbar\":{\"outlinewidth\":0,\"ticks\":\"\"}}}],\"scattercarpet\":[{\"type\":\"scattercarpet\",\"marker\":{\"colorbar\":{\"outlinewidth\":0,\"ticks\":\"\"}}}],\"carpet\":[{\"aaxis\":{\"endlinecolor\":\"#2a3f5f\",\"gridcolor\":\"white\",\"linecolor\":\"white\",\"minorgridcolor\":\"white\",\"startlinecolor\":\"#2a3f5f\"},\"baxis\":{\"endlinecolor\":\"#2a3f5f\",\"gridcolor\":\"white\",\"linecolor\":\"white\",\"minorgridcolor\":\"white\",\"startlinecolor\":\"#2a3f5f\"},\"type\":\"carpet\"}],\"table\":[{\"cells\":{\"fill\":{\"color\":\"#EBF0F8\"},\"line\":{\"color\":\"white\"}},\"header\":{\"fill\":{\"color\":\"#C8D4E3\"},\"line\":{\"color\":\"white\"}},\"type\":\"table\"}],\"barpolar\":[{\"marker\":{\"line\":{\"color\":\"#E5ECF6\",\"width\":0.5},\"pattern\":{\"fillmode\":\"overlay\",\"size\":10,\"solidity\":0.2}},\"type\":\"barpolar\"}],\"pie\":[{\"automargin\":true,\"type\":\"pie\"}]},\"layout\":{\"autotypenumbers\":\"strict\",\"colorway\":[\"#636efa\",\"#EF553B\",\"#00cc96\",\"#ab63fa\",\"#FFA15A\",\"#19d3f3\",\"#FF6692\",\"#B6E880\",\"#FF97FF\",\"#FECB52\"],\"font\":{\"color\":\"#2a3f5f\"},\"hovermode\":\"closest\",\"hoverlabel\":{\"align\":\"left\"},\"paper_bgcolor\":\"white\",\"plot_bgcolor\":\"#E5ECF6\",\"polar\":{\"bgcolor\":\"#E5ECF6\",\"angularaxis\":{\"gridcolor\":\"white\",\"linecolor\":\"white\",\"ticks\":\"\"},\"radialaxis\":{\"gridcolor\":\"white\",\"linecolor\":\"white\",\"ticks\":\"\"}},\"ternary\":{\"bgcolor\":\"#E5ECF6\",\"aaxis\":{\"gridcolor\":\"white\",\"linecolor\":\"white\",\"ticks\":\"\"},\"baxis\":{\"gridcolor\":\"white\",\"linecolor\":\"white\",\"ticks\":\"\"},\"caxis\":{\"gridcolor\":\"white\",\"linecolor\":\"white\",\"ticks\":\"\"}},\"coloraxis\":{\"colorbar\":{\"outlinewidth\":0,\"ticks\":\"\"}},\"colorscale\":{\"sequential\":[[0.0,\"#0d0887\"],[0.1111111111111111,\"#46039f\"],[0.2222222222222222,\"#7201a8\"],[0.3333333333333333,\"#9c179e\"],[0.4444444444444444,\"#bd3786\"],[0.5555555555555556,\"#d8576b\"],[0.6666666666666666,\"#ed7953\"],[0.7777777777777778,\"#fb9f3a\"],[0.8888888888888888,\"#fdca26\"],[1.0,\"#f0f921\"]],\"sequentialminus\":[[0.0,\"#0d0887\"],[0.1111111111111111,\"#46039f\"],[0.2222222222222222,\"#7201a8\"],[0.3333333333333333,\"#9c179e\"],[0.4444444444444444,\"#bd3786\"],[0.5555555555555556,\"#d8576b\"],[0.6666666666666666,\"#ed7953\"],[0.7777777777777778,\"#fb9f3a\"],[0.8888888888888888,\"#fdca26\"],[1.0,\"#f0f921\"]],\"diverging\":[[0,\"#8e0152\"],[0.1,\"#c51b7d\"],[0.2,\"#de77ae\"],[0.3,\"#f1b6da\"],[0.4,\"#fde0ef\"],[0.5,\"#f7f7f7\"],[0.6,\"#e6f5d0\"],[0.7,\"#b8e186\"],[0.8,\"#7fbc41\"],[0.9,\"#4d9221\"],[1,\"#276419\"]]},\"xaxis\":{\"gridcolor\":\"white\",\"linecolor\":\"white\",\"ticks\":\"\",\"title\":{\"standoff\":15},\"zerolinecolor\":\"white\",\"automargin\":true,\"zerolinewidth\":2},\"yaxis\":{\"gridcolor\":\"white\",\"linecolor\":\"white\",\"ticks\":\"\",\"title\":{\"standoff\":15},\"zerolinecolor\":\"white\",\"automargin\":true,\"zerolinewidth\":2},\"scene\":{\"xaxis\":{\"backgroundcolor\":\"#E5ECF6\",\"gridcolor\":\"white\",\"linecolor\":\"white\",\"showbackground\":true,\"ticks\":\"\",\"zerolinecolor\":\"white\",\"gridwidth\":2},\"yaxis\":{\"backgroundcolor\":\"#E5ECF6\",\"gridcolor\":\"white\",\"linecolor\":\"white\",\"showbackground\":true,\"ticks\":\"\",\"zerolinecolor\":\"white\",\"gridwidth\":2},\"zaxis\":{\"backgroundcolor\":\"#E5ECF6\",\"gridcolor\":\"white\",\"linecolor\":\"white\",\"showbackground\":true,\"ticks\":\"\",\"zerolinecolor\":\"white\",\"gridwidth\":2}},\"shapedefaults\":{\"line\":{\"color\":\"#2a3f5f\"}},\"annotationdefaults\":{\"arrowcolor\":\"#2a3f5f\",\"arrowhead\":0,\"arrowwidth\":1},\"geo\":{\"bgcolor\":\"white\",\"landcolor\":\"#E5ECF6\",\"subunitcolor\":\"white\",\"showland\":true,\"showlakes\":true,\"lakecolor\":\"white\"},\"title\":{\"x\":0.05},\"mapbox\":{\"style\":\"light\"}}},\"scene\":{\"domain\":{\"x\":[0.0,1.0],\"y\":[0.0,1.0]},\"xaxis\":{\"title\":{\"text\":\"PC 1\"}},\"yaxis\":{\"title\":{\"text\":\"PC 2\"}},\"zaxis\":{\"title\":{\"text\":\"PC 3\"}}},\"coloraxis\":{\"colorbar\":{\"title\":{\"text\":\"Class\"}},\"colorscale\":[[0.0,\"#0d0887\"],[0.1111111111111111,\"#46039f\"],[0.2222222222222222,\"#7201a8\"],[0.3333333333333333,\"#9c179e\"],[0.4444444444444444,\"#bd3786\"],[0.5555555555555556,\"#d8576b\"],[0.6666666666666666,\"#ed7953\"],[0.7777777777777778,\"#fb9f3a\"],[0.8888888888888888,\"#fdca26\"],[1.0,\"#f0f921\"]]},\"legend\":{\"title\":{\"text\":\"Class\"},\"tracegroupgap\":0,\"x\":0,\"y\":1},\"margin\":{\"t\":60}},                        {\"responsive\": true}                    ).then(function(){\n",
       "                            \n",
       "var gd = document.getElementById('1e03ad48-b624-4e4f-9e0a-ce7921faef12');\n",
       "var x = new MutationObserver(function (mutations, observer) {{\n",
       "        var display = window.getComputedStyle(gd).display;\n",
       "        if (!display || display === 'none') {{\n",
       "            console.log([gd, 'removed!']);\n",
       "            Plotly.purge(gd);\n",
       "            observer.disconnect();\n",
       "        }}\n",
       "}});\n",
       "\n",
       "// Listen for the removal of the full notebook cells\n",
       "var notebookContainer = gd.closest('#notebook-container');\n",
       "if (notebookContainer) {{\n",
       "    x.observe(notebookContainer, {childList: true});\n",
       "}}\n",
       "\n",
       "// Listen for the clearing of the current output cell\n",
       "var outputEl = gd.closest('.output');\n",
       "if (outputEl) {{\n",
       "    x.observe(outputEl, {childList: true});\n",
       "}}\n",
       "\n",
       "                        })                };                });            </script>        </div>"
      ]
     },
     "metadata": {},
     "output_type": "display_data"
    }
   ],
   "source": [
    "fig = px.scatter_3d(\n",
    "    clustered_df, \n",
    "    x=\"PC 1\", \n",
    "    y=\"PC 2\", \n",
    "    z=\"PC 3\", \n",
    "    color=\"Class\", \n",
    "    symbol=\"Class\", \n",
    "    hover_name=\"CoinName\", \n",
    "    hover_data=[\"Algorithm\"])\n",
    "fig.update_layout(legend=dict(x=0, y=1))\n",
    "fig.show()"
   ]
  },
  {
   "cell_type": "code",
   "execution_count": 57,
   "metadata": {},
   "outputs": [
    {
     "data": {},
     "metadata": {},
     "output_type": "display_data"
    },
    {
     "data": {
      "application/vnd.holoviews_exec.v0+json": "",
      "text/html": [
       "<div id='1628'>\n",
       "\n",
       "\n",
       "\n",
       "\n",
       "\n",
       "  <div class=\"bk-root\" id=\"fddef3cd-aaf3-449f-a63e-e75ef67a9788\" data-root-id=\"1628\"></div>\n",
       "</div>\n",
       "<script type=\"application/javascript\">(function(root) {\n",
       "  function embed_document(root) {\n",
       "    var docs_json = {\"0cccb891-6e6e-453c-a71b-4d277dcea2f9\":{\"defs\":[{\"extends\":null,\"module\":null,\"name\":\"ReactiveHTML1\",\"overrides\":[],\"properties\":[]},{\"extends\":null,\"module\":null,\"name\":\"FlexBox1\",\"overrides\":[],\"properties\":[{\"default\":\"flex-start\",\"kind\":null,\"name\":\"align_content\"},{\"default\":\"flex-start\",\"kind\":null,\"name\":\"align_items\"},{\"default\":\"row\",\"kind\":null,\"name\":\"flex_direction\"},{\"default\":\"wrap\",\"kind\":null,\"name\":\"flex_wrap\"},{\"default\":\"flex-start\",\"kind\":null,\"name\":\"justify_content\"}]},{\"extends\":null,\"module\":null,\"name\":\"GridStack1\",\"overrides\":[],\"properties\":[{\"default\":\"warn\",\"kind\":null,\"name\":\"mode\"},{\"default\":null,\"kind\":null,\"name\":\"ncols\"},{\"default\":null,\"kind\":null,\"name\":\"nrows\"},{\"default\":true,\"kind\":null,\"name\":\"allow_resize\"},{\"default\":true,\"kind\":null,\"name\":\"allow_drag\"},{\"default\":[],\"kind\":null,\"name\":\"state\"}]},{\"extends\":null,\"module\":null,\"name\":\"click1\",\"overrides\":[],\"properties\":[{\"default\":\"\",\"kind\":null,\"name\":\"terminal_output\"},{\"default\":\"\",\"kind\":null,\"name\":\"debug_name\"},{\"default\":0,\"kind\":null,\"name\":\"clears\"}]},{\"extends\":null,\"module\":null,\"name\":\"NotificationAreaBase1\",\"overrides\":[],\"properties\":[{\"default\":\"bottom-right\",\"kind\":null,\"name\":\"position\"},{\"default\":0,\"kind\":null,\"name\":\"_clear\"}]},{\"extends\":null,\"module\":null,\"name\":\"NotificationArea1\",\"overrides\":[],\"properties\":[{\"default\":[],\"kind\":null,\"name\":\"notifications\"},{\"default\":\"bottom-right\",\"kind\":null,\"name\":\"position\"},{\"default\":0,\"kind\":null,\"name\":\"_clear\"},{\"default\":[{\"background\":\"#ffc107\",\"icon\":{\"className\":\"fas fa-exclamation-triangle\",\"color\":\"white\",\"tagName\":\"i\"},\"type\":\"warning\"},{\"background\":\"#007bff\",\"icon\":{\"className\":\"fas fa-info-circle\",\"color\":\"white\",\"tagName\":\"i\"},\"type\":\"info\"}],\"kind\":null,\"name\":\"types\"}]},{\"extends\":null,\"module\":null,\"name\":\"Notification\",\"overrides\":[],\"properties\":[{\"default\":null,\"kind\":null,\"name\":\"background\"},{\"default\":3000,\"kind\":null,\"name\":\"duration\"},{\"default\":null,\"kind\":null,\"name\":\"icon\"},{\"default\":\"\",\"kind\":null,\"name\":\"message\"},{\"default\":null,\"kind\":null,\"name\":\"notification_type\"},{\"default\":false,\"kind\":null,\"name\":\"_destroyed\"}]},{\"extends\":null,\"module\":null,\"name\":\"TemplateActions1\",\"overrides\":[],\"properties\":[{\"default\":0,\"kind\":null,\"name\":\"open_modal\"},{\"default\":0,\"kind\":null,\"name\":\"close_modal\"}]},{\"extends\":null,\"module\":null,\"name\":\"MaterialTemplateActions1\",\"overrides\":[],\"properties\":[{\"default\":0,\"kind\":null,\"name\":\"open_modal\"},{\"default\":0,\"kind\":null,\"name\":\"close_modal\"}]}],\"roots\":{\"references\":[{\"attributes\":{},\"id\":\"1643\",\"type\":\"StringEditor\"},{\"attributes\":{\"editor\":{\"id\":\"1653\"},\"field\":\"TotalCoinsMined\",\"formatter\":{\"id\":\"1652\"},\"title\":\"TotalCoinsMined\"},\"id\":\"1654\",\"type\":\"TableColumn\"},{\"attributes\":{},\"id\":\"1658\",\"type\":\"NumberEditor\"},{\"attributes\":{\"editor\":{\"id\":\"1633\"},\"field\":\"CoinName\",\"formatter\":{\"id\":\"1632\"},\"title\":\"CoinName\"},\"id\":\"1634\",\"type\":\"TableColumn\"},{\"attributes\":{\"editor\":{\"id\":\"1643\"},\"field\":\"ProofType\",\"formatter\":{\"id\":\"1642\"},\"title\":\"ProofType\"},\"id\":\"1644\",\"type\":\"TableColumn\"},{\"attributes\":{\"columns\":[{\"id\":\"1634\"},{\"id\":\"1639\"},{\"id\":\"1644\"},{\"id\":\"1649\"},{\"id\":\"1654\"},{\"id\":\"1659\"}],\"height\":300,\"reorderable\":false,\"source\":{\"id\":\"1630\"},\"view\":{\"id\":\"1664\"},\"width\":700},\"id\":\"1662\",\"type\":\"DataTable\"},{\"attributes\":{\"format\":\"0,0.0[00000]\"},\"id\":\"1652\",\"type\":\"NumberFormatter\"},{\"attributes\":{\"source\":{\"id\":\"1630\"}},\"id\":\"1664\",\"type\":\"CDSView\"},{\"attributes\":{},\"id\":\"1647\",\"type\":\"StringFormatter\"},{\"attributes\":{\"editor\":{\"id\":\"1648\"},\"field\":\"TotalCoinSupply\",\"formatter\":{\"id\":\"1647\"},\"title\":\"TotalCoinSupply\"},\"id\":\"1649\",\"type\":\"TableColumn\"},{\"attributes\":{\"editor\":{\"id\":\"1658\"},\"field\":\"Class\",\"formatter\":{\"id\":\"1657\"},\"title\":\"Class\"},\"id\":\"1659\",\"type\":\"TableColumn\"},{\"attributes\":{},\"id\":\"1653\",\"type\":\"NumberEditor\"},{\"attributes\":{\"margin\":[5,5,5,5],\"name\":\"HSpacer01755\",\"sizing_mode\":\"stretch_width\"},\"id\":\"1667\",\"type\":\"Spacer\"},{\"attributes\":{\"margin\":[5,5,5,5],\"name\":\"HSpacer01754\",\"sizing_mode\":\"stretch_width\"},\"id\":\"1629\",\"type\":\"Spacer\"},{\"attributes\":{},\"id\":\"1632\",\"type\":\"StringFormatter\"},{\"attributes\":{},\"id\":\"1665\",\"type\":\"UnionRenderers\"},{\"attributes\":{},\"id\":\"1631\",\"type\":\"Selection\"},{\"attributes\":{\"editor\":{\"id\":\"1638\"},\"field\":\"Algorithm\",\"formatter\":{\"id\":\"1637\"},\"title\":\"Algorithm\"},\"id\":\"1639\",\"type\":\"TableColumn\"},{\"attributes\":{},\"id\":\"1637\",\"type\":\"StringFormatter\"},{\"attributes\":{\"data\":{\"Algorithm\":[\"Scrypt\",\"nan\",\"Scrypt\",\"nan\",\"nan\",\"X13\",\"nan\",\"SHA-256\",\"Ethash\",\"Scrypt\",\"X11\",\"CryptoNight-V7\",\"Ethash\",\"Equihash\",\"SHA-512\",\"Multiple\",\"SHA-256\",\"nan\",\"nan\",\"SHA-256\",\"Scrypt\",\"nan\",\"nan\",\"nan\",\"X15\",\"nan\",\"nan\",\"X11\",\"nan\",\"nan\",\"nan\",\"nan\",\"nan\",\"nan\",\"nan\",\"nan\",\"nan\",\"Scrypt\",\"nan\",\"Scrypt\",\"nan\",\"nan\",\"Scrypt\",\"nan\",\"Multiple\",\"Scrypt\",\"SHA-256\",\"Scrypt\",\"Scrypt\",\"Scrypt\",\"Quark\",\"Groestl\",\"Scrypt\",\"nan\",\"Scrypt\",\"nan\",\"nan\",\"nan\",\"nan\",\"nan\",\"nan\",\"Scrypt\",\"Scrypt\",\"Scrypt\",\"nan\",\"nan\",\"nan\",\"nan\",\"nan\",\"nan\",\"nan\",\"nan\",\"nan\",\"X11\",\"Scrypt\",\"nan\",\"Groestl\",\"Multiple\",\"nan\",\"nan\",\"SHA-256\",\"Scrypt\",\"Scrypt\",\"nan\",\"Scrypt\",\"Scrypt\",\"PoS\",\"nan\",\"nan\",\"nan\",\"nan\",\"nan\",\"nan\",\"nan\",\"Scrypt\",\"Scrypt\",\"nan\",\"nan\",\"NeoScrypt\",\"Scrypt\",\"Scrypt\",\"Scrypt\",\"nan\",\"nan\",\"nan\",\"nan\",\"nan\",\"Scrypt\",\"nan\",\"nan\",\"X11\",\"nan\",\"Scrypt\",\"X11\",\"SHA-256\",\"nan\",\"nan\",\"nan\",\"nan\",\"nan\",\"Scrypt\",\"nan\",\"Scrypt\",\"nan\",\"Scrypt\",\"nan\",\"nan\",\"nan\",\"nan\",\"SHA3\",\"Scrypt\",\"HybridScryptHash256\",\"nan\",\"Scrypt\",\"nan\",\"Scrypt\",\"nan\",\"SHA-256\",\"nan\",\"Scrypt\",\"X13\",\"nan\",\"nan\",\"nan\",\"Scrypt\",\"nan\",\"SHA-256\",\"Scrypt\",\"X13\",\"NeoScrypt\",\"nan\",\"Scrypt\",\"nan\",\"Scrypt\",\"nan\",\"Scrypt\",\"nan\",\"Scrypt\",\"nan\",\"nan\",\"nan\",\"nan\",\"Scrypt\",\"nan\",\"nan\",\"nan\",\"nan\",\"nan\",\"Scrypt\",\"nan\",\"nan\",\"nan\",\"nan\",\"nan\",\"X11\",\"X11\",\"SHA-256\",\"nan\",\"nan\",\"Multiple\",\"SHA-256\",\"PHI1612\",\"X11\",\"SHA-256\",\"nan\",\"nan\",\"SHA-256\",\"SHA-256\",\"X11\",\"Scrypt\",\"Scrypt\",\"nan\",\"nan\",\"Scrypt\",\"nan\",\"Scrypt\",\"Lyra2REv2\",\"Scrypt\",\"nan\",\"nan\",\"X11\",\"nan\",\"Multiple\",\"SHA-256\",\"nan\",\"X13\",\"nan\",\"nan\",\"Scrypt\",\"nan\",\"CryptoNight\",\"nan\",\"CryptoNight\",\"nan\",\"Shabal256\",\"Counterparty\",\"nan\",\"nan\",\"Scrypt\",\"nan\",\"SHA-256\",\"nan\",\"nan\",\"nan\",\"Groestl\",\"Scrypt\",\"Scrypt\",\"Scrypt\",\"X13\",\"Scrypt\",\"nan\",\"Scrypt\",\"Scrypt\",\"nan\",\"Scrypt\",\"X13\",\"nan\",\"nan\",\"nan\",\"Scrypt\",\"nan\",\"nan\",\"nan\",\"nan\",\"Stanford Folding\",\"nan\",\"X11\",\"Multiple\",\"QuBit\",\"nan\",\"nan\",\"Scrypt\",\"nan\",\"nan\",\"Scrypt\",\"nan\",\"Scrypt\",\"nan\",\"nan\",\"nan\",\"nan\",\"nan\",\"nan\",\"M7 POW\",\"nan\",\"nan\",\"nan\",\"Scrypt\",\"nan\",\"nan\",\"nan\",\"nan\",\"nan\",\"SHA-256\",\"nan\",\"nan\",\"Scrypt\",\"nan\",\"nan\",\"nan\",\"nan\",\"X11\",\"nan\",\"nan\",\"nan\",\"nan\",\"SHA3\",\"nan\",\"nan\",\"X11\",\"nan\",\"nan\",\"nan\",\"nan\",\"Lyra2RE\",\"nan\",\"nan\",\"nan\",\"nan\",\"nan\",\"nan\",\"SHA-256\",\"QUAIT\",\"X11\",\"nan\",\"nan\",\"nan\",\"X11\",\"nan\",\"nan\",\"nan\",\"nan\",\"nan\",\"nan\",\"nan\",\"Scrypt\",\"nan\",\"nan\",\"nan\",\"nan\",\"Scrypt\",\"Scrypt\",\"Ethash\",\"nan\",\"X13\",\"Blake2b\",\"nan\",\"SHA-256\",\"nan\",\"nan\",\"X15\",\"X11\",\"SHA-256\",\"BLAKE256\",\"nan\",\"Scrypt\",\"1GB AES Pattern Search\",\"SHA-256\",\"X11\",\"Scrypt\",\"nan\",\"SHA-256\",\"nan\",\"SHA-256\",\"nan\",\"NIST5\",\"nan\",\"Scrypt\",\"nan\",\"nan\",\"nan\",\"nan\",\"Scrypt\",\"nan\",\"nan\",\"X11\",\"nan\",\"nan\",\"Dagger\",\"Scrypt\",\"nan\",\"nan\",\"X11GOST\",\"X11\",\"nan\",\"nan\",\"nan\",\"nan\",\"nan\",\"Scrypt\",\"nan\",\"SHA-256\",\"Scrypt\",\"PoS\",\"nan\",\"Scrypt\",\"nan\",\"nan\",\"nan\",\"nan\",\"nan\",\"nan\",\"nan\",\"nan\",\"nan\",\"X11\",\"nan\",\"nan\",\"nan\",\"nan\",\"nan\",\"X11\",\"nan\",\"nan\",\"nan\",\"nan\",\"nan\",\"SHA-256\",\"nan\",\"nan\",\"nan\",\"nan\",\"nan\",\"SHA-256\",\"NIST5\",\"nan\",\"nan\",\"nan\",\"nan\",\"nan\",\"nan\",\"nan\",\"nan\",\"X11\",\"nan\",\"nan\",\"nan\",\"nan\",\"nan\",\"nan\",\"Scrypt\",\"nan\",\"POS 3.0\",\"nan\",\"nan\",\"nan\",\"Scrypt\",\"nan\",\"Scrypt\",\"nan\",\"nan\",\"Scrypt\",\"nan\",\"nan\",\"nan\",\"nan\",\"X13\",\"X11\",\"X11\",\"nan\",\"Equihash\",\"X11\",\"nan\",\"nan\",\"nan\",\"nan\",\"Scrypt\",\"nan\",\"nan\",\"nan\",\"nan\",\"nan\",\"CryptoNight\",\"nan\",\"SHA-256\",\"SHA-256\",\"X11\",\"nan\",\"Scrypt\",\"Multiple\",\"nan\",\"nan\",\"Scrypt\",\"Scrypt\",\"nan\",\"nan\",\"nan\",\"nan\",\"nan\",\"nan\",\"nan\",\"nan\",\"Scrypt\",\"nan\",\"nan\",\"SHA-256\",\"Scrypt\",\"nan\",\"Scrypt\",\"SHA-256D\",\"nan\",\"nan\",\"PoS\",\"Scrypt\",\"nan\",\"nan\",\"nan\",\"nan\",\"nan\",\"nan\",\"nan\",\"X11\",\"nan\",\"nan\",\"nan\",\"nan\",\"nan\",\"nan\",\"nan\",\"nan\",\"nan\",\"nan\",\"nan\",\"nan\",\"Lyra2Z\",\"nan\",\"nan\",\"nan\",\"nan\",\"PoS\",\"nan\",\"nan\",\"nan\",\"nan\",\"nan\",\"nan\",\"X13\",\"nan\",\"nan\",\"nan\",\"nan\",\"nan\",\"X14\",\"PoS\",\"nan\",\"SHA-256D\",\"Ethash\",\"nan\",\"nan\",\"nan\",\"nan\",\"nan\",\"Equihash\",\"DPoS\",\"X11\",\"Scrypt\",\"X11\",\"X13\",\"X11\",\"PoS\",\"Scrypt\",\"Scrypt\",\"X11\",\"PoS\",\"X11\",\"SHA-256\",\"Scrypt\",\"X11\",\"Scrypt\",\"Scrypt\",\"X11\",\"CryptoNight\",\"Scrypt\",\"Scrypt\",\"Scrypt\",\"Scrypt\",\"Quark\",\"QuBit\",\"Scrypt\",\"CryptoNight\",\"Lyra2RE\",\"Scrypt\",\"SHA-256\",\"X11\",\"Scrypt\",\"X11\",\"Scrypt\",\"CryptoNight-V7\",\"Scrypt\",\"Scrypt\",\"Scrypt\",\"X13\",\"X11\",\"Equihash\",\"Scrypt\",\"Scrypt\",\"Lyra2RE\",\"Scrypt\",\"Dagger-Hashimoto\",\"X11\",\"Blake2S\",\"X11\",\"Scrypt\",\"PoS\",\"X11\",\"NIST5\",\"PoS\",\"X11\",\"Scrypt\",\"Scrypt\",\"Scrypt\",\"SHA-256\",\"X11\",\"Scrypt\",\"Scrypt\",\"SHA-256\",\"PoS\",\"Scrypt\",\"X15\",\"SHA-256\",\"Scrypt\",\"POS 3.0\",\"CryptoNight-V7\",\"536\",\"Argon2d\",\"Blake2b\",\"Cloverhash\",\"CryptoNight\",\"NIST5\",\"X11\",\"NIST5\",\"Skein\",\"Scrypt\",\"X13\",\"Scrypt\",\"X11\",\"X11\",\"Scrypt\",\"CryptoNight\",\"X13\",\"Time Travel\",\"Scrypt\",\"Keccak\",\"SkunkHash v2 Raptor\",\"X11\",\"Skein\",\"SHA-256\",\"X11\",\"Scrypt\",\"VeChainThor Authority\",\"Scrypt\",\"PoS\",\"Scrypt\",\"Scrypt\",\"Scrypt\",\"Scrypt\",\"Scrypt\",\"Scrypt\",\"Scrypt\",\"CryptoNight\",\"SHA-512\",\"Ouroboros\",\"X11\",\"Equihash\",\"NeoScrypt\",\"X11\",\"Scrypt\",\"NeoScrypt\",\"Lyra2REv2\",\"Equihash\",\"Scrypt\",\"SHA-256\",\"NIST5\",\"PHI1612\",\"Dagger\",\"Scrypt\",\"Quark\",\"Scrypt\",\"POS 2.0\",\"Scrypt\",\"SHA-256\",\"X11\",\"NeoScrypt\",\"Ethash\",\"NeoScrypt\",\"X11\",\"DPoS\",\"NIST5\",\"X13\",\"Multiple\",\"Scrypt\",\"CryptoNight\",\"CryptoNight\",\"Ethash\",\"NIST5\",\"Quark\",\"X11\",\"CryptoNight-V7\",\"Scrypt\",\"Scrypt\",\"Scrypt\",\"X11\",\"BLAKE256\",\"X11\",\"NeoScrypt\",\"Quark\",\"NeoScrypt\",\"Scrypt\",\"Scrypt\",\"Scrypt\",\"X11\",\"X11\",\"SHA-256\",\"C11\",\"POS 3.0\",\"Ethash\",\"Scrypt\",\"CryptoNight\",\"SkunkHash\",\"Scrypt\",\"CryptoNight\",\"Scrypt\",\"Dagger\",\"Lyra2REv2\",\"X13\",\"Proof-of-BibleHash\",\"SHA-256 + Hive\",\"Scrypt\",\"Scrypt\",\"X11\",\"C11\",\"Proof-of-Authority\",\"X11\",\"XEVAN\",\"Scrypt\",\"VBFT\",\"Ethash\",\"CryptoNight\",\"Scrypt\",\"IMesh\",\"NIST5\",\"Scrypt\",\"Scrypt\",\"Equihash\",\"Scrypt\",\"Lyra2Z\",\"Green Protocol\",\"PoS\",\"Scrypt\",\"Semux BFT consensus\",\"X11\",\"Quark\",\"PoS\",\"CryptoNight\",\"X16R\",\"Scrypt\",\"NIST5\",\"Lyra2RE\",\"XEVAN\",\"Tribus\",\"Scrypt\",\"Lyra2Z\",\"CryptoNight\",\"CryptoNight Heavy\",\"CryptoNight\",\"Scrypt\",\"Scrypt\",\"Jump Consistent Hash\",\"SHA-256D\",\"CryptoNight\",\"Scrypt\",\"X15\",\"Scrypt\",\"Quark\",\"SHA-256\",\"DPoS\",\"X16R\",\"HMQ1725\",\"X11\",\"X16R\",\"Quark\",\"Quark\",\"Scrypt\",\"Lyra2REv2\",\"Quark\",\"Scrypt\",\"Scrypt\",\"CryptoNight-V7\",\"Cryptonight-GPU\",\"XEVAN\",\"CryptoNight Heavy\",\"X11\",\"X11\",\"Scrypt\",\"PoS\",\"SHA-256\",\"Keccak\",\"X11\",\"X11\",\"Scrypt\",\"SHA-512\",\"X16R\",\"ECC 256K1\",\"Equihash\",\"XEVAN\",\"Lyra2Z\",\"SHA-256\",\"XEVAN\",\"X11\",\"CryptoNight\",\"Quark\",\"Blake\",\"Blake\",\"Equihash\",\"Exosis\",\"Scrypt\",\"Scrypt\",\"Equihash\",\"Quark\",\"Equihash\",\"Quark\",\"Scrypt\",\"QuBit\",\"X11\",\"Scrypt\",\"XEVAN\",\"SHA-256D\",\"X11\",\"SHA-256\",\"X13\",\"SHA-256\",\"X11\",\"DPoS\",\"Scrypt\",\"Scrypt\",\"X11\",\"NeoScrypt\",\"Scrypt\",\"Blake\",\"Scrypt\",\"SHA-256\",\"Scrypt\",\"X11\",\"Scrypt\",\"Scrypt\",\"SHA-256\",\"X11\",\"SHA-256\",\"Scrypt\",\"Scrypt\",\"Scrypt\",\"Groestl\",\"X11\",\"Scrypt\",\"PoS\",\"Scrypt\",\"Scrypt\",\"X11\",\"SHA-256\",\"DPoS\",\"Scrypt\",\"Scrypt\",\"NeoScrypt\",\"Multiple\",\"X13\",\"Equihash+Scrypt\",\"DPoS\",\"Ethash\",\"DPoS\",\"SHA-256\",\"Leased POS\",\"PoS\",\"TRC10\",\"PoS\",\"SHA-256\",\"Scrypt\",\"CryptoNight\",\"Equihash\",\"Scrypt\"],\"Class\":{\"__ndarray__\":\"AAAAAAAAAAAAAAAAAAAAAAAAAAAAAAAAAAAAAAAAAAAAAAAAAAAAAAAAAAAAAAAAAAAAAAAAAAAAAAAAAAAAAAAAAAAAAAAAAAAAAAAAAAAAAAAAAAAAAAAAAAAAAAAAAAAAAAAAAAAAAAAAAAAAAAAAAAAAAAAAAAAAAAAAAAAAAAAAAAAAAAAAAAAAAAAAAAAAAAAAAAAAAAAAAAAAAAAAAAAAAAAAAAAAAAAAAAAAAAAAAAAAAAAAAAAAAAAAAAAAAAAAAAAAAAAAAAAAAAAAAAAAAAAAAAAAAAAAAAAAAAAAAAAAAAAAAAAAAAAAAAAAAAAAAAAAAAAAAAAAAAAAAAAAAAAAAAAAAAAAAAAAAAAAAAAAAAAAAAAAAAAAAAAAAAAAAAAAAAAAAAAAAAAAAAAAAAAAAAAAAAAAAAAAAAAAAAAAAAAAAAAAAAAAAAAAAAAAAAAAAAAAAAAAAAAAAAAAAAAAAAAAAAAAAAAAAAAAAAAAAAAAAAAAAAAAAAAAAAAAAAAAAAAAAAAAAAAAAAAAAAAAAAAAAAAAAAAAAAAAAAAAAAAAAAAAAAAAAAAAAAAAAAAAAAAAAAAAAAAAAAAAAAAAAAAAAAAAAAAAAAAAAAAAAAAAAAAAAAAAAAAAAAAAAAAAAAAAAAAAAAAAAAAAAAAAAAAAAAAAAAAAAAAAAAAAAAAAAAAAAAAAAAAAAAAAAAAAAAAAAAAAAAAAAAAAAAAAAAAAAAAAAAAAAAAAAAAAAAAAAAAAAAAAAAAAAAAAAAAAAAAAAAAAAAAAAAAAAAAAAAAAAAAAAAAAAAAAAAAAAAAAAAAAAAAAAAAAAAAAAAAAAAAAAAAAAAAAAAAAAAAAAAAAAAAAAAAAAAAAAAAAAAAAAAAAAAAAAAAAAAAAAAAAAAAAAAAAAAAAAAAAAAAAAAAAAAAAAAAAAAAAAAAAAAAAAAAAAAAAAAAAAAAAAAAAAAAAAAAAAAAAAAAAAAAAAAAAAAAAAAAAAAAAAAAAAAAAAAAAAAAAAAAAAAAAAAAAAAAAAAAAAAAAAAAAAAAAAAAAAAAAAAAAAAAAAAAAAAAAAAAAAAAAAAAAAAAAAAAAAAAAAAAAAAAAAAAAAAAAAAAAAAAAAAAAAAAAAAAAAAAAAAAAAAAAAAAAAAAAAAAAAAAAAAAAAAAAAAAAAAAAAAAAAAAAAAAAAAAAAAAAAAAAAAAAAAAAAAAAAAAAAAAAAAAAAAAAAAAAAAAAAAAAAAAAAAAAAAAAAAAAAAAAAAAAAAAAAAAAAAAAAAAAAAAAAAAAAAAAAAAAAAAAAAAAAAAAAAAAAAAAAAAAAAAAAAAAAAAAAAAAAAAAAAAAAAAAAAAAAAAAAAAAAAAAAAAAAAAAAAAAAAAAAAAAAAAAAAAAAAAAAAAAAAAAAAAAAAAAAAAAAAAAAAAAAAAAAAAAAAAAAAAAAAAAAAAAAAAAAAAAAAAAAAAAAAAAAAAAAAAAAAAAAAAAAAAAAAAAAAAAAAAAAAAAAAAAAAAAAAAAAAAAAAAAAAAAAAAAAAAAAAAAAAAAAAAAAAAAAAAAAAAAAAAAAAAAAAAAAAAAAAAAAAAAAAAAAAAAAAAAAAAAAAAAAAAAAAAAAAAAAAAAAAAAAAAAAAAAAAAAAAAAAAAAAAAAAAAAAAAAAAAAAAAAAAAAAAAAAAAAAAAAAAAAAAAAAAAAAAAAAAAAAAAAAAAAAAAAAAAAAAAAAAAAAAAAAAAAAAAAAAAAAAAAAAAAAAAAAAAAAAAAAAAAAAAAAAAAAAAAAAAAAAAAAAAAAAAAAAAAAAAAAAAAAAAAAAAAAAAAAAAAAAAAAAAAAAAAAAAAAAAAAAAAAAAAAAAAAAAAAAAAAAAAAAAAAAAAAAAAAAAAAAAAAAAAAAAAAAAAAAAAAAAAAAAAAAAAAAAAAAAAAAAAAAAAAAAAAAAAAAAAAAAAAAAAAAAAAAAAAAAAAAAAAAAAAAAAAAAAAAAAAAAAAAAAAAAAAAAAAAAAAAAAAAAAAAAAAAAAAAAAAAAAAAAAAAAAAAAAAAAAAAAAAAAAAAAAAAAAAAAAAAAAAAAAAAAAAAAAAAAAAAAAAAAAAAAAAAAAAAAAAAAAAAAAAAAAAAAAAAAAAAAAAAAAAAAAAAAAAAAAAAAAAAAAAAAAAAAAAAAAAAAAAAAAAAAAAAAAAAAAAAAAAAAAAAAAAAAAAAAAAAAAAAAAAAAAAAAAAAAAAAAAAAAAAAAAAAAAAAAAAAAAAAAAAAAAAAAAAAAAAAAAAAAAAAAAAAAAAAAAAAAAAAAAAAAAAAAAAAAAAAAAAAAAAAAAAAAAAAAAAAAAAAAAAAAAAAAAAAAAAAAAAAAAAAAAAAAAAAAAAAAAAAAAAAAAAAAAAAAAAAAAAAAAAAAAAAAAAAAAAAAAAAAAAAAAAAAAAAAAAAAAAAAAAAAAAAAAAAAAAAAAAAAAAAAAAAAAAAAAAAAAAAAAAAAAAAAAAAAAAAAAAAAAAAAAAAAAAAAAAAAAAAAAAAAAAAAAAAAAAAAAAAAAAAAAAAAAAAAAAAAAAAAAAAAAAAAAAAAAAAAAAAAAAAAAAAAAAAAAAAAAAAAAAAAAAAAAAAAAAAAAAAAAAAAAAAAAAAAAAAAAAAAAAAAAAAAAAAAAAAAAAAAAAAAAAAAAAAAAAAAAAAAAAAAAAAAAAAAAAAAAAAAAAAAAAAAAAAAAAAAAAAAAAAAAAAAAAAAAAAAAAAAAAAAAAAAAAAAAAAAAAAAAAAAAAAAAAAAAAAAAAAAAAAAAAAAAAAAAAAAAAAAAAAAAAAAAAAAAAAAAAAAAAAAAAAAAAAAAAAAAAAAAAAAAAAAAAAAAAAAAAAAAAAAAAAAAAAAAAAAAAAAAAAAAAAAAAAAAAAAAAAAAAAAAAAAAAAAAAAAAAAAAAAAAAAAAAAAAAAAAAAAAAAAAAAAAAAAAAAAAAAAAAAAAAAAAAAAAAAAAAAAAAAAAAAAAAAAAAAAAAAAAAAAAAAAAAAAAAAAAAAAAAAAAAAAAAAAAAAAAAAAAAAAAAAAAAAAAAAAAAAAAAAAAAAAAAAAAAAAAAAAAAAAAAAAAAAAAAAAAAAAAAAAAAAAAAAAAAAAAAAAAAAAAAAAAAAAAAAAAAAAAAAAAAAAAAAAAAAAAAAAAAAAAAAAAAAAAAAAAAAAAAAAAAAAAAAAAAAAAAAAAAAAAAAAAAAAAAAAAAAAAAAAAAAAAAAAAAAAAAAAAAAAAAAAAAAAAAAAAAAAAAAAAAAAAAAAAAAAAAAAAAAAAAAAAAAAAAAAAAAAAAAAAAAAAAAAAAAAAAAAAAAAAAAAAAAAAAAAAAAAAAAAAAAAAAAAAAAAAAAAAAAAAAAAAAAAAAAAAAAAAAAAAAAAAAAAAAAAAAAAAAAAAAAAAAAAAAAAAAAAAAAAAAAAAAAAAAAAAAAAAAAAAAAAAAAAAAAAAAAAAAAAAAAAAAAAAAAAAAAAAAAAAAAAAAAAAAAAAAAAAAAAAAAAAAAAAAAAAAAAAAAAAAAAAAAAAAAAAAAAAAAAAAAAAAAAAAAAAAAAAAAAAAAAAAAAAAAAAAAAAAAAAAAAAAAAAAAAAAAAAAAAAAAAAAAAAAAAAAAAAAAAAAAAAAAAAAAAAAAAAAAAAAAAAAAAAAAAAAAAAAAAAAAAAAAAAAAAAAAAAAAAAAAAAAAAAAAAAAAAAAAAAAAAAAAAAAAAAAAAAAAAAAAAAAAAAAAAAAAAAAAAAAAAAAAAAAAAAAAAAAAAAAAAAAAAAAAAAAAAAAAAAAAAAAAAAAAAAAAAAAAAAAAAAAAAAAAAAAAAAAAAAAAAAAAAAAAAAAAAAAAAAAAAAAAAAAAAAAAAAAAAAAAAAAAAAAAAAAAAAAAAAAAAAAAAAAAAAAAAAAAAAAAAAAAAAAAAAAAAAAAAAAAAAAAAAAAAAAAAAAAAAAAAAAAAAAAAAAAAAAAAAAAAAAAAAAAAAAAAAAAAAAAAAAAAAAAAAAAAAAAAAAAAAAAAAAAAAAAAAAAAAAAAAAAAAAAAAAAAAAAAAAEAAAAAAAAAAAAAAAAAAAAAAAAAAAAAAAAAAAAAAAAAAAAAAAAAAAAAAAAAAAAAAAAAAAAAAAAAAAAAAAAAAAAAAAAAAAAAAAAAAAAAAAAAAAAAAAAAAAAAAAAAAAAAAAAAAAAAAAAAAAAAAAAAAAAAAAAAAAAAAAAAAAAAAAAAAAAAAAAAAAAAAAAAAAAAAAAAAAAAAAAAAAAAAAAAAAAAAAAAAAAAAAAAAAAAAAAAAAAAAAAAAAAAAAAAAAAAAAAAAAAAAAAAAAAAAAAAAAAAAAAAAAAAAAAAAAAAAAAAAAAAAAAAAAAAAAAAAAAAAAAAAAAAAAAAAAAAAAAAAAAAAAAAAAAAAAAAAAAAAAAAAAAAAAAAAAAAAAAAAAAAAAAAAAAAAAAAAAAAAAAAAAAAAAAAAAAAAAAAAAAAAAAAAAAAAAAAAAAAAAAAAAAAAAAAAAAAAAAAAAAAAAAAAAAAAAAAAAAAAAAAAAAAAAAAAAAAAAAAAAAAAAAAAAAAAAAAAAAAAAAAAAAAAAAAAAAAAAAAAAAAAAAAAAAAAAAAAAAAAAAAAAAAAAAAAAAAAAAAAAAAAAAAAAAAAAAAAAAAAAAAAAAAAAAAAAAAAAAAAAAAAAAAAAAAAAAAAAAAAAAAAAAAAAAAAAAAAAAAAAAAAAAAAAAAAAAAAAAAAAAAAAAAAAAAAAAAAAAAAAAAAAAAAAAAAAAAAAAAAAAAAAAAAAAAAAAAAAAAAAAAAAAAAAAAAAAAAAAAAAAAAAAAAAAAAAAAAAAAAAAAAAAAAAAAAAAAAAAAAAAAAAAAAAAAAAAAAAAAAAABAAAAAAAAAAAAAAAAAAAAAAAAAAAAAAAAAAAAAAAAAAAAAAAAAAAAAAAAAAAAAAAAAAAAAAAAAAAAAAAAAAAAAAAAAAAAAAAAAAAAAAAAAAAAAAAAAAAAAAAAAAAAAAAAAAAAAAAAAAAAAAAAAAAAAAAAAAAAAAAAAAAAAAAAAAAAAAAAAAAAAAAAAAAAAAAAAAAAAAAAAAAAAAAAAAAAAAAAAAAAAAAAAAAAAAAAAAAAAAAAAAAAAAAAAAAAAAAAAAAAAAAAAAAAAAAAAAAAAAAAAAAAAAAAAAAAAAAAAAAAAAAAAAAAAAAAAAAAAAAAAAAAAAAAAAAAAAAAAAAAAAAAAAAAAAAAAAAAAAAAAAAAAAAAAAAAAAAAAAAAAAAAAAAAAAAAAAAAAAAAAAAAAAAAAAAAAAAAAAAAAAAAAAAAAAAAAAAAAAAAAAAAAAAAAAAAAAAAAAAAAAAAAAAAAAAAAAAAAAAAAAAAAAAAAAAAAAAAAAAAAAAAAAAAAAAAAAAAAAAAAAAAAAAAAAAAAAAAAAAAAAAAAAAAAAAAAAAAAAAAAAAAAAAAAAAAAAAAAAAAAAAAAAAAAAAAAAAAAAAAAAAAAAAAAAAAAAAAAAAAAAAAAAAAAAAAAAAAAAAAAAAAAAAAAAAAAAAAAAAAAAAAAAAAAAAAAAAAAAAAAAAAAAAAAAAAAAAAAAAAAAAAAAAAAAAAAAAAAAAAAAAAAAAAAAAAAAAAAAAAAAAAA8D8AAAAAAAAAAAAAAAAAAAAAAAAAAAAAAAAAAAAAAAAAAAAAAAAAAAAAAAAAAAAAAAAAAAAAAAD4fwAAAAAAAPh/AAAAAAAA+H8AAAAAAAD4fwAAAAAAAPh/AAAAAAAA+H8AAAAAAAD4fwAAAAAAAPh/AAAAAAAA+H8AAAAAAAD4fwAAAAAAAPh/AAAAAAAA+H8AAAAAAAD4fwAAAAAAAPh/AAAAAAAA+H8AAAAAAAD4fwAAAAAAAPh/AAAAAAAA+H8AAAAAAAD4fwAAAAAAAPh/AAAAAAAA+H8AAAAAAAD4fwAAAAAAAPh/AAAAAAAA+H8AAAAAAAD4fwAAAAAAAPh/AAAAAAAA+H8AAAAAAAD4fwAAAAAAAPh/AAAAAAAA+H8AAAAAAAD4fwAAAAAAAPh/AAAAAAAA+H8AAAAAAAD4fwAAAAAAAPh/AAAAAAAA+H8AAAAAAAD4fwAAAAAAAPh/AAAAAAAA+H8AAAAAAAD4fwAAAAAAAPh/AAAAAAAA+H8AAAAAAAD4fwAAAAAAAPh/AAAAAAAA+H8AAAAAAAD4fwAAAAAAAPh/AAAAAAAA+H8AAAAAAAD4fwAAAAAAAPh/AAAAAAAA+H8AAAAAAAD4fwAAAAAAAPh/AAAAAAAA+H8AAAAAAAD4fwAAAAAAAPh/AAAAAAAA+H8AAAAAAAD4fwAAAAAAAPh/AAAAAAAA+H8AAAAAAAD4fwAAAAAAAPh/AAAAAAAA+H8AAAAAAAD4fwAAAAAAAPh/AAAAAAAA+H8AAAAAAAD4fwAAAAAAAPh/AAAAAAAA+H8AAAAAAAD4fwAAAAAAAPh/AAAAAAAA+H8AAAAAAAD4fwAAAAAAAPh/AAAAAAAA+H8AAAAAAAD4fwAAAAAAAPh/AAAAAAAA+H8AAAAAAAD4fwAAAAAAAPh/AAAAAAAA+H8AAAAAAAD4fwAAAAAAAPh/AAAAAAAA+H8AAAAAAAD4fwAAAAAAAPh/AAAAAAAA+H8AAAAAAAD4fwAAAAAAAPh/AAAAAAAA+H8AAAAAAAD4fwAAAAAAAPh/AAAAAAAA+H8AAAAAAAD4fwAAAAAAAPh/AAAAAAAA+H8AAAAAAAD4fwAAAAAAAPh/AAAAAAAA+H8AAAAAAAD4fwAAAAAAAPh/AAAAAAAA+H8AAAAAAAD4fwAAAAAAAPh/AAAAAAAA+H8AAAAAAAD4fwAAAAAAAPh/AAAAAAAA+H8AAAAAAAD4fwAAAAAAAPh/AAAAAAAA+H8AAAAAAAD4fwAAAAAAAPh/AAAAAAAA+H8AAAAAAAD4fwAAAAAAAPh/AAAAAAAA+H8AAAAAAAD4fwAAAAAAAPh/AAAAAAAA+H8AAAAAAAD4fwAAAAAAAPh/AAAAAAAA+H8AAAAAAAD4fwAAAAAAAPh/AAAAAAAA+H8AAAAAAAD4fwAAAAAAAPh/AAAAAAAA+H8AAAAAAAD4fwAAAAAAAPh/AAAAAAAA+H8AAAAAAAD4fwAAAAAAAPh/AAAAAAAA+H8AAAAAAAD4fwAAAAAAAPh/AAAAAAAA+H8AAAAAAAD4fwAAAAAAAPh/AAAAAAAA+H8AAAAAAAD4fwAAAAAAAPh/AAAAAAAA+H8AAAAAAAD4fwAAAAAAAPh/AAAAAAAA+H8AAAAAAAD4fwAAAAAAAPh/AAAAAAAA+H8AAAAAAAD4fwAAAAAAAPh/AAAAAAAA+H8AAAAAAAD4fwAAAAAAAPh/AAAAAAAA+H8AAAAAAAD4fwAAAAAAAPh/AAAAAAAA+H8AAAAAAAD4fwAAAAAAAPh/AAAAAAAA+H8AAAAAAAD4fwAAAAAAAPh/AAAAAAAA+H8AAAAAAAD4fwAAAAAAAPh/AAAAAAAA+H8AAAAAAAD4fwAAAAAAAPh/AAAAAAAA+H8AAAAAAAD4fwAAAAAAAPh/AAAAAAAA+H8AAAAAAAD4fwAAAAAAAPh/AAAAAAAA+H8AAAAAAAD4fwAAAAAAAPh/AAAAAAAA+H8AAAAAAAD4fwAAAAAAAPh/AAAAAAAA+H8AAAAAAAD4fwAAAAAAAPh/AAAAAAAA+H8AAAAAAAD4fwAAAAAAAPh/AAAAAAAA+H8AAAAAAAD4fwAAAAAAAPh/AAAAAAAA+H8AAAAAAAD4fwAAAAAAAPh/AAAAAAAA+H8AAAAAAAD4fwAAAAAAAPh/AAAAAAAA+H8AAAAAAAD4fwAAAAAAAPh/AAAAAAAA+H8AAAAAAAD4fwAAAAAAAPh/AAAAAAAA+H8AAAAAAAD4fwAAAAAAAPh/AAAAAAAA+H8AAAAAAAD4fwAAAAAAAPh/AAAAAAAA+H8AAAAAAAD4fwAAAAAAAPh/AAAAAAAA+H8AAAAAAAD4fwAAAAAAAPh/AAAAAAAA+H8AAAAAAAD4fwAAAAAAAPh/AAAAAAAA+H8AAAAAAAD4fwAAAAAAAPh/AAAAAAAA+H8AAAAAAAD4fwAAAAAAAPh/AAAAAAAA+H8AAAAAAAD4fwAAAAAAAPh/AAAAAAAA+H8AAAAAAAD4fwAAAAAAAPh/AAAAAAAA+H8AAAAAAAD4fwAAAAAAAPh/AAAAAAAA+H8AAAAAAAD4fwAAAAAAAPh/AAAAAAAA+H8AAAAAAAD4fwAAAAAAAPh/AAAAAAAA+H8AAAAAAAD4fwAAAAAAAPh/AAAAAAAA+H8AAAAAAAD4fwAAAAAAAPh/AAAAAAAA+H8AAAAAAAD4fwAAAAAAAPh/AAAAAAAA+H8AAAAAAAD4fwAAAAAAAPh/AAAAAAAA+H8AAAAAAAD4fwAAAAAAAPh/AAAAAAAA+H8AAAAAAAD4fwAAAAAAAPh/AAAAAAAA+H8AAAAAAAD4fwAAAAAAAPh/AAAAAAAA+H8AAAAAAAD4fwAAAAAAAPh/AAAAAAAA+H8AAAAAAAD4fwAAAAAAAPh/AAAAAAAA+H8AAAAAAAD4fwAAAAAAAPh/AAAAAAAA+H8AAAAAAAD4fwAAAAAAAPh/AAAAAAAA+H8AAAAAAAD4fwAAAAAAAPh/AAAAAAAA+H8AAAAAAAD4fwAAAAAAAPh/AAAAAAAA+H8AAAAAAAD4fwAAAAAAAPh/AAAAAAAA+H8AAAAAAAD4fwAAAAAAAPh/AAAAAAAA+H8AAAAAAAD4fwAAAAAAAPh/AAAAAAAA+H8AAAAAAAD4fwAAAAAAAPh/AAAAAAAA+H8AAAAAAAD4fwAAAAAAAPh/AAAAAAAA+H8AAAAAAAD4fwAAAAAAAPh/AAAAAAAA+H8AAAAAAAD4fwAAAAAAAPh/AAAAAAAA+H8AAAAAAAD4fwAAAAAAAPh/AAAAAAAA+H8AAAAAAAD4fwAAAAAAAPh/AAAAAAAA+H8AAAAAAAD4fwAAAAAAAPh/AAAAAAAA+H8AAAAAAAD4fwAAAAAAAPh/AAAAAAAA+H8AAAAAAAD4fwAAAAAAAPh/AAAAAAAA+H8AAAAAAAD4fwAAAAAAAPh/AAAAAAAA+H8AAAAAAAD4fwAAAAAAAPh/AAAAAAAA+H8AAAAAAAD4fwAAAAAAAPh/AAAAAAAA+H8AAAAAAAD4fwAAAAAAAPh/AAAAAAAA+H8=\",\"dtype\":\"float64\",\"order\":\"little\",\"shape\":[859]},\"CoinName\":[\"42 Coin\",\"404Coin\",\"EliteCoin\",\"Bitcoin\",\"Ethereum\",\"Litecoin\",\"Dash\",\"Monero\",\"Ethereum Classic\",\"ZCash\",\"Bitshares\",\"DigiByte\",\"BitcoinDark\",\"PayCoin\",\"ProsperCoin\",\"KoboCoin\",\"Spreadcoin\",\"Argentum\",\"Aurora Coin\",\"BlueCoin\",\"MyriadCoin\",\"MoonCoin\",\"ZetaCoin\",\"SexCoin\",\"Quatloo\",\"EnergyCoin\",\"QuarkCoin\",\"Riecoin\",\"Digitalcoin \",\"BitBar\",\"Catcoin\",\"CryptoBullion\",\"CannaCoin\",\"CryptCoin\",\"CasinoCoin\",\"Diamond\",\"Verge\",\"DevCoin\",\"EarthCoin\",\"E-Gulden\",\"Einsteinium\",\"Emerald\",\"Exclusive Coin\",\"FlutterCoin\",\"Franko\",\"FeatherCoin\",\"GrandCoin\",\"GlobalCoin\",\"GoldCoin\",\"HoboNickels\",\"HyperStake\",\"Infinite Coin\",\"IOCoin\",\"IXcoin\",\"KrugerCoin\",\"LuckyCoin\",\"Litebar \",\"MaxCoin\",\"MegaCoin\",\"MediterraneanCoin\",\"MintCoin\",\"MinCoin\",\"MazaCoin\",\"Nautilus Coin\",\"NavCoin\",\"NobleCoin\",\"Namecoin\",\"NyanCoin\",\"OpalCoin\",\"Orbitcoin\",\"PotCoin\",\"PhoenixCoin\",\"Reddcoin\",\"RonPaulCoin\",\"StableCoin\",\"SmartCoin\",\"SuperCoin\",\"SyncCoin\",\"SysCoin\",\"TeslaCoin\",\"TigerCoin\",\"TittieCoin\",\"TorCoin\",\"TerraCoin\",\"UnbreakableCoin\",\"Unobtanium\",\"UroCoin\",\"UnitaryStatus Dollar\",\"UltraCoin\",\"ViaCoin\",\"VeriCoin\",\"Vertcoin\",\"WorldCoin\",\"X11 Coin\",\"Crypti\",\"JouleCoin\",\"StealthCoin\",\"ZCC Coin\",\"ByteCoin\",\"DigitalNote \",\"BurstCoin\",\"StorjCoin\",\"MonaCoin\",\"Neutron\",\"FairCoin\",\"Gulden\",\"RubyCoin\",\"PesetaCoin\",\"Kore\",\"Wild Beast Coin\",\"Dnotes\",\"Flo\",\"8BIT Coin\",\"Sativa Coin\",\"ArtByte\",\"Folding Coin\",\"Ucoin\",\"Unitus\",\"CypherPunkCoin\",\"OmniCron\",\"Vtorrent\",\"GreenCoin\",\"Cryptonite\",\"MasterCoin\",\"SoonCoin\",\"1Credit\",\"IslaCoin\",\"Nexus\",\"MarsCoin \",\"Crypto\",\"Anarchists Prime\",\"Droidz\",\"BowsCoin\",\"Squall Coin\",\"Song Coin\",\"BitZeny\",\"Diggits\",\"Expanse\",\"Paycon\",\"Siacoin\",\"Emercoin\",\"EverGreenCoin\",\"MindCoin\",\"I0coin\",\"Decred\",\"Revolution VR\",\"HOdlcoin\",\"EDRCoin\",\"Hitcoin\",\"Gamecredits\",\"DubaiCoin\",\"CarpeDiemCoin\",\"PWR Coin\",\"BillaryCoin\",\"GPU Coin\",\"Adzcoin\",\"SoilCoin\",\"YoCoin\",\"SibCoin\",\"EuropeCoin\",\"ZeitCoin\",\"SwingCoin\",\"SafeExchangeCoin\",\"Nebuchadnezzar\",\"Francs\",\"BolivarCoin\",\"Ratecoin\",\"Revenu\",\"Clockcoin\",\"VIP Tokens\",\"BitSend\",\"Omni\",\"Let it Ride\",\"PutinCoin\",\"iBankCoin\",\"Frankywillcoin\",\"MudraCoin\",\"PizzaCoin\",\"Lutetium Coin\",\"Komodo\",\"GoldBlocks\",\"CarterCoin\",\"Karbo\",\"BitTokens\",\"ZayedCoin\",\"MustangCoin\",\"ZoneCoin\",\"Circuits of Value\",\"RootCoin\",\"DopeCoin\",\"BitCurrency\",\"DollarCoin\",\"Swiscoin\",\"Shilling\",\"BuzzCoin\",\"Opair\",\"PesoBit\",\"Halloween Coin\",\"ZCoin\",\"CoffeeCoin\",\"RoyalCoin\",\"GanjaCoin V2\",\"TeamUP\",\"LanaCoin\",\"Elementrem\",\"ZClassic\",\"ARK\",\"InsaneCoin\",\"KiloCoin\",\"ArtexCoin\",\"EmberCoin\",\"XenixCoin\",\"FreeCoin\",\"PLNCoin\",\"AquariusCoin\",\"Kurrent\",\"Creatio\",\"Eternity\",\"Eurocoin\",\"BitcoinFast\",\"Stakenet\",\"BitConnect Coin\",\"MoneyCoin\",\"Enigma\",\"Cannabis Industry Coin\",\"Russiacoin\",\"PandaCoin\",\"GameUnits\",\"GAKHcoin\",\"Allsafe\",\"LiteCreed\",\"OsmiumCoin\",\"Bikercoins\",\"HexxCoin\",\"Klingon Empire Darsek\",\"Internet of People\",\"KushCoin\",\"Printerium\",\"PacCoin\",\"Impeach\",\"Citadel\",\"Zilbercoin\",\"FirstCoin\",\"BeaverCoin\",\"FindCoin\",\"VaultCoin\",\"Zero\",\"OpenChat\",\"Canada eCoin\",\"Zoin\",\"RenosCoin\",\"DubaiCoin\",\"VirtacoinPlus\",\"TajCoin\",\"Impact\",\"EB3coin\",\"Atmos\",\"HappyCoin\",\"Coinonat\",\"MacronCoin\",\"Condensate\",\"Independent Money System\",\"ArgusCoin\",\"LomoCoin\",\"ProCurrency\",\"GoldReserve\",\"BenjiRolls\",\"GrowthCoin\",\"ILCoin\",\"Phreak\",\"Degas Coin\",\"HTML5 Coin\",\"Ultimate Secure Cash\",\"EquiTrader\",\"QTUM\",\"Quantum Resistant Ledger\",\"Espers\",\"Dynamic\",\"Nano\",\"ChanCoin\",\"Dinastycoin\",\"Denarius\",\"DigitalPrice\",\"Virta Unique Coin\",\"Bitcoin Planet\",\"Unify\",\"BritCoin\",\"SocialCoin\",\"ArcticCoin\",\"DAS\",\"Linda\",\"LeviarCoin\",\"DeepOnion\",\"Bitcore\",\"gCn Coin\",\"SmartCash\",\"Signatum\",\"Onix\",\"Cream\",\"Bitcoin Cash\",\"Monoeci\",\"Draftcoin\",\"Vechain\",\"Sojourn Coin\",\"Stakecoin\",\"NewYorkCoin\",\"FrazCoin\",\"Kronecoin\",\"AdCoin\",\"Linx\",\"CoinonatX\",\"Ethereum Dark\",\"Sumokoin\",\"Obsidian\",\"Cardano\",\"Regalcoin\",\"BitcoinZ\",\"TrezarCoin\",\"Elements\",\"TerraNovaCoin\",\"VIVO Coin\",\"Rupee\",\"Bitcoin Gold\",\"WomenCoin\",\"Theresa May Coin\",\"NamoCoin\",\"LUXCoin\",\"Pirl\",\"Xios\",\"Bitcloud 2.0\",\"eBoost\",\"KekCoin\",\"BlackholeCoin\",\"Infinity Economics\",\"Pura\",\"Innova\",\"Ellaism\",\"GoByte\",\"Magnet\",\"Lamden Tau\",\"Electra\",\"Bitcoin Diamond\",\"SHIELD\",\"Cash & Back Coin\",\"UltraNote\",\"BitCoal\",\"DaxxCoin\",\"Bulwark\",\"Kalkulus\",\"AC3\",\"Lethean\",\"GermanCoin\",\"LiteCoin Ultra\",\"PopularCoin\",\"PhantomX\",\"Photon\",\"Sucre\",\"SparksPay\",\"Digiwage\",\"GunCoin\",\"IrishCoin\",\"Trollcoin\",\"Litecoin Plus\",\"Monkey Project\",\"Pioneer Coin\",\"UnitedBitcoin\",\"Interzone\",\"TokenPay\",\"1717 Masonic Commemorative Token\",\"My Big Coin\",\"TurtleCoin\",\"MUNcoin\",\"Unified Society USDEX\",\"Niobio Cash\",\"ShareChain\",\"Travelflex\",\"KREDS\",\"Tokyo Coin\",\"BiblePay\",\"LitecoinCash\",\"BitFlip\",\"LottoCoin\",\"Crypto Improvement Fund\",\"Stipend\",\"Poa Network\",\"Pushi\",\"Ellerium\",\"Velox\",\"Ontology\",\"Callisto Network\",\"BitTube\",\"Poseidon\",\"Aidos Kuneen\",\"Bitspace\",\"Briacoin\",\"Ignition\",\"Bitrolium\",\"MedicCoin\",\"Alpenschillling\",\"Bitcoin Green\",\"Deviant Coin\",\"Abjcoin\",\"Semux\",\"FuturoCoin\",\"Carebit\",\"Zealium\",\"Monero Classic\",\"Proton\",\"iDealCash\",\"Jumpcoin\",\"Infinex\",\"Bitcoin Incognito\",\"KEYCO\",\"HollyWoodCoin\",\"GINcoin\",\"PlatinCoin\",\"Loki\",\"Newton Coin\",\"Swisscoin\",\"Xt3ch\",\"MassGrid\",\"TheVig\",\"PluraCoin\",\"EmaratCoin\",\"Dekado\",\"Lynx\",\"Poseidon Quark\",\"BitcoinWSpectrum\",\"Muse\",\"Motion\",\"PlusOneCoin\",\"Axe\",\"Trivechain\",\"Dystem\",\"Giant\",\"Peony Coin\",\"Absolute Coin\",\"Vitae\",\"HexCoin\",\"TPCash\",\"Webchain\",\"Ryo\",\"Urals Coin\",\"Qwertycoin\",\"ARENON\",\"EUNO\",\"MMOCoin\",\"Ketan\",\"Project Pai\",\"XDNA\",\"PAXEX\",\"Azart\",\"ThunderStake\",\"Kcash\",\"Xchange\",\"Acute Angle Cloud\",\"CrypticCoin\",\"Bettex coin\",\"Actinium\",\"Bitcoin SV\",\"BitMoney\",\"Junson Ming Chan Coin\",\"FREDEnergy\",\"HerbCoin\",\"Universal Molecule\",\"Lithium\",\"PirateCash\",\"Exosis\",\"Block-Logic\",\"Oduwa\",\"Beam\",\"Galilel\",\"Bithereum\",\"Crypto Sports\",\"Credit\",\"SLICE\",\"Dash Platinum\",\"Nasdacoin\",\"Beetle Coin\",\"Titan Coin\",\"Award\",\"BLAST\",\"Bitcoin Rhodium\",\"GlobalToken\",\"Insane Coin\",\"ALAX\",\"LiteDoge\",\"SolarCoin\",\"TruckCoin\",\"UFO Coin\",\"OrangeCoin\",\"BlakeCoin\",\"BitstarCoin\",\"NeosCoin\",\"HyperCoin\",\"PinkCoin\",\"Crypto Escudo\",\"AudioCoin\",\"IncaKoin\",\"Piggy Coin\",\"Crown Coin\",\"Genstake\",\"SmileyCoin\",\"XiaoMiCoin\",\"Groestlcoin\",\"CapriCoin\",\" ClubCoin\",\"Radium\",\"Bata\",\"Pakcoin\",\"Creditbit \",\"OKCash\",\"Lisk\",\"HiCoin\",\"WhiteCoin\",\"FriendshipCoin\",\"JoinCoin\",\"Triangles Coin\",\"Vollar\",\"EOS\",\"Reality Clash\",\"Oxycoin\",\"TigerCash\",\"Waves\",\"Particl\",\"BitTorrent\",\"Nxt\",\"ZEPHYR\",\"Gapcoin\",\"Beldex\",\"Horizen\",\"BitcoinPlus\",\"nan\",\"nan\",\"nan\",\"nan\",\"nan\",\"nan\",\"nan\",\"nan\",\"nan\",\"nan\",\"nan\",\"nan\",\"nan\",\"nan\",\"nan\",\"nan\",\"nan\",\"nan\",\"nan\",\"nan\",\"nan\",\"nan\",\"nan\",\"nan\",\"nan\",\"nan\",\"nan\",\"nan\",\"nan\",\"nan\",\"nan\",\"nan\",\"nan\",\"nan\",\"nan\",\"nan\",\"nan\",\"nan\",\"nan\",\"nan\",\"nan\",\"nan\",\"nan\",\"nan\",\"nan\",\"nan\",\"nan\",\"nan\",\"nan\",\"nan\",\"nan\",\"nan\",\"nan\",\"nan\",\"nan\",\"nan\",\"nan\",\"nan\",\"nan\",\"nan\",\"nan\",\"nan\",\"nan\",\"nan\",\"nan\",\"nan\",\"nan\",\"nan\",\"nan\",\"nan\",\"nan\",\"nan\",\"nan\",\"nan\",\"nan\",\"nan\",\"nan\",\"nan\",\"nan\",\"nan\",\"nan\",\"nan\",\"nan\",\"nan\",\"nan\",\"nan\",\"nan\",\"nan\",\"nan\",\"nan\",\"nan\",\"nan\",\"nan\",\"nan\",\"nan\",\"nan\",\"nan\",\"nan\",\"nan\",\"nan\",\"nan\",\"nan\",\"nan\",\"nan\",\"nan\",\"nan\",\"nan\",\"nan\",\"nan\",\"nan\",\"nan\",\"nan\",\"nan\",\"nan\",\"nan\",\"nan\",\"nan\",\"nan\",\"nan\",\"nan\",\"nan\",\"nan\",\"nan\",\"nan\",\"nan\",\"nan\",\"nan\",\"nan\",\"nan\",\"nan\",\"nan\",\"nan\",\"nan\",\"nan\",\"nan\",\"nan\",\"nan\",\"nan\",\"nan\",\"nan\",\"nan\",\"nan\",\"nan\",\"nan\",\"nan\",\"nan\",\"nan\",\"nan\",\"nan\",\"nan\",\"nan\",\"nan\",\"nan\",\"nan\",\"nan\",\"nan\",\"nan\",\"nan\",\"nan\",\"nan\",\"nan\",\"nan\",\"nan\",\"nan\",\"nan\",\"nan\",\"nan\",\"nan\",\"nan\",\"nan\",\"nan\",\"nan\",\"nan\",\"nan\",\"nan\",\"nan\",\"nan\",\"nan\",\"nan\",\"nan\",\"nan\",\"nan\",\"nan\",\"nan\",\"nan\",\"nan\",\"nan\",\"nan\",\"nan\",\"nan\",\"nan\",\"nan\",\"nan\",\"nan\",\"nan\",\"nan\",\"nan\",\"nan\",\"nan\",\"nan\",\"nan\",\"nan\",\"nan\",\"nan\",\"nan\",\"nan\",\"nan\",\"nan\",\"nan\",\"nan\",\"nan\",\"nan\",\"nan\",\"nan\",\"nan\",\"nan\",\"nan\",\"nan\",\"nan\",\"nan\",\"nan\",\"nan\",\"nan\",\"nan\",\"nan\",\"nan\",\"nan\",\"nan\",\"nan\",\"nan\",\"nan\",\"nan\",\"nan\",\"nan\",\"nan\",\"nan\",\"nan\",\"nan\",\"nan\",\"nan\",\"nan\",\"nan\",\"nan\",\"nan\",\"nan\",\"nan\",\"nan\",\"nan\",\"nan\",\"nan\",\"nan\",\"nan\",\"nan\",\"nan\",\"nan\",\"nan\",\"nan\",\"nan\",\"nan\",\"nan\",\"nan\",\"nan\",\"nan\",\"nan\",\"nan\",\"nan\",\"nan\",\"nan\",\"nan\",\"nan\",\"nan\",\"nan\",\"nan\",\"nan\",\"nan\",\"nan\",\"nan\",\"nan\",\"nan\",\"nan\",\"nan\",\"nan\",\"nan\",\"nan\",\"nan\",\"nan\",\"nan\",\"nan\",\"nan\",\"nan\",\"nan\",\"nan\",\"nan\",\"nan\",\"nan\",\"nan\",\"nan\",\"nan\",\"nan\",\"nan\",\"nan\",\"nan\",\"nan\",\"nan\",\"nan\",\"nan\",\"nan\",\"nan\",\"nan\",\"nan\",\"nan\",\"nan\",\"nan\",\"nan\",\"nan\",\"nan\",\"nan\",\"nan\",\"nan\",\"nan\",\"nan\",\"nan\",\"nan\",\"nan\",\"nan\",\"nan\",\"nan\"],\"ProofType\":[\"PoW/PoS\",\"nan\",\"PoW/PoS\",\"nan\",\"nan\",\"PoW/PoS\",\"nan\",\"PoW\",\"PoW\",\"PoW\",\"PoW/PoS\",\"PoW\",\"PoW\",\"PoW\",\"PoS\",\"PoW\",\"PoW/PoS\",\"nan\",\"nan\",\"PoS\",\"PoW\",\"nan\",\"nan\",\"nan\",\"PoW/PoS\",\"nan\",\"nan\",\"PoW\",\"nan\",\"nan\",\"nan\",\"nan\",\"nan\",\"nan\",\"nan\",\"nan\",\"nan\",\"PoW\",\"nan\",\"PoW/PoS\",\"nan\",\"nan\",\"PoW/PoS\",\"nan\",\"PoW\",\"PoW\",\"PoW\",\"PoW\",\"PoW\",\"PoW/PoS\",\"PoW\",\"PoW\",\"PoW\",\"nan\",\"PoW/PoS\",\"nan\",\"nan\",\"nan\",\"nan\",\"nan\",\"nan\",\"PoW\",\"PoW/PoS\",\"PoW\",\"nan\",\"nan\",\"nan\",\"nan\",\"nan\",\"nan\",\"nan\",\"nan\",\"nan\",\"PoW\",\"PoC\",\"nan\",\"PoW/PoS\",\"PoW\",\"nan\",\"nan\",\"PoW\",\"PoW\",\"PoW\",\"nan\",\"PoW\",\"PoW\",\"PoS\",\"nan\",\"nan\",\"nan\",\"nan\",\"nan\",\"nan\",\"nan\",\"PoS/PoW/PoT\",\"PoW\",\"nan\",\"nan\",\"PoW\",\"PoW\",\"PoW\",\"PoW\",\"nan\",\"nan\",\"nan\",\"nan\",\"nan\",\"PoW/PoS\",\"nan\",\"nan\",\"PoS\",\"nan\",\"PoW\",\"PoW/PoS\",\"PoW\",\"nan\",\"nan\",\"nan\",\"nan\",\"nan\",\"PoW\",\"nan\",\"PoW\",\"nan\",\"PoW\",\"nan\",\"nan\",\"nan\",\"nan\",\"PoW/PoS\",\"PoW\",\"PoW\",\"nan\",\"PoS\",\"nan\",\"PoW\",\"nan\",\"PoW/PoS\",\"nan\",\"PoS\",\"PoW/PoS\",\"nan\",\"nan\",\"nan\",\"PoW\",\"nan\",\"PoW\",\"PoW\",\"PoW/PoS\",\"PoW/PoS\",\"nan\",\"PoW/PoS\",\"nan\",\"PoW/PoS\",\"nan\",\"PoW/PoS\",\"nan\",\"PoW\",\"nan\",\"nan\",\"nan\",\"nan\",\"PoW\",\"nan\",\"nan\",\"nan\",\"nan\",\"nan\",\"PoW\",\"nan\",\"nan\",\"nan\",\"nan\",\"nan\",\"PoS\",\"PoW/PoS\",\"PoW\",\"nan\",\"nan\",\"PoS\",\"PoW\",\"PoS\",\"PoW/PoS\",\"PoW\",\"nan\",\"nan\",\"PoW\",\"PoW\",\"PoW\",\"PoW/PoS\",\"PoW/PoS\",\"nan\",\"nan\",\"PoW\",\"nan\",\"PoST\",\"PoW\",\"PoW\",\"nan\",\"nan\",\"PoW/PoS\",\"nan\",\"PoS\",\"PoW\",\"nan\",\"PoW/PoS\",\"nan\",\"nan\",\"PoW/PoS\",\"nan\",\"PoW\",\"nan\",\"PoW\",\"nan\",\"PoC\",\"PoS\",\"nan\",\"nan\",\"PoW\",\"nan\",\"PoW/PoS\",\"nan\",\"nan\",\"nan\",\"PoW/PoS\",\"PoW\",\"PoS\",\"PoW\",\"PoW/PoS\",\"PoW\",\"nan\",\"PoS\",\"PoW\",\"nan\",\"PoW/PoS\",\"PoW/PoS\",\"nan\",\"nan\",\"nan\",\"PoW\",\"nan\",\"nan\",\"nan\",\"nan\",\"PoW\",\"nan\",\"PoS\",\"PoW\",\"PoW\",\"nan\",\"nan\",\"PoW\",\"nan\",\"nan\",\"PoW/PoS\",\"nan\",\"PoW\",\"nan\",\"nan\",\"nan\",\"nan\",\"nan\",\"nan\",\"PoW\",\"nan\",\"nan\",\"nan\",\"PoW\",\"nan\",\"nan\",\"nan\",\"nan\",\"nan\",\"PoW\",\"nan\",\"nan\",\"PoW\",\"nan\",\"nan\",\"nan\",\"nan\",\"PoW/PoS\",\"nan\",\"nan\",\"nan\",\"nan\",\"PoW/nPoS\",\"nan\",\"nan\",\"PoW\",\"nan\",\"nan\",\"nan\",\"nan\",\"PoW\",\"nan\",\"nan\",\"nan\",\"nan\",\"nan\",\"nan\",\"PoW\",\"PoW/PoS\",\"PoW\",\"nan\",\"nan\",\"nan\",\"PoS/PoW\",\"nan\",\"nan\",\"nan\",\"nan\",\"nan\",\"nan\",\"nan\",\"PoW\",\"nan\",\"nan\",\"nan\",\"nan\",\"PoW\",\"PoS\",\"PoW\",\"nan\",\"PoW/PoS\",\"PoW\",\"nan\",\"PoW/PoS\",\"nan\",\"nan\",\"PoW/PoS\",\"PoW\",\"PoW\",\"PoW/PoS\",\"nan\",\"PoW\",\"PoW\",\"PoW/PoS\",\"PoW/PoS\",\"PoW\",\"nan\",\"PoW/PoS\",\"nan\",\"PoW\",\"nan\",\"PoW/PoS\",\"nan\",\"PoW/PoS\",\"nan\",\"nan\",\"nan\",\"nan\",\"PoS\",\"nan\",\"nan\",\"PoW\",\"nan\",\"nan\",\"PoW\",\"PoW\",\"nan\",\"nan\",\"PoW\",\"PoW/PoS\",\"nan\",\"nan\",\"nan\",\"nan\",\"nan\",\"PoS\",\"nan\",\"PoW/PoS\",\"PoC\",\"PoS\",\"nan\",\"PoW\",\"nan\",\"nan\",\"nan\",\"nan\",\"nan\",\"nan\",\"nan\",\"nan\",\"nan\",\"PoW\",\"nan\",\"nan\",\"nan\",\"nan\",\"nan\",\"PoW/PoS\",\"nan\",\"nan\",\"nan\",\"nan\",\"nan\",\"PoW/PoS\",\"nan\",\"nan\",\"nan\",\"nan\",\"nan\",\"PoW/PoS\",\"PoW/PoS\",\"nan\",\"nan\",\"nan\",\"nan\",\"nan\",\"nan\",\"nan\",\"nan\",\"PoW/PoS\",\"nan\",\"nan\",\"nan\",\"nan\",\"nan\",\"nan\",\"PoW\",\"nan\",\"PoS\",\"nan\",\"nan\",\"nan\",\"PoW/PoS\",\"nan\",\"PoW/PoS\",\"nan\",\"nan\",\"PoW/PoS\",\"nan\",\"nan\",\"nan\",\"nan\",\"PoS\",\"PoW\",\"PoS\",\"nan\",\"dPoW/PoW\",\"PoW/PoS\",\"nan\",\"nan\",\"nan\",\"nan\",\"PoW/PoS\",\"nan\",\"nan\",\"nan\",\"nan\",\"nan\",\"PoW\",\"nan\",\"PoW/PoS\",\"PoW\",\"PoW/PoS\",\"nan\",\"PoW/PoS\",\"PoW\",\"nan\",\"nan\",\"PoW/PoS\",\"PoW\",\"nan\",\"nan\",\"nan\",\"nan\",\"nan\",\"nan\",\"nan\",\"nan\",\"PoS\",\"nan\",\"nan\",\"PoW\",\"PoW/PoW\",\"nan\",\"PoW\",\"PoW/PoS\",\"nan\",\"nan\",\"PoS\",\"PoW/PoS\",\"nan\",\"nan\",\"nan\",\"nan\",\"nan\",\"nan\",\"nan\",\"PoW/PoS\",\"nan\",\"nan\",\"nan\",\"nan\",\"nan\",\"nan\",\"nan\",\"nan\",\"nan\",\"nan\",\"nan\",\"nan\",\"PoW\",\"nan\",\"nan\",\"nan\",\"nan\",\"PoS\",\"nan\",\"nan\",\"nan\",\"nan\",\"nan\",\"nan\",\"PoS\",\"nan\",\"nan\",\"nan\",\"nan\",\"nan\",\"PoW/PoS\",\"PoS\",\"nan\",\"PoW/PoS\",\"PoW\",\"nan\",\"nan\",\"nan\",\"nan\",\"nan\",\"PoW\",\"DPoS\",\"PoW/PoS\",\"PoW\",\"PoW\",\"PoW/PoS\",\"PoW/PoS\",\"PoS\",\"PoW/PoS\",\"PoW/PoS\",\"PoW\",\"PoS\",\"PoW/PoS\",\"PoW/PoS\",\"PoW/PoS\",\"TPoS\",\"PoW/PoS\",\"PoW/PoS\",\"PoW/PoS\",\"PoW\",\"PoW/PoS\",\"PoS\",\"PoW/PoS\",\"PoW/PoS\",\"PoS\",\"PoW/PoS\",\"PoW\",\"PoW\",\"PoW\",\"PoW/PoS\",\"PoW/PoS\",\"PoW/PoS\",\"PoW/PoS\",\"PoW\",\"PoW/PoS\",\"PoW\",\"PoS\",\"PoW/PoS \",\"PoW\",\"PoS\",\"PoW\",\"PoW\",\"PoW/PoS\",\"PoW\",\"PoW\",\"PoS\",\"PoW\",\"PoW/PoS\",\"PoW/PoS\",\"PoW/PoS\",\"PoW\",\"PoS\",\"PoW/PoS\",\"PoW\",\"PoS\",\"PoW/PoS\",\"PoW/PoS\",\"PoW/PoS\",\"PoW/PoS\",\"PoS\",\"PoW/PoS\",\"PoW\",\"PoS\",\"PoW\",\"PoS\",\"PoW/PoS\",\"PoW/PoS\",\"PoS\",\"PoW\",\"PoS\",\"PoW\",\"PoW/PoS\",\"PoW\",\"PoW\",\"PoW\",\"PoW\",\"PoW/PoS\",\"PoW\",\"PoW/PoS\",\"PoW/PoS\",\"PoW\",\"PoW/PoS\",\"PoW\",\"PoW\",\"PoW\",\"PoW/PoS\",\"PoW\",\"PoW/PoS\",\"PoW\",\"PoW\",\"PoW\",\"PoS\",\"PoW\",\"PoW/PoS\",\"PoW\",\"PoW/PoS\",\"PoS\",\"Proof of Authority\",\"PoW\",\"PoS\",\"PoW\",\"PoW\",\"PoW\",\"PoW\",\"PoW\",\"PoW/PoS\",\"PoW/PoS\",\"PoW\",\"PoS\",\"PoS\",\"PoW/PoS\",\"PoW\",\"PoW/PoS\",\"PoW\",\"PoW/PoS\",\"PoW\",\"PoS\",\"PoW\",\"PoW/PoS\",\"PoW/PoS\",\"PoW/PoS\",\"PoW/PoS\",\"PoW\",\"PoW/PoS\",\"PoW/PoS\",\"PoW\",\"PoS\",\"PoW/PoS\",\"PoS\",\"PoW\",\"PoW\",\"PoW\",\"PoW\",\"PoW/PoS\",\"DPoS\",\"PoW/PoS\",\"PoW/PoS\",\"PoW\",\"PoW/PoS\",\"PoW\",\"PoW\",\"PoW\",\"PoS\",\"PoS\",\"PoW\",\"PoW\",\"PoW/PoS\",\"PoW/PoS\",\"PoW\",\"PoW/PoS\",\"PoW\",\"PoW\",\"PoW\",\"PoS\",\"PoW\",\"PoW\",\"PoW/PoS\",\"PoW/PoS\",\"PoS\",\"PoW\",\"PoW\",\"PoW\",\"PoS\",\"PoS\",\"PoW and PoS\",\"PoW\",\"PoW\",\"PoW/PoS\",\"PoW\",\"PoW\",\"PoW\",\"PoW\",\"PoS\",\"POBh\",\"PoW + Hive\",\"PoW\",\"PoW\",\"PoW\",\"PoW/PoS\",\"PoA\",\"PoW/PoS\",\"PoW/PoS\",\"PoS\",\"PoS\",\"PoW\",\"PoW\",\"PoW\",\"PoW\",\"PoW/PoS\",\"PoW/PoS\",\"PoW/PoS\",\"PoW\",\"PoS\",\"PoW\",\"PoS\",\"PoS\",\"PoW/PoS\",\"DPoS\",\"PoW\",\"PoW/PoS\",\"PoS\",\"PoW\",\"PoS\",\"PoW/PoS\",\"PoW\",\"PoW\",\"PoS/PoW\",\"PoW\",\"PoS\",\"PoW\",\"PoW\",\"PoW\",\"PoW\",\"PoW/PoS\",\"PoS\",\"PoW\",\"PoW/PoS\",\"PoW\",\"PoW/PoS\",\"PoS\",\"HPoW\",\"PoS\",\"PoS\",\"PoS\",\"PoW\",\"PoW\",\"PoW\",\"PoW/PoS\",\"PoS\",\"PoW/PoS\",\"PoS\",\"PoW/PoS\",\"PoS\",\"PoW\",\"PoW/PoS\",\"PoW\",\"PoW\",\"PoW\",\"PoW\",\"PoS\",\"PoW/PoS\",\"PoS\",\"PoS\",\"PoW\",\"PoW/PoS\",\"PoS\",\"PoW\",\"PoW/PoS\",\"Zero-Knowledge Proof\",\"PoW\",\"DPOS\",\"PoW\",\"PoS\",\"PoW\",\"PoW\",\"Pos\",\"PoS\",\"PoW\",\"PoW/PoS\",\"PoW\",\"PoW\",\"PoS\",\"PoW\",\"PoW\",\"PoW/PoS\",\"PoW\",\"PoW/PoS\",\"PoW\",\"PoS\",\"PoW/PoS\",\"PoW\",\"PoS\",\"PoW/PoS\",\"PoW/PoS\",\"PoW/PoS\",\"PoW/PoS\",\"PoW\",\"PoW\",\"PoW\",\"PoW/PoS\",\"DPoS\",\"PoW/PoS\",\"PoW\",\"PoW/PoS\",\"PoW\",\"PoW/PoS\",\"PoW\",\"PoW/PoS\",\"PoS\",\"PoW/PoS\",\"PoW/PoS\",\"PoW\",\"PoW/PoS\",\"PoW/PoS\",\"PoW/PoS\",\"PoW\",\"PoW/PoS\",\"PoW\",\"PoW/PoS\",\"PoW\",\"PoW/PoS\",\"PoW/PoS\",\"PoS\",\"PoW\",\"PoW\",\"Proof of Trust\",\"PoW/PoS\",\"DPoS\",\"PoS\",\"PoW/PoS\",\"PoW/PoS\",\"PoW\",\"PoW/PoS\",\"PoW\",\"DPoS\",\"PoW\",\"DPoS\",\"PoS\",\"LPoS\",\"PoS\",\"DPoS\",\"PoS/LPoS\",\"DPoS\",\"PoW/PoS\",\"PoW\",\"PoW\",\"PoS\"],\"TotalCoinSupply\":[\"42\",\"nan\",\"532000000\",\"nan\",\"nan\",\"314159265359\",\"nan\",\"21000000\",\"0\",\"84000000\",\"22000000\",\"0\",\"210000000\",\"21000000\",\"3600570502\",\"21000000000\",\"22000000\",\"nan\",\"nan\",\"12500000\",\"21000000\",\"nan\",\"nan\",\"nan\",\"350000000\",\"nan\",\"nan\",\"20000000\",\"nan\",\"nan\",\"nan\",\"nan\",\"nan\",\"nan\",\"nan\",\"nan\",\"nan\",\"64000000\",\"nan\",\"16768584\",\"nan\",\"nan\",\"0\",\"nan\",\"2000000000\",\"384000000000\",\"169795588\",\"250000000\",\"100000000\",\"0\",\"247000000\",\"84000000\",\"48166000\",\"nan\",\"500000\",\"nan\",\"nan\",\"nan\",\"nan\",\"nan\",\"nan\",\"21000000 \",\"1000000\",\"13140000\",\"nan\",\"nan\",\"nan\",\"nan\",\"nan\",\"nan\",\"nan\",\"nan\",\"nan\",\"18000000\",\"40000000000\",\"nan\",\"4380000\",\"16555000000\",\"nan\",\"nan\",\"21000000000\",\"13500000000\",\"21000000 \",\"nan\",\"299792458\",\"32000000\",\"0\",\"nan\",\"nan\",\"nan\",\"nan\",\"nan\",\"nan\",\"nan\",\"0\",\"11235813\",\"nan\",\"nan\",\"336000000\",\"1420609614\",\"70000000\",\"72245700\",\"nan\",\"nan\",\"nan\",\"nan\",\"nan\",\"120000000\",\"nan\",\"nan\",\"0\",\"nan\",\"90600000000\",\"22000000\",\"21000000\",\"nan\",\"nan\",\"nan\",\"nan\",\"nan\",\"265420800\",\"nan\",\"20000000\",\"nan\",\"1350000\",\"nan\",\"nan\",\"nan\",\"nan\",\"100000000\",\"42000000\",\"200000000\",\"nan\",\"0\",\"nan\",\"10000000\",\"nan\",\"2419200000\",\"nan\",\"16180000\",\"0\",\"nan\",\"nan\",\"nan\",\"15000000000\",\"nan\",\"21000000\",\"337000000\",\"0\",\"3770000\",\"nan\",\"420000000\",\"nan\",\"98000000\",\"nan\",\"0\",\"nan\",\"21000000\",\"nan\",\"nan\",\"nan\",\"nan\",\"250000000\",\"nan\",\"nan\",\"nan\",\"nan\",\"nan\",\"51200000\",\"nan\",\"nan\",\"nan\",\"nan\",\"nan\",\"0\",\"1000\",\"888000000\",\"nan\",\"nan\",\"100000000\",\"47011968\",\"2300000000\",\"10000000\",\"42000000\",\"nan\",\"nan\",\"80000000\",\"250000\",\"0\",\"1600000000\",\"100000000\",\"nan\",\"nan\",\"23000000\",\"nan\",\"0\",\"84000000\",\"265420800\",\"nan\",\"nan\",\"5500000\",\"nan\",\"0\",\"45000000\",\"nan\",\"0\",\"nan\",\"nan\",\"1000000000\",\"nan\",\"184467440735\",\"nan\",\"10000000000\",\"nan\",\"2158812800\",\"500000000\",\"nan\",\"nan\",\"105120000\",\"nan\",\"68000000\",\"nan\",\"nan\",\"nan\",\"0\",\"1680000000\",\"0\",\"166386000\",\"12000000\",\"2628000\",\"nan\",\"500000000\",\"160000000\",\"nan\",\"0\",\"10000000\",\"nan\",\"nan\",\"nan\",\"1000000000\",\"nan\",\"nan\",\"nan\",\"nan\",\"1000000000\",\"nan\",\"20000000\",\"0\",\"0\",\"nan\",\"nan\",\"3371337\",\"nan\",\"nan\",\"20000000\",\"nan\",\"10000000000\",\"nan\",\"nan\",\"nan\",\"nan\",\"nan\",\"nan\",\"1840000000\",\"nan\",\"nan\",\"nan\",\"619478\",\"nan\",\"nan\",\"nan\",\"nan\",\"nan\",\"21000000\",\"nan\",\"nan\",\"92000000000\",\"nan\",\"nan\",\"nan\",\"nan\",\"0\",\"nan\",\"nan\",\"nan\",\"nan\",\"78000000\",\"nan\",\"nan\",\"33000000\",\"nan\",\"nan\",\"nan\",\"nan\",\"65789100\",\"nan\",\"nan\",\"nan\",\"nan\",\"nan\",\"nan\",\"53760000\",\"5060000\",\"21000000\",\"nan\",\"nan\",\"nan\",\"0\",\"nan\",\"nan\",\"nan\",\"nan\",\"nan\",\"nan\",\"nan\",\"210240000\",\"nan\",\"nan\",\"nan\",\"nan\",\"250000000\",\"100000000\",\"16906397\",\"nan\",\"50000000\",\"0\",\"nan\",\"1000000000\",\"nan\",\"nan\",\"26298000\",\"16000000\",\"21000000\",\"21000000\",\"nan\",\"210000000\",\"81962100\",\"22000000\",\"26550000000\",\"84000000\",\"nan\",\"10500000\",\"nan\",\"21626280000 \",\"nan\",\"0\",\"nan\",\"42000000\",\"nan\",\"nan\",\"nan\",\"nan\",\"221052632\",\"nan\",\"nan\",\"84000000\",\"nan\",\"nan\",\"30000000\",\"168351300\",\"nan\",\"nan\",\"24000000\",\"384000000\",\"nan\",\"nan\",\"nan\",\"nan\",\"nan\",\" 99000000000\",\"nan\",\"40000000\",\"2147483647\",\"20000000\",\"nan\",\"20000000\",\"nan\",\"nan\",\"nan\",\"nan\",\"nan\",\"nan\",\"nan\",\"nan\",\"nan\",\"25000000\",\"nan\",\"nan\",\"nan\",\"nan\",\"nan\",\"75000000\",\"nan\",\"nan\",\"nan\",\"nan\",\"nan\",\"222725000\",\"nan\",\"nan\",\"nan\",\"nan\",\"nan\",\"525000000\",\"90000000\",\"nan\",\"nan\",\"nan\",\"nan\",\"nan\",\"nan\",\"nan\",\"nan\",\"139000000\",\"nan\",\"nan\",\"nan\",\"nan\",\"nan\",\"nan\",\"616448\",\"nan\",\"33500000\",\"nan\",\"nan\",\"nan\",\"2000000000\",\"nan\",\"44333333\",\"nan\",\"nan\",\"100000000\",\"nan\",\"nan\",\"nan\",\"nan\",\"200000000\",\"25000000\",\"657000000\",\"nan\",\"200000000\",\"50000000\",\"nan\",\"nan\",\"nan\",\"nan\",\"90000000\",\"nan\",\"nan\",\"nan\",\"nan\",\"nan\",\"10000000\",\"nan\",\"21000000\",\"9736000\",\"3000000\",\"nan\",\"21000000\",\"1200000000\",\"nan\",\"nan\",\"0\",\"200000000\",\"nan\",\"nan\",\"nan\",\"nan\",\"nan\",\"nan\",\"nan\",\"nan\",\"0\",\"nan\",\"nan\",\"10638298\",\"3100000000\",\"nan\",\"30000000\",\"20000000000\",\"nan\",\"nan\",\"74000000\",\"0\",\"nan\",\"nan\",\"nan\",\"nan\",\"nan\",\"nan\",\"nan\",\"1500000000\",\"nan\",\"nan\",\"nan\",\"nan\",\"nan\",\"nan\",\"nan\",\"nan\",\"nan\",\"nan\",\"nan\",\"nan\",\"21400000\",\"nan\",\"nan\",\"nan\",\"nan\",\"39999898\",\"nan\",\"nan\",\"nan\",\"nan\",\"nan\",\"nan\",\"2500124\",\"nan\",\"nan\",\"nan\",\"nan\",\"nan\",\"100000000\",\"301000000\",\"nan\",\"7506000000\",\"26205539\",\"nan\",\"nan\",\"nan\",\"nan\",\"nan\",\"21000000\",\"125000000\",\"30000000\",\"10000000000\",\"500000000\",\"850000000\",\"3853326.77707314\",\"50000000\",\"38540000 \",\"42000000\",\"228000000\",\"20000000\",\"60000000\",\"20000000\",\"33000000\",\"76500000\",\"28000000\",\"650659833\",\"5000000\",\"21000000\",\"144000000\",\"32514916898\",\"13000000\",\"3315789\",\"15000000\",\"78835200\",\"2714286\",\"25000000\",\"9999999\",\"500000000\",\"21000000\",\"9354000\",\"20000000\",\"100000000000\",\"21933333\",\"185000000\",\"55000000\",\"110000000\",\"3360000\",\"14524851.4827\",\"1000000000\",\"17000000\",\"1000000000\",\"100000000 \",\"21000000\",\"34426423\",\"2232901\",\"100000000\",\"36900000\",\"110000000\",\"4000000000\",\"110290030\",\"100000000\",\"48252000\",\"400000000\",\"500000000\",\"21212121\",\"28600000\",\"1000000000\",\"75000000000\",\"40000000\",\"35520400\",\"2000000000\",\"2500000000\",\"30000000\",\"105000000\",\"90000000000\",\"200084200\",\"72000000\",\"100000000\",\"105000000\",\"50000000000\",\"0\",\"340282367\",\"30000000\",\"2000000000\",\"10000000\",\"100000000\",\"120000000\",\"100000000\",\"19276800\",\"30000000\",\" 75000000\",\"60000000\",\"18900000\",\"50000000000\",\"54000000\",\"18898187.6216583\",\"21000000\",\"200000000000\",\"5000000000\",\"137500000\",\"1100000000\",\"100000000\",\"21000000\",\"9507271\",\"17405891.19707116\",\"86712634466\",\"10500000000\",\"61599965\",\"0\",\"20000000\",\"84000000\",\"100000000\",\"100000000\",\"48252000\",\"4200000\",\"88888888\",\"91388946\",\"45000000000\",\"27000000\",\"21000000000\",\"400000000\",\"1800000000\",\"15733333\",\"27000000\",\"24000000\",\"21000000\",\"25000000000\",\"100000000\",\"1200000000\",\"60000000\",\"156306732.71\",\"21000000\",\"200000000\",\"100000000\",\"21000000\",\"14788275.991\",\"9000000000\",\"350000000\",\"45000000\",\"280000000\",\"31800000\",\"144000000\",\"500000000\",\"30000000000\",\"210000000\",\"660000000\",\"210000000\",\"85000000000\",\"12500000\",\"10000000000\",\"27716121\",\"20000000\",\"550000000\",\"999481516\",\"50000000000\",\"150000000\",\"4999999999\",\"50000000\",\" 90000000000\",\"19800000\",\"21000000\",\"120000000\",\"500000000\",\"64000000\",\"900000000\",\"4000000\",\"21000000\",\"23000000\",\"20166000\",\"23000000\",\"25000000\",\"1618033\",\"30000000\",\"1000000000000\",\"16600000\",\"232000000\",\"336000000\",\"10000000000\",\"100000000\",\"1100000000\",\"800000000\",\"5200000000\",\"840000000\",\"40000000\",\"18406979840\",\"500000000\",\"19340594\",\"252460800\",\"25000000\",\"60000000\",\"124000000\",\"1000000000\",\"6500000000\",\"1000000000\",\"21000000\",\"25000000\",\"50000000\",\"3000000\",\"5000000\",\"70000000\",\"500000000\",\"300000000\",\"21000000\",\"88000000\",\"30000000\",\"100000000\",\"100000000\",\"200000000\",\"80000000\",\"18400000\",\"45000000\",\"5121951220\",\"21000000\",\"26280000\",\"21000000\",\"18000000\",\"26000000\",\"10500000\",\"600000518\",\"150000000\",\"184000000000\",\"10200000000\",\"44000000\",\"168000000\",\"100000000\",\"1000000000\",\"84000000\",\"90000000\",\"92000000000\",\"650000000 \",\"100262205\",\"18081806 \",\"22075700\",\"21000000\",\"21000000\",\"82546564\",\"21000000\",\"5151000\",\"16880000000\",\"52500000\",\"100000000\",\"22105263\",\"1000000000\",\"1750000000\",\"88188888\",\"210000000\",\"184470000000\",\"55000000\",\"50000000\",\"260000000\",\"210000000\",\"2100000000\",\"366000000\",\"100000000\",\"25000000\",\"18000000000\",\"1000000000\",\"100000000\",\"1000000000\",\"7600000000\",\"50000000\",\"84000000\",\"21000000\",\"70000000000\",\"0\",\"8080000000\",\"54000000\",\"105120001.44\",\"25228800\",\"105000000\",\"21000000\",\"120000000\",\"21000000\",\"262800000\",\"19035999\",\"30886000\",\"13370000\",\"74800000000\",\"100000000\",\"19700000\",\"84000000\",\"500000000\",\"5000000000\",\"420000000\",\"64000000\",\"2100000\",\"168000000\",\"30000000\",\"1000000000\",\"35000000000\",\"98100000000\",\"0\",\"4000000000\",\"200000000\",\"7000000000\",\"54256119\",\"21000000\",\"0\",\"500000000\",\"1000000000\",\"10500000000\",\"190000000\",\"1000000000\",\"42000000\",\"15000000\",\"50000000000\",\"400000000\",\"105000000\",\"208000000\",\"160000000\",\"9000000\",\"5000000\",\"182000000\",\"16504333\",\"105000000\",\"159918400\",\"10008835635\",\"300000000\",\"60168145\",\"2800000\",\"120000\",\"2100000000\",\"0\",\"24487944\",\"0\",\"1000000000\",\"100000000\",\"8634140\",\"990000000000\",\"1000000000\",\"2000000000\",\"250000000\",\"1400222610\",\"21000000\",\"1000000\"],\"TotalCoinsMined\":{\"__ndarray__\":\"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\",\"dtype\":\"float64\",\"order\":\"little\",\"shape\":[859]}},\"selected\":{\"id\":\"1631\"},\"selection_policy\":{\"id\":\"1665\"}},\"id\":\"1630\",\"type\":\"ColumnDataSource\"},{\"attributes\":{},\"id\":\"1638\",\"type\":\"StringEditor\"},{\"attributes\":{\"format\":\"0,0.0[00000]\"},\"id\":\"1657\",\"type\":\"NumberFormatter\"},{\"attributes\":{},\"id\":\"1642\",\"type\":\"StringFormatter\"},{\"attributes\":{},\"id\":\"1633\",\"type\":\"StringEditor\"},{\"attributes\":{},\"id\":\"1648\",\"type\":\"StringEditor\"},{\"attributes\":{\"children\":[{\"id\":\"1629\"},{\"id\":\"1662\"},{\"id\":\"1667\"}],\"margin\":[0,0,0,0],\"name\":\"Row01750\",\"tags\":[\"embedded\"]},\"id\":\"1628\",\"type\":\"Row\"}],\"root_ids\":[\"1628\"]},\"title\":\"Bokeh Application\",\"version\":\"2.4.1\"}};\n",
       "    var render_items = [{\"docid\":\"0cccb891-6e6e-453c-a71b-4d277dcea2f9\",\"root_ids\":[\"1628\"],\"roots\":{\"1628\":\"fddef3cd-aaf3-449f-a63e-e75ef67a9788\"}}];\n",
       "    root.Bokeh.embed.embed_items_notebook(docs_json, render_items);\n",
       "  }\n",
       "  if (root.Bokeh !== undefined && root.Bokeh.Panel !== undefined) {\n",
       "    embed_document(root);\n",
       "  } else {\n",
       "    var attempts = 0;\n",
       "    var timer = setInterval(function(root) {\n",
       "      if (root.Bokeh !== undefined && root.Bokeh.Panel !== undefined) {\n",
       "        clearInterval(timer);\n",
       "        embed_document(root);\n",
       "      } else if (document.readyState == \"complete\") {\n",
       "        attempts++;\n",
       "        if (attempts > 200) {\n",
       "          clearInterval(timer);\n",
       "          console.log(\"Bokeh: ERROR: Unable to run BokehJS code because BokehJS library is missing\");\n",
       "        }\n",
       "      }\n",
       "    }, 25, root)\n",
       "  }\n",
       "})(window);</script>"
      ],
      "text/plain": [
       ":Table   [CoinName,Algorithm,ProofType,TotalCoinSupply,TotalCoinsMined,Class]"
      ]
     },
     "execution_count": 57,
     "metadata": {
      "application/vnd.holoviews_exec.v0+json": {
       "id": "1628"
      }
     },
     "output_type": "execute_result"
    }
   ],
   "source": [
    "# Print the total number of tradable cryptocurrencies.\n",
    "tradable = clustered_df.hvplot.table(columns=['CoinName','Algorithm','ProofType','TotalCoinSupply',\n",
    "                                               'TotalCoinsMined', 'Class'], sortable=True, selectable=True)\n",
    "tradable"
   ]
  },
  {
   "cell_type": "code",
   "execution_count": 58,
   "metadata": {},
   "outputs": [
    {
     "data": {
      "text/plain": [
       "array([[4.20000000e-11, 0.00000000e+00],\n",
       "       [           nan,            nan],\n",
       "       [5.32000000e-04, 1.06585544e-03],\n",
       "       ...,\n",
       "       [1.40022261e-03, 9.90135079e-04],\n",
       "       [2.10000000e-05, 7.37028150e-06],\n",
       "       [1.00000000e-06, 1.29582282e-07]])"
      ]
     },
     "execution_count": 58,
     "metadata": {},
     "output_type": "execute_result"
    }
   ],
   "source": [
    "# Scaling data to create the scatter plot with tradable cryptocurrencies.\n",
    "scaled_df = MinMaxScaler().fit_transform(clustered_df[[\"TotalCoinSupply\", \"TotalCoinsMined\"]])\n",
    "scaled_df"
   ]
  },
  {
   "cell_type": "code",
   "execution_count": 59,
   "metadata": {},
   "outputs": [
    {
     "data": {
      "text/html": [
       "<div>\n",
       "<style scoped>\n",
       "    .dataframe tbody tr th:only-of-type {\n",
       "        vertical-align: middle;\n",
       "    }\n",
       "\n",
       "    .dataframe tbody tr th {\n",
       "        vertical-align: top;\n",
       "    }\n",
       "\n",
       "    .dataframe thead th {\n",
       "        text-align: right;\n",
       "    }\n",
       "</style>\n",
       "<table border=\"1\" class=\"dataframe\">\n",
       "  <thead>\n",
       "    <tr style=\"text-align: right;\">\n",
       "      <th></th>\n",
       "      <th>TotalCoinSupply</th>\n",
       "      <th>TotalCoinsMined</th>\n",
       "      <th>CoinName</th>\n",
       "      <th>Class</th>\n",
       "    </tr>\n",
       "  </thead>\n",
       "  <tbody>\n",
       "    <tr>\n",
       "      <th>0</th>\n",
       "      <td>4.200000e-11</td>\n",
       "      <td>0.000000</td>\n",
       "      <td>42 Coin</td>\n",
       "      <td>0.0</td>\n",
       "    </tr>\n",
       "    <tr>\n",
       "      <th>1</th>\n",
       "      <td>NaN</td>\n",
       "      <td>NaN</td>\n",
       "      <td>404Coin</td>\n",
       "      <td>0.0</td>\n",
       "    </tr>\n",
       "    <tr>\n",
       "      <th>2</th>\n",
       "      <td>5.320000e-04</td>\n",
       "      <td>0.001066</td>\n",
       "      <td>EliteCoin</td>\n",
       "      <td>0.0</td>\n",
       "    </tr>\n",
       "    <tr>\n",
       "      <th>3</th>\n",
       "      <td>NaN</td>\n",
       "      <td>NaN</td>\n",
       "      <td>Bitcoin</td>\n",
       "      <td>0.0</td>\n",
       "    </tr>\n",
       "    <tr>\n",
       "      <th>4</th>\n",
       "      <td>NaN</td>\n",
       "      <td>NaN</td>\n",
       "      <td>Ethereum</td>\n",
       "      <td>0.0</td>\n",
       "    </tr>\n",
       "    <tr>\n",
       "      <th>5</th>\n",
       "      <td>3.141593e-01</td>\n",
       "      <td>0.029576</td>\n",
       "      <td>Litecoin</td>\n",
       "      <td>0.0</td>\n",
       "    </tr>\n",
       "    <tr>\n",
       "      <th>6</th>\n",
       "      <td>NaN</td>\n",
       "      <td>NaN</td>\n",
       "      <td>Dash</td>\n",
       "      <td>0.0</td>\n",
       "    </tr>\n",
       "    <tr>\n",
       "      <th>7</th>\n",
       "      <td>2.100000e-05</td>\n",
       "      <td>0.000018</td>\n",
       "      <td>Monero</td>\n",
       "      <td>0.0</td>\n",
       "    </tr>\n",
       "    <tr>\n",
       "      <th>8</th>\n",
       "      <td>0.000000e+00</td>\n",
       "      <td>0.000109</td>\n",
       "      <td>Ethereum Classic</td>\n",
       "      <td>0.0</td>\n",
       "    </tr>\n",
       "    <tr>\n",
       "      <th>9</th>\n",
       "      <td>8.400000e-05</td>\n",
       "      <td>0.000064</td>\n",
       "      <td>ZCash</td>\n",
       "      <td>0.0</td>\n",
       "    </tr>\n",
       "  </tbody>\n",
       "</table>\n",
       "</div>"
      ],
      "text/plain": [
       "   TotalCoinSupply  TotalCoinsMined          CoinName  Class\n",
       "0     4.200000e-11         0.000000           42 Coin    0.0\n",
       "1              NaN              NaN           404Coin    0.0\n",
       "2     5.320000e-04         0.001066         EliteCoin    0.0\n",
       "3              NaN              NaN           Bitcoin    0.0\n",
       "4              NaN              NaN          Ethereum    0.0\n",
       "5     3.141593e-01         0.029576          Litecoin    0.0\n",
       "6              NaN              NaN              Dash    0.0\n",
       "7     2.100000e-05         0.000018            Monero    0.0\n",
       "8     0.000000e+00         0.000109  Ethereum Classic    0.0\n",
       "9     8.400000e-05         0.000064             ZCash    0.0"
      ]
     },
     "execution_count": 59,
     "metadata": {},
     "output_type": "execute_result"
    }
   ],
   "source": [
    "# Create a new DataFrame that has the scaled data with the clustered_df DataFrame index.\n",
    "plot_df = pd.DataFrame(data = scaled_df, columns=['TotalCoinSupply', 'TotalCoinsMined'], index=clustered_df.index)\n",
    "\n",
    "# Add the \"CoinName\" column from the clustered_df DataFrame to the new DataFrame.\n",
    "plot_df = pd.concat([plot_df, clustered_df['CoinName']], axis=1)\n",
    "\n",
    "# Add the \"Class\" column from the clustered_df DataFrame to the new DataFrame. \n",
    "plot_df = pd.concat([plot_df, clustered_df['Class']], axis=1)\n",
    "\n",
    "plot_df.head(10)"
   ]
  },
  {
   "cell_type": "code",
   "execution_count": 60,
   "metadata": {},
   "outputs": [
    {
     "data": {},
     "metadata": {},
     "output_type": "display_data"
    },
    {
     "data": {
      "application/vnd.holoviews_exec.v0+json": "",
      "text/html": [
       "<div id='1679'>\n",
       "\n",
       "\n",
       "\n",
       "\n",
       "\n",
       "  <div class=\"bk-root\" id=\"3c7e7cec-85b1-4c40-90da-fa70b6b184be\" data-root-id=\"1679\"></div>\n",
       "</div>\n",
       "<script type=\"application/javascript\">(function(root) {\n",
       "  function embed_document(root) {\n",
       "    var docs_json = {\"6282f250-24c0-45eb-a3e8-96a539f7d4ce\":{\"defs\":[{\"extends\":null,\"module\":null,\"name\":\"ReactiveHTML1\",\"overrides\":[],\"properties\":[]},{\"extends\":null,\"module\":null,\"name\":\"FlexBox1\",\"overrides\":[],\"properties\":[{\"default\":\"flex-start\",\"kind\":null,\"name\":\"align_content\"},{\"default\":\"flex-start\",\"kind\":null,\"name\":\"align_items\"},{\"default\":\"row\",\"kind\":null,\"name\":\"flex_direction\"},{\"default\":\"wrap\",\"kind\":null,\"name\":\"flex_wrap\"},{\"default\":\"flex-start\",\"kind\":null,\"name\":\"justify_content\"}]},{\"extends\":null,\"module\":null,\"name\":\"GridStack1\",\"overrides\":[],\"properties\":[{\"default\":\"warn\",\"kind\":null,\"name\":\"mode\"},{\"default\":null,\"kind\":null,\"name\":\"ncols\"},{\"default\":null,\"kind\":null,\"name\":\"nrows\"},{\"default\":true,\"kind\":null,\"name\":\"allow_resize\"},{\"default\":true,\"kind\":null,\"name\":\"allow_drag\"},{\"default\":[],\"kind\":null,\"name\":\"state\"}]},{\"extends\":null,\"module\":null,\"name\":\"click1\",\"overrides\":[],\"properties\":[{\"default\":\"\",\"kind\":null,\"name\":\"terminal_output\"},{\"default\":\"\",\"kind\":null,\"name\":\"debug_name\"},{\"default\":0,\"kind\":null,\"name\":\"clears\"}]},{\"extends\":null,\"module\":null,\"name\":\"NotificationAreaBase1\",\"overrides\":[],\"properties\":[{\"default\":\"bottom-right\",\"kind\":null,\"name\":\"position\"},{\"default\":0,\"kind\":null,\"name\":\"_clear\"}]},{\"extends\":null,\"module\":null,\"name\":\"NotificationArea1\",\"overrides\":[],\"properties\":[{\"default\":[],\"kind\":null,\"name\":\"notifications\"},{\"default\":\"bottom-right\",\"kind\":null,\"name\":\"position\"},{\"default\":0,\"kind\":null,\"name\":\"_clear\"},{\"default\":[{\"background\":\"#ffc107\",\"icon\":{\"className\":\"fas fa-exclamation-triangle\",\"color\":\"white\",\"tagName\":\"i\"},\"type\":\"warning\"},{\"background\":\"#007bff\",\"icon\":{\"className\":\"fas fa-info-circle\",\"color\":\"white\",\"tagName\":\"i\"},\"type\":\"info\"}],\"kind\":null,\"name\":\"types\"}]},{\"extends\":null,\"module\":null,\"name\":\"Notification\",\"overrides\":[],\"properties\":[{\"default\":null,\"kind\":null,\"name\":\"background\"},{\"default\":3000,\"kind\":null,\"name\":\"duration\"},{\"default\":null,\"kind\":null,\"name\":\"icon\"},{\"default\":\"\",\"kind\":null,\"name\":\"message\"},{\"default\":null,\"kind\":null,\"name\":\"notification_type\"},{\"default\":false,\"kind\":null,\"name\":\"_destroyed\"}]},{\"extends\":null,\"module\":null,\"name\":\"TemplateActions1\",\"overrides\":[],\"properties\":[{\"default\":0,\"kind\":null,\"name\":\"open_modal\"},{\"default\":0,\"kind\":null,\"name\":\"close_modal\"}]},{\"extends\":null,\"module\":null,\"name\":\"MaterialTemplateActions1\",\"overrides\":[],\"properties\":[{\"default\":0,\"kind\":null,\"name\":\"open_modal\"},{\"default\":0,\"kind\":null,\"name\":\"close_modal\"}]}],\"roots\":{\"references\":[{\"attributes\":{},\"id\":\"1720\",\"type\":\"BasicTickFormatter\"},{\"attributes\":{\"fill_alpha\":{\"value\":0.1},\"fill_color\":{\"value\":\"#e5ae38\"},\"hatch_alpha\":{\"value\":0.1},\"hatch_color\":{\"value\":\"#e5ae38\"},\"line_alpha\":{\"value\":0.1},\"line_color\":{\"value\":\"#e5ae38\"},\"size\":{\"value\":5.477225575051661},\"x\":{\"field\":\"TotalCoinsMined\"},\"y\":{\"field\":\"TotalCoinSupply\"}},\"id\":\"1769\",\"type\":\"Scatter\"},{\"attributes\":{},\"id\":\"1704\",\"type\":\"PanTool\"},{\"attributes\":{\"label\":{\"value\":\"2\"},\"renderers\":[{\"id\":\"1771\"}]},\"id\":\"1787\",\"type\":\"LegendItem\"},{\"attributes\":{},\"id\":\"1718\",\"type\":\"AllLabels\"},{\"attributes\":{\"axis\":{\"id\":\"1699\"},\"coordinates\":null,\"dimension\":1,\"grid_line_color\":null,\"group\":null,\"ticker\":null},\"id\":\"1702\",\"type\":\"Grid\"},{\"attributes\":{\"fill_alpha\":{\"value\":0.1},\"fill_color\":{\"value\":\"#fc4f30\"},\"hatch_alpha\":{\"value\":0.1},\"hatch_color\":{\"value\":\"#fc4f30\"},\"line_alpha\":{\"value\":0.1},\"line_color\":{\"value\":\"#fc4f30\"},\"size\":{\"value\":5.477225575051661},\"x\":{\"field\":\"TotalCoinsMined\"},\"y\":{\"field\":\"TotalCoinSupply\"}},\"id\":\"1747\",\"type\":\"Scatter\"},{\"attributes\":{\"fill_alpha\":{\"value\":0.2},\"fill_color\":{\"value\":\"#e5ae38\"},\"hatch_alpha\":{\"value\":0.2},\"hatch_color\":{\"value\":\"#e5ae38\"},\"line_alpha\":{\"value\":0.2},\"line_color\":{\"value\":\"#e5ae38\"},\"size\":{\"value\":5.477225575051661},\"x\":{\"field\":\"TotalCoinsMined\"},\"y\":{\"field\":\"TotalCoinSupply\"}},\"id\":\"1770\",\"type\":\"Scatter\"},{\"attributes\":{},\"id\":\"1700\",\"type\":\"BasicTicker\"},{\"attributes\":{\"coordinates\":null,\"data_source\":{\"id\":\"1765\"},\"glyph\":{\"id\":\"1768\"},\"group\":null,\"hover_glyph\":null,\"muted_glyph\":{\"id\":\"1770\"},\"nonselection_glyph\":{\"id\":\"1769\"},\"selection_glyph\":{\"id\":\"1788\"},\"view\":{\"id\":\"1772\"}},\"id\":\"1771\",\"type\":\"GlyphRenderer\"},{\"attributes\":{},\"id\":\"1705\",\"type\":\"WheelZoomTool\"},{\"attributes\":{\"source\":{\"id\":\"1765\"}},\"id\":\"1772\",\"type\":\"CDSView\"},{\"attributes\":{},\"id\":\"1784\",\"type\":\"UnionRenderers\"},{\"attributes\":{\"fill_alpha\":{\"value\":0.2},\"fill_color\":{\"value\":\"#fc4f30\"},\"hatch_alpha\":{\"value\":0.2},\"hatch_color\":{\"value\":\"#fc4f30\"},\"line_alpha\":{\"value\":0.2},\"line_color\":{\"value\":\"#fc4f30\"},\"size\":{\"value\":5.477225575051661},\"x\":{\"field\":\"TotalCoinsMined\"},\"y\":{\"field\":\"TotalCoinSupply\"}},\"id\":\"1748\",\"type\":\"Scatter\"},{\"attributes\":{},\"id\":\"1691\",\"type\":\"LinearScale\"},{\"attributes\":{},\"id\":\"1703\",\"type\":\"SaveTool\"},{\"attributes\":{\"overlay\":{\"id\":\"1708\"}},\"id\":\"1706\",\"type\":\"BoxZoomTool\"},{\"attributes\":{\"source\":{\"id\":\"1722\"}},\"id\":\"1729\",\"type\":\"CDSView\"},{\"attributes\":{\"margin\":[5,5,5,5],\"name\":\"HSpacer01906\",\"sizing_mode\":\"stretch_width\"},\"id\":\"1680\",\"type\":\"Spacer\"},{\"attributes\":{},\"id\":\"1707\",\"type\":\"ResetTool\"},{\"attributes\":{\"source\":{\"id\":\"1743\"}},\"id\":\"1750\",\"type\":\"CDSView\"},{\"attributes\":{\"bottom_units\":\"screen\",\"coordinates\":null,\"fill_alpha\":0.5,\"fill_color\":\"lightgrey\",\"group\":null,\"left_units\":\"screen\",\"level\":\"overlay\",\"line_alpha\":1.0,\"line_color\":\"black\",\"line_dash\":[4,4],\"line_width\":2,\"right_units\":\"screen\",\"syncable\":false,\"top_units\":\"screen\"},\"id\":\"1708\",\"type\":\"BoxAnnotation\"},{\"attributes\":{},\"id\":\"1721\",\"type\":\"AllLabels\"},{\"attributes\":{\"end\":0.19389656119325888,\"reset_end\":0.19389656119325888,\"reset_start\":-0.007968351829859954,\"start\":-0.007968351829859954,\"tags\":[[[\"TotalCoinsMined\",\"TotalCoinsMined\",null]]]},\"id\":\"1681\",\"type\":\"Range1d\"},{\"attributes\":{\"angle\":{\"value\":0.0},\"fill_alpha\":{\"value\":1.0},\"fill_color\":{\"value\":\"#fc4f30\"},\"hatch_alpha\":{\"value\":1.0},\"hatch_color\":{\"value\":\"#fc4f30\"},\"hatch_scale\":{\"value\":12.0},\"hatch_weight\":{\"value\":1.0},\"line_alpha\":{\"value\":1.0},\"line_cap\":{\"value\":\"butt\"},\"line_color\":{\"value\":\"#fc4f30\"},\"line_dash\":{\"value\":[]},\"line_dash_offset\":{\"value\":0},\"line_join\":{\"value\":\"bevel\"},\"line_width\":{\"value\":1},\"marker\":{\"value\":\"circle\"},\"size\":{\"value\":5.477225575051661},\"x\":{\"field\":\"TotalCoinsMined\"},\"y\":{\"field\":\"TotalCoinSupply\"}},\"id\":\"1764\",\"type\":\"Scatter\"},{\"attributes\":{\"children\":[{\"id\":\"1680\"},{\"id\":\"1686\"},{\"id\":\"1803\"}],\"margin\":[0,0,0,0],\"name\":\"Row01902\",\"tags\":[\"embedded\"]},\"id\":\"1679\",\"type\":\"Row\"},{\"attributes\":{\"label\":{\"value\":\"1\"},\"renderers\":[{\"id\":\"1749\"}]},\"id\":\"1763\",\"type\":\"LegendItem\"},{\"attributes\":{\"coordinates\":null,\"data_source\":{\"id\":\"1743\"},\"glyph\":{\"id\":\"1746\"},\"group\":null,\"hover_glyph\":null,\"muted_glyph\":{\"id\":\"1748\"},\"nonselection_glyph\":{\"id\":\"1747\"},\"selection_glyph\":{\"id\":\"1764\"},\"view\":{\"id\":\"1750\"}},\"id\":\"1749\",\"type\":\"GlyphRenderer\"},{\"attributes\":{\"end\":0.4224,\"reset_end\":0.4224,\"reset_start\":-0.038400000000000004,\"start\":-0.038400000000000004,\"tags\":[[[\"TotalCoinSupply\",\"TotalCoinSupply\",null]]]},\"id\":\"1682\",\"type\":\"Range1d\"},{\"attributes\":{\"fill_color\":{\"value\":\"#e5ae38\"},\"hatch_color\":{\"value\":\"#e5ae38\"},\"line_color\":{\"value\":\"#e5ae38\"},\"size\":{\"value\":5.477225575051661},\"x\":{\"field\":\"TotalCoinsMined\"},\"y\":{\"field\":\"TotalCoinSupply\"}},\"id\":\"1768\",\"type\":\"Scatter\"},{\"attributes\":{},\"id\":\"1737\",\"type\":\"UnionRenderers\"},{\"attributes\":{\"margin\":[5,5,5,5],\"name\":\"HSpacer01907\",\"sizing_mode\":\"stretch_width\"},\"id\":\"1803\",\"type\":\"Spacer\"},{\"attributes\":{},\"id\":\"1766\",\"type\":\"Selection\"},{\"attributes\":{},\"id\":\"1760\",\"type\":\"UnionRenderers\"},{\"attributes\":{\"callback\":null,\"renderers\":[{\"id\":\"1728\"},{\"id\":\"1749\"},{\"id\":\"1771\"}],\"tags\":[\"hv_created\"],\"tooltips\":[[\"Class\",\"@{Class}\"],[\"TotalCoinsMined\",\"@{TotalCoinsMined}\"],[\"TotalCoinSupply\",\"@{TotalCoinSupply}\"]]},\"id\":\"1683\",\"type\":\"HoverTool\"},{\"attributes\":{},\"id\":\"1696\",\"type\":\"BasicTicker\"},{\"attributes\":{\"coordinates\":null,\"data_source\":{\"id\":\"1722\"},\"glyph\":{\"id\":\"1725\"},\"group\":null,\"hover_glyph\":null,\"muted_glyph\":{\"id\":\"1727\"},\"nonselection_glyph\":{\"id\":\"1726\"},\"selection_glyph\":{\"id\":\"1742\"},\"view\":{\"id\":\"1729\"}},\"id\":\"1728\",\"type\":\"GlyphRenderer\"},{\"attributes\":{},\"id\":\"1723\",\"type\":\"Selection\"},{\"attributes\":{\"tools\":[{\"id\":\"1683\"},{\"id\":\"1703\"},{\"id\":\"1704\"},{\"id\":\"1705\"},{\"id\":\"1706\"},{\"id\":\"1707\"}]},\"id\":\"1709\",\"type\":\"Toolbar\"},{\"attributes\":{},\"id\":\"1693\",\"type\":\"LinearScale\"},{\"attributes\":{\"angle\":{\"value\":0.0},\"fill_alpha\":{\"value\":1.0},\"fill_color\":{\"value\":\"#30a2da\"},\"hatch_alpha\":{\"value\":1.0},\"hatch_color\":{\"value\":\"#30a2da\"},\"hatch_scale\":{\"value\":12.0},\"hatch_weight\":{\"value\":1.0},\"line_alpha\":{\"value\":1.0},\"line_cap\":{\"value\":\"butt\"},\"line_color\":{\"value\":\"#30a2da\"},\"line_dash\":{\"value\":[]},\"line_dash_offset\":{\"value\":0},\"line_join\":{\"value\":\"bevel\"},\"line_width\":{\"value\":1},\"marker\":{\"value\":\"circle\"},\"size\":{\"value\":5.477225575051661},\"x\":{\"field\":\"TotalCoinsMined\"},\"y\":{\"field\":\"TotalCoinSupply\"}},\"id\":\"1742\",\"type\":\"Scatter\"},{\"attributes\":{\"fill_alpha\":{\"value\":0.1},\"fill_color\":{\"value\":\"#30a2da\"},\"hatch_alpha\":{\"value\":0.1},\"hatch_color\":{\"value\":\"#30a2da\"},\"line_alpha\":{\"value\":0.1},\"line_color\":{\"value\":\"#30a2da\"},\"size\":{\"value\":5.477225575051661},\"x\":{\"field\":\"TotalCoinsMined\"},\"y\":{\"field\":\"TotalCoinSupply\"}},\"id\":\"1726\",\"type\":\"Scatter\"},{\"attributes\":{\"below\":[{\"id\":\"1695\"}],\"center\":[{\"id\":\"1698\"},{\"id\":\"1702\"}],\"height\":300,\"left\":[{\"id\":\"1699\"}],\"margin\":[5,5,5,5],\"min_border_bottom\":10,\"min_border_left\":10,\"min_border_right\":10,\"min_border_top\":10,\"renderers\":[{\"id\":\"1728\"},{\"id\":\"1749\"},{\"id\":\"1771\"}],\"right\":[{\"id\":\"1740\"}],\"sizing_mode\":\"fixed\",\"title\":{\"id\":\"1687\"},\"toolbar\":{\"id\":\"1709\"},\"width\":700,\"x_range\":{\"id\":\"1681\"},\"x_scale\":{\"id\":\"1691\"},\"y_range\":{\"id\":\"1682\"},\"y_scale\":{\"id\":\"1693\"}},\"id\":\"1686\",\"subtype\":\"Figure\",\"type\":\"Plot\"},{\"attributes\":{\"data\":{\"Class\":[0.0,0.0,0.0,0.0,0.0,0.0,0.0,0.0,0.0,0.0,0.0,0.0,0.0,0.0,0.0,0.0,0.0,0.0,0.0,0.0,0.0,0.0,0.0,0.0,0.0,0.0,0.0,0.0,0.0,0.0,0.0,0.0,0.0,0.0,0.0,0.0,0.0,0.0,0.0,0.0,0.0,0.0,0.0,0.0,0.0,0.0,0.0,0.0,0.0,0.0,0.0,0.0,0.0,0.0,0.0,0.0,0.0,0.0,0.0,0.0,0.0,0.0,0.0,0.0,0.0,0.0,0.0,0.0,0.0,0.0,0.0,0.0,0.0,0.0,0.0,0.0,0.0,0.0,0.0,0.0,0.0,0.0,0.0,0.0,0.0,0.0,0.0,0.0,0.0,0.0,0.0,0.0,0.0,0.0,0.0,0.0,0.0,0.0,0.0,0.0,0.0,0.0,0.0,0.0,0.0,0.0,0.0,0.0,0.0,0.0,0.0,0.0,0.0,0.0,0.0,0.0,0.0,0.0,0.0,0.0,0.0,0.0,0.0,0.0,0.0,0.0,0.0,0.0,0.0,0.0,0.0,0.0,0.0,0.0,0.0,0.0,0.0,0.0,0.0,0.0,0.0,0.0,0.0,0.0,0.0,0.0,0.0,0.0,0.0,0.0,0.0,0.0,0.0,0.0,0.0,0.0,0.0,0.0,0.0,0.0,0.0,0.0,0.0,0.0,0.0,0.0,0.0,0.0,0.0,0.0,0.0,0.0,0.0,0.0,0.0,0.0,0.0,0.0,0.0,0.0,0.0,0.0,0.0,0.0,0.0,0.0,0.0,0.0,0.0,0.0,0.0,0.0,0.0,0.0,0.0,0.0,0.0,0.0,0.0,0.0,0.0,0.0,0.0,0.0,0.0,0.0,0.0,0.0,0.0,0.0,0.0,0.0,0.0,0.0,0.0,0.0,0.0,0.0,0.0,0.0,0.0,0.0,0.0,0.0,0.0,0.0,0.0,0.0,0.0,0.0,0.0,0.0,0.0,0.0,0.0,0.0,0.0,0.0,0.0,0.0,0.0,0.0,0.0,0.0,0.0,0.0,0.0,0.0,0.0,0.0,0.0,0.0,0.0,0.0,0.0,0.0,0.0,0.0,0.0,0.0,0.0,0.0,0.0,0.0,0.0,0.0,0.0,0.0,0.0,0.0,0.0,0.0,0.0,0.0,0.0,0.0,0.0,0.0,0.0,0.0,0.0,0.0,0.0,0.0,0.0,0.0,0.0,0.0,0.0,0.0,0.0,0.0,0.0,0.0,0.0,0.0,0.0,0.0,0.0,0.0,0.0,0.0,0.0,0.0,0.0,0.0,0.0,0.0,0.0,0.0,0.0,0.0,0.0,0.0,0.0,0.0,0.0,0.0,0.0,0.0,0.0,0.0,0.0,0.0,0.0,0.0,0.0,0.0,0.0,0.0,0.0,0.0,0.0,0.0,0.0,0.0,0.0,0.0,0.0,0.0,0.0,0.0,0.0,0.0,0.0,0.0,0.0,0.0,0.0,0.0,0.0,0.0,0.0,0.0,0.0,0.0,0.0,0.0,0.0,0.0,0.0,0.0,0.0,0.0,0.0,0.0,0.0,0.0,0.0,0.0,0.0,0.0,0.0,0.0,0.0,0.0,0.0,0.0,0.0,0.0,0.0,0.0,0.0,0.0,0.0,0.0,0.0,0.0,0.0,0.0,0.0,0.0,0.0,0.0,0.0,0.0,0.0,0.0,0.0,0.0,0.0,0.0,0.0,0.0,0.0,0.0,0.0,0.0,0.0,0.0,0.0,0.0,0.0,0.0,0.0,0.0,0.0,0.0,0.0,0.0,0.0,0.0,0.0,0.0,0.0,0.0,0.0,0.0,0.0,0.0,0.0,0.0,0.0,0.0,0.0,0.0,0.0,0.0,0.0,0.0,0.0,0.0,0.0,0.0,0.0,0.0,0.0,0.0,0.0,0.0,0.0,0.0,0.0,0.0,0.0,0.0,0.0,0.0,0.0,0.0,0.0,0.0,0.0,0.0,0.0,0.0,0.0,0.0,0.0,0.0,0.0,0.0,0.0,0.0,0.0,0.0,0.0,0.0,0.0,0.0,0.0,0.0,0.0,0.0,0.0,0.0,0.0,0.0,0.0,0.0,0.0,0.0,0.0,0.0,0.0,0.0,0.0,0.0,0.0,0.0,0.0,0.0,0.0,0.0,0.0,0.0,0.0,0.0,0.0,0.0,0.0,0.0,0.0,0.0,0.0,0.0,0.0,0.0,0.0,0.0,0.0,0.0,0.0,0.0,0.0,0.0,0.0,0.0,0.0],\"TotalCoinSupply\":{\"__ndarray__\":\"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\",\"dtype\":\"float64\",\"order\":\"little\",\"shape\":[529]},\"TotalCoinsMined\":{\"__ndarray__\":\"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\",\"dtype\":\"float64\",\"order\":\"little\",\"shape\":[529]}},\"selected\":{\"id\":\"1723\"},\"selection_policy\":{\"id\":\"1737\"}},\"id\":\"1722\",\"type\":\"ColumnDataSource\"},{\"attributes\":{\"label\":{\"value\":\"0\"},\"renderers\":[{\"id\":\"1728\"}]},\"id\":\"1741\",\"type\":\"LegendItem\"},{\"attributes\":{\"coordinates\":null,\"group\":null,\"text_color\":\"black\",\"text_font_size\":\"12pt\"},\"id\":\"1687\",\"type\":\"Title\"},{\"attributes\":{\"click_policy\":\"mute\",\"coordinates\":null,\"group\":null,\"items\":[{\"id\":\"1741\"},{\"id\":\"1763\"},{\"id\":\"1787\"}],\"location\":[0,0],\"title\":\"Class\"},\"id\":\"1740\",\"type\":\"Legend\"},{\"attributes\":{\"data\":{\"Class\":[2.0,2.0],\"TotalCoinSupply\":{\"__ndarray__\":\"AAAAAAAA+H+GKKim+WrkPg==\",\"dtype\":\"float64\",\"order\":\"little\",\"shape\":[2]},\"TotalCoinsMined\":{\"__ndarray__\":\"AAAAAAAA+H8AgcASBnTaPg==\",\"dtype\":\"float64\",\"order\":\"little\",\"shape\":[2]}},\"selected\":{\"id\":\"1766\"},\"selection_policy\":{\"id\":\"1784\"}},\"id\":\"1765\",\"type\":\"ColumnDataSource\"},{\"attributes\":{},\"id\":\"1744\",\"type\":\"Selection\"},{\"attributes\":{\"axis_label\":\"TotalCoinSupply\",\"coordinates\":null,\"formatter\":{\"id\":\"1720\"},\"group\":null,\"major_label_policy\":{\"id\":\"1721\"},\"ticker\":{\"id\":\"1700\"}},\"id\":\"1699\",\"type\":\"LinearAxis\"},{\"attributes\":{\"fill_color\":{\"value\":\"#fc4f30\"},\"hatch_color\":{\"value\":\"#fc4f30\"},\"line_color\":{\"value\":\"#fc4f30\"},\"size\":{\"value\":5.477225575051661},\"x\":{\"field\":\"TotalCoinsMined\"},\"y\":{\"field\":\"TotalCoinSupply\"}},\"id\":\"1746\",\"type\":\"Scatter\"},{\"attributes\":{\"axis_label\":\"TotalCoinsMined\",\"coordinates\":null,\"formatter\":{\"id\":\"1717\"},\"group\":null,\"major_label_policy\":{\"id\":\"1718\"},\"ticker\":{\"id\":\"1696\"}},\"id\":\"1695\",\"type\":\"LinearAxis\"},{\"attributes\":{},\"id\":\"1717\",\"type\":\"BasicTickFormatter\"},{\"attributes\":{\"fill_alpha\":{\"value\":0.2},\"fill_color\":{\"value\":\"#30a2da\"},\"hatch_alpha\":{\"value\":0.2},\"hatch_color\":{\"value\":\"#30a2da\"},\"line_alpha\":{\"value\":0.2},\"line_color\":{\"value\":\"#30a2da\"},\"size\":{\"value\":5.477225575051661},\"x\":{\"field\":\"TotalCoinsMined\"},\"y\":{\"field\":\"TotalCoinSupply\"}},\"id\":\"1727\",\"type\":\"Scatter\"},{\"attributes\":{\"data\":{\"Class\":[1.0],\"TotalCoinSupply\":{\"__ndarray__\":\"8WJhiJy+fj8=\",\"dtype\":\"float64\",\"order\":\"little\",\"shape\":[1]},\"TotalCoinsMined\":{\"__ndarray__\":\"6JvYntHoUT8=\",\"dtype\":\"float64\",\"order\":\"little\",\"shape\":[1]}},\"selected\":{\"id\":\"1744\"},\"selection_policy\":{\"id\":\"1760\"}},\"id\":\"1743\",\"type\":\"ColumnDataSource\"},{\"attributes\":{\"fill_color\":{\"value\":\"#30a2da\"},\"hatch_color\":{\"value\":\"#30a2da\"},\"line_color\":{\"value\":\"#30a2da\"},\"size\":{\"value\":5.477225575051661},\"x\":{\"field\":\"TotalCoinsMined\"},\"y\":{\"field\":\"TotalCoinSupply\"}},\"id\":\"1725\",\"type\":\"Scatter\"},{\"attributes\":{\"axis\":{\"id\":\"1695\"},\"coordinates\":null,\"grid_line_color\":null,\"group\":null,\"ticker\":null},\"id\":\"1698\",\"type\":\"Grid\"},{\"attributes\":{\"angle\":{\"value\":0.0},\"fill_alpha\":{\"value\":1.0},\"fill_color\":{\"value\":\"#e5ae38\"},\"hatch_alpha\":{\"value\":1.0},\"hatch_color\":{\"value\":\"#e5ae38\"},\"hatch_scale\":{\"value\":12.0},\"hatch_weight\":{\"value\":1.0},\"line_alpha\":{\"value\":1.0},\"line_cap\":{\"value\":\"butt\"},\"line_color\":{\"value\":\"#e5ae38\"},\"line_dash\":{\"value\":[]},\"line_dash_offset\":{\"value\":0},\"line_join\":{\"value\":\"bevel\"},\"line_width\":{\"value\":1},\"marker\":{\"value\":\"circle\"},\"size\":{\"value\":5.477225575051661},\"x\":{\"field\":\"TotalCoinsMined\"},\"y\":{\"field\":\"TotalCoinSupply\"}},\"id\":\"1788\",\"type\":\"Scatter\"}],\"root_ids\":[\"1679\"]},\"title\":\"Bokeh Application\",\"version\":\"2.4.1\"}};\n",
       "    var render_items = [{\"docid\":\"6282f250-24c0-45eb-a3e8-96a539f7d4ce\",\"root_ids\":[\"1679\"],\"roots\":{\"1679\":\"3c7e7cec-85b1-4c40-90da-fa70b6b184be\"}}];\n",
       "    root.Bokeh.embed.embed_items_notebook(docs_json, render_items);\n",
       "  }\n",
       "  if (root.Bokeh !== undefined && root.Bokeh.Panel !== undefined) {\n",
       "    embed_document(root);\n",
       "  } else {\n",
       "    var attempts = 0;\n",
       "    var timer = setInterval(function(root) {\n",
       "      if (root.Bokeh !== undefined && root.Bokeh.Panel !== undefined) {\n",
       "        clearInterval(timer);\n",
       "        embed_document(root);\n",
       "      } else if (document.readyState == \"complete\") {\n",
       "        attempts++;\n",
       "        if (attempts > 200) {\n",
       "          clearInterval(timer);\n",
       "          console.log(\"Bokeh: ERROR: Unable to run BokehJS code because BokehJS library is missing\");\n",
       "        }\n",
       "      }\n",
       "    }, 25, root)\n",
       "  }\n",
       "})(window);</script>"
      ],
      "text/plain": [
       ":NdOverlay   [Class]\n",
       "   :Scatter   [TotalCoinsMined]   (TotalCoinSupply)"
      ]
     },
     "execution_count": 60,
     "metadata": {
      "application/vnd.holoviews_exec.v0+json": {
       "id": "1679"
      }
     },
     "output_type": "execute_result"
    }
   ],
   "source": [
    "# Create a hvplot.scatter plot using x=\"TotalCoinsMined\" and y=\"TotalCoinSupply\".\n",
    "plot_df.hvplot.scatter(\n",
    "    x='TotalCoinsMined',\n",
    "    y='TotalCoinSupply',\n",
    "    hover=['CoinName'],\n",
    "    by='Class')"
   ]
  },
  {
   "cell_type": "code",
   "execution_count": null,
   "metadata": {},
   "outputs": [],
   "source": []
  }
 ],
 "metadata": {
  "file_extension": ".py",
  "kernelspec": {
   "display_name": "Python 3 (ipykernel)",
   "language": "python",
   "name": "python3"
  },
  "language_info": {
   "codemirror_mode": {
    "name": "ipython",
    "version": 3
   },
   "file_extension": ".py",
   "mimetype": "text/x-python",
   "name": "python",
   "nbconvert_exporter": "python",
   "pygments_lexer": "ipython3",
   "version": "3.9.7"
  },
  "latex_envs": {
   "LaTeX_envs_menu_present": true,
   "autoclose": false,
   "autocomplete": true,
   "bibliofile": "biblio.bib",
   "cite_by": "apalike",
   "current_citInitial": 1,
   "eqLabelWithNumbers": true,
   "eqNumInitial": 1,
   "hotkeys": {
    "equation": "Ctrl-E",
    "itemize": "Ctrl-I"
   },
   "labels_anchors": false,
   "latex_user_defs": false,
   "report_style_numbering": false,
   "user_envs_cfg": false
  },
  "mimetype": "text/x-python",
  "name": "python",
  "npconvert_exporter": "python",
  "pygments_lexer": "ipython3",
  "version": 3
 },
 "nbformat": 4,
 "nbformat_minor": 2
}
